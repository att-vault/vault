{
 "cells": [
  {
   "cell_type": "markdown",
   "metadata": {},
   "source": [
    "# Viewing categorical AIS tracks \n",
    "\n",
    "To help understand the AIS data, it can be useful to color-code each location by a category, because the behavior of vessels in a given category might differ from vessels in other categories. Here we'll show how to color code by vessel type using Datashader."
   ]
  },
  {
   "cell_type": "code",
   "execution_count": null,
   "metadata": {},
   "outputs": [],
   "source": [
    "import pandas as pd\n",
    "import numpy as np\n",
    "import panel as pn\n",
    "import colorcet as cc\n",
    "import datashader as ds\n",
    "import holoviews as hv\n",
    "from holoviews.util.transform import lon_lat_to_easting_northing as ll2en\n",
    "from holoviews.operation.datashader import rasterize, datashade, dynspread\n",
    "hv.extension('bokeh')"
   ]
  },
  {
   "cell_type": "code",
   "execution_count": null,
   "metadata": {},
   "outputs": [],
   "source": [
    "vessel_types=pd.read_csv(\"metadata/AIS_categories.csv\")\n",
    "vessel_types.head(40).tail()"
   ]
  },
  {
   "cell_type": "markdown",
   "metadata": {},
   "source": [
    "For plotting, we'll expand the integer values to string labels using online lists of 100+ [AIS Vessel Types](https://api.vtexplorer.com/docs/ref-aistypes.html), and further collapse into a smaller number of vessel categories:"
   ]
  },
  {
   "cell_type": "code",
   "execution_count": null,
   "metadata": {},
   "outputs": [],
   "source": [
    "def vessel_category(val):\n",
    "    i = int(val)\n",
    "    cat = int(vessel_types.iloc[i].category) if i in vessel_types.index else 0\n",
    "    return cat if cat in [0, 2,3,19,12,18] else 21 # limit to most common types\n",
    "\n",
    "def category_desc(val):\n",
    "    return vessel_types[vessel_types.category==val].iloc[0].category_desc"
   ]
  },
  {
   "cell_type": "code",
   "execution_count": null,
   "metadata": {},
   "outputs": [],
   "source": [
    "groups = {vessel_category(i):category_desc(vessel_category(i)) for i in vessel_types.num.unique()}\n",
    "groups"
   ]
  },
  {
   "cell_type": "markdown",
   "metadata": {},
   "source": [
    "## Load AIS pings and Vessel information"
   ]
  },
  {
   "cell_type": "code",
   "execution_count": null,
   "metadata": {},
   "outputs": [],
   "source": [
    "%%time\n",
    "basedir = './data/vessel data/Cleaned AIS/Zone10_2014_01/'\n",
    "broadcast = pd.read_csv(basedir+'Broadcast.csv', parse_dates=[1])\n",
    "vessel_info =  pd.read_csv(basedir+'Vessel.csv')\n",
    "vessel_info['vessel_type']= vessel_info['vessel_type'].fillna(0).astype(int) # NaN values are not available (0)\n",
    "broadcast.head()"
   ]
  },
  {
   "cell_type": "markdown",
   "metadata": {},
   "source": [
    "## Assign broader categories\n",
    "\n",
    "For each MMSID, looks up the broad category and stores it in a new column `category`."
   ]
  },
  {
   "cell_type": "code",
   "execution_count": null,
   "metadata": {},
   "outputs": [],
   "source": [
    "vessel_mapping = {k:v for k,v in zip(vessel_info['mmsi_id'], \n",
    "                                     vessel_info['vessel_type'].apply(vessel_category))} \n",
    "categories = broadcast['mmsi_id'].apply(lambda x: vessel_mapping.get(x, 0))\n",
    "broadcast['category'] = categories"
   ]
  },
  {
   "cell_type": "markdown",
   "metadata": {},
   "source": [
    "### Define color key and legend"
   ]
  },
  {
   "cell_type": "code",
   "execution_count": null,
   "metadata": {},
   "outputs": [],
   "source": [
    "def rgb_to_hex(rgb):\n",
    "    return '#%02x%02x%02x' % rgb\n",
    "\n",
    "color_key = {list(groups.keys())[ind]:tuple(int(el*255.) for el in val) for ind,val in \n",
    "             enumerate(cc.glasbey_bw_minc_20_minl_30[:(len(groups))][::-1])}"
   ]
  },
  {
   "cell_type": "code",
   "execution_count": null,
   "metadata": {},
   "outputs": [],
   "source": [
    "color_names = {groups[k]:rgb_to_hex(v) for k,v in color_key.items()}\n",
    "color_points = hv.NdOverlay({k: hv.Points([0,0], label=str(k)).opts(color=v, size=0) \n",
    "                             for k, v in color_names.items()})"
   ]
  },
  {
   "cell_type": "markdown",
   "metadata": {},
   "source": [
    "Project into Web Mercator for plotting:"
   ]
  },
  {
   "cell_type": "code",
   "execution_count": null,
   "metadata": {},
   "outputs": [],
   "source": [
    "%%time\n",
    "broadcast.loc[:,'x'], broadcast.loc[:,'y'] = ll2en(broadcast.lon,broadcast.lat)"
   ]
  },
  {
   "cell_type": "markdown",
   "metadata": {},
   "source": [
    "# Datashaded, categorical AIS plot (Zone 10)\n",
    "\n",
    "We can now plot the data colored by category, with a color key.\n",
    "\n",
    "To zoom in & interact with the plot, click the “Wheel zoom” tool in the toolbar on the side of the plot.\n",
    "Click-and-drag the plot in order to look around.  As you zoom in, finer-grained detail will emerge and fill in.  Depending on the size of the dataset and your machine, this might take a second."
   ]
  },
  {
   "cell_type": "code",
   "execution_count": null,
   "metadata": {},
   "outputs": [],
   "source": [
    "x_range, y_range = ll2en([-126,-120.7], [47.5,49.5])\n",
    "bounds = dict(x=tuple(x_range), y=tuple(y_range))\n",
    "\n",
    "points = hv.Points(broadcast, ['x', 'y'], ['category']).redim.range(**bounds) \n",
    "points = dynspread(datashade(points, color_key=color_key, aggregator=ds.count_cat('category')))\n",
    "\n",
    "tiles  = hv.element.tiles.ESRI().opts(alpha=0.5, bgcolor=\"black\", width=900, height=500)\n",
    "labels = hv.element.tiles.StamenLabels().opts(alpha=0.7, level='glyph')\n",
    "\n",
    "tiles * points * labels * color_points"
   ]
  },
  {
   "cell_type": "markdown",
   "metadata": {},
   "source": [
    "Clearly, the ship's behavior is highly dependent on category, with very different patterns of motion between these categories (and presumably the other categories not shown). E.g. passenger vessels tend to travel _across_ waterways, while towing and cargo vessels travel _along_ them. Fishing vessels, as one would expect, travel out to open water and then cover a wide area around their initial destination. Zooming and panning (using the [Bokeh](https://docs.bokeh.org/en/latest/docs/user_guide/tools.html) tools at the right) reveal other patterns at different locations and scales.\n",
    "\n",
    "# Selecting specific voyages\n",
    "\n",
    "To help understand how individual tracks relate to others, we can use the x,y location of a tap to query the dataset for a set of voyages that cross that region, then highlight them compared to the main plot.\n",
    "\n",
    "First, we will create a spatially indexed dataframe to allow spatial searching using [SpatialPandas](https://github.com/holoviz/spatialpandas), which may take some time for large datasets."
   ]
  },
  {
   "cell_type": "code",
   "execution_count": null,
   "metadata": {},
   "outputs": [],
   "source": [
    "from spatialpandas.geometry import PointArray\n",
    "from spatialpandas import GeoDataFrame"
   ]
  },
  {
   "cell_type": "code",
   "execution_count": null,
   "metadata": {},
   "outputs": [],
   "source": [
    "%%time\n",
    "sdf = GeoDataFrame({'geometry':PointArray((broadcast.lon, broadcast.lat)),\n",
    "                    'x':broadcast.x, 'y':broadcast.y,\n",
    "                    'date_time': broadcast.date_time,\n",
    "                    'mmsi_id':broadcast.mmsi_id})"
   ]
  },
  {
   "cell_type": "markdown",
   "metadata": {},
   "source": [
    "Next, let's make a function that returns a connected set of ping locations, given an x,y coordinate:"
   ]
  },
  {
   "cell_type": "code",
   "execution_count": null,
   "metadata": {},
   "outputs": [],
   "source": [
    "def highlight_tracks(x,y, delta = 0.02, max_vessels=1):\n",
    "    path_data = []\n",
    "    if None not in [x,y]:\n",
    "        lon, lat = hv.util.transform.easting_northing_to_lon_lat(x,y)\n",
    "        selection = sdf.cx[lon-delta:lon+delta, lat-delta:lat+delta]\n",
    "        \n",
    "        if len(selection) > 0:\n",
    "            marked_mmsids = list(selection['mmsi_id'].unique()[:max_vessels])\n",
    "            for mmsid in marked_mmsids:\n",
    "                pathdf = sdf[sdf['mmsi_id']==mmsid]\n",
    "                pathdf.sort_values(by='date_time')\n",
    "                coords = list(zip(pathdf['x'], pathdf['y']))\n",
    "                path_data.append(coords)  \n",
    "    return hv.Path(path_data).opts(color='white')"
   ]
  },
  {
   "cell_type": "code",
   "execution_count": null,
   "metadata": {},
   "outputs": [],
   "source": [
    "points = hv.Points(broadcast, ['x', 'y'], ['category']).redim.range(**bounds) \n",
    "points = dynspread(datashade(points, color_key=color_key, aggregator=ds.count_cat('category')))\n",
    "track  = hv.DynamicMap(highlight_tracks, streams=[hv.streams.Tap()])\n",
    "\n",
    "#tiles * points * track"
   ]
  },
  {
   "cell_type": "markdown",
   "metadata": {},
   "source": [
    "We could view the result above by uncommenting the last line, but let's just go ahead and make a little app so that we can let the user decide whether to have labels visible:"
   ]
  },
  {
   "cell_type": "code",
   "execution_count": null,
   "metadata": {},
   "outputs": [],
   "source": [
    "def labels(enable=True):\n",
    "    return hv.element.tiles.StamenLabels().opts(level='glyph', alpha=0.7 if enable else 0)\n",
    "\n",
    "show_labels = pn.widgets.Checkbox(name=\"Show labels\", value=True)\n",
    "overlay = tiles * points * track * hv.DynamicMap(pn.bind(labels, enable=show_labels)) * color_points\n",
    "                                         \n",
    "pn.Column(\"# Categorical plot of AIS data by type\",\n",
    "          \"Zoom or pan to explore the data, then click to select \"\n",
    "          \"and highlight connected vessel tracks in a region. \",\n",
    "          \"You may need to zoom in before a track is selectable.\",\n",
    "          show_labels, overlay).servable()"
   ]
  }
 ],
 "metadata": {
  "language_info": {
   "name": "python",
   "pygments_lexer": "ipython3"
  }
 },
 "nbformat": 4,
 "nbformat_minor": 4
}
