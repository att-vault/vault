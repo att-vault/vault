{
 "cells": [
  {
   "cell_type": "code",
   "execution_count": null,
   "metadata": {},
   "outputs": [],
   "source": [
    "import calendar\n",
    "from datetime import datetime, timedelta\n",
    "import itertools\n",
    "import os\n",
    "import time\n",
    "import zipfile\n",
    "\n",
    "from tables import *\n",
    "\n",
    "import skyfield\n",
    "from skyfield.sgp4lib import EarthSatellite"
   ]
  },
  {
   "cell_type": "code",
   "execution_count": null,
   "metadata": {},
   "outputs": [],
   "source": [
    "class TLE(IsDescription):\n",
    "    epoch     = Float64Col(pos=0)\n",
    "    norad_id  = Int64Col(pos=1)\n",
    "    line_one  = StringCol(80, pos=2)\n",
    "    line_two  = StringCol(80, pos=3)\n",
    "\n",
    "export_path = \"/mnt/disk100/persist_home/meawoppl/reexport.h5\"\n",
    "def create_new_h5_with_tle_table(path):\n",
    "    h5file = open_file(path, mode=\"w\", title=\"TLE Indexable Data\")\n",
    "    return h5file.create_table(h5file.root, 'tle', TLE, \"Main TLE Listing\")"
   ]
  },
  {
   "cell_type": "code",
   "execution_count": null,
   "metadata": {},
   "outputs": [],
   "source": [
    "tle_folder = \"/mnt/disk100/data/TLE\"\n",
    "zips = [os.path.join(tle_folder, f) for f in os.listdir(tle_folder)]"
   ]
  },
  {
   "cell_type": "code",
   "execution_count": null,
   "metadata": {},
   "outputs": [],
   "source": [
    "def fmt_epoch(epoch_val):\n",
    "    return time.strftime('%Y-%m-%d %H:%M:%S', time.localtime(epoch_val))"
   ]
  },
  {
   "cell_type": "code",
   "execution_count": null,
   "metadata": {},
   "outputs": [],
   "source": [
    "def read_tles_from_flo(flo):\n",
    "    \"\"\"\n",
    "    Produce an iterator of subsequent\n",
    "    \n",
    "    \"\"\"\n",
    "    for n in itertools.count():\n",
    "        tle1 = f.readline().decode().strip()\n",
    "        if not tle1: break\n",
    "        tle2 = f.readline().decode().strip()\n",
    "        sat = EarthSatellite(tle1, tle2)\n",
    "\n",
    "        epoch = sat.epoch.utc_datetime().timestamp()\n",
    "        norad_id = sat.model.satnum\n",
    "\n",
    "        yield epoch, norad_id, tle1, tle2\n",
    "\n",
    "def read_tles_from_zip(path: str):\n",
    "    \"\"\"\n",
    "    Iterate through the rows in the TLE file inside of a zip file.\n",
    "    \"\"\"\n",
    "    with zipfile.ZipFile(path) as z:\n",
    "        # Assumes only one file contained inside the zip, ignores OSX detritus\n",
    "        name = list(filter(lambda fn: \"_MACOSX\" not in fn, z.namelist()))[0]\n",
    "        with z.open(name) as f:\n",
    "            return read_tles_from_flo(f)\n",
    "\n",
    "def read_tles_from_csv(path: str):\n",
    "    \"\"\"\n",
    "    Iterate through the rows in a csvfile\n",
    "    \"\"\"\n",
    "    with open(path, newline='') as csvfile:\n",
    "        spamreader = csv.DictReader(csvfile)\n",
    "        for row in spamreader:\n",
    "            epoch = datetime(row[\"epoch_year\"], 1, 1) + timedelta(days=row[\"epoch_day\"] - 1)\n",
    "            tle1 = row[\"tle\"][0:80]\n",
    "            tle2 = row[\"tle\"][80:]\n",
    "            yield epoch, row[\"norad_id\"], tle1, tle2\n",
    "            \n",
    "def read_to_table(table_node, src_iter, limit=float(\"inf\")):\n",
    "    \"\"\"\n",
    "    Given an iterable (likely consturcted from one of the above) and a table.\n",
    "    Populate the table with values from the interable.\n",
    "    \"\"\"\n",
    "    \n",
    "    entry = table_node.row\n",
    "    \n",
    "    for i, (entry, norad_id, tle1, tle2) in enumerate(src_iter):\n",
    "        entry[\"epoch\"] = entry\n",
    "        entry[\"norad_id\"] = norad_id\n",
    "        entry[\"line_one\"] = tle1\n",
    "        entry[\"line_two\"] = tle2\n",
    "        \n",
    "        entry.append()\n",
    "            \n",
    "        if i % 1000 == 0:\n",
    "            table.flush()\n",
    "            \n",
    "        if i > limit:\n",
    "            break\n",
    "            \n",
    "    table.flush()\n"
   ]
  },
  {
   "cell_type": "code",
   "execution_count": null,
   "metadata": {},
   "outputs": [],
   "source": [
    "def read_directory_into_table(d, table_node):\n",
    "    assert, os.path.isdir(d)\n",
    "    \n",
    "    paths = list(os.path.join(directory, f) for f in os.listdir(d))\n",
    "    for path in paths:\n",
    "        iterable = None\n",
    "        \n",
    "        if path.endswith(\"csv\"):\n",
    "            iterable = read_tles_from_csv(path)\n",
    "        \n",
    "        if path.endswith(\"zip\"):\n",
    "            iterable = read_tles_from_zip(path)\n",
    "        \n",
    "        if iterable is None:\n",
    "            print(\"Ignoring file: \" + path)\n",
    "        \n",
    "        before_rows = table_node.nrows\n",
    "        read_to_table(table_node, iterable)\n",
    "        added_rows = table_node.nrows - before_rows\n",
    "        print(\"Added %i entries from %s. Total size: %i\" % (added_rows, path, table_node.nrows))\n",
    "\n",
    "def build_indices(table):\n",
    "    print(\"Building indices\")\n",
    "    table.cols.epoch.create_index()\n",
    "    table.cols.norad_id.create_index()\n",
    "\n",
    "    \n",
    "print(\"Done..\")\n",
    "h5file.close()"
   ]
  },
  {
   "cell_type": "code",
   "execution_count": null,
   "metadata": {},
   "outputs": [],
   "source": [
    "!cd /mnt/disk100/persist_home/meawoppl/\n",
    "!ls /mnt/disk100/persist_home/meawoppl/"
   ]
  },
  {
   "cell_type": "code",
   "execution_count": null,
   "metadata": {},
   "outputs": [],
   "source": [
    "!du -sch *"
   ]
  }
 ],
 "metadata": {
  "kernelspec": {
   "display_name": "Python 3",
   "language": "python",
   "name": "python3"
  },
  "language_info": {
   "codemirror_mode": {
    "name": "ipython",
    "version": 3
   },
   "file_extension": ".py",
   "mimetype": "text/x-python",
   "name": "python",
   "nbconvert_exporter": "python",
   "pygments_lexer": "ipython3",
   "version": "3.8.6"
  }
 },
 "nbformat": 4,
 "nbformat_minor": 4
}
