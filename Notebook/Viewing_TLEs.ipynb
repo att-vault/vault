{
 "cells": [
  {
   "cell_type": "code",
   "execution_count": null,
   "metadata": {},
   "outputs": [],
   "source": [
    "import pandas as pd\n",
    "import numpy as np\n",
    "import time, datetime, calendar\n",
    "from colorcet import kbc\n",
    "import panel as pn\n",
    "import datetime as dt\n",
    "import holoviews as hv\n",
    "from holoviews.operation.datashader import rasterize\n",
    "import skyfield\n",
    "from skyfield.api import EarthSatellite,load\n",
    "hv.extension('bokeh')"
   ]
  },
  {
   "cell_type": "code",
   "execution_count": null,
   "metadata": {},
   "outputs": [],
   "source": [
    "!du -h ../tle2017.csv"
   ]
  },
  {
   "cell_type": "code",
   "execution_count": null,
   "metadata": {},
   "outputs": [],
   "source": [
    "tle = pd.read_csv('../tle2017.csv')"
   ]
  },
  {
   "cell_type": "code",
   "execution_count": null,
   "metadata": {},
   "outputs": [],
   "source": [
    "print('Example TLE record:\\n%r' % tle.iloc[0]['tle'])"
   ]
  },
  {
   "cell_type": "code",
   "execution_count": null,
   "metadata": {},
   "outputs": [],
   "source": [
    "\n",
    "def compute_lon_lat(line1,line2):\n",
    "    satellite = EarthSatellite(line1, line2, name='Unknown')\n",
    "    geometry = satellite.at(satellite.epoch)\n",
    "\n",
    "    subpoint = geometry.subpoint()\n",
    "    if np.isnan(subpoint.latitude.degrees):\n",
    "        return None\n",
    "    if np.isnan(subpoint.longitude.degrees):\n",
    "        return None\n",
    "        \n",
    "    return subpoint.longitude.degrees, subpoint.latitude.degrees\n",
    "\n",
    "        \n",
    "\n",
    "def lat_lon_from_lines(lines):\n",
    "    lons, lats = [], []\n",
    "    for line1, line2 in lines:\n",
    "        lon, lat = compute_lon_lat(line1,line2)\n",
    "        if None not in [lon, lat]:\n",
    "            lons.append(lon)\n",
    "            lats.append(lat)\n",
    "    eastings, northings = hv.util.transform.lon_lat_to_easting_northing(np.array(lons), np.array(lats))\n",
    "    return list(zip(eastings, northings))\n"
   ]
  },
  {
   "cell_type": "code",
   "execution_count": null,
   "metadata": {},
   "outputs": [],
   "source": [
    "new_lines = [el.replace('None\\n', '').split('\\n')[:2] for el in tle['tle']] # Splitting the file"
   ]
  },
  {
   "cell_type": "code",
   "execution_count": null,
   "metadata": {},
   "outputs": [],
   "source": [
    "coords = lat_lon_from_lines(new_lines) # Can take a while to run..."
   ]
  },
  {
   "cell_type": "code",
   "execution_count": null,
   "metadata": {},
   "outputs": [],
   "source": [
    "hv.element.tiles.ESRI().opts(alpha=0.5, bgcolor='black') * rasterize(hv.Points(coords)).opts(width=900, height=600, cmap=kbc[64:], cnorm='eq_hist')"
   ]
  },
  {
   "cell_type": "markdown",
   "metadata": {},
   "source": [
    "Loading the `export_test.h5` file into TLE lines (probably safe to ignore):\n",
    "\n",
    "```python\n",
    "import h5py\n",
    "f = h5py.File('../vault/export_test.h5', 'r')\n",
    "dataset = f['readout']\n",
    "hdf5_lines = [(bytes(dataset[ind][2]).decode('ASCII').replace('\\\\', ''), \n",
    "  bytes(dataset[ind][3]).decode('ASCII').replace('\\\\', '')) for ind in range(100000)]\n",
    "```"
   ]
  }
 ],
 "metadata": {
  "kernelspec": {
   "display_name": "Python 3",
   "language": "python",
   "name": "python3"
  },
  "language_info": {
   "codemirror_mode": {
    "name": "ipython",
    "version": 3
   },
   "file_extension": ".py",
   "mimetype": "text/x-python",
   "name": "python",
   "nbconvert_exporter": "python",
   "pygments_lexer": "ipython3",
   "version": "3.7.9"
  }
 },
 "nbformat": 4,
 "nbformat_minor": 4
}
