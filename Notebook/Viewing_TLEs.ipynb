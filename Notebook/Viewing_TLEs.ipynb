{
 "cells": [
  {
   "cell_type": "markdown",
   "metadata": {},
   "source": [
    "# Viewing TLEs\n",
    "\n",
    "This notebook prototypes datashading of TLEs with interactive clicking to show precomputed satellite track for a given TLE:"
   ]
  },
  {
   "cell_type": "code",
   "execution_count": null,
   "metadata": {},
   "outputs": [],
   "source": [
    "import pandas as pd\n",
    "import numpy as np\n",
    "import time, datetime, calendar\n",
    "from colorcet import kbc\n",
    "import panel as pn\n",
    "import datetime as dt\n",
    "import holoviews as hv\n",
    "from tables import open_file\n",
    "from holoviews.operation.datashader import rasterize\n",
    "import skyfield\n",
    "from skyfield.framelib import itrs\n",
    "from skyfield.sgp4lib import EarthSatellite\n",
    "from spatialpandas.geometry import PointArray\n",
    "from spatialpandas import GeoDataFrame\n",
    "\n",
    "hv.extension('bokeh')"
   ]
  },
  {
   "cell_type": "markdown",
   "metadata": {},
   "source": [
    "## Loading TLES"
   ]
  },
  {
   "cell_type": "code",
   "execution_count": null,
   "metadata": {},
   "outputs": [],
   "source": [
    "tle = pd.read_csv('../tle2017.csv')"
   ]
  },
  {
   "cell_type": "code",
   "execution_count": null,
   "metadata": {},
   "outputs": [],
   "source": [
    "print('Example TLE record:\\n%r' % tle.iloc[0]['tle'])"
   ]
  },
  {
   "cell_type": "markdown",
   "metadata": {},
   "source": [
    "## Filtering by available tracks"
   ]
  },
  {
   "cell_type": "code",
   "execution_count": null,
   "metadata": {},
   "outputs": [],
   "source": [
    "computed = open_file(\"../precomp2.h5\", mode='r')\n",
    "sat_group = computed.get_node(\"/sat\")\n",
    "num1, num2 = 205, 320\n",
    "svals = [int(el[1:]) for el in dir(sat_group) if el.startswith('s')]\n",
    "tle = tle[tle['norad_id'].isin(svals)]"
   ]
  },
  {
   "cell_type": "markdown",
   "metadata": {},
   "source": [
    "## Functions to handle TLE latitude/longitude "
   ]
  },
  {
   "cell_type": "code",
   "execution_count": null,
   "metadata": {},
   "outputs": [],
   "source": [
    "def modulo_lon(val):\n",
    "    if -180 < val < 180:\n",
    "        return val\n",
    "    if val < -180:\n",
    "        return 180 + (val + 180)\n",
    "    if val > 180:\n",
    "        return -180 + (val - 180)\n",
    "    \n",
    "def compute_lat_lon(line1, line2):\n",
    "        \"\"\"\n",
    "        Get the Lat/Long at the tle epoch  \n",
    "        \"\"\"\n",
    "        sat = EarthSatellite(line1, line2)\n",
    "        lat, long, _ = sat.at(sat.epoch).frame_latlon(itrs)\n",
    "        # return the times, lats, longs, and distances in the units specified\n",
    "        return lat.degrees, long.degrees\n",
    "\n",
    "def lat_lon_from_lines(lines, abs_max_lat=84):\n",
    "    \"\"\"Computes latitude/longitude and a mask to \n",
    "    filter TLEs that don't work for Web Mercator\n",
    "    (abs > 84 degrees by default)\"\"\" \n",
    "    lons, lats, mask, inner_mask = [], [], [], []\n",
    "    for line1, line2 in lines:\n",
    "        lat, lon = compute_lat_lon(line1,line2)\n",
    "        if None not in [lon, lat]:\n",
    "            inner_mask.append(abs(lat) < abs_max_lat)\n",
    "            mask.append(abs(lat) < abs_max_lat)\n",
    "            lons.append(lon if lon < 180 else (lon - 360))\n",
    "            lats.append(lat)\n",
    "        else:\n",
    "            mask.append(False)\n",
    "    return np.array(lats)[inner_mask], np.array(lons)[inner_mask], mask"
   ]
  },
  {
   "cell_type": "markdown",
   "metadata": {},
   "source": [
    "## Computing TLE lat/lons"
   ]
  },
  {
   "cell_type": "code",
   "execution_count": null,
   "metadata": {},
   "outputs": [],
   "source": [
    "new_lines = [el.replace('None\\n', '').split('\\n')[:2] for el in tle['tle']] # Splitting the file\n",
    "lats, lons, mask = lat_lon_from_lines(new_lines) # Can take a while to run..."
   ]
  },
  {
   "cell_type": "markdown",
   "metadata": {},
   "source": [
    "## Computing easting/northings and building spatial dataframe"
   ]
  },
  {
   "cell_type": "code",
   "execution_count": null,
   "metadata": {},
   "outputs": [],
   "source": [
    "eastings, northings = hv.util.transform.lon_lat_to_easting_northing(lons, lats)"
   ]
  },
  {
   "cell_type": "code",
   "execution_count": null,
   "metadata": {},
   "outputs": [],
   "source": [
    "# Create spatialpandas spatially indexed DataFrame (can take a while to construct)\n",
    "sdf = GeoDataFrame({'geometry':PointArray((lons, lats)),\n",
    "                    'eastings':eastings,\n",
    "                    'northings':northings,\n",
    "                    'norad_id':tle['norad_id'][mask],\n",
    "                    'epoch_year': tle['epoch_year'][mask],\n",
    "                    'epoch_day': tle['epoch_day'][mask],\n",
    "                    })"
   ]
  },
  {
   "cell_type": "markdown",
   "metadata": {},
   "source": [
    "## Functions to get track around TLE"
   ]
  },
  {
   "cell_type": "code",
   "execution_count": null,
   "metadata": {},
   "outputs": [],
   "source": [
    "def get_track_around_TLE(sat_id, epoch_year, epoch_day, delta_seconds=4*60*60):\n",
    "    tle_datetime = (dt.datetime(year=epoch_year, month=1, day=1)\n",
    "                    + dt.timedelta(days=epoch_day-1))\n",
    "    return get_precomputed_tracks(sat_id, \n",
    "                                  tle_datetime-dt.timedelta(seconds=delta_seconds),\n",
    "                                  tle_datetime+dt.timedelta(seconds=delta_seconds))\n",
    "\n",
    "def get_precomputed_tracks(satellite, start, end):\n",
    "    name = \"s\" + str(satellite)    \n",
    "    dataz = getattr(sat_group, name)[:]\n",
    "    start_index = np.searchsorted(dataz[0, :], start.timestamp())\n",
    "    end_index   = np.searchsorted(dataz[0, :], end.timestamp())\n",
    "    return dataz[:, start_index: end_index]    \n",
    "\n",
    "def get_track(track):\n",
    "    lat, lon = track[1,:], track[2,:]\n",
    "    lon = np.array([modulo_lon(el) for el in lon])\n",
    "    eastings, northings = hv.util.transform.lon_lat_to_easting_northing(lon,lat)\n",
    "    # Heuristic to insert NaNs to break up Curve (prevent wrapping issues at date line)\n",
    "    inds = np.where(np.diff(eastings) < -2e7)[0] # Big delta to split on\n",
    "    inds += 1\n",
    "    eastings = np.insert(eastings, inds, [float('nan') for i in range(len(inds))])\n",
    "    northings = np.insert(northings, inds, [float('nan') for i in range(len(inds))])\n",
    "    return hv.Curve((eastings, northings))"
   ]
  },
  {
   "cell_type": "markdown",
   "metadata": {},
   "source": [
    "## Test `get_track` function for sat ids 205 and 320"
   ]
  },
  {
   "cell_type": "code",
   "execution_count": null,
   "metadata": {},
   "outputs": [],
   "source": [
    "epoch_year, epoch_day = tle.iloc[0]['epoch_year'], tle.iloc[0]['epoch_day']\n",
    "(get_track(get_track_around_TLE(205, epoch_year, epoch_day, delta_seconds=4*60*60)) \n",
    " + get_track(get_track_around_TLE(320, epoch_year, epoch_day, delta_seconds=4*60*60)))"
   ]
  },
  {
   "cell_type": "markdown",
   "metadata": {},
   "source": [
    "## DynamicMap callback"
   ]
  },
  {
   "cell_type": "code",
   "execution_count": null,
   "metadata": {},
   "outputs": [],
   "source": [
    "DELTA_SECONDS = 60*60 # Track length in time (seconds)\n",
    "def mark_track(x,y):\n",
    "    delta=0.1\n",
    "    empty = hv.Curve([(0,0)]).opts(alpha=0)\n",
    "    if None not in [x,y]:\n",
    "        x, y = hv.util.transform.easting_northing_to_lon_lat(x, y)\n",
    "        row = sdf.cx[x-delta:x+delta, y-1:y+1]\n",
    "        if len(row) == 0:\n",
    "            return empty\n",
    "        satid = int(row.iloc[0]['norad_id'])\n",
    "        epoch_year = row.iloc[0]['epoch_year']\n",
    "        epoch_day = row.iloc[0]['epoch_day']\n",
    "        track = get_track_around_TLE(satid, epoch_year, epoch_day,\n",
    "                                              delta_seconds=DELTA_SECONDS)\n",
    "        return get_track(track).opts(color='red', alpha=1)\n",
    "    else:\n",
    "        return empty\n",
    "    \n",
    "    \n",
    "tracks = hv.DynamicMap(mark_track, streams=[hv.streams.Tap()])"
   ]
  },
  {
   "cell_type": "code",
   "execution_count": null,
   "metadata": {},
   "outputs": [],
   "source": [
    "(hv.element.tiles.ESRI().opts(alpha=0.8, bgcolor='black') \n",
    " * rasterize(hv.Points(zip(eastings,northings))).opts(width=900, height=600, cmap=kbc[64:], cnorm='eq_hist')\n",
    " * tracks)"
   ]
  }
 ],
 "metadata": {
  "kernelspec": {
   "display_name": "Python 3",
   "language": "python",
   "name": "python3"
  },
  "language_info": {
   "codemirror_mode": {
    "name": "ipython",
    "version": 3
   },
   "file_extension": ".py",
   "mimetype": "text/x-python",
   "name": "python",
   "nbconvert_exporter": "python",
   "pygments_lexer": "ipython3",
   "version": "3.7.9"
  }
 },
 "nbformat": 4,
 "nbformat_minor": 4
}
