{
 "cells": [
  {
   "cell_type": "code",
   "execution_count": null,
   "metadata": {},
   "outputs": [],
   "source": [
    "import h5py\n",
    "import pandas as pd\n",
    "import time, datetime, calendar\n",
    "import numpy as np\n",
    "import panel as pn\n",
    "import datetime as dt\n",
    "import holoviews as hv\n",
    "from holoviews.operation.datashader import rasterize\n",
    "from skyfield.api import EarthSatellite\n",
    "hv.extension('bokeh')"
   ]
  },
  {
   "cell_type": "code",
   "execution_count": null,
   "metadata": {},
   "outputs": [],
   "source": [
    "tle = pd.read_csv('./data/tle2017.csv')"
   ]
  },
  {
   "cell_type": "code",
   "execution_count": null,
   "metadata": {},
   "outputs": [],
   "source": [
    "'Total number of TLEs in tle2017.csv: %s' %  len(tle)"
   ]
  },
  {
   "cell_type": "code",
   "execution_count": null,
   "metadata": {},
   "outputs": [],
   "source": [
    "'Total number of unique satellite IDs: %s' % len(tle['SatNum'].unique())"
   ]
  },
  {
   "cell_type": "code",
   "execution_count": null,
   "metadata": {},
   "outputs": [],
   "source": [
    "tle.head()"
   ]
  },
  {
   "cell_type": "code",
   "execution_count": null,
   "metadata": {},
   "outputs": [],
   "source": [
    "easting, northing = hv.util.transform.lon_lat_to_easting_northing(tle['Lon'], tle['Lat'])"
   ]
  },
  {
   "cell_type": "code",
   "execution_count": null,
   "metadata": {},
   "outputs": [],
   "source": [
    "(hv.element.tiles.ESRI().redim(x='longitude', y='latitude') \n",
    " * rasterize(hv.Points((easting, northing))).redim(x='longitude', y='latitude').opts(width=700, height=600))"
   ]
  },
  {
   "cell_type": "markdown",
   "metadata": {},
   "source": [
    "## Visualizing export_test.h5 TLEs"
   ]
  },
  {
   "cell_type": "code",
   "execution_count": null,
   "metadata": {},
   "outputs": [],
   "source": [
    "f = h5py.File('../vault/export_test.h5', 'r')\n",
    "dataset = f['readout']"
   ]
  },
  {
   "cell_type": "code",
   "execution_count": null,
   "metadata": {},
   "outputs": [],
   "source": [
    "'TLE records in export_test.h5: %s' % len(dataset)"
   ]
  },
  {
   "cell_type": "code",
   "execution_count": null,
   "metadata": {},
   "outputs": [],
   "source": [
    "print('Example TLE record:\\n%s' % dataset[0])"
   ]
  },
  {
   "cell_type": "code",
   "execution_count": null,
   "metadata": {},
   "outputs": [],
   "source": [
    "def compute_TLE_easting_northing(n=1000000):\n",
    "    coords = []\n",
    "    for ind in range(n):\n",
    "        line1 = bytes(dataset[ind][2]).decode('ASCII').replace('\\\\', '')\n",
    "        line2 = bytes(dataset[ind][3]).decode('ASCII').replace('\\\\', '')\n",
    "        satellite = EarthSatellite(line1, line2, name='Unknown')\n",
    "        geometry = satellite.at(satellite.epoch)\n",
    "\n",
    "        subpoint = geometry.subpoint()\n",
    "        if np.isnan(subpoint.latitude.degrees):\n",
    "            continue\n",
    "        if np.isnan(subpoint.longitude.degrees):\n",
    "            continue\n",
    "        \n",
    "        easting, northing = hv.util.transform.lon_lat_to_easting_northing(subpoint.longitude.degrees, \n",
    "                                                                          subpoint.latitude.degrees)\n",
    "        coords.append((easting, northing))\n",
    "    return coords"
   ]
  },
  {
   "cell_type": "code",
   "execution_count": null,
   "metadata": {},
   "outputs": [],
   "source": [
    "coords = compute_TLE_easting_northing(n=1000000) # Takes a while to run for n=1000000"
   ]
  },
  {
   "cell_type": "code",
   "execution_count": null,
   "metadata": {},
   "outputs": [],
   "source": [
    "hv.element.tiles.ESRI() * rasterize(hv.Points(coords)).opts(width=700, height=400)"
   ]
  }
 ],
 "metadata": {
  "kernelspec": {
   "display_name": "Python 3",
   "language": "python",
   "name": "python3"
  },
  "language_info": {
   "codemirror_mode": {
    "name": "ipython",
    "version": 3
   },
   "file_extension": ".py",
   "mimetype": "text/x-python",
   "name": "python",
   "nbconvert_exporter": "python",
   "pygments_lexer": "ipython3",
   "version": "3.7.9"
  }
 },
 "nbformat": 4,
 "nbformat_minor": 4
}
