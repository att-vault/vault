{
 "cells": [
  {
   "cell_type": "markdown",
   "metadata": {},
   "source": [
    "## AIS Analyze Vessel Clusters and EDA"
   ]
  },
  {
   "cell_type": "code",
   "execution_count": 1,
   "metadata": {},
   "outputs": [],
   "source": [
    "# from IPython.display import Image, HTML\n",
    "import os\n",
    "import numpy as np\n",
    "import math\n",
    "import pandas as pd\n",
    "import datetime\n",
    "from glob import glob\n",
    "import geopy.distance\n",
    "import folium\n",
    "import matplotlib.pyplot as plt\n",
    "from sklearn.cluster import KMeans\n",
    "import seaborn as sns; sns.set()\n",
    "\n",
    "import warnings\n",
    "warnings.filterwarnings(\"ignore\")           # Suppress Warning"
   ]
  },
  {
   "cell_type": "markdown",
   "metadata": {},
   "source": [
    "### Global Variables"
   ]
  },
  {
   "cell_type": "code",
   "execution_count": 3,
   "metadata": {},
   "outputs": [],
   "source": [
    "WorkingFolder = \"/Users/cv0361/Desktop/TechChallenge/Data/csv/ConsolidatedAIS/\"\n",
    "OutputDir = WorkingFolder\n",
    "\n",
    "PROC_YEAR = '2017'\n",
    "MAX_CLUSTER = 5"
   ]
  },
  {
   "cell_type": "markdown",
   "metadata": {},
   "source": [
    "### Common Functions"
   ]
  },
  {
   "cell_type": "code",
   "execution_count": 4,
   "metadata": {},
   "outputs": [],
   "source": [
    "def Calc_Centroid_Radius(center_latlon, lat_max, lat_min, lon_max, lon_min):\n",
    "    dist = list()\n",
    "    \n",
    "    # Center distance to the outer most coordinates\n",
    "    dist.append(geopy.distance.distance((center_latlon[0], center_latlon[1]), (lat_max, lon_max)).mi)\n",
    "    dist.append(geopy.distance.distance((center_latlon[0], center_latlon[1]), (lat_max, lon_min)).mi)\n",
    "    dist.append(geopy.distance.distance((center_latlon[0], center_latlon[1]), (lat_min, lon_max)).mi)\n",
    "    dist.append(geopy.distance.distance((center_latlon[0], center_latlon[1]), (lat_min, lon_min)).mi)\n",
    "    \n",
    "    print(dist)\n",
    "    \n",
    "    return round(max(dist), 2)\n",
    "\n",
    "# Calc_Centroid_Radius(centers[0], stat.lat[1], stat.lat[2], stat.lon[1], stat.lon[2])"
   ]
  },
  {
   "cell_type": "markdown",
   "metadata": {},
   "source": [
    "### Load Broadcast Data"
   ]
  },
  {
   "cell_type": "code",
   "execution_count": 5,
   "metadata": {},
   "outputs": [
    {
     "data": {
      "text/html": [
       "<div>\n",
       "<style scoped>\n",
       "    .dataframe tbody tr th:only-of-type {\n",
       "        vertical-align: middle;\n",
       "    }\n",
       "\n",
       "    .dataframe tbody tr th {\n",
       "        vertical-align: top;\n",
       "    }\n",
       "\n",
       "    .dataframe thead th {\n",
       "        text-align: right;\n",
       "    }\n",
       "</style>\n",
       "<table border=\"1\" class=\"dataframe\">\n",
       "  <thead>\n",
       "    <tr style=\"text-align: right;\">\n",
       "      <th></th>\n",
       "      <th>mmsi_id</th>\n",
       "      <th>date_time</th>\n",
       "      <th>lat</th>\n",
       "      <th>lon</th>\n",
       "      <th>speed_over_ground</th>\n",
       "      <th>course_over_ground</th>\n",
       "      <th>voyage_id</th>\n",
       "      <th>heading</th>\n",
       "      <th>status</th>\n",
       "    </tr>\n",
       "  </thead>\n",
       "  <tbody>\n",
       "    <tr>\n",
       "      <td>0</td>\n",
       "      <td>366940480</td>\n",
       "      <td>2017-01-04 11:39:36</td>\n",
       "      <td>52.48730</td>\n",
       "      <td>-174.02316</td>\n",
       "      <td>10.0</td>\n",
       "      <td>-140.7</td>\n",
       "      <td>NaN</td>\n",
       "      <td>267.0</td>\n",
       "      <td>undefined</td>\n",
       "    </tr>\n",
       "    <tr>\n",
       "      <td>1</td>\n",
       "      <td>366940480</td>\n",
       "      <td>2017-01-04 11:40:45</td>\n",
       "      <td>52.48718</td>\n",
       "      <td>-174.02835</td>\n",
       "      <td>10.0</td>\n",
       "      <td>-141.6</td>\n",
       "      <td>NaN</td>\n",
       "      <td>266.0</td>\n",
       "      <td>undefined</td>\n",
       "    </tr>\n",
       "    <tr>\n",
       "      <td>2</td>\n",
       "      <td>366940480</td>\n",
       "      <td>2017-01-04 11:42:26</td>\n",
       "      <td>52.48705</td>\n",
       "      <td>-174.03608</td>\n",
       "      <td>10.0</td>\n",
       "      <td>-142.3</td>\n",
       "      <td>NaN</td>\n",
       "      <td>267.0</td>\n",
       "      <td>undefined</td>\n",
       "    </tr>\n",
       "    <tr>\n",
       "      <td>3</td>\n",
       "      <td>366940480</td>\n",
       "      <td>2017-01-04 13:51:07</td>\n",
       "      <td>52.41575</td>\n",
       "      <td>-174.60041</td>\n",
       "      <td>9.1</td>\n",
       "      <td>-154.0</td>\n",
       "      <td>NaN</td>\n",
       "      <td>251.0</td>\n",
       "      <td>undefined</td>\n",
       "    </tr>\n",
       "    <tr>\n",
       "      <td>4</td>\n",
       "      <td>366940480</td>\n",
       "      <td>2017-01-04 13:55:17</td>\n",
       "      <td>52.41311</td>\n",
       "      <td>-174.61718</td>\n",
       "      <td>9.1</td>\n",
       "      <td>-157.3</td>\n",
       "      <td>NaN</td>\n",
       "      <td>251.0</td>\n",
       "      <td>undefined</td>\n",
       "    </tr>\n",
       "  </tbody>\n",
       "</table>\n",
       "</div>"
      ],
      "text/plain": [
       "     mmsi_id           date_time       lat        lon  speed_over_ground  \\\n",
       "0  366940480 2017-01-04 11:39:36  52.48730 -174.02316               10.0   \n",
       "1  366940480 2017-01-04 11:40:45  52.48718 -174.02835               10.0   \n",
       "2  366940480 2017-01-04 11:42:26  52.48705 -174.03608               10.0   \n",
       "3  366940480 2017-01-04 13:51:07  52.41575 -174.60041                9.1   \n",
       "4  366940480 2017-01-04 13:55:17  52.41311 -174.61718                9.1   \n",
       "\n",
       "   course_over_ground  voyage_id  heading     status  \n",
       "0              -140.7        NaN    267.0  undefined  \n",
       "1              -141.6        NaN    266.0  undefined  \n",
       "2              -142.3        NaN    267.0  undefined  \n",
       "3              -154.0        NaN    251.0  undefined  \n",
       "4              -157.3        NaN    251.0  undefined  "
      ]
     },
     "execution_count": 5,
     "metadata": {},
     "output_type": "execute_result"
    }
   ],
   "source": [
    "Broadcast = pd.read_csv(WorkingFolder + \"Broadcast_{}.csv\".format(PROC_YEAR), sep=\",\", parse_dates=['date_time'])\n",
    "Broadcast.head()"
   ]
  },
  {
   "cell_type": "code",
   "execution_count": 6,
   "metadata": {},
   "outputs": [
    {
     "name": "stdout",
     "output_type": "stream",
     "text": [
      "Raw Count: 3125152\n"
     ]
    }
   ],
   "source": [
    "print(\"Raw Count:\", Broadcast.shape[0])"
   ]
  },
  {
   "cell_type": "code",
   "execution_count": 7,
   "metadata": {},
   "outputs": [],
   "source": [
    "# Assign 0 to blank voyage id\n",
    "Broadcast['voyage_id'] = Broadcast['voyage_id'].fillna(0)\n",
    "Broadcast = Broadcast.astype({\"voyage_id\": int})           # cast type to int"
   ]
  },
  {
   "cell_type": "code",
   "execution_count": null,
   "metadata": {},
   "outputs": [],
   "source": []
  },
  {
   "cell_type": "markdown",
   "metadata": {},
   "source": [
    "### EDA and Stats"
   ]
  },
  {
   "cell_type": "code",
   "execution_count": null,
   "metadata": {},
   "outputs": [],
   "source": [
    "# Broadcast_Zone03_2017_01\n",
    "# =========================\n",
    "# 367094420      ARCTIC MARINER \t type: 1001 - Fishing, 31x9.28       lots of points   multiple trips, same route\n",
    "# 367565680      ADAMANT             type: 1001 - Fishing, 18x8          lots of points   ?\n",
    "# 367373760      NORTH SEA           type: 1001 - Fishing, 37x10                          ?\n",
    "# 440102000      TORAH               type: 1004 - Freight, 115.8x16.62   lots of points   weird\n",
    "# 636014222      Zim Rotter          type: 1004 - Freight, 349x45.73                      Going some where\n",
    "# 367322830      GYRFALCON           type: 1025 - Towing, 30.63x10.4     lots of points   weird behavior\n",
    "\n",
    "# Broadcast_Zone10_2014_01\n",
    "# =========================\n",
    "# 316500126                          type: 31 - TugTow,     15x5        irregular pattern towing\n",
    "# 367528210                          type: 31 - TugTow,     33x13       irregular pattern towing\n",
    "# 316881510                          type: 52 - TugTow,     28x13       irregular pattern towing\n",
    "# 366025993                          type: 52 - TugTow,     21x7        pattern?\n",
    "# 538001471                          type: 70 - Cargo,     302x44      path pattern\n",
    "# 538284070                          type: 70 - Cargo,     184x31      path pattern\n",
    "# 229560200                          type: 70 - Cargo,     350x42      path pattern\n",
    "# 235733603                          type: 80 - Tanker,    183x32      path pattern\n",
    "# 538007477                          type: 0 - Tanker?,    170x27      Going some where\n",
    "# 366089092                          type: 0, 30x6        Infrequent ping per trip\n",
    "\n",
    "mmsi = 271041862 \n",
    "voyage_id = 0"
   ]
  },
  {
   "cell_type": "code",
   "execution_count": 8,
   "metadata": {},
   "outputs": [
    {
     "name": "stdout",
     "output_type": "stream",
     "text": [
      "Rows: (748, 7)\n"
     ]
    },
    {
     "data": {
      "text/html": [
       "<div>\n",
       "<style scoped>\n",
       "    .dataframe tbody tr th:only-of-type {\n",
       "        vertical-align: middle;\n",
       "    }\n",
       "\n",
       "    .dataframe tbody tr th {\n",
       "        vertical-align: top;\n",
       "    }\n",
       "\n",
       "    .dataframe thead th {\n",
       "        text-align: right;\n",
       "    }\n",
       "</style>\n",
       "<table border=\"1\" class=\"dataframe\">\n",
       "  <thead>\n",
       "    <tr style=\"text-align: right;\">\n",
       "      <th></th>\n",
       "      <th>date_time</th>\n",
       "      <th>latitude</th>\n",
       "      <th>longitude</th>\n",
       "      <th>speed_over_ground</th>\n",
       "      <th>voyage_id</th>\n",
       "      <th>PingDate</th>\n",
       "      <th>PingHour</th>\n",
       "    </tr>\n",
       "  </thead>\n",
       "  <tbody>\n",
       "    <tr>\n",
       "      <td>9439</td>\n",
       "      <td>2017-01-21 04:00:17</td>\n",
       "      <td>54.66813</td>\n",
       "      <td>-174.01128</td>\n",
       "      <td>10.4</td>\n",
       "      <td>0</td>\n",
       "      <td>2017-01-21</td>\n",
       "      <td>4</td>\n",
       "    </tr>\n",
       "    <tr>\n",
       "      <td>116117</td>\n",
       "      <td>2017-01-20 06:55:47</td>\n",
       "      <td>54.54627</td>\n",
       "      <td>-168.00870</td>\n",
       "      <td>9.2</td>\n",
       "      <td>0</td>\n",
       "      <td>2017-01-20</td>\n",
       "      <td>6</td>\n",
       "    </tr>\n",
       "    <tr>\n",
       "      <td>116118</td>\n",
       "      <td>2017-01-20 06:54:26</td>\n",
       "      <td>54.54616</td>\n",
       "      <td>-168.00310</td>\n",
       "      <td>9.1</td>\n",
       "      <td>0</td>\n",
       "      <td>2017-01-20</td>\n",
       "      <td>6</td>\n",
       "    </tr>\n",
       "    <tr>\n",
       "      <td>116119</td>\n",
       "      <td>2017-01-20 06:58:46</td>\n",
       "      <td>54.54654</td>\n",
       "      <td>-168.02125</td>\n",
       "      <td>8.6</td>\n",
       "      <td>0</td>\n",
       "      <td>2017-01-20</td>\n",
       "      <td>6</td>\n",
       "    </tr>\n",
       "    <tr>\n",
       "      <td>116120</td>\n",
       "      <td>2017-01-20 07:06:07</td>\n",
       "      <td>54.54723</td>\n",
       "      <td>-168.05249</td>\n",
       "      <td>9.0</td>\n",
       "      <td>0</td>\n",
       "      <td>2017-01-20</td>\n",
       "      <td>7</td>\n",
       "    </tr>\n",
       "  </tbody>\n",
       "</table>\n",
       "</div>"
      ],
      "text/plain": [
       "                 date_time  latitude  longitude  speed_over_ground  voyage_id  \\\n",
       "9439   2017-01-21 04:00:17  54.66813 -174.01128               10.4          0   \n",
       "116117 2017-01-20 06:55:47  54.54627 -168.00870                9.2          0   \n",
       "116118 2017-01-20 06:54:26  54.54616 -168.00310                9.1          0   \n",
       "116119 2017-01-20 06:58:46  54.54654 -168.02125                8.6          0   \n",
       "116120 2017-01-20 07:06:07  54.54723 -168.05249                9.0          0   \n",
       "\n",
       "          PingDate  PingHour  \n",
       "9439    2017-01-21         4  \n",
       "116117  2017-01-20         6  \n",
       "116118  2017-01-20         6  \n",
       "116119  2017-01-20         6  \n",
       "116120  2017-01-20         7  "
      ]
     },
     "execution_count": 8,
     "metadata": {},
     "output_type": "execute_result"
    }
   ],
   "source": [
    "# Select a specific Vessel\n",
    "df = Broadcast.loc[Broadcast.mmsi_id==mmsi, ['date_time', 'lat', 'lon', 'speed_over_ground', 'voyage_id']]  # & (Broadcast.voyage_id.isnull()\n",
    "df.rename(columns={'lat':'latitude', 'lon':'longitude'}, inplace=True)\n",
    "\n",
    "# Extract Date and Hour\n",
    "df['PingDate'] = df['date_time'].dt.date\n",
    "df['PingHour'] = df['date_time'].dt.hour\n",
    "\n",
    "print(\"Rows:\", df.shape)\n",
    "df.head()"
   ]
  },
  {
   "cell_type": "code",
   "execution_count": 9,
   "metadata": {},
   "outputs": [],
   "source": [
    "# # Fudge some anomaly\n",
    "# df.loc[df.date_time=='2017-01-10 01:12:31', 'latitude'] = 70.25\n",
    "# df.loc[df.date_time=='2014-01-01 00:03:06', 'longitude'] = -100.123\n",
    "# df.head()"
   ]
  },
  {
   "cell_type": "code",
   "execution_count": 10,
   "metadata": {},
   "outputs": [
    {
     "data": {
      "text/plain": [
       "array([0])"
      ]
     },
     "execution_count": 10,
     "metadata": {},
     "output_type": "execute_result"
    }
   ],
   "source": [
    "# Get Unique voyage Id\n",
    "df.voyage_id.unique()"
   ]
  },
  {
   "cell_type": "code",
   "execution_count": 11,
   "metadata": {},
   "outputs": [],
   "source": [
    "# # Select 1 voyage\n",
    "# df = df.loc[df.voyage_id==1]\n",
    "# df.shape"
   ]
  },
  {
   "cell_type": "code",
   "execution_count": 12,
   "metadata": {},
   "outputs": [
    {
     "data": {
      "text/html": [
       "<div>\n",
       "<style scoped>\n",
       "    .dataframe tbody tr th:only-of-type {\n",
       "        vertical-align: middle;\n",
       "    }\n",
       "\n",
       "    .dataframe tbody tr th {\n",
       "        vertical-align: top;\n",
       "    }\n",
       "\n",
       "    .dataframe thead th {\n",
       "        text-align: right;\n",
       "    }\n",
       "</style>\n",
       "<table border=\"1\" class=\"dataframe\">\n",
       "  <thead>\n",
       "    <tr style=\"text-align: right;\">\n",
       "      <th></th>\n",
       "      <th>date_time</th>\n",
       "      <th>latitude</th>\n",
       "      <th>longitude</th>\n",
       "      <th>speed_over_ground</th>\n",
       "      <th>voyage_id</th>\n",
       "      <th>PingDate</th>\n",
       "      <th>PingHour</th>\n",
       "    </tr>\n",
       "  </thead>\n",
       "  <tbody>\n",
       "    <tr>\n",
       "      <td>count</td>\n",
       "      <td>748</td>\n",
       "      <td>748.000000</td>\n",
       "      <td>748.000000</td>\n",
       "      <td>748.000000</td>\n",
       "      <td>748.0</td>\n",
       "      <td>748</td>\n",
       "      <td>748.000000</td>\n",
       "    </tr>\n",
       "    <tr>\n",
       "      <td>max</td>\n",
       "      <td>2017-01-21 04:00:17</td>\n",
       "      <td>54.668130</td>\n",
       "      <td>-162.665270</td>\n",
       "      <td>13.600000</td>\n",
       "      <td>0.0</td>\n",
       "      <td>2017-01-21</td>\n",
       "      <td>23.000000</td>\n",
       "    </tr>\n",
       "    <tr>\n",
       "      <td>min</td>\n",
       "      <td>2017-01-19 10:29:59</td>\n",
       "      <td>54.133770</td>\n",
       "      <td>-174.011280</td>\n",
       "      <td>5.200000</td>\n",
       "      <td>0.0</td>\n",
       "      <td>2017-01-19</td>\n",
       "      <td>0.000000</td>\n",
       "    </tr>\n",
       "    <tr>\n",
       "      <td>mean</td>\n",
       "      <td>2017-01-20 00:03:39.533422592</td>\n",
       "      <td>54.440042</td>\n",
       "      <td>-166.332504</td>\n",
       "      <td>8.566578</td>\n",
       "      <td>0.0</td>\n",
       "      <td>NaN</td>\n",
       "      <td>11.528075</td>\n",
       "    </tr>\n",
       "    <tr>\n",
       "      <td>nunique</td>\n",
       "      <td>748</td>\n",
       "      <td>714.000000</td>\n",
       "      <td>748.000000</td>\n",
       "      <td>75.000000</td>\n",
       "      <td>1.0</td>\n",
       "      <td>3</td>\n",
       "      <td>19.000000</td>\n",
       "    </tr>\n",
       "    <tr>\n",
       "      <td>median</td>\n",
       "      <td>NaN</td>\n",
       "      <td>54.428390</td>\n",
       "      <td>-166.233505</td>\n",
       "      <td>8.700000</td>\n",
       "      <td>0.0</td>\n",
       "      <td>NaN</td>\n",
       "      <td>9.000000</td>\n",
       "    </tr>\n",
       "    <tr>\n",
       "      <td>std</td>\n",
       "      <td>NaN</td>\n",
       "      <td>0.071693</td>\n",
       "      <td>1.074679</td>\n",
       "      <td>1.697823</td>\n",
       "      <td>0.0</td>\n",
       "      <td>NaN</td>\n",
       "      <td>8.520894</td>\n",
       "    </tr>\n",
       "  </tbody>\n",
       "</table>\n",
       "</div>"
      ],
      "text/plain": [
       "                             date_time    latitude   longitude  \\\n",
       "count                              748  748.000000  748.000000   \n",
       "max                2017-01-21 04:00:17   54.668130 -162.665270   \n",
       "min                2017-01-19 10:29:59   54.133770 -174.011280   \n",
       "mean     2017-01-20 00:03:39.533422592   54.440042 -166.332504   \n",
       "nunique                            748  714.000000  748.000000   \n",
       "median                             NaN   54.428390 -166.233505   \n",
       "std                                NaN    0.071693    1.074679   \n",
       "\n",
       "         speed_over_ground  voyage_id    PingDate    PingHour  \n",
       "count           748.000000      748.0         748  748.000000  \n",
       "max              13.600000        0.0  2017-01-21   23.000000  \n",
       "min               5.200000        0.0  2017-01-19    0.000000  \n",
       "mean              8.566578        0.0         NaN   11.528075  \n",
       "nunique          75.000000        1.0           3   19.000000  \n",
       "median            8.700000        0.0         NaN    9.000000  \n",
       "std               1.697823        0.0         NaN    8.520894  "
      ]
     },
     "execution_count": 12,
     "metadata": {},
     "output_type": "execute_result"
    }
   ],
   "source": [
    "# Calculate Statistics\n",
    "# df.describe()\n",
    "df.agg(['count', 'max', 'min', 'mean', 'median', 'std', 'nunique'])   "
   ]
  },
  {
   "cell_type": "markdown",
   "metadata": {},
   "source": [
    "### Sampling Data Hourly"
   ]
  },
  {
   "cell_type": "code",
   "execution_count": 13,
   "metadata": {},
   "outputs": [
    {
     "name": "stdout",
     "output_type": "stream",
     "text": [
      "Rows: 20\n"
     ]
    },
    {
     "data": {
      "text/html": [
       "<div>\n",
       "<style scoped>\n",
       "    .dataframe tbody tr th:only-of-type {\n",
       "        vertical-align: middle;\n",
       "    }\n",
       "\n",
       "    .dataframe tbody tr th {\n",
       "        vertical-align: top;\n",
       "    }\n",
       "\n",
       "    .dataframe thead th {\n",
       "        text-align: right;\n",
       "    }\n",
       "</style>\n",
       "<table border=\"1\" class=\"dataframe\">\n",
       "  <thead>\n",
       "    <tr style=\"text-align: right;\">\n",
       "      <th></th>\n",
       "      <th>voyage_id</th>\n",
       "      <th>PingDate</th>\n",
       "      <th>PingHour</th>\n",
       "      <th>latitude</th>\n",
       "      <th>longitude</th>\n",
       "      <th>speed_over_ground</th>\n",
       "      <th>PingCount</th>\n",
       "    </tr>\n",
       "  </thead>\n",
       "  <tbody>\n",
       "    <tr>\n",
       "      <td>0</td>\n",
       "      <td>0</td>\n",
       "      <td>2017-01-19</td>\n",
       "      <td>10</td>\n",
       "      <td>54.133770</td>\n",
       "      <td>-162.665270</td>\n",
       "      <td>12.700000</td>\n",
       "      <td>1</td>\n",
       "    </tr>\n",
       "    <tr>\n",
       "      <td>1</td>\n",
       "      <td>0</td>\n",
       "      <td>2017-01-19</td>\n",
       "      <td>15</td>\n",
       "      <td>54.270693</td>\n",
       "      <td>-164.152723</td>\n",
       "      <td>10.900000</td>\n",
       "      <td>3</td>\n",
       "    </tr>\n",
       "    <tr>\n",
       "      <td>2</td>\n",
       "      <td>0</td>\n",
       "      <td>2017-01-19</td>\n",
       "      <td>16</td>\n",
       "      <td>54.295319</td>\n",
       "      <td>-164.515008</td>\n",
       "      <td>11.545455</td>\n",
       "      <td>33</td>\n",
       "    </tr>\n",
       "    <tr>\n",
       "      <td>3</td>\n",
       "      <td>0</td>\n",
       "      <td>2017-01-19</td>\n",
       "      <td>17</td>\n",
       "      <td>54.336627</td>\n",
       "      <td>-164.896077</td>\n",
       "      <td>13.050000</td>\n",
       "      <td>36</td>\n",
       "    </tr>\n",
       "    <tr>\n",
       "      <td>4</td>\n",
       "      <td>0</td>\n",
       "      <td>2017-01-19</td>\n",
       "      <td>18</td>\n",
       "      <td>54.360704</td>\n",
       "      <td>-165.147314</td>\n",
       "      <td>7.800000</td>\n",
       "      <td>49</td>\n",
       "    </tr>\n",
       "  </tbody>\n",
       "</table>\n",
       "</div>"
      ],
      "text/plain": [
       "   voyage_id    PingDate  PingHour   latitude   longitude  speed_over_ground  \\\n",
       "0          0  2017-01-19        10  54.133770 -162.665270          12.700000   \n",
       "1          0  2017-01-19        15  54.270693 -164.152723          10.900000   \n",
       "2          0  2017-01-19        16  54.295319 -164.515008          11.545455   \n",
       "3          0  2017-01-19        17  54.336627 -164.896077          13.050000   \n",
       "4          0  2017-01-19        18  54.360704 -165.147314           7.800000   \n",
       "\n",
       "   PingCount  \n",
       "0          1  \n",
       "1          3  \n",
       "2         33  \n",
       "3         36  \n",
       "4         49  "
      ]
     },
     "execution_count": 13,
     "metadata": {},
     "output_type": "execute_result"
    }
   ],
   "source": [
    "mygroup = df.groupby(['voyage_id', 'PingDate', 'PingHour'])\n",
    "sampling = mygroup['latitude', 'longitude', 'speed_over_ground'].mean()  \n",
    "sampling['PingCount'] = mygroup['latitude'].count()\n",
    "sampling.reset_index(inplace=True)\n",
    "\n",
    "print(\"Rows:\", sampling.shape[0])\n",
    "sampling.head()"
   ]
  },
  {
   "cell_type": "code",
   "execution_count": 14,
   "metadata": {},
   "outputs": [
    {
     "data": {
      "text/html": [
       "<div>\n",
       "<style scoped>\n",
       "    .dataframe tbody tr th:only-of-type {\n",
       "        vertical-align: middle;\n",
       "    }\n",
       "\n",
       "    .dataframe tbody tr th {\n",
       "        vertical-align: top;\n",
       "    }\n",
       "\n",
       "    .dataframe thead th {\n",
       "        text-align: right;\n",
       "    }\n",
       "</style>\n",
       "<table border=\"1\" class=\"dataframe\">\n",
       "  <thead>\n",
       "    <tr style=\"text-align: right;\">\n",
       "      <th></th>\n",
       "      <th>voyage_id</th>\n",
       "      <th>PingDate</th>\n",
       "      <th>PingHour</th>\n",
       "      <th>latitude</th>\n",
       "      <th>longitude</th>\n",
       "      <th>speed_over_ground</th>\n",
       "      <th>PingCount</th>\n",
       "      <th>Text</th>\n",
       "    </tr>\n",
       "  </thead>\n",
       "  <tbody>\n",
       "    <tr>\n",
       "      <td>0</td>\n",
       "      <td>0</td>\n",
       "      <td>2017-01-19</td>\n",
       "      <td>10</td>\n",
       "      <td>54.133770</td>\n",
       "      <td>-162.665270</td>\n",
       "      <td>12.700000</td>\n",
       "      <td>1</td>\n",
       "      <td>2017-01-19:10-V:0 - SOG: 12.7 - Count: 1 (54.1...</td>\n",
       "    </tr>\n",
       "    <tr>\n",
       "      <td>1</td>\n",
       "      <td>0</td>\n",
       "      <td>2017-01-19</td>\n",
       "      <td>15</td>\n",
       "      <td>54.270693</td>\n",
       "      <td>-164.152723</td>\n",
       "      <td>10.900000</td>\n",
       "      <td>3</td>\n",
       "      <td>2017-01-19:15-V:0 - SOG: 10.9 - Count: 3 (54.2...</td>\n",
       "    </tr>\n",
       "    <tr>\n",
       "      <td>2</td>\n",
       "      <td>0</td>\n",
       "      <td>2017-01-19</td>\n",
       "      <td>16</td>\n",
       "      <td>54.295319</td>\n",
       "      <td>-164.515008</td>\n",
       "      <td>11.545455</td>\n",
       "      <td>33</td>\n",
       "      <td>2017-01-19:16-V:0 - SOG: 11.5 - Count: 33 (54....</td>\n",
       "    </tr>\n",
       "    <tr>\n",
       "      <td>3</td>\n",
       "      <td>0</td>\n",
       "      <td>2017-01-19</td>\n",
       "      <td>17</td>\n",
       "      <td>54.336627</td>\n",
       "      <td>-164.896077</td>\n",
       "      <td>13.050000</td>\n",
       "      <td>36</td>\n",
       "      <td>2017-01-19:17-V:0 - SOG: 13.0 - Count: 36 (54....</td>\n",
       "    </tr>\n",
       "    <tr>\n",
       "      <td>4</td>\n",
       "      <td>0</td>\n",
       "      <td>2017-01-19</td>\n",
       "      <td>18</td>\n",
       "      <td>54.360704</td>\n",
       "      <td>-165.147314</td>\n",
       "      <td>7.800000</td>\n",
       "      <td>49</td>\n",
       "      <td>2017-01-19:18-V:0 - SOG: 7.8 - Count: 49 (54.3...</td>\n",
       "    </tr>\n",
       "  </tbody>\n",
       "</table>\n",
       "</div>"
      ],
      "text/plain": [
       "   voyage_id    PingDate  PingHour   latitude   longitude  speed_over_ground  \\\n",
       "0          0  2017-01-19        10  54.133770 -162.665270          12.700000   \n",
       "1          0  2017-01-19        15  54.270693 -164.152723          10.900000   \n",
       "2          0  2017-01-19        16  54.295319 -164.515008          11.545455   \n",
       "3          0  2017-01-19        17  54.336627 -164.896077          13.050000   \n",
       "4          0  2017-01-19        18  54.360704 -165.147314           7.800000   \n",
       "\n",
       "   PingCount                                               Text  \n",
       "0          1  2017-01-19:10-V:0 - SOG: 12.7 - Count: 1 (54.1...  \n",
       "1          3  2017-01-19:15-V:0 - SOG: 10.9 - Count: 3 (54.2...  \n",
       "2         33  2017-01-19:16-V:0 - SOG: 11.5 - Count: 33 (54....  \n",
       "3         36  2017-01-19:17-V:0 - SOG: 13.0 - Count: 36 (54....  \n",
       "4         49  2017-01-19:18-V:0 - SOG: 7.8 - Count: 49 (54.3...  "
      ]
     },
     "execution_count": 14,
     "metadata": {},
     "output_type": "execute_result"
    }
   ],
   "source": [
    "# Formulate Popup text for the Map\n",
    "sampling['Text'] = sampling.apply(lambda x: \"{}:{}-V:{} - SOG: {} - Count: {} ({}, {})\".format(x.PingDate, x.PingHour, x.voyage_id, round(x.speed_over_ground, 1), x.PingCount, round(x.latitude, 3), round(x.longitude, 3)), axis=1)   \n",
    "sampling.head()"
   ]
  },
  {
   "cell_type": "code",
   "execution_count": 15,
   "metadata": {},
   "outputs": [],
   "source": [
    "# Output Sampling Data\n",
    "# sampling.to_csv(OutputDir + 'sampling_366089092.csv', index=None, header = True)"
   ]
  },
  {
   "cell_type": "code",
   "execution_count": null,
   "metadata": {},
   "outputs": [],
   "source": []
  },
  {
   "cell_type": "markdown",
   "metadata": {},
   "source": [
    "### Clustering via K-means\n",
    "* https://github.com/JosephMagiya/Clustering-GPS-Co-ordinates--Forming-Regions./blob/master/Clustering-GPS-Co-ordinates--Forming-Regions.ipynb"
   ]
  },
  {
   "cell_type": "code",
   "execution_count": 16,
   "metadata": {},
   "outputs": [
    {
     "data": {
      "image/png": "[encoded data removed]",
      "text/plain": [
       "<Figure size 432x288 with 1 Axes>"
      ]
     },
     "metadata": {
      "needs_background": "light"
     },
     "output_type": "display_data"
    }
   ],
   "source": [
    "K_clusters = range(1,10)\n",
    "kmeans = [KMeans(n_clusters=i) for i in K_clusters]\n",
    "\n",
    "Y_axis = df[['latitude']]\n",
    "X_axis = df[['longitude']]\n",
    "\n",
    "score = [kmeans[i].fit(Y_axis).score(Y_axis) for i in range(len(kmeans))]\n",
    "\n",
    "# Plot labels\n",
    "plt.plot(K_clusters, score)\n",
    "plt.xlabel('Number of Clusters')\n",
    "plt.ylabel('Score')\n",
    "plt.title('Elbow Curve')\n",
    "plt.show()"
   ]
  },
  {
   "cell_type": "code",
   "execution_count": null,
   "metadata": {},
   "outputs": [],
   "source": []
  },
  {
   "cell_type": "code",
   "execution_count": 17,
   "metadata": {},
   "outputs": [
    {
     "data": {
      "text/html": [
       "<div>\n",
       "<style scoped>\n",
       "    .dataframe tbody tr th:only-of-type {\n",
       "        vertical-align: middle;\n",
       "    }\n",
       "\n",
       "    .dataframe tbody tr th {\n",
       "        vertical-align: top;\n",
       "    }\n",
       "\n",
       "    .dataframe thead th {\n",
       "        text-align: right;\n",
       "    }\n",
       "</style>\n",
       "<table border=\"1\" class=\"dataframe\">\n",
       "  <thead>\n",
       "    <tr style=\"text-align: right;\">\n",
       "      <th></th>\n",
       "      <th>date_time</th>\n",
       "      <th>latitude</th>\n",
       "      <th>longitude</th>\n",
       "      <th>speed_over_ground</th>\n",
       "      <th>voyage_id</th>\n",
       "      <th>PingDate</th>\n",
       "      <th>PingHour</th>\n",
       "      <th>cluster_label</th>\n",
       "    </tr>\n",
       "  </thead>\n",
       "  <tbody>\n",
       "    <tr>\n",
       "      <td>9439</td>\n",
       "      <td>2017-01-21 04:00:17</td>\n",
       "      <td>54.66813</td>\n",
       "      <td>-174.01128</td>\n",
       "      <td>10.4</td>\n",
       "      <td>0</td>\n",
       "      <td>2017-01-21</td>\n",
       "      <td>4</td>\n",
       "      <td>4</td>\n",
       "    </tr>\n",
       "    <tr>\n",
       "      <td>116117</td>\n",
       "      <td>2017-01-20 06:55:47</td>\n",
       "      <td>54.54627</td>\n",
       "      <td>-168.00870</td>\n",
       "      <td>9.2</td>\n",
       "      <td>0</td>\n",
       "      <td>2017-01-20</td>\n",
       "      <td>6</td>\n",
       "      <td>1</td>\n",
       "    </tr>\n",
       "    <tr>\n",
       "      <td>116118</td>\n",
       "      <td>2017-01-20 06:54:26</td>\n",
       "      <td>54.54616</td>\n",
       "      <td>-168.00310</td>\n",
       "      <td>9.1</td>\n",
       "      <td>0</td>\n",
       "      <td>2017-01-20</td>\n",
       "      <td>6</td>\n",
       "      <td>1</td>\n",
       "    </tr>\n",
       "  </tbody>\n",
       "</table>\n",
       "</div>"
      ],
      "text/plain": [
       "                 date_time  latitude  longitude  speed_over_ground  voyage_id  \\\n",
       "9439   2017-01-21 04:00:17  54.66813 -174.01128               10.4          0   \n",
       "116117 2017-01-20 06:55:47  54.54627 -168.00870                9.2          0   \n",
       "116118 2017-01-20 06:54:26  54.54616 -168.00310                9.1          0   \n",
       "\n",
       "          PingDate  PingHour  cluster_label  \n",
       "9439    2017-01-21         4              4  \n",
       "116117  2017-01-20         6              1  \n",
       "116118  2017-01-20         6              1  "
      ]
     },
     "execution_count": 17,
     "metadata": {},
     "output_type": "execute_result"
    }
   ],
   "source": [
    "# Cluster all the coordinances\n",
    "X = df[['latitude', 'longitude']]\n",
    "\n",
    "kmeans = KMeans(n_clusters=MAX_CLUSTER, init='k-means++')\n",
    "\n",
    "kmeans.fit(X)                                   # Compute k-means clustering. # Compute k-means clustering.\n",
    "df['cluster_label'] = kmeans.predict(X)         # Labels of each point\n",
    "centers = kmeans.cluster_centers_               # Coordinates of cluster centers.\n",
    "\n",
    "df.head(3)"
   ]
  },
  {
   "cell_type": "code",
   "execution_count": 18,
   "metadata": {},
   "outputs": [
    {
     "data": {
      "text/plain": [
       "array([[  54.34105019, -164.96484228],\n",
       "       [  54.53354795, -167.77134319],\n",
       "       [  54.41170451, -165.83678481],\n",
       "       [  54.47421758, -166.78022547],\n",
       "       [  54.66813   , -174.01128   ]])"
      ]
     },
     "execution_count": 18,
     "metadata": {},
     "output_type": "execute_result"
    }
   ],
   "source": [
    "centers"
   ]
  },
  {
   "cell_type": "code",
   "execution_count": 19,
   "metadata": {},
   "outputs": [
    {
     "data": {
      "text/html": [
       "<div>\n",
       "<style scoped>\n",
       "    .dataframe tbody tr th:only-of-type {\n",
       "        vertical-align: middle;\n",
       "    }\n",
       "\n",
       "    .dataframe tbody tr th {\n",
       "        vertical-align: top;\n",
       "    }\n",
       "\n",
       "    .dataframe thead th {\n",
       "        text-align: right;\n",
       "    }\n",
       "</style>\n",
       "<table border=\"1\" class=\"dataframe\">\n",
       "  <thead>\n",
       "    <tr style=\"text-align: right;\">\n",
       "      <th></th>\n",
       "      <th>cluster_label</th>\n",
       "      <th>PingCount</th>\n",
       "    </tr>\n",
       "  </thead>\n",
       "  <tbody>\n",
       "    <tr>\n",
       "      <td>4</td>\n",
       "      <td>4</td>\n",
       "      <td>1</td>\n",
       "    </tr>\n",
       "    <tr>\n",
       "      <td>0</td>\n",
       "      <td>0</td>\n",
       "      <td>158</td>\n",
       "    </tr>\n",
       "    <tr>\n",
       "      <td>1</td>\n",
       "      <td>1</td>\n",
       "      <td>166</td>\n",
       "    </tr>\n",
       "    <tr>\n",
       "      <td>3</td>\n",
       "      <td>3</td>\n",
       "      <td>191</td>\n",
       "    </tr>\n",
       "    <tr>\n",
       "      <td>2</td>\n",
       "      <td>2</td>\n",
       "      <td>232</td>\n",
       "    </tr>\n",
       "  </tbody>\n",
       "</table>\n",
       "</div>"
      ],
      "text/plain": [
       "   cluster_label  PingCount\n",
       "4              4          1\n",
       "0              0        158\n",
       "1              1        166\n",
       "3              3        191\n",
       "2              2        232"
      ]
     },
     "execution_count": 19,
     "metadata": {},
     "output_type": "execute_result"
    }
   ],
   "source": [
    "# Distribution Summary for all clusters - Cluster, ping counts\n",
    "PingCluster = df.groupby('cluster_label')['date_time'].count().reset_index()\n",
    "PingCluster.rename(columns={'date_time':'PingCount'}, inplace=True)\n",
    "PingCluster.sort_values('PingCount')"
   ]
  },
  {
   "cell_type": "code",
   "execution_count": 20,
   "metadata": {},
   "outputs": [
    {
     "data": {
      "text/html": [
       "<div>\n",
       "<style scoped>\n",
       "    .dataframe tbody tr th:only-of-type {\n",
       "        vertical-align: middle;\n",
       "    }\n",
       "\n",
       "    .dataframe tbody tr th {\n",
       "        vertical-align: top;\n",
       "    }\n",
       "\n",
       "    .dataframe thead th {\n",
       "        text-align: right;\n",
       "    }\n",
       "</style>\n",
       "<table border=\"1\" class=\"dataframe\">\n",
       "  <thead>\n",
       "    <tr style=\"text-align: right;\">\n",
       "      <th></th>\n",
       "      <th>date_time</th>\n",
       "      <th>latitude</th>\n",
       "      <th>longitude</th>\n",
       "      <th>speed_over_ground</th>\n",
       "      <th>voyage_id</th>\n",
       "      <th>PingDate</th>\n",
       "      <th>PingHour</th>\n",
       "      <th>cluster_label</th>\n",
       "    </tr>\n",
       "  </thead>\n",
       "  <tbody>\n",
       "    <tr>\n",
       "      <td>count</td>\n",
       "      <td>158</td>\n",
       "      <td>158.00000</td>\n",
       "      <td>158.00000</td>\n",
       "      <td>158.0</td>\n",
       "      <td>158</td>\n",
       "      <td>158</td>\n",
       "      <td>158</td>\n",
       "      <td>158</td>\n",
       "    </tr>\n",
       "    <tr>\n",
       "      <td>max</td>\n",
       "      <td>2017-01-19 19:44:29</td>\n",
       "      <td>54.37692</td>\n",
       "      <td>-162.66527</td>\n",
       "      <td>13.6</td>\n",
       "      <td>0</td>\n",
       "      <td>2017-01-19</td>\n",
       "      <td>19</td>\n",
       "      <td>0</td>\n",
       "    </tr>\n",
       "    <tr>\n",
       "      <td>min</td>\n",
       "      <td>2017-01-19 10:29:59</td>\n",
       "      <td>54.13377</td>\n",
       "      <td>-165.40066</td>\n",
       "      <td>5.6</td>\n",
       "      <td>0</td>\n",
       "      <td>2017-01-19</td>\n",
       "      <td>10</td>\n",
       "      <td>0</td>\n",
       "    </tr>\n",
       "  </tbody>\n",
       "</table>\n",
       "</div>"
      ],
      "text/plain": [
       "                 date_time   latitude  longitude  speed_over_ground  \\\n",
       "count                  158  158.00000  158.00000              158.0   \n",
       "max    2017-01-19 19:44:29   54.37692 -162.66527               13.6   \n",
       "min    2017-01-19 10:29:59   54.13377 -165.40066                5.6   \n",
       "\n",
       "       voyage_id    PingDate  PingHour  cluster_label  \n",
       "count        158         158       158            158  \n",
       "max            0  2017-01-19        19              0  \n",
       "min            0  2017-01-19        10              0  "
      ]
     },
     "execution_count": 20,
     "metadata": {},
     "output_type": "execute_result"
    }
   ],
   "source": [
    "# Locate and agg data for a selected cluster\n",
    "Select_Cluster = 0\n",
    "\n",
    "stat = df.loc[df.cluster_label==Select_Cluster].agg(['count', 'max', 'min'])   \n",
    "stat"
   ]
  },
  {
   "cell_type": "code",
   "execution_count": 21,
   "metadata": {},
   "outputs": [
    {
     "name": "stdout",
     "output_type": "stream",
     "text": [
      "[92.92141262321941, 17.779006758123256, 94.2586530053958, 22.74423485665943]\n"
     ]
    },
    {
     "data": {
      "text/plain": [
       "94.26"
      ]
     },
     "execution_count": 21,
     "metadata": {},
     "output_type": "execute_result"
    }
   ],
   "source": [
    "# Get Cluster Radius\n",
    "Calc_Centroid_Radius(centers[Select_Cluster], stat.latitude[1], stat.latitude[2], stat.longitude[1], stat.longitude[2])"
   ]
  },
  {
   "cell_type": "markdown",
   "metadata": {},
   "source": [
    "### Plot Vessel Coordinates, Clusters, and Hourly Sampling coordinates"
   ]
  },
  {
   "cell_type": "code",
   "execution_count": 22,
   "metadata": {},
   "outputs": [
    {
     "data": {
      "image/png": "[encoded data removed]",
      "text/plain": [
       "<Figure size 1080x720 with 1 Axes>"
      ]
     },
     "metadata": {
      "needs_background": "light"
     },
     "output_type": "display_data"
    }
   ],
   "source": [
    "# various scatter plots\n",
    "fig = plt.figure(figsize=(15,10))\n",
    "ax = fig.add_subplot()\n",
    "\n",
    "# All coordinates\n",
    "ax.scatter(df.longitude, df.latitude, s=10, lw=0, c=df['cluster_label'], cmap='viridis', alpha=1)\n",
    "# Hourly Sampling coordinates\n",
    "ax.scatter(sampling.longitude, sampling.latitude, marker='x', color='red')\n",
    "# Clusters centroids\n",
    "ax.scatter(centers[:, 1], centers[:, 0], c='black', s=900, alpha=0.1)\n",
    "\n",
    "# Plot Labels\n",
    "ax.set_xlabel('Longitude')\n",
    "ax.set_ylabel('Latitude')\n",
    "ax.set_title('Vessel Coordinates, Clusters, and Hourly Sampling coordinates')\n",
    "plt.show()"
   ]
  },
  {
   "cell_type": "code",
   "execution_count": null,
   "metadata": {},
   "outputs": [],
   "source": []
  },
  {
   "cell_type": "markdown",
   "metadata": {},
   "source": [
    "### Real Map of Ping Coordinates and Popups\n",
    "* https://github.com/python-visualization/folium\n",
    "* https://github.com/collinreinking/longitude_latitude_dot_plots_in_python_with_folium/blob/master/MapsTutorials.ipynb\n",
    "* https://georgetsilva.github.io/posts/mapping-points-with-folium/"
   ]
  },
  {
   "cell_type": "code",
   "execution_count": 23,
   "metadata": {},
   "outputs": [
    {
     "data": {
      "text/html": [
       "<div style=\"width:100%;\"><div style=\"position:relative;width:100%;height:0;padding-bottom:60%;\"><span style=\"color:#565656\">Make this Notebook Trusted to load map: File -> Trust Notebook</span><iframe src=\"about:blank\" style=\"position:absolute;width:100%;height:100%;left:0;top:0;border:none !important;\" data-html=%3C%21DOCTYPE%20html%3E%0A%3Chead%3E%20%20%20%20%0A%20%20%20%20%3Cmeta%20http-equiv%3D%22content-type%22%20content%3D%22text/html%3B%20charset%3DUTF-8%22%20/%3E%0A%20%20%20%20%0A%20%20%20%20%20%20%20%20%3Cscript%3E%0A%20%20%20%20%20%20%20%20%20%20%20%20L_NO_TOUCH%20%3D%20false%3B%0A%20%20%20%20%20%20%20%20%20%20%20%20L_DISABLE_3D%20%3D%20false%3B%0A%20%20%20%20%20%20%20%20%3C/script%3E%0A%20%20%20%20%0A%20%20%20%20%3Cscript%20src%3D%22https%3A//cdn.jsdelivr.net/npm/leaflet%401.6.0/dist/leaflet.js%22%3E%3C/script%3E%0A%20%20%20%20%3Cscript%20src%3D%22https%3A//code.jquery.com/jquery-1.12.4.min.js%22%3E%3C/script%3E%0A%20%20%20%20%3Cscript%20src%3D%22https%3A//maxcdn.bootstrapcdn.com/bootstrap/3.2.0/js/bootstrap.min.js%22%3E%3C/script%3E%0A%20%20%20%20%3Cscript%20src%3D%22https%3A//cdnjs.cloudflare.com/ajax/libs/Leaflet.awesome-markers/2.0.2/leaflet.awesome-markers.js%22%3E%3C/script%3E%0A%20%20%20%20%3Clink%20rel%3D%22stylesheet%22%20href%3D%22https%3A//cdn.jsdelivr.net/npm/leaflet%401.6.0/dist/leaflet.css%22/%3E%0A%20%20%20%20%3Clink%20rel%3D%22stylesheet%22%20href%3D%22https%3A//maxcdn.bootstrapcdn.com/bootstrap/3.2.0/css/bootstrap.min.css%22/%3E%0A%20%20%20%20%3Clink%20rel%3D%22stylesheet%22%20href%3D%22https%3A//maxcdn.bootstrapcdn.com/bootstrap/3.2.0/css/bootstrap-theme.min.css%22/%3E%0A%20%20%20%20%3Clink%20rel%3D%22stylesheet%22%20href%3D%22https%3A//maxcdn.bootstrapcdn.com/font-awesome/4.6.3/css/font-awesome.min.css%22/%3E%0A%20%20%20%20%3Clink%20rel%3D%22stylesheet%22%20href%3D%22https%3A//cdnjs.cloudflare.com/ajax/libs/Leaflet.awesome-markers/2.0.2/leaflet.awesome-markers.css%22/%3E%0A%20%20%20%20%3Clink%20rel%3D%22stylesheet%22%20href%3D%22https%3A//rawcdn.githack.com/python-visualization/folium/master/folium/templates/leaflet.awesome.rotate.css%22/%3E%0A%20%20%20%20%3Cstyle%3Ehtml%2C%20body%20%7Bwidth%3A%20100%25%3Bheight%3A%20100%25%3Bmargin%3A%200%3Bpadding%3A%200%3B%7D%3C/style%3E%0A%20%20%20%20%3Cstyle%3E%23map%20%7Bposition%3Aabsolute%3Btop%3A0%3Bbottom%3A0%3Bright%3A0%3Bleft%3A0%3B%7D%3C/style%3E%0A%20%20%20%20%0A%20%20%20%20%20%20%20%20%20%20%20%20%3Cmeta%20name%3D%22viewport%22%20content%3D%22width%3Ddevice-width%2C%0A%20%20%20%20%20%20%20%20%20%20%20%20%20%20%20%20initial-scale%3D1.0%2C%20maximum-scale%3D1.0%2C%20user-scalable%3Dno%22%20/%3E%0A%20%20%20%20%20%20%20%20%20%20%20%20%3Cstyle%3E%0A%20%20%20%20%20%20%20%20%20%20%20%20%20%20%20%20%23map_45dc48e7942d431d8fa7a7178f889b8d%20%7B%0A%20%20%20%20%20%20%20%20%20%20%20%20%20%20%20%20%20%20%20%20position%3A%20relative%3B%0A%20%20%20%20%20%20%20%20%20%20%20%20%20%20%20%20%20%20%20%20width%3A%20100.0%25%3B%0A%20%20%20%20%20%20%20%20%20%20%20%20%20%20%20%20%20%20%20%20height%3A%20100.0%25%3B%0A%20%20%20%20%20%20%20%20%20%20%20%20%20%20%20%20%20%20%20%20left%3A%200.0%25%3B%0A%20%20%20%20%20%20%20%20%20%20%20%20%20%20%20%20%20%20%20%20top%3A%200.0%25%3B%0A%20%20%20%20%20%20%20%20%20%20%20%20%20%20%20%20%7D%0A%20%20%20%20%20%20%20%20%20%20%20%20%3C/style%3E%0A%20%20%20%20%20%20%20%20%0A%3C/head%3E%0A%3Cbody%3E%20%20%20%20%0A%20%20%20%20%0A%20%20%20%20%20%20%20%20%20%20%20%20%3Cdiv%20class%3D%22folium-map%22%20id%3D%22map_45dc48e7942d431d8fa7a7178f889b8d%22%20%3E%3C/div%3E%0A%20%20%20%20%20%20%20%20%0A%3C/body%3E%0A%3Cscript%3E%20%20%20%20%0A%20%20%20%20%0A%20%20%20%20%20%20%20%20%20%20%20%20var%20map_45dc48e7942d431d8fa7a7178f889b8d%20%3D%20L.map%28%0A%20%20%20%20%20%20%20%20%20%20%20%20%20%20%20%20%22map_45dc48e7942d431d8fa7a7178f889b8d%22%2C%0A%20%20%20%20%20%20%20%20%20%20%20%20%20%20%20%20%7B%0A%20%20%20%20%20%20%20%20%20%20%20%20%20%20%20%20%20%20%20%20center%3A%20%5B54.13377%2C%20-162.66527%5D%2C%0A%20%20%20%20%20%20%20%20%20%20%20%20%20%20%20%20%20%20%20%20crs%3A%20L.CRS.EPSG3857%2C%0A%20%20%20%20%20%20%20%20%20%20%20%20%20%20%20%20%20%20%20%20zoom%3A%208%2C%0A%20%20%20%20%20%20%20%20%20%20%20%20%20%20%20%20%20%20%20%20zoomControl%3A%20true%2C%0A%20%20%20%20%20%20%20%20%20%20%20%20%20%20%20%20%20%20%20%20preferCanvas%3A%20false%2C%0A%20%20%20%20%20%20%20%20%20%20%20%20%20%20%20%20%7D%0A%20%20%20%20%20%20%20%20%20%20%20%20%29%3B%0A%0A%20%20%20%20%20%20%20%20%20%20%20%20%0A%0A%20%20%20%20%20%20%20%20%0A%20%20%20%20%0A%20%20%20%20%20%20%20%20%20%20%20%20var%20tile_layer_328309234a794017a139923f3e5a03e3%20%3D%20L.tileLayer%28%0A%20%20%20%20%20%20%20%20%20%20%20%20%20%20%20%20%22https%3A//%7Bs%7D.tile.openstreetmap.org/%7Bz%7D/%7Bx%7D/%7By%7D.png%22%2C%0A%20%20%20%20%20%20%20%20%20%20%20%20%20%20%20%20%7B%22attribution%22%3A%20%22Data%20by%20%5Cu0026copy%3B%20%5Cu003ca%20href%3D%5C%22http%3A//openstreetmap.org%5C%22%5Cu003eOpenStreetMap%5Cu003c/a%5Cu003e%2C%20under%20%5Cu003ca%20href%3D%5C%22http%3A//www.openstreetmap.org/copyright%5C%22%5Cu003eODbL%5Cu003c/a%5Cu003e.%22%2C%20%22detectRetina%22%3A%20false%2C%20%22maxNativeZoom%22%3A%2018%2C%20%22maxZoom%22%3A%2018%2C%20%22minZoom%22%3A%200%2C%20%22noWrap%22%3A%20false%2C%20%22opacity%22%3A%201%2C%20%22subdomains%22%3A%20%22abc%22%2C%20%22tms%22%3A%20false%7D%0A%20%20%20%20%20%20%20%20%20%20%20%20%29.addTo%28map_45dc48e7942d431d8fa7a7178f889b8d%29%3B%0A%20%20%20%20%20%20%20%20%0A%20%20%20%20%0A%20%20%20%20%20%20%20%20%20%20%20%20var%20marker_718f6633649445a6b4f11bd07abf014c%20%3D%20L.marker%28%0A%20%20%20%20%20%20%20%20%20%20%20%20%20%20%20%20%5B54.13377%2C%20-162.66527%5D%2C%0A%20%20%20%20%20%20%20%20%20%20%20%20%20%20%20%20%7B%7D%0A%20%20%20%20%20%20%20%20%20%20%20%20%29.addTo%28map_45dc48e7942d431d8fa7a7178f889b8d%29%3B%0A%20%20%20%20%20%20%20%20%0A%20%20%20%20%0A%20%20%20%20%20%20%20%20var%20popup_53abc28f52974f87a9278b71a9550e7a%20%3D%20L.popup%28%7B%22maxWidth%22%3A%20%22100%25%22%7D%29%3B%0A%0A%20%20%20%20%20%20%20%20%0A%20%20%20%20%20%20%20%20%20%20%20%20var%20html_cc97e5190e344ce0badc534c560c1ea8%20%3D%20%24%28%60%3Cdiv%20id%3D%22html_cc97e5190e344ce0badc534c560c1ea8%22%20style%3D%22width%3A%20100.0%25%3B%20height%3A%20100.0%25%3B%22%3E2017-01-19%3A10-V%3A0%20-%20SOG%3A%2012.7%20-%20Count%3A%201%20%2854.134%2C%20-162.665%29%3C/div%3E%60%29%5B0%5D%3B%0A%20%20%20%20%20%20%20%20%20%20%20%20popup_53abc28f52974f87a9278b71a9550e7a.setContent%28html_cc97e5190e344ce0badc534c560c1ea8%29%3B%0A%20%20%20%20%20%20%20%20%0A%0A%20%20%20%20%20%20%20%20marker_718f6633649445a6b4f11bd07abf014c.bindPopup%28popup_53abc28f52974f87a9278b71a9550e7a%29%0A%20%20%20%20%20%20%20%20%3B%0A%0A%20%20%20%20%20%20%20%20%0A%20%20%20%20%0A%20%20%20%20%0A%20%20%20%20%20%20%20%20%20%20%20%20var%20marker_73589ca76ca54402875a259b6300fe44%20%3D%20L.marker%28%0A%20%20%20%20%20%20%20%20%20%20%20%20%20%20%20%20%5B54.270693333333334%2C%20-164.15272333333334%5D%2C%0A%20%20%20%20%20%20%20%20%20%20%20%20%20%20%20%20%7B%7D%0A%20%20%20%20%20%20%20%20%20%20%20%20%29.addTo%28map_45dc48e7942d431d8fa7a7178f889b8d%29%3B%0A%20%20%20%20%20%20%20%20%0A%20%20%20%20%0A%20%20%20%20%20%20%20%20var%20popup_c9ba30c1b7f64b14bd72f4e086cda900%20%3D%20L.popup%28%7B%22maxWidth%22%3A%20%22100%25%22%7D%29%3B%0A%0A%20%20%20%20%20%20%20%20%0A%20%20%20%20%20%20%20%20%20%20%20%20var%20html_45905b61fe3647959372dc6699be4734%20%3D%20%24%28%60%3Cdiv%20id%3D%22html_45905b61fe3647959372dc6699be4734%22%20style%3D%22width%3A%20100.0%25%3B%20height%3A%20100.0%25%3B%22%3E2017-01-19%3A15-V%3A0%20-%20SOG%3A%2010.9%20-%20Count%3A%203%20%2854.271%2C%20-164.153%29%3C/div%3E%60%29%5B0%5D%3B%0A%20%20%20%20%20%20%20%20%20%20%20%20popup_c9ba30c1b7f64b14bd72f4e086cda900.setContent%28html_45905b61fe3647959372dc6699be4734%29%3B%0A%20%20%20%20%20%20%20%20%0A%0A%20%20%20%20%20%20%20%20marker_73589ca76ca54402875a259b6300fe44.bindPopup%28popup_c9ba30c1b7f64b14bd72f4e086cda900%29%0A%20%20%20%20%20%20%20%20%3B%0A%0A%20%20%20%20%20%20%20%20%0A%20%20%20%20%0A%20%20%20%20%0A%20%20%20%20%20%20%20%20%20%20%20%20var%20marker_1d6d78f1896b4386825c3f588528d234%20%3D%20L.marker%28%0A%20%20%20%20%20%20%20%20%20%20%20%20%20%20%20%20%5B54.295318787878784%2C%20-164.5150081818182%5D%2C%0A%20%20%20%20%20%20%20%20%20%20%20%20%20%20%20%20%7B%7D%0A%20%20%20%20%20%20%20%20%20%20%20%20%29.addTo%28map_45dc48e7942d431d8fa7a7178f889b8d%29%3B%0A%20%20%20%20%20%20%20%20%0A%20%20%20%20%0A%20%20%20%20%20%20%20%20var%20popup_393399575d174614ac8318ea97a1bc63%20%3D%20L.popup%28%7B%22maxWidth%22%3A%20%22100%25%22%7D%29%3B%0A%0A%20%20%20%20%20%20%20%20%0A%20%20%20%20%20%20%20%20%20%20%20%20var%20html_62f8f3e6b9a54c9093d449ae71c4ba7a%20%3D%20%24%28%60%3Cdiv%20id%3D%22html_62f8f3e6b9a54c9093d449ae71c4ba7a%22%20style%3D%22width%3A%20100.0%25%3B%20height%3A%20100.0%25%3B%22%3E2017-01-19%3A16-V%3A0%20-%20SOG%3A%2011.5%20-%20Count%3A%2033%20%2854.295%2C%20-164.515%29%3C/div%3E%60%29%5B0%5D%3B%0A%20%20%20%20%20%20%20%20%20%20%20%20popup_393399575d174614ac8318ea97a1bc63.setContent%28html_62f8f3e6b9a54c9093d449ae71c4ba7a%29%3B%0A%20%20%20%20%20%20%20%20%0A%0A%20%20%20%20%20%20%20%20marker_1d6d78f1896b4386825c3f588528d234.bindPopup%28popup_393399575d174614ac8318ea97a1bc63%29%0A%20%20%20%20%20%20%20%20%3B%0A%0A%20%20%20%20%20%20%20%20%0A%20%20%20%20%0A%20%20%20%20%0A%20%20%20%20%20%20%20%20%20%20%20%20var%20marker_d0e1d7b53d24496ebed48af154bc2522%20%3D%20L.marker%28%0A%20%20%20%20%20%20%20%20%20%20%20%20%20%20%20%20%5B54.33662666666667%2C%20-164.8960772222222%5D%2C%0A%20%20%20%20%20%20%20%20%20%20%20%20%20%20%20%20%7B%7D%0A%20%20%20%20%20%20%20%20%20%20%20%20%29.addTo%28map_45dc48e7942d431d8fa7a7178f889b8d%29%3B%0A%20%20%20%20%20%20%20%20%0A%20%20%20%20%0A%20%20%20%20%20%20%20%20var%20popup_5f5313f284694b51aaa4898f7139a3ce%20%3D%20L.popup%28%7B%22maxWidth%22%3A%20%22100%25%22%7D%29%3B%0A%0A%20%20%20%20%20%20%20%20%0A%20%20%20%20%20%20%20%20%20%20%20%20var%20html_dbb6199b1bae4ceab39dc429558d3782%20%3D%20%24%28%60%3Cdiv%20id%3D%22html_dbb6199b1bae4ceab39dc429558d3782%22%20style%3D%22width%3A%20100.0%25%3B%20height%3A%20100.0%25%3B%22%3E2017-01-19%3A17-V%3A0%20-%20SOG%3A%2013.0%20-%20Count%3A%2036%20%2854.337%2C%20-164.896%29%3C/div%3E%60%29%5B0%5D%3B%0A%20%20%20%20%20%20%20%20%20%20%20%20popup_5f5313f284694b51aaa4898f7139a3ce.setContent%28html_dbb6199b1bae4ceab39dc429558d3782%29%3B%0A%20%20%20%20%20%20%20%20%0A%0A%20%20%20%20%20%20%20%20marker_d0e1d7b53d24496ebed48af154bc2522.bindPopup%28popup_5f5313f284694b51aaa4898f7139a3ce%29%0A%20%20%20%20%20%20%20%20%3B%0A%0A%20%20%20%20%20%20%20%20%0A%20%20%20%20%0A%20%20%20%20%0A%20%20%20%20%20%20%20%20%20%20%20%20var%20marker_9a3dfda7a252425997497e9c0725da91%20%3D%20L.marker%28%0A%20%20%20%20%20%20%20%20%20%20%20%20%20%20%20%20%5B54.36070428571431%2C%20-165.14731367346937%5D%2C%0A%20%20%20%20%20%20%20%20%20%20%20%20%20%20%20%20%7B%7D%0A%20%20%20%20%20%20%20%20%20%20%20%20%29.addTo%28map_45dc48e7942d431d8fa7a7178f889b8d%29%3B%0A%20%20%20%20%20%20%20%20%0A%20%20%20%20%0A%20%20%20%20%20%20%20%20var%20popup_e4ee8d83f616481e92597153bf92e3f6%20%3D%20L.popup%28%7B%22maxWidth%22%3A%20%22100%25%22%7D%29%3B%0A%0A%20%20%20%20%20%20%20%20%0A%20%20%20%20%20%20%20%20%20%20%20%20var%20html_f943b2b132d4437bae39af7602bbb305%20%3D%20%24%28%60%3Cdiv%20id%3D%22html_f943b2b132d4437bae39af7602bbb305%22%20style%3D%22width%3A%20100.0%25%3B%20height%3A%20100.0%25%3B%22%3E2017-01-19%3A18-V%3A0%20-%20SOG%3A%207.8%20-%20Count%3A%2049%20%2854.361%2C%20-165.147%29%3C/div%3E%60%29%5B0%5D%3B%0A%20%20%20%20%20%20%20%20%20%20%20%20popup_e4ee8d83f616481e92597153bf92e3f6.setContent%28html_f943b2b132d4437bae39af7602bbb305%29%3B%0A%20%20%20%20%20%20%20%20%0A%0A%20%20%20%20%20%20%20%20marker_9a3dfda7a252425997497e9c0725da91.bindPopup%28popup_e4ee8d83f616481e92597153bf92e3f6%29%0A%20%20%20%20%20%20%20%20%3B%0A%0A%20%20%20%20%20%20%20%20%0A%20%20%20%20%0A%20%20%20%20%0A%20%20%20%20%20%20%20%20%20%20%20%20var%20marker_b91cc14c1d3c4a598ddd31d03ac257a4%20%3D%20L.marker%28%0A%20%20%20%20%20%20%20%20%20%20%20%20%20%20%20%20%5B54.37358829787234%2C%20-165.35253340425533%5D%2C%0A%20%20%20%20%20%20%20%20%20%20%20%20%20%20%20%20%7B%7D%0A%20%20%20%20%20%20%20%20%20%20%20%20%29.addTo%28map_45dc48e7942d431d8fa7a7178f889b8d%29%3B%0A%20%20%20%20%20%20%20%20%0A%20%20%20%20%0A%20%20%20%20%20%20%20%20var%20popup_1b47343c54f7428c924041ed7868a190%20%3D%20L.popup%28%7B%22maxWidth%22%3A%20%22100%25%22%7D%29%3B%0A%0A%20%20%20%20%20%20%20%20%0A%20%20%20%20%20%20%20%20%20%20%20%20var%20html_d6ff608eb9424348a8f549e179fc031a%20%3D%20%24%28%60%3Cdiv%20id%3D%22html_d6ff608eb9424348a8f549e179fc031a%22%20style%3D%22width%3A%20100.0%25%3B%20height%3A%20100.0%25%3B%22%3E2017-01-19%3A19-V%3A0%20-%20SOG%3A%206.8%20-%20Count%3A%2047%20%2854.374%2C%20-165.353%29%3C/div%3E%60%29%5B0%5D%3B%0A%20%20%20%20%20%20%20%20%20%20%20%20popup_1b47343c54f7428c924041ed7868a190.setContent%28html_d6ff608eb9424348a8f549e179fc031a%29%3B%0A%20%20%20%20%20%20%20%20%0A%0A%20%20%20%20%20%20%20%20marker_b91cc14c1d3c4a598ddd31d03ac257a4.bindPopup%28popup_1b47343c54f7428c924041ed7868a190%29%0A%20%20%20%20%20%20%20%20%3B%0A%0A%20%20%20%20%20%20%20%20%0A%20%20%20%20%0A%20%20%20%20%0A%20%20%20%20%20%20%20%20%20%20%20%20var%20marker_2c421ff6cc8e4fbda5fc3f6c5c8ae8d3%20%3D%20L.marker%28%0A%20%20%20%20%20%20%20%20%20%20%20%20%20%20%20%20%5B54.387542156862736%2C%20-165.54692882352938%5D%2C%0A%20%20%20%20%20%20%20%20%20%20%20%20%20%20%20%20%7B%7D%0A%20%20%20%20%20%20%20%20%20%20%20%20%29.addTo%28map_45dc48e7942d431d8fa7a7178f889b8d%29%3B%0A%20%20%20%20%20%20%20%20%0A%20%20%20%20%0A%20%20%20%20%20%20%20%20var%20popup_0ca14ab24865413a974ab2e68ddc7208%20%3D%20L.popup%28%7B%22maxWidth%22%3A%20%22100%25%22%7D%29%3B%0A%0A%20%20%20%20%20%20%20%20%0A%20%20%20%20%20%20%20%20%20%20%20%20var%20html_f6cadaa718e34acdaae105ef2385fc40%20%3D%20%24%28%60%3Cdiv%20id%3D%22html_f6cadaa718e34acdaae105ef2385fc40%22%20style%3D%22width%3A%20100.0%25%3B%20height%3A%20100.0%25%3B%22%3E2017-01-19%3A20-V%3A0%20-%20SOG%3A%206.6%20-%20Count%3A%2051%20%2854.388%2C%20-165.547%29%3C/div%3E%60%29%5B0%5D%3B%0A%20%20%20%20%20%20%20%20%20%20%20%20popup_0ca14ab24865413a974ab2e68ddc7208.setContent%28html_f6cadaa718e34acdaae105ef2385fc40%29%3B%0A%20%20%20%20%20%20%20%20%0A%0A%20%20%20%20%20%20%20%20marker_2c421ff6cc8e4fbda5fc3f6c5c8ae8d3.bindPopup%28popup_0ca14ab24865413a974ab2e68ddc7208%29%0A%20%20%20%20%20%20%20%20%3B%0A%0A%20%20%20%20%20%20%20%20%0A%20%20%20%20%0A%20%20%20%20%0A%20%20%20%20%20%20%20%20%20%20%20%20var%20marker_1caa1d00c5314d788f69c94aaf18b09c%20%3D%20L.marker%28%0A%20%20%20%20%20%20%20%20%20%20%20%20%20%20%20%20%5B54.416564117647056%2C%20-165.7223384313726%5D%2C%0A%20%20%20%20%20%20%20%20%20%20%20%20%20%20%20%20%7B%7D%0A%20%20%20%20%20%20%20%20%20%20%20%20%29.addTo%28map_45dc48e7942d431d8fa7a7178f889b8d%29%3B%0A%20%20%20%20%20%20%20%20%0A%20%20%20%20%0A%20%20%20%20%20%20%20%20var%20popup_0c14192df36b484085f7f0b47f10161d%20%3D%20L.popup%28%7B%22maxWidth%22%3A%20%22100%25%22%7D%29%3B%0A%0A%20%20%20%20%20%20%20%20%0A%20%20%20%20%20%20%20%20%20%20%20%20var%20html_b27df67201d542a38e609b3c4c866dc7%20%3D%20%24%28%60%3Cdiv%20id%3D%22html_b27df67201d542a38e609b3c4c866dc7%22%20style%3D%22width%3A%20100.0%25%3B%20height%3A%20100.0%25%3B%22%3E2017-01-19%3A21-V%3A0%20-%20SOG%3A%206.1%20-%20Count%3A%2051%20%2854.417%2C%20-165.722%29%3C/div%3E%60%29%5B0%5D%3B%0A%20%20%20%20%20%20%20%20%20%20%20%20popup_0c14192df36b484085f7f0b47f10161d.setContent%28html_b27df67201d542a38e609b3c4c866dc7%29%3B%0A%20%20%20%20%20%20%20%20%0A%0A%20%20%20%20%20%20%20%20marker_1caa1d00c5314d788f69c94aaf18b09c.bindPopup%28popup_0c14192df36b484085f7f0b47f10161d%29%0A%20%20%20%20%20%20%20%20%3B%0A%0A%20%20%20%20%20%20%20%20%0A%20%20%20%20%0A%20%20%20%20%0A%20%20%20%20%20%20%20%20%20%20%20%20var%20marker_7aa7686727bc44e3a9e5836348c4e9aa%20%3D%20L.marker%28%0A%20%20%20%20%20%20%20%20%20%20%20%20%20%20%20%20%5B54.4209825%2C%20-165.9010107692308%5D%2C%0A%20%20%20%20%20%20%20%20%20%20%20%20%20%20%20%20%7B%7D%0A%20%20%20%20%20%20%20%20%20%20%20%20%29.addTo%28map_45dc48e7942d431d8fa7a7178f889b8d%29%3B%0A%20%20%20%20%20%20%20%20%0A%20%20%20%20%0A%20%20%20%20%20%20%20%20var%20popup_7ae727586cc141b294425e7a1a253e18%20%3D%20L.popup%28%7B%22maxWidth%22%3A%20%22100%25%22%7D%29%3B%0A%0A%20%20%20%20%20%20%20%20%0A%20%20%20%20%20%20%20%20%20%20%20%20var%20html_418b038685ef43d0a0f25713018f1f1e%20%3D%20%24%28%60%3Cdiv%20id%3D%22html_418b038685ef43d0a0f25713018f1f1e%22%20style%3D%22width%3A%20100.0%25%3B%20height%3A%20100.0%25%3B%22%3E2017-01-19%3A22-V%3A0%20-%20SOG%3A%207.2%20-%20Count%3A%2052%20%2854.421%2C%20-165.901%29%3C/div%3E%60%29%5B0%5D%3B%0A%20%20%20%20%20%20%20%20%20%20%20%20popup_7ae727586cc141b294425e7a1a253e18.setContent%28html_418b038685ef43d0a0f25713018f1f1e%29%3B%0A%20%20%20%20%20%20%20%20%0A%0A%20%20%20%20%20%20%20%20marker_7aa7686727bc44e3a9e5836348c4e9aa.bindPopup%28popup_7ae727586cc141b294425e7a1a253e18%29%0A%20%20%20%20%20%20%20%20%3B%0A%0A%20%20%20%20%20%20%20%20%0A%20%20%20%20%0A%20%20%20%20%0A%20%20%20%20%20%20%20%20%20%20%20%20var%20marker_05ca65484dd5444a97e8057f7f2d15d6%20%3D%20L.marker%28%0A%20%20%20%20%20%20%20%20%20%20%20%20%20%20%20%20%5B54.42231568627453%2C%20-166.11811411764705%5D%2C%0A%20%20%20%20%20%20%20%20%20%20%20%20%20%20%20%20%7B%7D%0A%20%20%20%20%20%20%20%20%20%20%20%20%29.addTo%28map_45dc48e7942d431d8fa7a7178f889b8d%29%3B%0A%20%20%20%20%20%20%20%20%0A%20%20%20%20%0A%20%20%20%20%20%20%20%20var%20popup_f31fa7d6514d4e25b771a12f91516df1%20%3D%20L.popup%28%7B%22maxWidth%22%3A%20%22100%25%22%7D%29%3B%0A%0A%20%20%20%20%20%20%20%20%0A%20%20%20%20%20%20%20%20%20%20%20%20var%20html_ff2db059bdec4e9abfeada6e682e0b56%20%3D%20%24%28%60%3Cdiv%20id%3D%22html_ff2db059bdec4e9abfeada6e682e0b56%22%20style%3D%22width%3A%20100.0%25%3B%20height%3A%20100.0%25%3B%22%3E2017-01-19%3A23-V%3A0%20-%20SOG%3A%208.0%20-%20Count%3A%2051%20%2854.422%2C%20-166.118%29%3C/div%3E%60%29%5B0%5D%3B%0A%20%20%20%20%20%20%20%20%20%20%20%20popup_f31fa7d6514d4e25b771a12f91516df1.setContent%28html_ff2db059bdec4e9abfeada6e682e0b56%29%3B%0A%20%20%20%20%20%20%20%20%0A%0A%20%20%20%20%20%20%20%20marker_05ca65484dd5444a97e8057f7f2d15d6.bindPopup%28popup_f31fa7d6514d4e25b771a12f91516df1%29%0A%20%20%20%20%20%20%20%20%3B%0A%0A%20%20%20%20%20%20%20%20%0A%20%20%20%20%0A%20%20%20%20%0A%20%20%20%20%20%20%20%20%20%20%20%20var%20marker_4229ef8796d64b0198a9964d425be1d2%20%3D%20L.marker%28%0A%20%20%20%20%20%20%20%20%20%20%20%20%20%20%20%20%5B54.438696400000005%2C%20-166.3484252%5D%2C%0A%20%20%20%20%20%20%20%20%20%20%20%20%20%20%20%20%7B%7D%0A%20%20%20%20%20%20%20%20%20%20%20%20%29.addTo%28map_45dc48e7942d431d8fa7a7178f889b8d%29%3B%0A%20%20%20%20%20%20%20%20%0A%20%20%20%20%0A%20%20%20%20%20%20%20%20var%20popup_0b53d457228944b085c1e2ff5a74e8a3%20%3D%20L.popup%28%7B%22maxWidth%22%3A%20%22100%25%22%7D%29%3B%0A%0A%20%20%20%20%20%20%20%20%0A%20%20%20%20%20%20%20%20%20%20%20%20var%20html_4b4aadc4205d43f0b432d513ecd161cd%20%3D%20%24%28%60%3Cdiv%20id%3D%22html_4b4aadc4205d43f0b432d513ecd161cd%22%20style%3D%22width%3A%20100.0%25%3B%20height%3A%20100.0%25%3B%22%3E2017-01-20%3A0-V%3A0%20-%20SOG%3A%208.3%20-%20Count%3A%2050%20%2854.439%2C%20-166.348%29%3C/div%3E%60%29%5B0%5D%3B%0A%20%20%20%20%20%20%20%20%20%20%20%20popup_0b53d457228944b085c1e2ff5a74e8a3.setContent%28html_4b4aadc4205d43f0b432d513ecd161cd%29%3B%0A%20%20%20%20%20%20%20%20%0A%0A%20%20%20%20%20%20%20%20marker_4229ef8796d64b0198a9964d425be1d2.bindPopup%28popup_0b53d457228944b085c1e2ff5a74e8a3%29%0A%20%20%20%20%20%20%20%20%3B%0A%0A%20%20%20%20%20%20%20%20%0A%20%20%20%20%0A%20%20%20%20%0A%20%20%20%20%20%20%20%20%20%20%20%20var%20marker_2c2879e4eed54368b08fff343ff1fa10%20%3D%20L.marker%28%0A%20%20%20%20%20%20%20%20%20%20%20%20%20%20%20%20%5B54.46341057692307%2C%20-166.5899173076923%5D%2C%0A%20%20%20%20%20%20%20%20%20%20%20%20%20%20%20%20%7B%7D%0A%20%20%20%20%20%20%20%20%20%20%20%20%29.addTo%28map_45dc48e7942d431d8fa7a7178f889b8d%29%3B%0A%20%20%20%20%20%20%20%20%0A%20%20%20%20%0A%20%20%20%20%20%20%20%20var%20popup_4a4a339ec85542dbbf93268c3c594782%20%3D%20L.popup%28%7B%22maxWidth%22%3A%20%22100%25%22%7D%29%3B%0A%0A%20%20%20%20%20%20%20%20%0A%20%20%20%20%20%20%20%20%20%20%20%20var%20html_f0b2007e70564fa6ac3e3d0d35f3154b%20%3D%20%24%28%60%3Cdiv%20id%3D%22html_f0b2007e70564fa6ac3e3d0d35f3154b%22%20style%3D%22width%3A%20100.0%25%3B%20height%3A%20100.0%25%3B%22%3E2017-01-20%3A1-V%3A0%20-%20SOG%3A%208.9%20-%20Count%3A%2052%20%2854.463%2C%20-166.59%29%3C/div%3E%60%29%5B0%5D%3B%0A%20%20%20%20%20%20%20%20%20%20%20%20popup_4a4a339ec85542dbbf93268c3c594782.setContent%28html_f0b2007e70564fa6ac3e3d0d35f3154b%29%3B%0A%20%20%20%20%20%20%20%20%0A%0A%20%20%20%20%20%20%20%20marker_2c2879e4eed54368b08fff343ff1fa10.bindPopup%28popup_4a4a339ec85542dbbf93268c3c594782%29%0A%20%20%20%20%20%20%20%20%3B%0A%0A%20%20%20%20%20%20%20%20%0A%20%20%20%20%0A%20%20%20%20%0A%20%20%20%20%20%20%20%20%20%20%20%20var%20marker_1a0705cc39124d6791e8a2062cc9d7f0%20%3D%20L.marker%28%0A%20%20%20%20%20%20%20%20%20%20%20%20%20%20%20%20%5B54.480651200000004%2C%20-166.84868120000002%5D%2C%0A%20%20%20%20%20%20%20%20%20%20%20%20%20%20%20%20%7B%7D%0A%20%20%20%20%20%20%20%20%20%20%20%20%29.addTo%28map_45dc48e7942d431d8fa7a7178f889b8d%29%3B%0A%20%20%20%20%20%20%20%20%0A%20%20%20%20%0A%20%20%20%20%20%20%20%20var%20popup_e4aac01bc56c42ca8c175af384857911%20%3D%20L.popup%28%7B%22maxWidth%22%3A%20%22100%25%22%7D%29%3B%0A%0A%20%20%20%20%20%20%20%20%0A%20%20%20%20%20%20%20%20%20%20%20%20var%20html_48776889a32d4e7398be5368dbf98ae7%20%3D%20%24%28%60%3Cdiv%20id%3D%22html_48776889a32d4e7398be5368dbf98ae7%22%20style%3D%22width%3A%20100.0%25%3B%20height%3A%20100.0%25%3B%22%3E2017-01-20%3A2-V%3A0%20-%20SOG%3A%209.5%20-%20Count%3A%2050%20%2854.481%2C%20-166.849%29%3C/div%3E%60%29%5B0%5D%3B%0A%20%20%20%20%20%20%20%20%20%20%20%20popup_e4aac01bc56c42ca8c175af384857911.setContent%28html_48776889a32d4e7398be5368dbf98ae7%29%3B%0A%20%20%20%20%20%20%20%20%0A%0A%20%20%20%20%20%20%20%20marker_1a0705cc39124d6791e8a2062cc9d7f0.bindPopup%28popup_e4aac01bc56c42ca8c175af384857911%29%0A%20%20%20%20%20%20%20%20%3B%0A%0A%20%20%20%20%20%20%20%20%0A%20%20%20%20%0A%20%20%20%20%0A%20%20%20%20%20%20%20%20%20%20%20%20var%20marker_aa06341afb0a435fa8b78cb77c14cef0%20%3D%20L.marker%28%0A%20%20%20%20%20%20%20%20%20%20%20%20%20%20%20%20%5B54.49669333333333%2C%20-167.11523416666662%5D%2C%0A%20%20%20%20%20%20%20%20%20%20%20%20%20%20%20%20%7B%7D%0A%20%20%20%20%20%20%20%20%20%20%20%20%29.addTo%28map_45dc48e7942d431d8fa7a7178f889b8d%29%3B%0A%20%20%20%20%20%20%20%20%0A%20%20%20%20%0A%20%20%20%20%20%20%20%20var%20popup_c2dcdd26da80498b9e9b31d70f98807a%20%3D%20L.popup%28%7B%22maxWidth%22%3A%20%22100%25%22%7D%29%3B%0A%0A%20%20%20%20%20%20%20%20%0A%20%20%20%20%20%20%20%20%20%20%20%20var%20html_497821a7a49e46f8b18435e4b9637710%20%3D%20%24%28%60%3Cdiv%20id%3D%22html_497821a7a49e46f8b18435e4b9637710%22%20style%3D%22width%3A%20100.0%25%3B%20height%3A%20100.0%25%3B%22%3E2017-01-20%3A3-V%3A0%20-%20SOG%3A%209.1%20-%20Count%3A%2048%20%2854.497%2C%20-167.115%29%3C/div%3E%60%29%5B0%5D%3B%0A%20%20%20%20%20%20%20%20%20%20%20%20popup_c2dcdd26da80498b9e9b31d70f98807a.setContent%28html_497821a7a49e46f8b18435e4b9637710%29%3B%0A%20%20%20%20%20%20%20%20%0A%0A%20%20%20%20%20%20%20%20marker_aa06341afb0a435fa8b78cb77c14cef0.bindPopup%28popup_c2dcdd26da80498b9e9b31d70f98807a%29%0A%20%20%20%20%20%20%20%20%3B%0A%0A%20%20%20%20%20%20%20%20%0A%20%20%20%20%0A%20%20%20%20%0A%20%20%20%20%20%20%20%20%20%20%20%20var%20marker_3eac72cb29c14786990bd7dc22e48939%20%3D%20L.marker%28%0A%20%20%20%20%20%20%20%20%20%20%20%20%20%20%20%20%5B54.510070799999994%2C%20-167.36803360000002%5D%2C%0A%20%20%20%20%20%20%20%20%20%20%20%20%20%20%20%20%7B%7D%0A%20%20%20%20%20%20%20%20%20%20%20%20%29.addTo%28map_45dc48e7942d431d8fa7a7178f889b8d%29%3B%0A%20%20%20%20%20%20%20%20%0A%20%20%20%20%0A%20%20%20%20%20%20%20%20var%20popup_8bad0776e7544c1e9f7e5706b71e1a21%20%3D%20L.popup%28%7B%22maxWidth%22%3A%20%22100%25%22%7D%29%3B%0A%0A%20%20%20%20%20%20%20%20%0A%20%20%20%20%20%20%20%20%20%20%20%20var%20html_a101c38a76b143319a8dc69561623544%20%3D%20%24%28%60%3Cdiv%20id%3D%22html_a101c38a76b143319a8dc69561623544%22%20style%3D%22width%3A%20100.0%25%3B%20height%3A%20100.0%25%3B%22%3E2017-01-20%3A4-V%3A0%20-%20SOG%3A%208.9%20-%20Count%3A%2050%20%2854.51%2C%20-167.368%29%3C/div%3E%60%29%5B0%5D%3B%0A%20%20%20%20%20%20%20%20%20%20%20%20popup_8bad0776e7544c1e9f7e5706b71e1a21.setContent%28html_a101c38a76b143319a8dc69561623544%29%3B%0A%20%20%20%20%20%20%20%20%0A%0A%20%20%20%20%20%20%20%20marker_3eac72cb29c14786990bd7dc22e48939.bindPopup%28popup_8bad0776e7544c1e9f7e5706b71e1a21%29%0A%20%20%20%20%20%20%20%20%3B%0A%0A%20%20%20%20%20%20%20%20%0A%20%20%20%20%0A%20%20%20%20%0A%20%20%20%20%20%20%20%20%20%20%20%20var%20marker_988adada39a5428fb90a4f57fec6bd63%20%3D%20L.marker%28%0A%20%20%20%20%20%20%20%20%20%20%20%20%20%20%20%20%5B54.52758883720931%2C%20-167.62539441860466%5D%2C%0A%20%20%20%20%20%20%20%20%20%20%20%20%20%20%20%20%7B%7D%0A%20%20%20%20%20%20%20%20%20%20%20%20%29.addTo%28map_45dc48e7942d431d8fa7a7178f889b8d%29%3B%0A%20%20%20%20%20%20%20%20%0A%20%20%20%20%0A%20%20%20%20%20%20%20%20var%20popup_56af51808f414a4dad1785484d65e9f6%20%3D%20L.popup%28%7B%22maxWidth%22%3A%20%22100%25%22%7D%29%3B%0A%0A%20%20%20%20%20%20%20%20%0A%20%20%20%20%20%20%20%20%20%20%20%20var%20html_0113863ca02949c2a65bae068cbba750%20%3D%20%24%28%60%3Cdiv%20id%3D%22html_0113863ca02949c2a65bae068cbba750%22%20style%3D%22width%3A%20100.0%25%3B%20height%3A%20100.0%25%3B%22%3E2017-01-20%3A5-V%3A0%20-%20SOG%3A%209.3%20-%20Count%3A%2043%20%2854.528%2C%20-167.625%29%3C/div%3E%60%29%5B0%5D%3B%0A%20%20%20%20%20%20%20%20%20%20%20%20popup_56af51808f414a4dad1785484d65e9f6.setContent%28html_0113863ca02949c2a65bae068cbba750%29%3B%0A%20%20%20%20%20%20%20%20%0A%0A%20%20%20%20%20%20%20%20marker_988adada39a5428fb90a4f57fec6bd63.bindPopup%28popup_56af51808f414a4dad1785484d65e9f6%29%0A%20%20%20%20%20%20%20%20%3B%0A%0A%20%20%20%20%20%20%20%20%0A%20%20%20%20%0A%20%20%20%20%0A%20%20%20%20%20%20%20%20%20%20%20%20var%20marker_da4f8e0d10704ec5a5cd39e51936aa79%20%3D%20L.marker%28%0A%20%20%20%20%20%20%20%20%20%20%20%20%20%20%20%20%5B54.54301222222224%2C%20-167.89173822222224%5D%2C%0A%20%20%20%20%20%20%20%20%20%20%20%20%20%20%20%20%7B%7D%0A%20%20%20%20%20%20%20%20%20%20%20%20%29.addTo%28map_45dc48e7942d431d8fa7a7178f889b8d%29%3B%0A%20%20%20%20%20%20%20%20%0A%20%20%20%20%0A%20%20%20%20%20%20%20%20var%20popup_be00be52c7fa410e9decbee7d3f601dc%20%3D%20L.popup%28%7B%22maxWidth%22%3A%20%22100%25%22%7D%29%3B%0A%0A%20%20%20%20%20%20%20%20%0A%20%20%20%20%20%20%20%20%20%20%20%20var%20html_f26db881ba5f4e348a0436d503fa9aa7%20%3D%20%24%28%60%3Cdiv%20id%3D%22html_f26db881ba5f4e348a0436d503fa9aa7%22%20style%3D%22width%3A%20100.0%25%3B%20height%3A%20100.0%25%3B%22%3E2017-01-20%3A6-V%3A0%20-%20SOG%3A%209.2%20-%20Count%3A%2045%20%2854.543%2C%20-167.892%29%3C/div%3E%60%29%5B0%5D%3B%0A%20%20%20%20%20%20%20%20%20%20%20%20popup_be00be52c7fa410e9decbee7d3f601dc.setContent%28html_f26db881ba5f4e348a0436d503fa9aa7%29%3B%0A%20%20%20%20%20%20%20%20%0A%0A%20%20%20%20%20%20%20%20marker_da4f8e0d10704ec5a5cd39e51936aa79.bindPopup%28popup_be00be52c7fa410e9decbee7d3f601dc%29%0A%20%20%20%20%20%20%20%20%3B%0A%0A%20%20%20%20%20%20%20%20%0A%20%20%20%20%0A%20%20%20%20%0A%20%20%20%20%20%20%20%20%20%20%20%20var%20marker_297c3983cc6a4a4ba8b306a91d6c4064%20%3D%20L.marker%28%0A%20%20%20%20%20%20%20%20%20%20%20%20%20%20%20%20%5B54.55043499999999%2C%20-168.18490649999998%5D%2C%0A%20%20%20%20%20%20%20%20%20%20%20%20%20%20%20%20%7B%7D%0A%20%20%20%20%20%20%20%20%20%20%20%20%29.addTo%28map_45dc48e7942d431d8fa7a7178f889b8d%29%3B%0A%20%20%20%20%20%20%20%20%0A%20%20%20%20%0A%20%20%20%20%20%20%20%20var%20popup_f1163d706cee4b909fa5c8b76632ba32%20%3D%20L.popup%28%7B%22maxWidth%22%3A%20%22100%25%22%7D%29%3B%0A%0A%20%20%20%20%20%20%20%20%0A%20%20%20%20%20%20%20%20%20%20%20%20var%20html_32c98994ccbc4f88b6a8257a9e46a7bb%20%3D%20%24%28%60%3Cdiv%20id%3D%22html_32c98994ccbc4f88b6a8257a9e46a7bb%22%20style%3D%22width%3A%20100.0%25%3B%20height%3A%20100.0%25%3B%22%3E2017-01-20%3A7-V%3A0%20-%20SOG%3A%208.9%20-%20Count%3A%2020%20%2854.55%2C%20-168.185%29%3C/div%3E%60%29%5B0%5D%3B%0A%20%20%20%20%20%20%20%20%20%20%20%20popup_f1163d706cee4b909fa5c8b76632ba32.setContent%28html_32c98994ccbc4f88b6a8257a9e46a7bb%29%3B%0A%20%20%20%20%20%20%20%20%0A%0A%20%20%20%20%20%20%20%20marker_297c3983cc6a4a4ba8b306a91d6c4064.bindPopup%28popup_f1163d706cee4b909fa5c8b76632ba32%29%0A%20%20%20%20%20%20%20%20%3B%0A%0A%20%20%20%20%20%20%20%20%0A%20%20%20%20%0A%20%20%20%20%0A%20%20%20%20%20%20%20%20%20%20%20%20var%20marker_6cf7f63452454b889d15d6d2312b4441%20%3D%20L.marker%28%0A%20%20%20%20%20%20%20%20%20%20%20%20%20%20%20%20%5B54.564104%2C%20-168.38303733333336%5D%2C%0A%20%20%20%20%20%20%20%20%20%20%20%20%20%20%20%20%7B%7D%0A%20%20%20%20%20%20%20%20%20%20%20%20%29.addTo%28map_45dc48e7942d431d8fa7a7178f889b8d%29%3B%0A%20%20%20%20%20%20%20%20%0A%20%20%20%20%0A%20%20%20%20%20%20%20%20var%20popup_d7c18a283b8a46a7bf0710d2820d39ba%20%3D%20L.popup%28%7B%22maxWidth%22%3A%20%22100%25%22%7D%29%3B%0A%0A%20%20%20%20%20%20%20%20%0A%20%20%20%20%20%20%20%20%20%20%20%20var%20html_93fff1fa34504a2fbcfae92a00cdb196%20%3D%20%24%28%60%3Cdiv%20id%3D%22html_93fff1fa34504a2fbcfae92a00cdb196%22%20style%3D%22width%3A%20100.0%25%3B%20height%3A%20100.0%25%3B%22%3E2017-01-20%3A8-V%3A0%20-%20SOG%3A%208.9%20-%20Count%3A%2015%20%2854.564%2C%20-168.383%29%3C/div%3E%60%29%5B0%5D%3B%0A%20%20%20%20%20%20%20%20%20%20%20%20popup_d7c18a283b8a46a7bf0710d2820d39ba.setContent%28html_93fff1fa34504a2fbcfae92a00cdb196%29%3B%0A%20%20%20%20%20%20%20%20%0A%0A%20%20%20%20%20%20%20%20marker_6cf7f63452454b889d15d6d2312b4441.bindPopup%28popup_d7c18a283b8a46a7bf0710d2820d39ba%29%0A%20%20%20%20%20%20%20%20%3B%0A%0A%20%20%20%20%20%20%20%20%0A%20%20%20%20%0A%20%20%20%20%0A%20%20%20%20%20%20%20%20%20%20%20%20var%20marker_4510ad10a9fc4591a122091f2b14c933%20%3D%20L.marker%28%0A%20%20%20%20%20%20%20%20%20%20%20%20%20%20%20%20%5B54.66813000000001%2C%20-174.01128%5D%2C%0A%20%20%20%20%20%20%20%20%20%20%20%20%20%20%20%20%7B%7D%0A%20%20%20%20%20%20%20%20%20%20%20%20%29.addTo%28map_45dc48e7942d431d8fa7a7178f889b8d%29%3B%0A%20%20%20%20%20%20%20%20%0A%20%20%20%20%0A%20%20%20%20%20%20%20%20var%20popup_f97a5eba769c43398f148b631195361e%20%3D%20L.popup%28%7B%22maxWidth%22%3A%20%22100%25%22%7D%29%3B%0A%0A%20%20%20%20%20%20%20%20%0A%20%20%20%20%20%20%20%20%20%20%20%20var%20html_d1da399962234f39bd147414562b0bc9%20%3D%20%24%28%60%3Cdiv%20id%3D%22html_d1da399962234f39bd147414562b0bc9%22%20style%3D%22width%3A%20100.0%25%3B%20height%3A%20100.0%25%3B%22%3E2017-01-21%3A4-V%3A0%20-%20SOG%3A%2010.4%20-%20Count%3A%201%20%2854.668%2C%20-174.011%29%3C/div%3E%60%29%5B0%5D%3B%0A%20%20%20%20%20%20%20%20%20%20%20%20popup_f97a5eba769c43398f148b631195361e.setContent%28html_d1da399962234f39bd147414562b0bc9%29%3B%0A%20%20%20%20%20%20%20%20%0A%0A%20%20%20%20%20%20%20%20marker_4510ad10a9fc4591a122091f2b14c933.bindPopup%28popup_f97a5eba769c43398f148b631195361e%29%0A%20%20%20%20%20%20%20%20%3B%0A%0A%20%20%20%20%20%20%20%20%0A%20%20%20%20%0A%3C/script%3E onload=\"this.contentDocument.open();this.contentDocument.write(    decodeURIComponent(this.getAttribute('data-html')));this.contentDocument.close();\" allowfullscreen webkitallowfullscreen mozallowfullscreen></iframe></div></div>"
      ],
      "text/plain": [
       "<folium.folium.Map at 0x7fc43307f4e0>"
      ]
     },
     "execution_count": 23,
     "metadata": {},
     "output_type": "execute_result"
    }
   ],
   "source": [
    "# Plot just the Hourly Sampling Pings Coordinates\n",
    "X = sampling\n",
    "\n",
    "MapCoordinates = X[['latitude', 'longitude']].values\n",
    "PopupText = X.Text.values \n",
    "\n",
    "mapit = folium.Map(location=MapCoordinates[0], zoom_start=8)\n",
    "\n",
    "for index in range(0, len(MapCoordinates)):\n",
    "    folium.Marker(MapCoordinates[index], popup=PopupText[index]).add_to(mapit)  #, popup=PopupText[index]\n",
    "    \n",
    "# mapit.save( 'map.html')\n",
    "mapit"
   ]
  },
  {
   "cell_type": "code",
   "execution_count": 24,
   "metadata": {},
   "outputs": [],
   "source": [
    "# # ********* Plot all coordinates; Very slow might need filtering to reduce points\n",
    "# X = df  #.head()\n",
    "\n",
    "# MapCoordinates = X[['latitude', 'longitude']].values\n",
    "# mapit = folium.Map(location=MapCoordinates[0], zoom_start=8)\n",
    "\n",
    "# for index in range(0, len(MapCoordinates)):\n",
    "#     folium.Marker(MapCoordinates[index]).add_to(mapit)  #, popup=PopupText[index]\n",
    "    \n",
    "# # mapit.save( 'map.html')\n",
    "# mapit"
   ]
  },
  {
   "cell_type": "code",
   "execution_count": null,
   "metadata": {},
   "outputs": [],
   "source": []
  }
 ],
 "metadata": {
  "kernelspec": {
   "display_name": "Python 3",
   "language": "python",
   "name": "python3"
  },
  "language_info": {
   "codemirror_mode": {
    "name": "ipython",
    "version": 3
   },
   "file_extension": ".py",
   "mimetype": "text/x-python",
   "name": "python",
   "nbconvert_exporter": "python",
   "pygments_lexer": "ipython3",
   "version": "3.7.2"
  }
 },
 "nbformat": 4,
 "nbformat_minor": 4
}
