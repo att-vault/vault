{
 "cells": [
  {
   "cell_type": "markdown",
   "metadata": {},
   "source": [
    "## AIS Analyze Vessel Clusters"
   ]
  },
  {
   "cell_type": "code",
   "execution_count": 1,
   "metadata": {},
   "outputs": [],
   "source": [
    "# from IPython.display import Image, HTML\n",
    "import os\n",
    "import numpy as np\n",
    "import pandas as pd\n",
    "import datetime\n",
    "import warnings\n",
    "from glob import glob\n",
    "\n",
    "warnings.filterwarnings(\"ignore\")           # Suppress Warning"
   ]
  },
  {
   "cell_type": "code",
   "execution_count": 2,
   "metadata": {},
   "outputs": [],
   "source": [
    "WorkingFolder = \"/Users/cv0361/Desktop/TechChallenge/Data/csv/AIS_Processed/\""
   ]
  },
  {
   "cell_type": "code",
   "execution_count": 3,
   "metadata": {},
   "outputs": [],
   "source": [
    "OutputDir = \"/Users/cv0361/Desktop/TechChallenge/Data/csv/ValidAIS/\""
   ]
  },
  {
   "cell_type": "markdown",
   "metadata": {},
   "source": [
    "### Load Broadcast Data"
   ]
  },
  {
   "cell_type": "code",
   "execution_count": 7,
   "metadata": {},
   "outputs": [
    {
     "data": {
      "text/html": [
       "<div>\n",
       "<style scoped>\n",
       "    .dataframe tbody tr th:only-of-type {\n",
       "        vertical-align: middle;\n",
       "    }\n",
       "\n",
       "    .dataframe tbody tr th {\n",
       "        vertical-align: top;\n",
       "    }\n",
       "\n",
       "    .dataframe thead th {\n",
       "        text-align: right;\n",
       "    }\n",
       "</style>\n",
       "<table border=\"1\" class=\"dataframe\">\n",
       "  <thead>\n",
       "    <tr style=\"text-align: right;\">\n",
       "      <th></th>\n",
       "      <th>MMSI</th>\n",
       "      <th>BaseDateTime</th>\n",
       "      <th>LAT</th>\n",
       "      <th>LON</th>\n",
       "      <th>SOG</th>\n",
       "      <th>COG</th>\n",
       "      <th>Heading</th>\n",
       "      <th>VesselName</th>\n",
       "      <th>IMO</th>\n",
       "      <th>CallSign</th>\n",
       "      <th>VesselType</th>\n",
       "      <th>Status</th>\n",
       "      <th>Length</th>\n",
       "      <th>Width</th>\n",
       "      <th>Draft</th>\n",
       "      <th>Cargo</th>\n",
       "    </tr>\n",
       "  </thead>\n",
       "  <tbody>\n",
       "    <tr>\n",
       "      <td>0</td>\n",
       "      <td>564294000</td>\n",
       "      <td>2017-01-01T00:00:00</td>\n",
       "      <td>54.47611</td>\n",
       "      <td>-167.27802</td>\n",
       "      <td>10.1</td>\n",
       "      <td>-130.7</td>\n",
       "      <td>274.0</td>\n",
       "      <td>PEGASUS OCEAN</td>\n",
       "      <td>IMO9736963</td>\n",
       "      <td>9V2597</td>\n",
       "      <td>1004.0</td>\n",
       "      <td>under way using engine</td>\n",
       "      <td>174.53</td>\n",
       "      <td>NaN</td>\n",
       "      <td>NaN</td>\n",
       "      <td>NaN</td>\n",
       "    </tr>\n",
       "    <tr>\n",
       "      <td>1</td>\n",
       "      <td>564294000</td>\n",
       "      <td>2017-01-01T00:02:10</td>\n",
       "      <td>54.47709</td>\n",
       "      <td>-167.28815</td>\n",
       "      <td>10.0</td>\n",
       "      <td>-132.3</td>\n",
       "      <td>273.0</td>\n",
       "      <td>PEGASUS OCEAN</td>\n",
       "      <td>IMO9736963</td>\n",
       "      <td>9V2597</td>\n",
       "      <td>1004.0</td>\n",
       "      <td>under way using engine</td>\n",
       "      <td>174.53</td>\n",
       "      <td>NaN</td>\n",
       "      <td>NaN</td>\n",
       "      <td>NaN</td>\n",
       "    </tr>\n",
       "    <tr>\n",
       "      <td>2</td>\n",
       "      <td>367373760</td>\n",
       "      <td>2017-01-01T00:03:41</td>\n",
       "      <td>53.87792</td>\n",
       "      <td>-166.54954</td>\n",
       "      <td>0.0</td>\n",
       "      <td>-104.7</td>\n",
       "      <td>324.0</td>\n",
       "      <td>NORTH SEA</td>\n",
       "      <td>IMO7915905</td>\n",
       "      <td>WDE5954</td>\n",
       "      <td>1001.0</td>\n",
       "      <td>undefined</td>\n",
       "      <td>37.32</td>\n",
       "      <td>9.56</td>\n",
       "      <td>NaN</td>\n",
       "      <td>NaN</td>\n",
       "    </tr>\n",
       "    <tr>\n",
       "      <td>3</td>\n",
       "      <td>367094420</td>\n",
       "      <td>2017-01-01T00:04:44</td>\n",
       "      <td>53.87947</td>\n",
       "      <td>-166.54099</td>\n",
       "      <td>0.0</td>\n",
       "      <td>-126.7</td>\n",
       "      <td>511.0</td>\n",
       "      <td>ARCTIC MARINER</td>\n",
       "      <td>IMO7926605</td>\n",
       "      <td>WDC8874</td>\n",
       "      <td>1001.0</td>\n",
       "      <td>under way using engine</td>\n",
       "      <td>31.00</td>\n",
       "      <td>9.28</td>\n",
       "      <td>NaN</td>\n",
       "      <td>30.0</td>\n",
       "    </tr>\n",
       "    <tr>\n",
       "      <td>4</td>\n",
       "      <td>564294000</td>\n",
       "      <td>2017-01-01T00:06:50</td>\n",
       "      <td>54.47952</td>\n",
       "      <td>-167.30954</td>\n",
       "      <td>9.4</td>\n",
       "      <td>-124.5</td>\n",
       "      <td>276.0</td>\n",
       "      <td>PEGASUS OCEAN</td>\n",
       "      <td>IMO9736963</td>\n",
       "      <td>9V2597</td>\n",
       "      <td>1004.0</td>\n",
       "      <td>under way using engine</td>\n",
       "      <td>174.53</td>\n",
       "      <td>NaN</td>\n",
       "      <td>NaN</td>\n",
       "      <td>NaN</td>\n",
       "    </tr>\n",
       "  </tbody>\n",
       "</table>\n",
       "</div>"
      ],
      "text/plain": [
       "        MMSI         BaseDateTime       LAT        LON   SOG    COG  Heading  \\\n",
       "0  564294000  2017-01-01T00:00:00  54.47611 -167.27802  10.1 -130.7    274.0   \n",
       "1  564294000  2017-01-01T00:02:10  54.47709 -167.28815  10.0 -132.3    273.0   \n",
       "2  367373760  2017-01-01T00:03:41  53.87792 -166.54954   0.0 -104.7    324.0   \n",
       "3  367094420  2017-01-01T00:04:44  53.87947 -166.54099   0.0 -126.7    511.0   \n",
       "4  564294000  2017-01-01T00:06:50  54.47952 -167.30954   9.4 -124.5    276.0   \n",
       "\n",
       "       VesselName         IMO CallSign  VesselType                  Status  \\\n",
       "0   PEGASUS OCEAN  IMO9736963   9V2597      1004.0  under way using engine   \n",
       "1   PEGASUS OCEAN  IMO9736963   9V2597      1004.0  under way using engine   \n",
       "2       NORTH SEA  IMO7915905  WDE5954      1001.0               undefined   \n",
       "3  ARCTIC MARINER  IMO7926605  WDC8874      1001.0  under way using engine   \n",
       "4   PEGASUS OCEAN  IMO9736963   9V2597      1004.0  under way using engine   \n",
       "\n",
       "   Length  Width  Draft  Cargo  \n",
       "0  174.53    NaN    NaN    NaN  \n",
       "1  174.53    NaN    NaN    NaN  \n",
       "2   37.32   9.56    NaN    NaN  \n",
       "3   31.00   9.28    NaN   30.0  \n",
       "4  174.53    NaN    NaN    NaN  "
      ]
     },
     "execution_count": 7,
     "metadata": {},
     "output_type": "execute_result"
    }
   ],
   "source": [
    "folder = WorkingFolder + \"Zone03_2017_01/\"\n",
    "\n",
    "Broadcast = pd.read_csv(\"/Users/cv0361/Desktop/TechChallenge/Data/csv/AIS/AIS_2017_01_Zone03.csv\", sep=\",\")\n",
    "Broadcast.head()"
   ]
  },
  {
   "cell_type": "code",
   "execution_count": 8,
   "metadata": {},
   "outputs": [
    {
     "name": "stdout",
     "output_type": "stream",
     "text": [
      "Raw Count: 2914245\n"
     ]
    }
   ],
   "source": [
    "print(\"Raw Count:\", Broadcast.shape[0])"
   ]
  },
  {
   "cell_type": "code",
   "execution_count": null,
   "metadata": {},
   "outputs": [],
   "source": []
  },
  {
   "cell_type": "markdown",
   "metadata": {},
   "source": [
    "### K-means\n",
    "* https://github.com/JosephMagiya/Clustering-GPS-Co-ordinates--Forming-Regions./blob/master/Clustering-GPS-Co-ordinates--Forming-Regions.ipynb"
   ]
  },
  {
   "cell_type": "code",
   "execution_count": 9,
   "metadata": {},
   "outputs": [],
   "source": [
    "import matplotlib.pyplot as plt\n",
    "from sklearn.cluster import KMeans\n",
    "import seaborn as sns; sns.set()"
   ]
  },
  {
   "cell_type": "code",
   "execution_count": 83,
   "metadata": {},
   "outputs": [
    {
     "data": {
      "text/html": [
       "<div>\n",
       "<style scoped>\n",
       "    .dataframe tbody tr th:only-of-type {\n",
       "        vertical-align: middle;\n",
       "    }\n",
       "\n",
       "    .dataframe tbody tr th {\n",
       "        vertical-align: top;\n",
       "    }\n",
       "\n",
       "    .dataframe thead th {\n",
       "        text-align: right;\n",
       "    }\n",
       "</style>\n",
       "<table border=\"1\" class=\"dataframe\">\n",
       "  <thead>\n",
       "    <tr style=\"text-align: right;\">\n",
       "      <th></th>\n",
       "      <th>BaseDateTime</th>\n",
       "      <th>latitude</th>\n",
       "      <th>longitude</th>\n",
       "    </tr>\n",
       "  </thead>\n",
       "  <tbody>\n",
       "    <tr>\n",
       "      <td>136130</td>\n",
       "      <td>2017-01-03T05:57:41</td>\n",
       "      <td>55.01475</td>\n",
       "      <td>-162.01318</td>\n",
       "    </tr>\n",
       "    <tr>\n",
       "      <td>136145</td>\n",
       "      <td>2017-01-03T06:04:21</td>\n",
       "      <td>55.01302</td>\n",
       "      <td>-162.03377</td>\n",
       "    </tr>\n",
       "    <tr>\n",
       "      <td>136146</td>\n",
       "      <td>2017-01-03T06:12:41</td>\n",
       "      <td>55.01139</td>\n",
       "      <td>-162.05807</td>\n",
       "    </tr>\n",
       "    <tr>\n",
       "      <td>137368</td>\n",
       "      <td>2017-01-03T06:01:20</td>\n",
       "      <td>55.01364</td>\n",
       "      <td>-162.02439</td>\n",
       "    </tr>\n",
       "    <tr>\n",
       "      <td>137369</td>\n",
       "      <td>2017-01-03T06:18:01</td>\n",
       "      <td>55.01059</td>\n",
       "      <td>-162.07248</td>\n",
       "    </tr>\n",
       "  </tbody>\n",
       "</table>\n",
       "</div>"
      ],
      "text/plain": [
       "               BaseDateTime  latitude  longitude\n",
       "136130  2017-01-03T05:57:41  55.01475 -162.01318\n",
       "136145  2017-01-03T06:04:21  55.01302 -162.03377\n",
       "136146  2017-01-03T06:12:41  55.01139 -162.05807\n",
       "137368  2017-01-03T06:01:20  55.01364 -162.02439\n",
       "137369  2017-01-03T06:18:01  55.01059 -162.07248"
      ]
     },
     "execution_count": 83,
     "metadata": {},
     "output_type": "execute_result"
    }
   ],
   "source": [
    "# 367094420      ARCTIC MARINER \t type: 1001 - Fishing, 31x9.28       lots of points\n",
    "# 367565680      ADAMANT             type: 1001 - Fishing, 18x8          lots of points\n",
    "# 367373760      NORTH SEA           type: 1001 - Fishing, 37x10\n",
    "# 440102000      TORAH               type: 1004 - Freight, 115.8x16.62   lots of points\n",
    "# 636014222      Zim Rotter          type: 1004 - Freight, 349x45.73\n",
    "# 367322830      GYRFALCON           type: 1025 - Towing, 30.63x10.4     lots of points\n",
    "\n",
    "\n",
    "mmsi = 367322830     \n",
    "\n",
    "df = Broadcast.loc[Broadcast.MMSI==mmsi, ['BaseDateTime', 'LAT', 'LON']]\n",
    "df.rename(columns={'LAT':'latitude', 'LON':'longitude'}, inplace=True)\n",
    "X = df.loc[:,:]\n",
    "df.head()"
   ]
  },
  {
   "cell_type": "code",
   "execution_count": 84,
   "metadata": {},
   "outputs": [
    {
     "data": {
      "text/plain": [
       "(32198, 3)"
      ]
     },
     "execution_count": 84,
     "metadata": {},
     "output_type": "execute_result"
    }
   ],
   "source": [
    "df.shape"
   ]
  },
  {
   "cell_type": "code",
   "execution_count": 85,
   "metadata": {},
   "outputs": [
    {
     "data": {
      "text/html": [
       "<div>\n",
       "<style scoped>\n",
       "    .dataframe tbody tr th:only-of-type {\n",
       "        vertical-align: middle;\n",
       "    }\n",
       "\n",
       "    .dataframe tbody tr th {\n",
       "        vertical-align: top;\n",
       "    }\n",
       "\n",
       "    .dataframe thead th {\n",
       "        text-align: right;\n",
       "    }\n",
       "</style>\n",
       "<table border=\"1\" class=\"dataframe\">\n",
       "  <thead>\n",
       "    <tr style=\"text-align: right;\">\n",
       "      <th></th>\n",
       "      <th>latitude</th>\n",
       "      <th>longitude</th>\n",
       "    </tr>\n",
       "  </thead>\n",
       "  <tbody>\n",
       "    <tr>\n",
       "      <td>count</td>\n",
       "      <td>32198.000000</td>\n",
       "      <td>32198.000000</td>\n",
       "    </tr>\n",
       "    <tr>\n",
       "      <td>mean</td>\n",
       "      <td>53.923681</td>\n",
       "      <td>-166.457644</td>\n",
       "    </tr>\n",
       "    <tr>\n",
       "      <td>std</td>\n",
       "      <td>0.110180</td>\n",
       "      <td>0.411652</td>\n",
       "    </tr>\n",
       "    <tr>\n",
       "      <td>min</td>\n",
       "      <td>53.835920</td>\n",
       "      <td>-166.593440</td>\n",
       "    </tr>\n",
       "    <tr>\n",
       "      <td>25%</td>\n",
       "      <td>53.905350</td>\n",
       "      <td>-166.522560</td>\n",
       "    </tr>\n",
       "    <tr>\n",
       "      <td>50%</td>\n",
       "      <td>53.905360</td>\n",
       "      <td>-166.522550</td>\n",
       "    </tr>\n",
       "    <tr>\n",
       "      <td>75%</td>\n",
       "      <td>53.905390</td>\n",
       "      <td>-166.520840</td>\n",
       "    </tr>\n",
       "    <tr>\n",
       "      <td>max</td>\n",
       "      <td>55.015860</td>\n",
       "      <td>-162.001940</td>\n",
       "    </tr>\n",
       "  </tbody>\n",
       "</table>\n",
       "</div>"
      ],
      "text/plain": [
       "           latitude     longitude\n",
       "count  32198.000000  32198.000000\n",
       "mean      53.923681   -166.457644\n",
       "std        0.110180      0.411652\n",
       "min       53.835920   -166.593440\n",
       "25%       53.905350   -166.522560\n",
       "50%       53.905360   -166.522550\n",
       "75%       53.905390   -166.520840\n",
       "max       55.015860   -162.001940"
      ]
     },
     "execution_count": 85,
     "metadata": {},
     "output_type": "execute_result"
    }
   ],
   "source": [
    "df.describe()"
   ]
  },
  {
   "cell_type": "code",
   "execution_count": 86,
   "metadata": {},
   "outputs": [],
   "source": [
    "K_clusters = range(1,10)\n",
    "\n",
    "kmeans = [KMeans(n_clusters=i) for i in K_clusters]\n",
    "\n",
    "Y_axis = df[['latitude']]\n",
    "X_axis = df[['longitude']]\n",
    "\n",
    "score = [kmeans[i].fit(Y_axis).score(Y_axis) for i in range(len(kmeans))]"
   ]
  },
  {
   "cell_type": "code",
   "execution_count": 95,
   "metadata": {},
   "outputs": [
    {
     "data": {
      "image/png": "[encoded data removed]",
      "text/plain": [
       "<Figure size 432x288 with 1 Axes>"
      ]
     },
     "metadata": {},
     "output_type": "display_data"
    }
   ],
   "source": [
    "plt.plot(K_clusters, score)\n",
    "plt.xlabel('Number of Clusters')\n",
    "plt.ylabel('Score')\n",
    "plt.title('Elbow Curve')\n",
    "plt.show()"
   ]
  },
  {
   "cell_type": "code",
   "execution_count": 109,
   "metadata": {},
   "outputs": [
    {
     "data": {
      "text/html": [
       "<div>\n",
       "<style scoped>\n",
       "    .dataframe tbody tr th:only-of-type {\n",
       "        vertical-align: middle;\n",
       "    }\n",
       "\n",
       "    .dataframe tbody tr th {\n",
       "        vertical-align: top;\n",
       "    }\n",
       "\n",
       "    .dataframe thead th {\n",
       "        text-align: right;\n",
       "    }\n",
       "</style>\n",
       "<table border=\"1\" class=\"dataframe\">\n",
       "  <thead>\n",
       "    <tr style=\"text-align: right;\">\n",
       "      <th></th>\n",
       "      <th>BaseDateTime</th>\n",
       "      <th>latitude</th>\n",
       "      <th>longitude</th>\n",
       "      <th>cluster_label</th>\n",
       "    </tr>\n",
       "  </thead>\n",
       "  <tbody>\n",
       "    <tr>\n",
       "      <td>136130</td>\n",
       "      <td>2017-01-03T05:57:41</td>\n",
       "      <td>55.01475</td>\n",
       "      <td>-162.01318</td>\n",
       "      <td>1</td>\n",
       "    </tr>\n",
       "    <tr>\n",
       "      <td>136145</td>\n",
       "      <td>2017-01-03T06:04:21</td>\n",
       "      <td>55.01302</td>\n",
       "      <td>-162.03377</td>\n",
       "      <td>1</td>\n",
       "    </tr>\n",
       "    <tr>\n",
       "      <td>136146</td>\n",
       "      <td>2017-01-03T06:12:41</td>\n",
       "      <td>55.01139</td>\n",
       "      <td>-162.05807</td>\n",
       "      <td>1</td>\n",
       "    </tr>\n",
       "    <tr>\n",
       "      <td>137368</td>\n",
       "      <td>2017-01-03T06:01:20</td>\n",
       "      <td>55.01364</td>\n",
       "      <td>-162.02439</td>\n",
       "      <td>1</td>\n",
       "    </tr>\n",
       "    <tr>\n",
       "      <td>137369</td>\n",
       "      <td>2017-01-03T06:18:01</td>\n",
       "      <td>55.01059</td>\n",
       "      <td>-162.07248</td>\n",
       "      <td>1</td>\n",
       "    </tr>\n",
       "  </tbody>\n",
       "</table>\n",
       "</div>"
      ],
      "text/plain": [
       "               BaseDateTime  latitude  longitude  cluster_label\n",
       "136130  2017-01-03T05:57:41  55.01475 -162.01318              1\n",
       "136145  2017-01-03T06:04:21  55.01302 -162.03377              1\n",
       "136146  2017-01-03T06:12:41  55.01139 -162.05807              1\n",
       "137368  2017-01-03T06:01:20  55.01364 -162.02439              1\n",
       "137369  2017-01-03T06:18:01  55.01059 -162.07248              1"
      ]
     },
     "execution_count": 109,
     "metadata": {},
     "output_type": "execute_result"
    }
   ],
   "source": [
    "kmeans = KMeans(n_clusters = 3, init ='k-means++')\n",
    "\n",
    "X = df[df.columns[1:3]]\n",
    "kmeans.fit(X)                                   # Compute k-means clustering. # Compute k-means clustering.\n",
    "\n",
    "df['cluster_label'] = kmeans.predict(X)                      # Labels of each point\n",
    "\n",
    "centers = kmeans.cluster_centers_               # Coordinates of cluster centers.\n",
    "# labels = kmeans.predict(X)                      # Labels of each point\n",
    "\n",
    "df.head()"
   ]
  },
  {
   "cell_type": "code",
   "execution_count": 106,
   "metadata": {},
   "outputs": [
    {
     "data": {
      "text/html": [
       "<div>\n",
       "<style scoped>\n",
       "    .dataframe tbody tr th:only-of-type {\n",
       "        vertical-align: middle;\n",
       "    }\n",
       "\n",
       "    .dataframe tbody tr th {\n",
       "        vertical-align: top;\n",
       "    }\n",
       "\n",
       "    .dataframe thead th {\n",
       "        text-align: right;\n",
       "    }\n",
       "</style>\n",
       "<table border=\"1\" class=\"dataframe\">\n",
       "  <thead>\n",
       "    <tr style=\"text-align: right;\">\n",
       "      <th></th>\n",
       "      <th>latitude</th>\n",
       "      <th>longitude</th>\n",
       "    </tr>\n",
       "  </thead>\n",
       "  <tbody>\n",
       "    <tr>\n",
       "      <td>136130</td>\n",
       "      <td>55.01475</td>\n",
       "      <td>-162.01318</td>\n",
       "    </tr>\n",
       "    <tr>\n",
       "      <td>136145</td>\n",
       "      <td>55.01302</td>\n",
       "      <td>-162.03377</td>\n",
       "    </tr>\n",
       "    <tr>\n",
       "      <td>136146</td>\n",
       "      <td>55.01139</td>\n",
       "      <td>-162.05807</td>\n",
       "    </tr>\n",
       "    <tr>\n",
       "      <td>137368</td>\n",
       "      <td>55.01364</td>\n",
       "      <td>-162.02439</td>\n",
       "    </tr>\n",
       "    <tr>\n",
       "      <td>137369</td>\n",
       "      <td>55.01059</td>\n",
       "      <td>-162.07248</td>\n",
       "    </tr>\n",
       "  </tbody>\n",
       "</table>\n",
       "</div>"
      ],
      "text/plain": [
       "        latitude  longitude\n",
       "136130  55.01475 -162.01318\n",
       "136145  55.01302 -162.03377\n",
       "136146  55.01139 -162.05807\n",
       "137368  55.01364 -162.02439\n",
       "137369  55.01059 -162.07248"
      ]
     },
     "execution_count": 106,
     "metadata": {},
     "output_type": "execute_result"
    }
   ],
   "source": [
    "X.head()"
   ]
  },
  {
   "cell_type": "code",
   "execution_count": 107,
   "metadata": {},
   "outputs": [
    {
     "data": {
      "text/plain": [
       "array([[  53.90467853, -166.52260432],\n",
       "       [  54.9325743 , -162.44433498],\n",
       "       [  54.1661893 , -165.76784167]])"
      ]
     },
     "execution_count": 107,
     "metadata": {},
     "output_type": "execute_result"
    }
   ],
   "source": [
    "centers"
   ]
  },
  {
   "cell_type": "code",
   "execution_count": 108,
   "metadata": {},
   "outputs": [
    {
     "data": {
      "text/plain": [
       "array([1, 1, 1, ..., 0, 0, 0], dtype=int32)"
      ]
     },
     "execution_count": 108,
     "metadata": {},
     "output_type": "execute_result"
    }
   ],
   "source": [
    "labels"
   ]
  },
  {
   "cell_type": "code",
   "execution_count": 104,
   "metadata": {},
   "outputs": [
    {
     "data": {
      "text/html": [
       "<div>\n",
       "<style scoped>\n",
       "    .dataframe tbody tr th:only-of-type {\n",
       "        vertical-align: middle;\n",
       "    }\n",
       "\n",
       "    .dataframe tbody tr th {\n",
       "        vertical-align: top;\n",
       "    }\n",
       "\n",
       "    .dataframe thead tr th {\n",
       "        text-align: left;\n",
       "    }\n",
       "\n",
       "    .dataframe thead tr:last-of-type th {\n",
       "        text-align: right;\n",
       "    }\n",
       "</style>\n",
       "<table border=\"1\" class=\"dataframe\">\n",
       "  <thead>\n",
       "    <tr>\n",
       "      <th></th>\n",
       "      <th>BaseDateTime</th>\n",
       "    </tr>\n",
       "    <tr>\n",
       "      <th></th>\n",
       "      <th>count</th>\n",
       "    </tr>\n",
       "    <tr>\n",
       "      <th>cluster_label</th>\n",
       "      <th></th>\n",
       "    </tr>\n",
       "  </thead>\n",
       "  <tbody>\n",
       "    <tr>\n",
       "      <td>0</td>\n",
       "      <td>30717</td>\n",
       "    </tr>\n",
       "    <tr>\n",
       "      <td>1</td>\n",
       "      <td>293</td>\n",
       "    </tr>\n",
       "    <tr>\n",
       "      <td>2</td>\n",
       "      <td>1188</td>\n",
       "    </tr>\n",
       "  </tbody>\n",
       "</table>\n",
       "</div>"
      ],
      "text/plain": [
       "              BaseDateTime\n",
       "                     count\n",
       "cluster_label             \n",
       "0                    30717\n",
       "1                      293\n",
       "2                     1188"
      ]
     },
     "execution_count": 104,
     "metadata": {},
     "output_type": "execute_result"
    }
   ],
   "source": [
    "# Cluster, ping counts\n",
    "PingCluster = df.groupby('cluster_label').agg({'BaseDateTime': ['count']})\n",
    "\n",
    "PingCluster"
   ]
  },
  {
   "cell_type": "code",
   "execution_count": 110,
   "metadata": {},
   "outputs": [
    {
     "data": {
      "text/plain": [
       "<matplotlib.collections.PathCollection at 0x7f9f939650b8>"
      ]
     },
     "execution_count": 110,
     "metadata": {},
     "output_type": "execute_result"
    },
    {
     "data": {
      "image/png": "[encoded data removed]",
      "text/plain": [
       "<Figure size 432x288 with 2 Axes>"
      ]
     },
     "metadata": {},
     "output_type": "display_data"
    }
   ],
   "source": [
    "X.plot.scatter(x = 'latitude', y = 'longitude', c=df['cluster_label'], s=50, cmap='viridis')\n",
    "plt.scatter(centers[:, 0], centers[:, 1], c='black', s=200, alpha=0.5)"
   ]
  },
  {
   "cell_type": "code",
   "execution_count": null,
   "metadata": {},
   "outputs": [],
   "source": []
  },
  {
   "cell_type": "code",
   "execution_count": null,
   "metadata": {},
   "outputs": [],
   "source": []
  },
  {
   "cell_type": "code",
   "execution_count": null,
   "metadata": {},
   "outputs": [],
   "source": []
  },
  {
   "cell_type": "code",
   "execution_count": null,
   "metadata": {},
   "outputs": [],
   "source": []
  },
  {
   "cell_type": "code",
   "execution_count": null,
   "metadata": {},
   "outputs": [],
   "source": []
  },
  {
   "cell_type": "markdown",
   "metadata": {},
   "source": [
    "### Sample\n",
    "* https://hdbscan.readthedocs.io/en/latest/advanced_hdbscan.html"
   ]
  },
  {
   "cell_type": "code",
   "execution_count": 26,
   "metadata": {},
   "outputs": [],
   "source": [
    "from sklearn.datasets import make_blobs\n",
    "import hdbscan\n",
    "import numpy as np\n",
    "import matplotlib.pyplot as plt\n",
    "import seaborn as sns\n",
    "%matplotlib inline"
   ]
  },
  {
   "cell_type": "code",
   "execution_count": 7,
   "metadata": {},
   "outputs": [],
   "source": [
    "blobs, labels = make_blobs(n_samples=2000, n_features=10)"
   ]
  },
  {
   "cell_type": "code",
   "execution_count": 8,
   "metadata": {},
   "outputs": [
    {
     "data": {
      "text/html": [
       "<div>\n",
       "<style scoped>\n",
       "    .dataframe tbody tr th:only-of-type {\n",
       "        vertical-align: middle;\n",
       "    }\n",
       "\n",
       "    .dataframe tbody tr th {\n",
       "        vertical-align: top;\n",
       "    }\n",
       "\n",
       "    .dataframe thead th {\n",
       "        text-align: right;\n",
       "    }\n",
       "</style>\n",
       "<table border=\"1\" class=\"dataframe\">\n",
       "  <thead>\n",
       "    <tr style=\"text-align: right;\">\n",
       "      <th></th>\n",
       "      <th>0</th>\n",
       "      <th>1</th>\n",
       "      <th>2</th>\n",
       "      <th>3</th>\n",
       "      <th>4</th>\n",
       "      <th>5</th>\n",
       "      <th>6</th>\n",
       "      <th>7</th>\n",
       "      <th>8</th>\n",
       "      <th>9</th>\n",
       "    </tr>\n",
       "  </thead>\n",
       "  <tbody>\n",
       "    <tr>\n",
       "      <td>0</td>\n",
       "      <td>-1.264875</td>\n",
       "      <td>-8.260352</td>\n",
       "      <td>-7.672387</td>\n",
       "      <td>-4.457326</td>\n",
       "      <td>-2.654197</td>\n",
       "      <td>4.046740</td>\n",
       "      <td>4.732487</td>\n",
       "      <td>-8.031294</td>\n",
       "      <td>-3.358178</td>\n",
       "      <td>0.746357</td>\n",
       "    </tr>\n",
       "    <tr>\n",
       "      <td>1</td>\n",
       "      <td>-4.789295</td>\n",
       "      <td>5.347213</td>\n",
       "      <td>-9.076223</td>\n",
       "      <td>-2.658427</td>\n",
       "      <td>7.980381</td>\n",
       "      <td>6.582558</td>\n",
       "      <td>-2.511977</td>\n",
       "      <td>9.363582</td>\n",
       "      <td>9.516691</td>\n",
       "      <td>-6.797194</td>\n",
       "    </tr>\n",
       "    <tr>\n",
       "      <td>2</td>\n",
       "      <td>-8.840059</td>\n",
       "      <td>4.799937</td>\n",
       "      <td>-8.509396</td>\n",
       "      <td>1.783674</td>\n",
       "      <td>5.945335</td>\n",
       "      <td>-6.128442</td>\n",
       "      <td>-8.588533</td>\n",
       "      <td>-1.142080</td>\n",
       "      <td>8.091949</td>\n",
       "      <td>9.063377</td>\n",
       "    </tr>\n",
       "    <tr>\n",
       "      <td>3</td>\n",
       "      <td>-6.527711</td>\n",
       "      <td>5.229888</td>\n",
       "      <td>-8.250775</td>\n",
       "      <td>-0.308170</td>\n",
       "      <td>6.792324</td>\n",
       "      <td>5.278408</td>\n",
       "      <td>-1.254370</td>\n",
       "      <td>5.681781</td>\n",
       "      <td>9.835620</td>\n",
       "      <td>-6.410695</td>\n",
       "    </tr>\n",
       "    <tr>\n",
       "      <td>4</td>\n",
       "      <td>-8.316694</td>\n",
       "      <td>6.439864</td>\n",
       "      <td>-9.477828</td>\n",
       "      <td>-0.442857</td>\n",
       "      <td>4.329686</td>\n",
       "      <td>-4.317371</td>\n",
       "      <td>-8.836133</td>\n",
       "      <td>-2.024001</td>\n",
       "      <td>9.477133</td>\n",
       "      <td>8.406125</td>\n",
       "    </tr>\n",
       "  </tbody>\n",
       "</table>\n",
       "</div>"
      ],
      "text/plain": [
       "          0         1         2         3         4         5         6  \\\n",
       "0 -1.264875 -8.260352 -7.672387 -4.457326 -2.654197  4.046740  4.732487   \n",
       "1 -4.789295  5.347213 -9.076223 -2.658427  7.980381  6.582558 -2.511977   \n",
       "2 -8.840059  4.799937 -8.509396  1.783674  5.945335 -6.128442 -8.588533   \n",
       "3 -6.527711  5.229888 -8.250775 -0.308170  6.792324  5.278408 -1.254370   \n",
       "4 -8.316694  6.439864 -9.477828 -0.442857  4.329686 -4.317371 -8.836133   \n",
       "\n",
       "          7         8         9  \n",
       "0 -8.031294 -3.358178  0.746357  \n",
       "1  9.363582  9.516691 -6.797194  \n",
       "2 -1.142080  8.091949  9.063377  \n",
       "3  5.681781  9.835620 -6.410695  \n",
       "4 -2.024001  9.477133  8.406125  "
      ]
     },
     "execution_count": 8,
     "metadata": {},
     "output_type": "execute_result"
    }
   ],
   "source": [
    "pd.DataFrame(blobs).head()"
   ]
  },
  {
   "cell_type": "code",
   "execution_count": 22,
   "metadata": {},
   "outputs": [
    {
     "data": {
      "text/plain": [
       "(2000, 10)"
      ]
     },
     "execution_count": 22,
     "metadata": {},
     "output_type": "execute_result"
    }
   ],
   "source": [
    "blobs.shape"
   ]
  },
  {
   "cell_type": "code",
   "execution_count": 23,
   "metadata": {},
   "outputs": [
    {
     "data": {
      "text/plain": [
       "array([[ -1.26487527,  -8.2603524 ,  -7.67238674, ...,  -8.03129446,\n",
       "         -3.35817837,   0.74635706],\n",
       "       [ -4.78929506,   5.34721314,  -9.0762227 , ...,   9.36358247,\n",
       "          9.51669117,  -6.79719369],\n",
       "       [ -8.84005935,   4.79993719,  -8.50939632, ...,  -1.14208   ,\n",
       "          8.09194909,   9.06337698],\n",
       "       ...,\n",
       "       [ -1.48204497,  -7.86863968,  -8.58340059, ...,  -9.08749093,\n",
       "         -2.90563069,  -1.05112635],\n",
       "       [ -1.86398912,  -9.04289069,  -8.43069477, ..., -10.74356022,\n",
       "         -2.72570248,   0.7149232 ],\n",
       "       [ -3.82640572,   5.8166833 ,  -8.18621666, ...,   6.85105027,\n",
       "          9.21200197,  -7.92391158]])"
      ]
     },
     "execution_count": 23,
     "metadata": {},
     "output_type": "execute_result"
    }
   ],
   "source": [
    "blobs"
   ]
  },
  {
   "cell_type": "code",
   "execution_count": 34,
   "metadata": {},
   "outputs": [],
   "source": [
    "data = blobs.T[:,0:2]"
   ]
  },
  {
   "cell_type": "code",
   "execution_count": 35,
   "metadata": {},
   "outputs": [
    {
     "data": {
      "text/plain": [
       "<matplotlib.collections.PathCollection at 0x7fd9a83d0eb8>"
      ]
     },
     "execution_count": 35,
     "metadata": {},
     "output_type": "execute_result"
    },
    {
     "data": {
      "image/png": "[encoded data removed]",
      "text/plain": [
       "<Figure size 432x288 with 1 Axes>"
      ]
     },
     "metadata": {
      "needs_background": "light"
     },
     "output_type": "display_data"
    }
   ],
   "source": [
    "plt.scatter(*data.T, s=50, linewidth=0, c='b', alpha=0.25)"
   ]
  },
  {
   "cell_type": "code",
   "execution_count": 36,
   "metadata": {},
   "outputs": [
    {
     "data": {
      "text/plain": [
       "<matplotlib.collections.PathCollection at 0x7fd9e93f4780>"
      ]
     },
     "execution_count": 36,
     "metadata": {},
     "output_type": "execute_result"
    },
    {
     "data": {
      "image/png": "[encoded data removed]",
      "text/plain": [
       "<Figure size 432x288 with 1 Axes>"
      ]
     },
     "metadata": {
      "needs_background": "light"
     },
     "output_type": "display_data"
    }
   ],
   "source": [
    "clusterer = hdbscan.HDBSCAN(min_cluster_size=15).fit(data)\n",
    "color_palette = sns.color_palette('deep', 8)\n",
    "cluster_colors = [color_palette[x] if x >= 0\n",
    "                  else (0.5, 0.5, 0.5)\n",
    "                  for x in clusterer.labels_]\n",
    "cluster_member_colors = [sns.desaturate(x, p) for x, p in\n",
    "                         zip(cluster_colors, clusterer.probabilities_)]\n",
    "plt.scatter(*data.T, s=50, linewidth=0, c=cluster_member_colors, alpha=0.25)"
   ]
  },
  {
   "cell_type": "code",
   "execution_count": 37,
   "metadata": {},
   "outputs": [
    {
     "data": {
      "text/plain": [
       "<hdbscan.plots.CondensedTree at 0x7fda198bdfd0>"
      ]
     },
     "execution_count": 37,
     "metadata": {},
     "output_type": "execute_result"
    }
   ],
   "source": [
    "clusterer.condensed_tree_"
   ]
  },
  {
   "cell_type": "code",
   "execution_count": 38,
   "metadata": {},
   "outputs": [
    {
     "data": {
      "text/plain": [
       "<matplotlib.axes._subplots.AxesSubplot at 0x7fda198bdac8>"
      ]
     },
     "execution_count": 38,
     "metadata": {},
     "output_type": "execute_result"
    },
    {
     "data": {
      "image/png": "[encoded data removed]",
      "text/plain": [
       "<Figure size 432x288 with 2 Axes>"
      ]
     },
     "metadata": {
      "needs_background": "light"
     },
     "output_type": "display_data"
    }
   ],
   "source": [
    "clusterer.condensed_tree_.plot()"
   ]
  },
  {
   "cell_type": "code",
   "execution_count": 39,
   "metadata": {},
   "outputs": [
    {
     "data": {
      "text/plain": [
       "<matplotlib.collections.PathCollection at 0x7fd9d237c198>"
      ]
     },
     "execution_count": 39,
     "metadata": {},
     "output_type": "execute_result"
    },
    {
     "data": {
      "image/png": "[encoded data removed]",
      "text/plain": [
       "<Figure size 432x288 with 1 Axes>"
      ]
     },
     "metadata": {
      "needs_background": "light"
     },
     "output_type": "display_data"
    }
   ],
   "source": [
    "threshold = pd.Series(clusterer.outlier_scores_).quantile(0.9)\n",
    "outliers = np.where(clusterer.outlier_scores_ > threshold)[0]\n",
    "plt.scatter(*data.T, s=50, linewidth=0, c='gray', alpha=0.25)\n",
    "plt.scatter(*data[outliers].T, s=50, linewidth=0, c='red', alpha=0.5)"
   ]
  },
  {
   "cell_type": "code",
   "execution_count": null,
   "metadata": {},
   "outputs": [],
   "source": []
  },
  {
   "cell_type": "code",
   "execution_count": null,
   "metadata": {},
   "outputs": [],
   "source": []
  },
  {
   "cell_type": "code",
   "execution_count": 32,
   "metadata": {},
   "outputs": [
    {
     "data": {
      "text/plain": [
       "(10, 2)"
      ]
     },
     "execution_count": 32,
     "metadata": {},
     "output_type": "execute_result"
    }
   ],
   "source": [
    "blobs.T[:,0:2].shape"
   ]
  },
  {
   "cell_type": "code",
   "execution_count": null,
   "metadata": {},
   "outputs": [],
   "source": []
  },
  {
   "cell_type": "code",
   "execution_count": 10,
   "metadata": {},
   "outputs": [],
   "source": [
    "clusterer = hdbscan.HDBSCAN()"
   ]
  },
  {
   "cell_type": "code",
   "execution_count": 11,
   "metadata": {},
   "outputs": [
    {
     "data": {
      "text/plain": [
       "HDBSCAN(algorithm='best', allow_single_cluster=False, alpha=1.0,\n",
       "        approx_min_span_tree=True, cluster_selection_epsilon=0.0,\n",
       "        cluster_selection_method='eom', core_dist_n_jobs=4,\n",
       "        gen_min_span_tree=False, leaf_size=40,\n",
       "        match_reference_implementation=False, memory=Memory(location=None),\n",
       "        metric='euclidean', min_cluster_size=5, min_samples=None, p=None,\n",
       "        prediction_data=False)"
      ]
     },
     "execution_count": 11,
     "metadata": {},
     "output_type": "execute_result"
    }
   ],
   "source": [
    "clusterer.fit(blobs)"
   ]
  },
  {
   "cell_type": "code",
   "execution_count": 24,
   "metadata": {},
   "outputs": [
    {
     "data": {
      "text/plain": [
       "2000"
      ]
     },
     "execution_count": 24,
     "metadata": {},
     "output_type": "execute_result"
    }
   ],
   "source": [
    "len(clusterer.labels_)"
   ]
  },
  {
   "cell_type": "code",
   "execution_count": 12,
   "metadata": {},
   "outputs": [
    {
     "data": {
      "text/plain": [
       "array([0, 1, 2, ..., 0, 0, 1])"
      ]
     },
     "execution_count": 12,
     "metadata": {},
     "output_type": "execute_result"
    }
   ],
   "source": [
    "clusterer.labels_"
   ]
  },
  {
   "cell_type": "code",
   "execution_count": 13,
   "metadata": {},
   "outputs": [
    {
     "data": {
      "text/plain": [
       "2"
      ]
     },
     "execution_count": 13,
     "metadata": {},
     "output_type": "execute_result"
    }
   ],
   "source": [
    "clusterer.labels_.max()"
   ]
  },
  {
   "cell_type": "code",
   "execution_count": 14,
   "metadata": {},
   "outputs": [
    {
     "data": {
      "text/plain": [
       "array([0.65203928, 0.80439755, 0.82601858, ..., 1.        , 0.62995029,\n",
       "       0.62921136])"
      ]
     },
     "execution_count": 14,
     "metadata": {},
     "output_type": "execute_result"
    }
   ],
   "source": [
    "clusterer.probabilities_"
   ]
  },
  {
   "cell_type": "code",
   "execution_count": null,
   "metadata": {},
   "outputs": [],
   "source": []
  },
  {
   "cell_type": "code",
   "execution_count": 15,
   "metadata": {},
   "outputs": [
    {
     "data": {
      "text/plain": [
       "array([0, 1, 2, ..., 0, 0, 1])"
      ]
     },
     "execution_count": 15,
     "metadata": {},
     "output_type": "execute_result"
    }
   ],
   "source": [
    "clusterer = hdbscan.HDBSCAN(metric='manhattan')\n",
    "clusterer.fit(blobs)\n",
    "clusterer.labels_"
   ]
  },
  {
   "cell_type": "code",
   "execution_count": 16,
   "metadata": {},
   "outputs": [
    {
     "data": {
      "text/plain": [
       "{'euclidean': hdbscan.dist_metrics.EuclideanDistance,\n",
       " 'l2': hdbscan.dist_metrics.EuclideanDistance,\n",
       " 'minkowski': hdbscan.dist_metrics.MinkowskiDistance,\n",
       " 'p': hdbscan.dist_metrics.MinkowskiDistance,\n",
       " 'manhattan': hdbscan.dist_metrics.ManhattanDistance,\n",
       " 'cityblock': hdbscan.dist_metrics.ManhattanDistance,\n",
       " 'l1': hdbscan.dist_metrics.ManhattanDistance,\n",
       " 'chebyshev': hdbscan.dist_metrics.ChebyshevDistance,\n",
       " 'infinity': hdbscan.dist_metrics.ChebyshevDistance,\n",
       " 'seuclidean': hdbscan.dist_metrics.SEuclideanDistance,\n",
       " 'mahalanobis': hdbscan.dist_metrics.MahalanobisDistance,\n",
       " 'wminkowski': hdbscan.dist_metrics.WMinkowskiDistance,\n",
       " 'hamming': hdbscan.dist_metrics.HammingDistance,\n",
       " 'canberra': hdbscan.dist_metrics.CanberraDistance,\n",
       " 'braycurtis': hdbscan.dist_metrics.BrayCurtisDistance,\n",
       " 'matching': hdbscan.dist_metrics.MatchingDistance,\n",
       " 'jaccard': hdbscan.dist_metrics.JaccardDistance,\n",
       " 'dice': hdbscan.dist_metrics.DiceDistance,\n",
       " 'kulsinski': hdbscan.dist_metrics.KulsinskiDistance,\n",
       " 'rogerstanimoto': hdbscan.dist_metrics.RogersTanimotoDistance,\n",
       " 'russellrao': hdbscan.dist_metrics.RussellRaoDistance,\n",
       " 'sokalmichener': hdbscan.dist_metrics.SokalMichenerDistance,\n",
       " 'sokalsneath': hdbscan.dist_metrics.SokalSneathDistance,\n",
       " 'haversine': hdbscan.dist_metrics.HaversineDistance,\n",
       " 'cosine': hdbscan.dist_metrics.ArccosDistance,\n",
       " 'arccos': hdbscan.dist_metrics.ArccosDistance,\n",
       " 'pyfunc': hdbscan.dist_metrics.PyFuncDistance}"
      ]
     },
     "execution_count": 16,
     "metadata": {},
     "output_type": "execute_result"
    }
   ],
   "source": [
    "hdbscan.dist_metrics.METRIC_MAPPING"
   ]
  },
  {
   "cell_type": "code",
   "execution_count": null,
   "metadata": {},
   "outputs": [],
   "source": []
  },
  {
   "cell_type": "code",
   "execution_count": 17,
   "metadata": {},
   "outputs": [],
   "source": [
    "from sklearn.metrics.pairwise import pairwise_distances"
   ]
  },
  {
   "cell_type": "code",
   "execution_count": 18,
   "metadata": {},
   "outputs": [],
   "source": [
    "distance_matrix = pairwise_distances(blobs)"
   ]
  },
  {
   "cell_type": "code",
   "execution_count": 19,
   "metadata": {},
   "outputs": [
    {
     "data": {
      "text/plain": [
       "array([[ 0.        , 30.00083681, 29.50051889, ...,  3.55500992,\n",
       "         4.3568916 , 29.92376286],\n",
       "       [30.00083681,  0.        , 24.56326019, ..., 29.60063764,\n",
       "        32.27173609,  5.39005198],\n",
       "       [29.50051889, 24.56326019,  0.        , ..., 30.14754856,\n",
       "        30.84141333, 23.7567574 ],\n",
       "       ...,\n",
       "       [ 3.55500992, 29.60063764, 30.14754856, ...,  0.        ,\n",
       "         4.06465649, 29.23320791],\n",
       "       [ 4.3568916 , 32.27173609, 30.84141333, ...,  4.06465649,\n",
       "         0.        , 31.76605252],\n",
       "       [29.92376286,  5.39005198, 23.7567574 , ..., 29.23320791,\n",
       "        31.76605252,  0.        ]])"
      ]
     },
     "execution_count": 19,
     "metadata": {},
     "output_type": "execute_result"
    }
   ],
   "source": [
    "distance_matrix"
   ]
  },
  {
   "cell_type": "code",
   "execution_count": 20,
   "metadata": {},
   "outputs": [
    {
     "data": {
      "text/plain": [
       "array([0, 2, 1, ..., 0, 0, 2])"
      ]
     },
     "execution_count": 20,
     "metadata": {},
     "output_type": "execute_result"
    }
   ],
   "source": [
    "clusterer = hdbscan.HDBSCAN(metric='precomputed')\n",
    "clusterer.fit(distance_matrix)\n",
    "clusterer.labels_"
   ]
  },
  {
   "cell_type": "code",
   "execution_count": null,
   "metadata": {},
   "outputs": [],
   "source": []
  },
  {
   "cell_type": "code",
   "execution_count": null,
   "metadata": {},
   "outputs": [],
   "source": []
  },
  {
   "cell_type": "code",
   "execution_count": null,
   "metadata": {},
   "outputs": [],
   "source": []
  }
 ],
 "metadata": {
  "kernelspec": {
   "display_name": "Python 3",
   "language": "python",
   "name": "python3"
  },
  "language_info": {
   "codemirror_mode": {
    "name": "ipython",
    "version": 3
   },
   "file_extension": ".py",
   "mimetype": "text/x-python",
   "name": "python",
   "nbconvert_exporter": "python",
   "pygments_lexer": "ipython3",
   "version": "3.7.2"
  }
 },
 "nbformat": 4,
 "nbformat_minor": 4
}
