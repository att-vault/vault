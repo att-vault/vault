{
 "cells": [
  {
   "cell_type": "markdown",
   "metadata": {},
   "source": [
    "## AIS Analyze Vessel Clusters"
   ]
  },
  {
   "cell_type": "code",
   "execution_count": 1,
   "metadata": {},
   "outputs": [],
   "source": [
    "# from IPython.display import Image, HTML\n",
    "import os\n",
    "import numpy as np\n",
    "import pandas as pd\n",
    "import datetime\n",
    "import warnings\n",
    "from glob import glob\n",
    "\n",
    "warnings.filterwarnings(\"ignore\")           # Suppress Warning"
   ]
  },
  {
   "cell_type": "code",
   "execution_count": 2,
   "metadata": {},
   "outputs": [],
   "source": [
    "WorkingFolder = \"/Users/cv0361/Desktop/TechChallenge/Data/csv/ValidAIS/\""
   ]
  },
  {
   "cell_type": "code",
   "execution_count": 313,
   "metadata": {},
   "outputs": [],
   "source": [
    "OutputDir = \"/Users/cv0361/Desktop/TechChallenge/Data/csv/ValidAIS/\""
   ]
  },
  {
   "cell_type": "markdown",
   "metadata": {},
   "source": [
    "### Load Broadcast Data"
   ]
  },
  {
   "cell_type": "code",
   "execution_count": 266,
   "metadata": {},
   "outputs": [
    {
     "data": {
      "text/html": [
       "<div>\n",
       "<style scoped>\n",
       "    .dataframe tbody tr th:only-of-type {\n",
       "        vertical-align: middle;\n",
       "    }\n",
       "\n",
       "    .dataframe tbody tr th {\n",
       "        vertical-align: top;\n",
       "    }\n",
       "\n",
       "    .dataframe thead th {\n",
       "        text-align: right;\n",
       "    }\n",
       "</style>\n",
       "<table border=\"1\" class=\"dataframe\">\n",
       "  <thead>\n",
       "    <tr style=\"text-align: right;\">\n",
       "      <th></th>\n",
       "      <th>mmsi_id</th>\n",
       "      <th>date_time</th>\n",
       "      <th>lat</th>\n",
       "      <th>lon</th>\n",
       "      <th>speed_over_ground</th>\n",
       "      <th>course_over_ground</th>\n",
       "      <th>voyage_id</th>\n",
       "      <th>heading</th>\n",
       "      <th>status</th>\n",
       "    </tr>\n",
       "  </thead>\n",
       "  <tbody>\n",
       "    <tr>\n",
       "      <td>0</td>\n",
       "      <td>366025993</td>\n",
       "      <td>2013-12-31 23:57:44</td>\n",
       "      <td>47.581332</td>\n",
       "      <td>-122.361145</td>\n",
       "      <td>0.0</td>\n",
       "      <td>39.599998</td>\n",
       "      <td>1</td>\n",
       "      <td>511</td>\n",
       "      <td>0</td>\n",
       "    </tr>\n",
       "    <tr>\n",
       "      <td>1</td>\n",
       "      <td>367160890</td>\n",
       "      <td>2013-12-31 23:57:44</td>\n",
       "      <td>45.835737</td>\n",
       "      <td>-123.990592</td>\n",
       "      <td>6.7</td>\n",
       "      <td>355.399990</td>\n",
       "      <td>2</td>\n",
       "      <td>359</td>\n",
       "      <td>15</td>\n",
       "    </tr>\n",
       "    <tr>\n",
       "      <td>2</td>\n",
       "      <td>366490600</td>\n",
       "      <td>2013-12-31 23:57:44</td>\n",
       "      <td>47.631067</td>\n",
       "      <td>-122.382117</td>\n",
       "      <td>0.0</td>\n",
       "      <td>192.100010</td>\n",
       "      <td>3</td>\n",
       "      <td>180</td>\n",
       "      <td>7</td>\n",
       "    </tr>\n",
       "    <tr>\n",
       "      <td>3</td>\n",
       "      <td>338000406</td>\n",
       "      <td>2013-12-31 23:57:44</td>\n",
       "      <td>48.123443</td>\n",
       "      <td>-123.444115</td>\n",
       "      <td>0.0</td>\n",
       "      <td>14.200000</td>\n",
       "      <td>4</td>\n",
       "      <td>511</td>\n",
       "      <td>0</td>\n",
       "    </tr>\n",
       "    <tr>\n",
       "      <td>4</td>\n",
       "      <td>367840001</td>\n",
       "      <td>2013-12-31 23:57:44</td>\n",
       "      <td>48.121267</td>\n",
       "      <td>-122.726412</td>\n",
       "      <td>11.4</td>\n",
       "      <td>55.400002</td>\n",
       "      <td>5</td>\n",
       "      <td>57</td>\n",
       "      <td>0</td>\n",
       "    </tr>\n",
       "  </tbody>\n",
       "</table>\n",
       "</div>"
      ],
      "text/plain": [
       "     mmsi_id           date_time        lat         lon  speed_over_ground  \\\n",
       "0  366025993 2013-12-31 23:57:44  47.581332 -122.361145                0.0   \n",
       "1  367160890 2013-12-31 23:57:44  45.835737 -123.990592                6.7   \n",
       "2  366490600 2013-12-31 23:57:44  47.631067 -122.382117                0.0   \n",
       "3  338000406 2013-12-31 23:57:44  48.123443 -123.444115                0.0   \n",
       "4  367840001 2013-12-31 23:57:44  48.121267 -122.726412               11.4   \n",
       "\n",
       "   course_over_ground  voyage_id  heading  status  \n",
       "0           39.599998          1      511       0  \n",
       "1          355.399990          2      359      15  \n",
       "2          192.100010          3      180       7  \n",
       "3           14.200000          4      511       0  \n",
       "4           55.400002          5       57       0  "
      ]
     },
     "execution_count": 266,
     "metadata": {},
     "output_type": "execute_result"
    }
   ],
   "source": [
    "folder = WorkingFolder + \"Zone03_2017_01/\"\n",
    "\n",
    "Broadcast = pd.read_csv(\"/Users/cv0361/Desktop/TechChallenge/Data/csv/ValidAIS/Broadcast_Zone10_2014_01.csv\", sep=\",\", parse_dates=['date_time'])\n",
    "Broadcast.head()"
   ]
  },
  {
   "cell_type": "code",
   "execution_count": 267,
   "metadata": {},
   "outputs": [
    {
     "name": "stdout",
     "output_type": "stream",
     "text": [
      "Raw Count: 21517764\n"
     ]
    }
   ],
   "source": [
    "print(\"Raw Count:\", Broadcast.shape[0])"
   ]
  },
  {
   "cell_type": "code",
   "execution_count": 319,
   "metadata": {},
   "outputs": [],
   "source": [
    "# Broadcast[['mmsi_id']].drop_duplicates().head(10)"
   ]
  },
  {
   "cell_type": "markdown",
   "metadata": {},
   "source": [
    "### K-means\n",
    "* https://github.com/JosephMagiya/Clustering-GPS-Co-ordinates--Forming-Regions./blob/master/Clustering-GPS-Co-ordinates--Forming-Regions.ipynb"
   ]
  },
  {
   "cell_type": "code",
   "execution_count": 236,
   "metadata": {},
   "outputs": [],
   "source": [
    "import matplotlib.pyplot as plt\n",
    "from sklearn.cluster import KMeans\n",
    "import seaborn as sns; sns.set()"
   ]
  },
  {
   "cell_type": "code",
   "execution_count": 495,
   "metadata": {},
   "outputs": [
    {
     "data": {
      "text/html": [
       "<div>\n",
       "<style scoped>\n",
       "    .dataframe tbody tr th:only-of-type {\n",
       "        vertical-align: middle;\n",
       "    }\n",
       "\n",
       "    .dataframe tbody tr th {\n",
       "        vertical-align: top;\n",
       "    }\n",
       "\n",
       "    .dataframe thead th {\n",
       "        text-align: right;\n",
       "    }\n",
       "</style>\n",
       "<table border=\"1\" class=\"dataframe\">\n",
       "  <thead>\n",
       "    <tr style=\"text-align: right;\">\n",
       "      <th></th>\n",
       "      <th>date_time</th>\n",
       "      <th>latitude</th>\n",
       "      <th>longitude</th>\n",
       "      <th>speed_over_ground</th>\n",
       "      <th>voyage_id</th>\n",
       "      <th>PingDate</th>\n",
       "      <th>PingHour</th>\n",
       "    </tr>\n",
       "  </thead>\n",
       "  <tbody>\n",
       "    <tr>\n",
       "      <td>193</td>\n",
       "      <td>2013-12-31 23:57:46</td>\n",
       "      <td>47.601390</td>\n",
       "      <td>-122.338623</td>\n",
       "      <td>0.4</td>\n",
       "      <td>194</td>\n",
       "      <td>2013-12-31</td>\n",
       "      <td>23</td>\n",
       "    </tr>\n",
       "    <tr>\n",
       "      <td>388</td>\n",
       "      <td>2014-01-01 00:00:06</td>\n",
       "      <td>47.601403</td>\n",
       "      <td>-122.338600</td>\n",
       "      <td>0.0</td>\n",
       "      <td>194</td>\n",
       "      <td>2014-01-01</td>\n",
       "      <td>0</td>\n",
       "    </tr>\n",
       "    <tr>\n",
       "      <td>1016</td>\n",
       "      <td>2014-01-01 00:01:05</td>\n",
       "      <td>47.601405</td>\n",
       "      <td>-122.338598</td>\n",
       "      <td>0.0</td>\n",
       "      <td>194</td>\n",
       "      <td>2014-01-01</td>\n",
       "      <td>0</td>\n",
       "    </tr>\n",
       "    <tr>\n",
       "      <td>1557</td>\n",
       "      <td>2014-01-01 00:02:07</td>\n",
       "      <td>47.601402</td>\n",
       "      <td>-122.338602</td>\n",
       "      <td>0.0</td>\n",
       "      <td>194</td>\n",
       "      <td>2014-01-01</td>\n",
       "      <td>0</td>\n",
       "    </tr>\n",
       "    <tr>\n",
       "      <td>2034</td>\n",
       "      <td>2014-01-01 00:03:06</td>\n",
       "      <td>47.601398</td>\n",
       "      <td>-122.338603</td>\n",
       "      <td>0.0</td>\n",
       "      <td>194</td>\n",
       "      <td>2014-01-01</td>\n",
       "      <td>0</td>\n",
       "    </tr>\n",
       "  </tbody>\n",
       "</table>\n",
       "</div>"
      ],
      "text/plain": [
       "               date_time   latitude   longitude  speed_over_ground  voyage_id  \\\n",
       "193  2013-12-31 23:57:46  47.601390 -122.338623                0.4        194   \n",
       "388  2014-01-01 00:00:06  47.601403 -122.338600                0.0        194   \n",
       "1016 2014-01-01 00:01:05  47.601405 -122.338598                0.0        194   \n",
       "1557 2014-01-01 00:02:07  47.601402 -122.338602                0.0        194   \n",
       "2034 2014-01-01 00:03:06  47.601398 -122.338603                0.0        194   \n",
       "\n",
       "        PingDate  PingHour  \n",
       "193   2013-12-31        23  \n",
       "388   2014-01-01         0  \n",
       "1016  2014-01-01         0  \n",
       "1557  2014-01-01         0  \n",
       "2034  2014-01-01         0  "
      ]
     },
     "execution_count": 495,
     "metadata": {},
     "output_type": "execute_result"
    }
   ],
   "source": [
    "# AIS_2017_01_Zone03\n",
    "# ====================\n",
    "# 367094420      ARCTIC MARINER \t type: 1001 - Fishing, 31x9.28       lots of points   multiple trips, same route\n",
    "# 367565680      ADAMANT             type: 1001 - Fishing, 18x8          lots of points   ?\n",
    "# 367373760      NORTH SEA           type: 1001 - Fishing, 37x10                          ?\n",
    "# 440102000      TORAH               type: 1004 - Freight, 115.8x16.62   lots of points   weird\n",
    "# 636014222      Zim Rotter          type: 1004 - Freight, 349x45.73                      Going some where\n",
    "# 367322830      GYRFALCON           type: 1025 - Towing, 30.63x10.4     lots of points   weird behavior\n",
    "\n",
    "# Broadcast_Zone10_2014_01\n",
    "# =========================\n",
    "# 316500126                          type: 31 - TugTow,     15x5        irregular pattern towing\n",
    "# 367528210                          type: 31 - TugTow,     33x13       irregular pattern towing\n",
    "# 316881510                          type: 52 - TugTow,     28x13       irregular pattern towing\n",
    "# 366025993                          type: 52 - TugTow,     21x7        pattern?\n",
    "\n",
    "# 538001471                          type: 70 - Cargo,     302x44      path pattern\n",
    "# 538284070                          type: 70 - Cargo,     184x31      path pattern\n",
    "# 229560200                          type: 70 - Cargo,     350x42      path pattern\n",
    "# 235733603                          type: 80 - Tanker,    183x32      path pattern\n",
    "# 538007477                          type: 0 - Tanker?,    170x27      Going some where\n",
    "\n",
    "# 366089092                          type: 0, 30x6        Infrequent ping per trip\n",
    "\n",
    "\n",
    "\n",
    "mmsi = 366089092 \n",
    "voyage_id = np.nan\n",
    "\n",
    "df = Broadcast.loc[Broadcast.mmsi_id==mmsi, ['date_time', 'lat', 'lon', 'speed_over_ground', 'voyage_id']]  # & (Broadcast.voyage_id.isnull()\n",
    "df.rename(columns={'lat':'latitude', 'lon':'longitude'}, inplace=True)\n",
    "\n",
    "df['PingDate'] = df['date_time'].dt.date\n",
    "df['PingHour'] = df['date_time'].dt.hour\n",
    "\n",
    "df.head()"
   ]
  },
  {
   "cell_type": "code",
   "execution_count": 496,
   "metadata": {},
   "outputs": [
    {
     "data": {
      "text/plain": [
       "(2123, 7)"
      ]
     },
     "execution_count": 496,
     "metadata": {},
     "output_type": "execute_result"
    }
   ],
   "source": [
    "df.shape"
   ]
  },
  {
   "cell_type": "code",
   "execution_count": 497,
   "metadata": {},
   "outputs": [
    {
     "data": {
      "text/html": [
       "<div>\n",
       "<style scoped>\n",
       "    .dataframe tbody tr th:only-of-type {\n",
       "        vertical-align: middle;\n",
       "    }\n",
       "\n",
       "    .dataframe tbody tr th {\n",
       "        vertical-align: top;\n",
       "    }\n",
       "\n",
       "    .dataframe thead th {\n",
       "        text-align: right;\n",
       "    }\n",
       "</style>\n",
       "<table border=\"1\" class=\"dataframe\">\n",
       "  <thead>\n",
       "    <tr style=\"text-align: right;\">\n",
       "      <th></th>\n",
       "      <th>voyage_id</th>\n",
       "    </tr>\n",
       "  </thead>\n",
       "  <tbody>\n",
       "    <tr>\n",
       "      <td>193</td>\n",
       "      <td>194</td>\n",
       "    </tr>\n",
       "    <tr>\n",
       "      <td>15265273</td>\n",
       "      <td>16401</td>\n",
       "    </tr>\n",
       "    <tr>\n",
       "      <td>15355055</td>\n",
       "      <td>16541</td>\n",
       "    </tr>\n",
       "    <tr>\n",
       "      <td>15448439</td>\n",
       "      <td>16684</td>\n",
       "    </tr>\n",
       "    <tr>\n",
       "      <td>15998518</td>\n",
       "      <td>17698</td>\n",
       "    </tr>\n",
       "  </tbody>\n",
       "</table>\n",
       "</div>"
      ],
      "text/plain": [
       "          voyage_id\n",
       "193             194\n",
       "15265273      16401\n",
       "15355055      16541\n",
       "15448439      16684\n",
       "15998518      17698"
      ]
     },
     "execution_count": 497,
     "metadata": {},
     "output_type": "execute_result"
    }
   ],
   "source": [
    "# Get Unique voyage Id\n",
    "df[['voyage_id']].drop_duplicates().head()"
   ]
  },
  {
   "cell_type": "code",
   "execution_count": 498,
   "metadata": {},
   "outputs": [],
   "source": [
    "# # Select 1 voyage\n",
    "# df = df.loc[df.voyage_id==1]\n",
    "# df.shape"
   ]
  },
  {
   "cell_type": "code",
   "execution_count": 499,
   "metadata": {},
   "outputs": [
    {
     "data": {
      "text/html": [
       "<div>\n",
       "<style scoped>\n",
       "    .dataframe tbody tr th:only-of-type {\n",
       "        vertical-align: middle;\n",
       "    }\n",
       "\n",
       "    .dataframe tbody tr th {\n",
       "        vertical-align: top;\n",
       "    }\n",
       "\n",
       "    .dataframe thead th {\n",
       "        text-align: right;\n",
       "    }\n",
       "</style>\n",
       "<table border=\"1\" class=\"dataframe\">\n",
       "  <thead>\n",
       "    <tr style=\"text-align: right;\">\n",
       "      <th></th>\n",
       "      <th>date_time</th>\n",
       "      <th>latitude</th>\n",
       "      <th>longitude</th>\n",
       "      <th>speed_over_ground</th>\n",
       "      <th>voyage_id</th>\n",
       "      <th>PingDate</th>\n",
       "      <th>PingHour</th>\n",
       "    </tr>\n",
       "  </thead>\n",
       "  <tbody>\n",
       "    <tr>\n",
       "      <td>count</td>\n",
       "      <td>2123</td>\n",
       "      <td>2123.000000</td>\n",
       "      <td>2123.000000</td>\n",
       "      <td>2123.000000</td>\n",
       "      <td>2123.000000</td>\n",
       "      <td>2123</td>\n",
       "      <td>2123.000000</td>\n",
       "    </tr>\n",
       "    <tr>\n",
       "      <td>max</td>\n",
       "      <td>2014-01-31 23:57:53</td>\n",
       "      <td>48.425147</td>\n",
       "      <td>-122.338592</td>\n",
       "      <td>30.600000</td>\n",
       "      <td>17936.000000</td>\n",
       "      <td>2014-01-31</td>\n",
       "      <td>23.000000</td>\n",
       "    </tr>\n",
       "    <tr>\n",
       "      <td>min</td>\n",
       "      <td>2013-12-31 23:57:46</td>\n",
       "      <td>47.511260</td>\n",
       "      <td>-123.397460</td>\n",
       "      <td>0.000000</td>\n",
       "      <td>194.000000</td>\n",
       "      <td>2013-12-31</td>\n",
       "      <td>0.000000</td>\n",
       "    </tr>\n",
       "    <tr>\n",
       "      <td>mean</td>\n",
       "      <td>2014-01-23 05:17:58.845030400</td>\n",
       "      <td>47.880373</td>\n",
       "      <td>-122.650409</td>\n",
       "      <td>9.909515</td>\n",
       "      <td>15395.147904</td>\n",
       "      <td>NaN</td>\n",
       "      <td>11.328780</td>\n",
       "    </tr>\n",
       "    <tr>\n",
       "      <td>median</td>\n",
       "      <td>NaN</td>\n",
       "      <td>47.667298</td>\n",
       "      <td>-122.399568</td>\n",
       "      <td>0.000000</td>\n",
       "      <td>17788.000000</td>\n",
       "      <td>NaN</td>\n",
       "      <td>14.000000</td>\n",
       "    </tr>\n",
       "    <tr>\n",
       "      <td>std</td>\n",
       "      <td>NaN</td>\n",
       "      <td>0.328564</td>\n",
       "      <td>0.395893</td>\n",
       "      <td>12.956394</td>\n",
       "      <td>5599.213415</td>\n",
       "      <td>NaN</td>\n",
       "      <td>7.905382</td>\n",
       "    </tr>\n",
       "  </tbody>\n",
       "</table>\n",
       "</div>"
      ],
      "text/plain": [
       "                            date_time     latitude    longitude  \\\n",
       "count                            2123  2123.000000  2123.000000   \n",
       "max               2014-01-31 23:57:53    48.425147  -122.338592   \n",
       "min               2013-12-31 23:57:46    47.511260  -123.397460   \n",
       "mean    2014-01-23 05:17:58.845030400    47.880373  -122.650409   \n",
       "median                            NaN    47.667298  -122.399568   \n",
       "std                               NaN     0.328564     0.395893   \n",
       "\n",
       "        speed_over_ground     voyage_id    PingDate     PingHour  \n",
       "count         2123.000000   2123.000000        2123  2123.000000  \n",
       "max             30.600000  17936.000000  2014-01-31    23.000000  \n",
       "min              0.000000    194.000000  2013-12-31     0.000000  \n",
       "mean             9.909515  15395.147904         NaN    11.328780  \n",
       "median           0.000000  17788.000000         NaN    14.000000  \n",
       "std             12.956394   5599.213415         NaN     7.905382  "
      ]
     },
     "execution_count": 499,
     "metadata": {},
     "output_type": "execute_result"
    }
   ],
   "source": [
    "# df.describe()\n",
    "df.agg(['count', 'max', 'min', 'mean', 'median', 'std'])   # uniquecount"
   ]
  },
  {
   "cell_type": "code",
   "execution_count": null,
   "metadata": {},
   "outputs": [],
   "source": []
  },
  {
   "cell_type": "code",
   "execution_count": 500,
   "metadata": {},
   "outputs": [
    {
     "data": {
      "text/html": [
       "<div>\n",
       "<style scoped>\n",
       "    .dataframe tbody tr th:only-of-type {\n",
       "        vertical-align: middle;\n",
       "    }\n",
       "\n",
       "    .dataframe tbody tr th {\n",
       "        vertical-align: top;\n",
       "    }\n",
       "\n",
       "    .dataframe thead th {\n",
       "        text-align: right;\n",
       "    }\n",
       "</style>\n",
       "<table border=\"1\" class=\"dataframe\">\n",
       "  <thead>\n",
       "    <tr style=\"text-align: right;\">\n",
       "      <th></th>\n",
       "      <th>voyage_id</th>\n",
       "      <th>PingDate</th>\n",
       "      <th>PingHour</th>\n",
       "      <th>latitude</th>\n",
       "      <th>longitude</th>\n",
       "      <th>speed_over_ground</th>\n",
       "      <th>PingCount</th>\n",
       "    </tr>\n",
       "  </thead>\n",
       "  <tbody>\n",
       "    <tr>\n",
       "      <td>0</td>\n",
       "      <td>194</td>\n",
       "      <td>2013-12-31</td>\n",
       "      <td>23</td>\n",
       "      <td>47.601390</td>\n",
       "      <td>-122.338623</td>\n",
       "      <td>0.400000</td>\n",
       "      <td>1</td>\n",
       "    </tr>\n",
       "    <tr>\n",
       "      <td>1</td>\n",
       "      <td>194</td>\n",
       "      <td>2014-01-01</td>\n",
       "      <td>0</td>\n",
       "      <td>47.580016</td>\n",
       "      <td>-122.379219</td>\n",
       "      <td>8.506780</td>\n",
       "      <td>59</td>\n",
       "    </tr>\n",
       "    <tr>\n",
       "      <td>2</td>\n",
       "      <td>194</td>\n",
       "      <td>2014-01-01</td>\n",
       "      <td>1</td>\n",
       "      <td>47.562070</td>\n",
       "      <td>-122.416283</td>\n",
       "      <td>17.494915</td>\n",
       "      <td>59</td>\n",
       "    </tr>\n",
       "    <tr>\n",
       "      <td>3</td>\n",
       "      <td>194</td>\n",
       "      <td>2014-01-01</td>\n",
       "      <td>2</td>\n",
       "      <td>47.566066</td>\n",
       "      <td>-122.408112</td>\n",
       "      <td>16.954237</td>\n",
       "      <td>59</td>\n",
       "    </tr>\n",
       "    <tr>\n",
       "      <td>4</td>\n",
       "      <td>194</td>\n",
       "      <td>2014-01-01</td>\n",
       "      <td>3</td>\n",
       "      <td>47.584296</td>\n",
       "      <td>-122.379992</td>\n",
       "      <td>10.066102</td>\n",
       "      <td>59</td>\n",
       "    </tr>\n",
       "    <tr>\n",
       "      <td>5</td>\n",
       "      <td>194</td>\n",
       "      <td>2014-01-22</td>\n",
       "      <td>13</td>\n",
       "      <td>47.613270</td>\n",
       "      <td>-122.353395</td>\n",
       "      <td>0.042857</td>\n",
       "      <td>14</td>\n",
       "    </tr>\n",
       "    <tr>\n",
       "      <td>6</td>\n",
       "      <td>16401</td>\n",
       "      <td>2014-01-22</td>\n",
       "      <td>14</td>\n",
       "      <td>47.603759</td>\n",
       "      <td>-122.353490</td>\n",
       "      <td>1.756897</td>\n",
       "      <td>58</td>\n",
       "    </tr>\n",
       "    <tr>\n",
       "      <td>7</td>\n",
       "      <td>16401</td>\n",
       "      <td>2014-01-22</td>\n",
       "      <td>15</td>\n",
       "      <td>47.611186</td>\n",
       "      <td>-122.353601</td>\n",
       "      <td>1.636842</td>\n",
       "      <td>57</td>\n",
       "    </tr>\n",
       "    <tr>\n",
       "      <td>8</td>\n",
       "      <td>16401</td>\n",
       "      <td>2014-01-22</td>\n",
       "      <td>16</td>\n",
       "      <td>47.781651</td>\n",
       "      <td>-122.453801</td>\n",
       "      <td>26.215000</td>\n",
       "      <td>60</td>\n",
       "    </tr>\n",
       "    <tr>\n",
       "      <td>9</td>\n",
       "      <td>16541</td>\n",
       "      <td>2014-01-22</td>\n",
       "      <td>17</td>\n",
       "      <td>48.163171</td>\n",
       "      <td>-122.777206</td>\n",
       "      <td>28.193220</td>\n",
       "      <td>59</td>\n",
       "    </tr>\n",
       "  </tbody>\n",
       "</table>\n",
       "</div>"
      ],
      "text/plain": [
       "   voyage_id    PingDate  PingHour   latitude   longitude  speed_over_ground  \\\n",
       "0        194  2013-12-31        23  47.601390 -122.338623           0.400000   \n",
       "1        194  2014-01-01         0  47.580016 -122.379219           8.506780   \n",
       "2        194  2014-01-01         1  47.562070 -122.416283          17.494915   \n",
       "3        194  2014-01-01         2  47.566066 -122.408112          16.954237   \n",
       "4        194  2014-01-01         3  47.584296 -122.379992          10.066102   \n",
       "5        194  2014-01-22        13  47.613270 -122.353395           0.042857   \n",
       "6      16401  2014-01-22        14  47.603759 -122.353490           1.756897   \n",
       "7      16401  2014-01-22        15  47.611186 -122.353601           1.636842   \n",
       "8      16401  2014-01-22        16  47.781651 -122.453801          26.215000   \n",
       "9      16541  2014-01-22        17  48.163171 -122.777206          28.193220   \n",
       "\n",
       "   PingCount  \n",
       "0          1  \n",
       "1         59  \n",
       "2         59  \n",
       "3         59  \n",
       "4         59  \n",
       "5         14  \n",
       "6         58  \n",
       "7         57  \n",
       "8         60  \n",
       "9         59  "
      ]
     },
     "execution_count": 500,
     "metadata": {},
     "output_type": "execute_result"
    }
   ],
   "source": [
    "mygroup = df.groupby(['voyage_id', 'PingDate', 'PingHour'])\n",
    "sampling = mygroup['latitude', 'longitude', 'speed_over_ground'].mean()  \n",
    "sampling['PingCount'] = mygroup['latitude'].count()\n",
    "sampling.reset_index(inplace=True)\n",
    "sampling.head(10)"
   ]
  },
  {
   "cell_type": "code",
   "execution_count": null,
   "metadata": {},
   "outputs": [],
   "source": []
  },
  {
   "cell_type": "code",
   "execution_count": 501,
   "metadata": {},
   "outputs": [
    {
     "data": {
      "text/html": [
       "<div>\n",
       "<style scoped>\n",
       "    .dataframe tbody tr th:only-of-type {\n",
       "        vertical-align: middle;\n",
       "    }\n",
       "\n",
       "    .dataframe tbody tr th {\n",
       "        vertical-align: top;\n",
       "    }\n",
       "\n",
       "    .dataframe thead th {\n",
       "        text-align: right;\n",
       "    }\n",
       "</style>\n",
       "<table border=\"1\" class=\"dataframe\">\n",
       "  <thead>\n",
       "    <tr style=\"text-align: right;\">\n",
       "      <th></th>\n",
       "      <th>voyage_id</th>\n",
       "      <th>PingDate</th>\n",
       "      <th>PingHour</th>\n",
       "      <th>latitude</th>\n",
       "      <th>longitude</th>\n",
       "      <th>speed_over_ground</th>\n",
       "      <th>PingCount</th>\n",
       "      <th>Text</th>\n",
       "    </tr>\n",
       "  </thead>\n",
       "  <tbody>\n",
       "    <tr>\n",
       "      <td>0</td>\n",
       "      <td>194</td>\n",
       "      <td>2013-12-31</td>\n",
       "      <td>23</td>\n",
       "      <td>47.601390</td>\n",
       "      <td>-122.338623</td>\n",
       "      <td>0.400000</td>\n",
       "      <td>1</td>\n",
       "      <td>2013-12-31:23-V:194 - SOG: 0.4 - Count: 1 (47....</td>\n",
       "    </tr>\n",
       "    <tr>\n",
       "      <td>1</td>\n",
       "      <td>194</td>\n",
       "      <td>2014-01-01</td>\n",
       "      <td>0</td>\n",
       "      <td>47.580016</td>\n",
       "      <td>-122.379219</td>\n",
       "      <td>8.506780</td>\n",
       "      <td>59</td>\n",
       "      <td>2014-01-01:0-V:194 - SOG: 8.5 - Count: 59 (47....</td>\n",
       "    </tr>\n",
       "    <tr>\n",
       "      <td>2</td>\n",
       "      <td>194</td>\n",
       "      <td>2014-01-01</td>\n",
       "      <td>1</td>\n",
       "      <td>47.562070</td>\n",
       "      <td>-122.416283</td>\n",
       "      <td>17.494915</td>\n",
       "      <td>59</td>\n",
       "      <td>2014-01-01:1-V:194 - SOG: 17.5 - Count: 59 (47...</td>\n",
       "    </tr>\n",
       "    <tr>\n",
       "      <td>3</td>\n",
       "      <td>194</td>\n",
       "      <td>2014-01-01</td>\n",
       "      <td>2</td>\n",
       "      <td>47.566066</td>\n",
       "      <td>-122.408112</td>\n",
       "      <td>16.954237</td>\n",
       "      <td>59</td>\n",
       "      <td>2014-01-01:2-V:194 - SOG: 17.0 - Count: 59 (47...</td>\n",
       "    </tr>\n",
       "    <tr>\n",
       "      <td>4</td>\n",
       "      <td>194</td>\n",
       "      <td>2014-01-01</td>\n",
       "      <td>3</td>\n",
       "      <td>47.584296</td>\n",
       "      <td>-122.379992</td>\n",
       "      <td>10.066102</td>\n",
       "      <td>59</td>\n",
       "      <td>2014-01-01:3-V:194 - SOG: 10.1 - Count: 59 (47...</td>\n",
       "    </tr>\n",
       "  </tbody>\n",
       "</table>\n",
       "</div>"
      ],
      "text/plain": [
       "   voyage_id    PingDate  PingHour   latitude   longitude  speed_over_ground  \\\n",
       "0        194  2013-12-31        23  47.601390 -122.338623           0.400000   \n",
       "1        194  2014-01-01         0  47.580016 -122.379219           8.506780   \n",
       "2        194  2014-01-01         1  47.562070 -122.416283          17.494915   \n",
       "3        194  2014-01-01         2  47.566066 -122.408112          16.954237   \n",
       "4        194  2014-01-01         3  47.584296 -122.379992          10.066102   \n",
       "\n",
       "   PingCount                                               Text  \n",
       "0          1  2013-12-31:23-V:194 - SOG: 0.4 - Count: 1 (47....  \n",
       "1         59  2014-01-01:0-V:194 - SOG: 8.5 - Count: 59 (47....  \n",
       "2         59  2014-01-01:1-V:194 - SOG: 17.5 - Count: 59 (47...  \n",
       "3         59  2014-01-01:2-V:194 - SOG: 17.0 - Count: 59 (47...  \n",
       "4         59  2014-01-01:3-V:194 - SOG: 10.1 - Count: 59 (47...  "
      ]
     },
     "execution_count": 501,
     "metadata": {},
     "output_type": "execute_result"
    }
   ],
   "source": [
    "sampling['Text'] = sampling.apply(lambda x: \"{}:{}-V:{} - SOG: {} - Count: {} ({}, {})\".format(x.PingDate, x.PingHour, x.voyage_id, round(x.speed_over_ground, 1), x.PingCount, round(x.latitude, 3), round(x.longitude, 3)), axis=1)   \n",
    "sampling.head()"
   ]
  },
  {
   "cell_type": "code",
   "execution_count": 502,
   "metadata": {},
   "outputs": [
    {
     "data": {
      "text/plain": [
       "(69, 8)"
      ]
     },
     "execution_count": 502,
     "metadata": {},
     "output_type": "execute_result"
    }
   ],
   "source": [
    "sampling.shape"
   ]
  },
  {
   "cell_type": "code",
   "execution_count": 511,
   "metadata": {},
   "outputs": [],
   "source": [
    "# sampling.to_csv(OutputDir + 'sampling_366089092.csv', index=None, header = True)"
   ]
  },
  {
   "cell_type": "code",
   "execution_count": null,
   "metadata": {},
   "outputs": [],
   "source": []
  },
  {
   "cell_type": "code",
   "execution_count": 504,
   "metadata": {},
   "outputs": [],
   "source": [
    "K_clusters = range(1,10)\n",
    "\n",
    "kmeans = [KMeans(n_clusters=i) for i in K_clusters]\n",
    "\n",
    "Y_axis = df[['latitude']]\n",
    "X_axis = df[['longitude']]\n",
    "\n",
    "score = [kmeans[i].fit(Y_axis).score(Y_axis) for i in range(len(kmeans))]"
   ]
  },
  {
   "cell_type": "code",
   "execution_count": 505,
   "metadata": {},
   "outputs": [
    {
     "data": {
      "image/png": "[encoded data removed]",
      "text/plain": [
       "<Figure size 432x288 with 1 Axes>"
      ]
     },
     "metadata": {},
     "output_type": "display_data"
    }
   ],
   "source": [
    "plt.plot(K_clusters, score)\n",
    "plt.xlabel('Number of Clusters')\n",
    "plt.ylabel('Score')\n",
    "plt.title('Elbow Curve')\n",
    "plt.show()"
   ]
  },
  {
   "cell_type": "code",
   "execution_count": 506,
   "metadata": {},
   "outputs": [
    {
     "data": {
      "text/html": [
       "<div>\n",
       "<style scoped>\n",
       "    .dataframe tbody tr th:only-of-type {\n",
       "        vertical-align: middle;\n",
       "    }\n",
       "\n",
       "    .dataframe tbody tr th {\n",
       "        vertical-align: top;\n",
       "    }\n",
       "\n",
       "    .dataframe thead th {\n",
       "        text-align: right;\n",
       "    }\n",
       "</style>\n",
       "<table border=\"1\" class=\"dataframe\">\n",
       "  <thead>\n",
       "    <tr style=\"text-align: right;\">\n",
       "      <th></th>\n",
       "      <th>date_time</th>\n",
       "      <th>latitude</th>\n",
       "      <th>longitude</th>\n",
       "      <th>speed_over_ground</th>\n",
       "      <th>voyage_id</th>\n",
       "      <th>PingDate</th>\n",
       "      <th>PingHour</th>\n",
       "      <th>cluster_label</th>\n",
       "    </tr>\n",
       "  </thead>\n",
       "  <tbody>\n",
       "    <tr>\n",
       "      <td>193</td>\n",
       "      <td>2013-12-31 23:57:46</td>\n",
       "      <td>47.601390</td>\n",
       "      <td>-122.338623</td>\n",
       "      <td>0.4</td>\n",
       "      <td>194</td>\n",
       "      <td>2013-12-31</td>\n",
       "      <td>23</td>\n",
       "      <td>6</td>\n",
       "    </tr>\n",
       "    <tr>\n",
       "      <td>388</td>\n",
       "      <td>2014-01-01 00:00:06</td>\n",
       "      <td>47.601403</td>\n",
       "      <td>-122.338600</td>\n",
       "      <td>0.0</td>\n",
       "      <td>194</td>\n",
       "      <td>2014-01-01</td>\n",
       "      <td>0</td>\n",
       "      <td>6</td>\n",
       "    </tr>\n",
       "    <tr>\n",
       "      <td>1016</td>\n",
       "      <td>2014-01-01 00:01:05</td>\n",
       "      <td>47.601405</td>\n",
       "      <td>-122.338598</td>\n",
       "      <td>0.0</td>\n",
       "      <td>194</td>\n",
       "      <td>2014-01-01</td>\n",
       "      <td>0</td>\n",
       "      <td>6</td>\n",
       "    </tr>\n",
       "    <tr>\n",
       "      <td>1557</td>\n",
       "      <td>2014-01-01 00:02:07</td>\n",
       "      <td>47.601402</td>\n",
       "      <td>-122.338602</td>\n",
       "      <td>0.0</td>\n",
       "      <td>194</td>\n",
       "      <td>2014-01-01</td>\n",
       "      <td>0</td>\n",
       "      <td>6</td>\n",
       "    </tr>\n",
       "    <tr>\n",
       "      <td>2034</td>\n",
       "      <td>2014-01-01 00:03:06</td>\n",
       "      <td>47.601398</td>\n",
       "      <td>-122.338603</td>\n",
       "      <td>0.0</td>\n",
       "      <td>194</td>\n",
       "      <td>2014-01-01</td>\n",
       "      <td>0</td>\n",
       "      <td>6</td>\n",
       "    </tr>\n",
       "  </tbody>\n",
       "</table>\n",
       "</div>"
      ],
      "text/plain": [
       "               date_time   latitude   longitude  speed_over_ground  voyage_id  \\\n",
       "193  2013-12-31 23:57:46  47.601390 -122.338623                0.4        194   \n",
       "388  2014-01-01 00:00:06  47.601403 -122.338600                0.0        194   \n",
       "1016 2014-01-01 00:01:05  47.601405 -122.338598                0.0        194   \n",
       "1557 2014-01-01 00:02:07  47.601402 -122.338602                0.0        194   \n",
       "2034 2014-01-01 00:03:06  47.601398 -122.338603                0.0        194   \n",
       "\n",
       "        PingDate  PingHour  cluster_label  \n",
       "193   2013-12-31        23              6  \n",
       "388   2014-01-01         0              6  \n",
       "1016  2014-01-01         0              6  \n",
       "1557  2014-01-01         0              6  \n",
       "2034  2014-01-01         0              6  "
      ]
     },
     "execution_count": 506,
     "metadata": {},
     "output_type": "execute_result"
    }
   ],
   "source": [
    "kmeans = KMeans(n_clusters = 7, init ='k-means++')\n",
    "\n",
    "X = df[['latitude', 'longitude']]\n",
    "kmeans.fit(X)                                   # Compute k-means clustering. # Compute k-means clustering.\n",
    "\n",
    "df['cluster_label'] = kmeans.predict(X)                      # Labels of each point\n",
    "\n",
    "centers = kmeans.cluster_centers_               # Coordinates of cluster centers.\n",
    "# labels = kmeans.predict(X)                      # Labels of each point\n",
    "\n",
    "df.head()"
   ]
  },
  {
   "cell_type": "code",
   "execution_count": 507,
   "metadata": {},
   "outputs": [
    {
     "data": {
      "text/plain": [
       "array([[  47.6707828 , -122.39596397],\n",
       "       [  48.41607703, -123.36898988],\n",
       "       [  48.06962387, -122.65549799],\n",
       "       [  48.21062084, -122.87222819],\n",
       "       [  47.88219581, -122.4872235 ],\n",
       "       [  48.30373436, -123.12433868],\n",
       "       [  47.59509303, -122.37188677]])"
      ]
     },
     "execution_count": 507,
     "metadata": {},
     "output_type": "execute_result"
    }
   ],
   "source": [
    "centers"
   ]
  },
  {
   "cell_type": "code",
   "execution_count": 508,
   "metadata": {},
   "outputs": [
    {
     "data": {
      "text/html": [
       "<div>\n",
       "<style scoped>\n",
       "    .dataframe tbody tr th:only-of-type {\n",
       "        vertical-align: middle;\n",
       "    }\n",
       "\n",
       "    .dataframe tbody tr th {\n",
       "        vertical-align: top;\n",
       "    }\n",
       "\n",
       "    .dataframe thead tr th {\n",
       "        text-align: left;\n",
       "    }\n",
       "\n",
       "    .dataframe thead tr:last-of-type th {\n",
       "        text-align: right;\n",
       "    }\n",
       "</style>\n",
       "<table border=\"1\" class=\"dataframe\">\n",
       "  <thead>\n",
       "    <tr>\n",
       "      <th></th>\n",
       "      <th>date_time</th>\n",
       "    </tr>\n",
       "    <tr>\n",
       "      <th></th>\n",
       "      <th>count</th>\n",
       "    </tr>\n",
       "    <tr>\n",
       "      <th>cluster_label</th>\n",
       "      <th></th>\n",
       "    </tr>\n",
       "  </thead>\n",
       "  <tbody>\n",
       "    <tr>\n",
       "      <td>0</td>\n",
       "      <td>707</td>\n",
       "    </tr>\n",
       "    <tr>\n",
       "      <td>1</td>\n",
       "      <td>403</td>\n",
       "    </tr>\n",
       "    <tr>\n",
       "      <td>2</td>\n",
       "      <td>116</td>\n",
       "    </tr>\n",
       "    <tr>\n",
       "      <td>3</td>\n",
       "      <td>99</td>\n",
       "    </tr>\n",
       "    <tr>\n",
       "      <td>4</td>\n",
       "      <td>115</td>\n",
       "    </tr>\n",
       "    <tr>\n",
       "      <td>5</td>\n",
       "      <td>102</td>\n",
       "    </tr>\n",
       "    <tr>\n",
       "      <td>6</td>\n",
       "      <td>581</td>\n",
       "    </tr>\n",
       "  </tbody>\n",
       "</table>\n",
       "</div>"
      ],
      "text/plain": [
       "              date_time\n",
       "                  count\n",
       "cluster_label          \n",
       "0                   707\n",
       "1                   403\n",
       "2                   116\n",
       "3                    99\n",
       "4                   115\n",
       "5                   102\n",
       "6                   581"
      ]
     },
     "execution_count": 508,
     "metadata": {},
     "output_type": "execute_result"
    }
   ],
   "source": [
    "# Cluster, ping counts\n",
    "PingCluster = df.groupby('cluster_label').agg({'date_time': ['count']})   #.reset_index()\n",
    "PingCluster"
   ]
  },
  {
   "cell_type": "code",
   "execution_count": 509,
   "metadata": {},
   "outputs": [
    {
     "data": {
      "image/png": "[encoded data removed]",
      "text/plain": [
       "<Figure size 1728x1224 with 1 Axes>"
      ]
     },
     "metadata": {},
     "output_type": "display_data"
    }
   ],
   "source": [
    "fig = plt.figure(figsize=(24,17))\n",
    "ax = fig.add_subplot()\n",
    "\n",
    "ax.scatter(df.longitude, df.latitude, s=10, lw=0, c=df['cluster_label'], cmap='viridis', alpha=0.2)\n",
    "ax.scatter(centers[:, 1], centers[:, 0], c='black', s=100, alpha=0.5)\n",
    "\n",
    "ax.set_xlabel('Longitude')\n",
    "ax.set_ylabel('Latitude')\n",
    "ax.set_title('Vessel Coordinate Clusters')\n",
    "plt.show()"
   ]
  },
  {
   "cell_type": "code",
   "execution_count": null,
   "metadata": {},
   "outputs": [],
   "source": []
  },
  {
   "cell_type": "code",
   "execution_count": null,
   "metadata": {},
   "outputs": [],
   "source": []
  },
  {
   "cell_type": "code",
   "execution_count": 510,
   "metadata": {},
   "outputs": [
    {
     "data": {
      "text/html": [
       "<div style=\"width:100%;\"><div style=\"position:relative;width:100%;height:0;padding-bottom:60%;\"><span style=\"color:#565656\">Make this Notebook Trusted to load map: File -> Trust Notebook</span><iframe src=\"about:blank\" style=\"position:absolute;width:100%;height:100%;left:0;top:0;border:none !important;\" data-html=%3C%21DOCTYPE%20html%3E%0A%3Chead%3E%20%20%20%20%0A%20%20%20%20%3Cmeta%20http-equiv%3D%22content-type%22%20content%3D%22text/html%3B%20charset%3DUTF-8%22%20/%3E%0A%20%20%20%20%0A%20%20%20%20%20%20%20%20%3Cscript%3E%0A%20%20%20%20%20%20%20%20%20%20%20%20L_NO_TOUCH%20%3D%20false%3B%0A%20%20%20%20%20%20%20%20%20%20%20%20L_DISABLE_3D%20%3D%20false%3B%0A%20%20%20%20%20%20%20%20%3C/script%3E%0A%20%20%20%20%0A%20%20%20%20%3Cscript%20src%3D%22https%3A//cdn.jsdelivr.net/npm/leaflet%401.6.0/dist/leaflet.js%22%3E%3C/script%3E%0A%20%20%20%20%3Cscript%20src%3D%22https%3A//code.jquery.com/jquery-1.12.4.min.js%22%3E%3C/script%3E%0A%20%20%20%20%3Cscript%20src%3D%22https%3A//maxcdn.bootstrapcdn.com/bootstrap/3.2.0/js/bootstrap.min.js%22%3E%3C/script%3E%0A%20%20%20%20%3Cscript%20src%3D%22https%3A//cdnjs.cloudflare.com/ajax/libs/Leaflet.awesome-markers/2.0.2/leaflet.awesome-markers.js%22%3E%3C/script%3E%0A%20%20%20%20%3Clink%20rel%3D%22stylesheet%22%20href%3D%22https%3A//cdn.jsdelivr.net/npm/leaflet%401.6.0/dist/leaflet.css%22/%3E%0A%20%20%20%20%3Clink%20rel%3D%22stylesheet%22%20href%3D%22https%3A//maxcdn.bootstrapcdn.com/bootstrap/3.2.0/css/bootstrap.min.css%22/%3E%0A%20%20%20%20%3Clink%20rel%3D%22stylesheet%22%20href%3D%22https%3A//maxcdn.bootstrapcdn.com/bootstrap/3.2.0/css/bootstrap-theme.min.css%22/%3E%0A%20%20%20%20%3Clink%20rel%3D%22stylesheet%22%20href%3D%22https%3A//maxcdn.bootstrapcdn.com/font-awesome/4.6.3/css/font-awesome.min.css%22/%3E%0A%20%20%20%20%3Clink%20rel%3D%22stylesheet%22%20href%3D%22https%3A//cdnjs.cloudflare.com/ajax/libs/Leaflet.awesome-markers/2.0.2/leaflet.awesome-markers.css%22/%3E%0A%20%20%20%20%3Clink%20rel%3D%22stylesheet%22%20href%3D%22https%3A//rawcdn.githack.com/python-visualization/folium/master/folium/templates/leaflet.awesome.rotate.css%22/%3E%0A%20%20%20%20%3Cstyle%3Ehtml%2C%20body%20%7Bwidth%3A%20100%25%3Bheight%3A%20100%25%3Bmargin%3A%200%3Bpadding%3A%200%3B%7D%3C/style%3E%0A%20%20%20%20%3Cstyle%3E%23map%20%7Bposition%3Aabsolute%3Btop%3A0%3Bbottom%3A0%3Bright%3A0%3Bleft%3A0%3B%7D%3C/style%3E%0A%20%20%20%20%0A%20%20%20%20%20%20%20%20%20%20%20%20%3Cmeta%20name%3D%22viewport%22%20content%3D%22width%3Ddevice-width%2C%0A%20%20%20%20%20%20%20%20%20%20%20%20%20%20%20%20initial-scale%3D1.0%2C%20maximum-scale%3D1.0%2C%20user-scalable%3Dno%22%20/%3E%0A%20%20%20%20%20%20%20%20%20%20%20%20%3Cstyle%3E%0A%20%20%20%20%20%20%20%20%20%20%20%20%20%20%20%20%23map_573e09fe658a4a02afe002c692c26e7a%20%7B%0A%20%20%20%20%20%20%20%20%20%20%20%20%20%20%20%20%20%20%20%20position%3A%20relative%3B%0A%20%20%20%20%20%20%20%20%20%20%20%20%20%20%20%20%20%20%20%20width%3A%20100.0%25%3B%0A%20%20%20%20%20%20%20%20%20%20%20%20%20%20%20%20%20%20%20%20height%3A%20100.0%25%3B%0A%20%20%20%20%20%20%20%20%20%20%20%20%20%20%20%20%20%20%20%20left%3A%200.0%25%3B%0A%20%20%20%20%20%20%20%20%20%20%20%20%20%20%20%20%20%20%20%20top%3A%200.0%25%3B%0A%20%20%20%20%20%20%20%20%20%20%20%20%20%20%20%20%7D%0A%20%20%20%20%20%20%20%20%20%20%20%20%3C/style%3E%0A%20%20%20%20%20%20%20%20%0A%3C/head%3E%0A%3Cbody%3E%20%20%20%20%0A%20%20%20%20%0A%20%20%20%20%20%20%20%20%20%20%20%20%3Cdiv%20class%3D%22folium-map%22%20id%3D%22map_573e09fe658a4a02afe002c692c26e7a%22%20%3E%3C/div%3E%0A%20%20%20%20%20%20%20%20%0A%3C/body%3E%0A%3Cscript%3E%20%20%20%20%0A%20%20%20%20%0A%20%20%20%20%20%20%20%20%20%20%20%20var%20map_573e09fe658a4a02afe002c692c26e7a%20%3D%20L.map%28%0A%20%20%20%20%20%20%20%20%20%20%20%20%20%20%20%20%22map_573e09fe658a4a02afe002c692c26e7a%22%2C%0A%20%20%20%20%20%20%20%20%20%20%20%20%20%20%20%20%7B%0A%20%20%20%20%20%20%20%20%20%20%20%20%20%20%20%20%20%20%20%20center%3A%20%5B47.60139%2C%20-122.338623%5D%2C%0A%20%20%20%20%20%20%20%20%20%20%20%20%20%20%20%20%20%20%20%20crs%3A%20L.CRS.EPSG3857%2C%0A%20%20%20%20%20%20%20%20%20%20%20%20%20%20%20%20%20%20%20%20zoom%3A%208%2C%0A%20%20%20%20%20%20%20%20%20%20%20%20%20%20%20%20%20%20%20%20zoomControl%3A%20true%2C%0A%20%20%20%20%20%20%20%20%20%20%20%20%20%20%20%20%20%20%20%20preferCanvas%3A%20false%2C%0A%20%20%20%20%20%20%20%20%20%20%20%20%20%20%20%20%7D%0A%20%20%20%20%20%20%20%20%20%20%20%20%29%3B%0A%0A%20%20%20%20%20%20%20%20%20%20%20%20%0A%0A%20%20%20%20%20%20%20%20%0A%20%20%20%20%0A%20%20%20%20%20%20%20%20%20%20%20%20var%20tile_layer_82d00290d800431880bb53d29383a161%20%3D%20L.tileLayer%28%0A%20%20%20%20%20%20%20%20%20%20%20%20%20%20%20%20%22https%3A//%7Bs%7D.tile.openstreetmap.org/%7Bz%7D/%7Bx%7D/%7By%7D.png%22%2C%0A%20%20%20%20%20%20%20%20%20%20%20%20%20%20%20%20%7B%22attribution%22%3A%20%22Data%20by%20%5Cu0026copy%3B%20%5Cu003ca%20href%3D%5C%22http%3A//openstreetmap.org%5C%22%5Cu003eOpenStreetMap%5Cu003c/a%5Cu003e%2C%20under%20%5Cu003ca%20href%3D%5C%22http%3A//www.openstreetmap.org/copyright%5C%22%5Cu003eODbL%5Cu003c/a%5Cu003e.%22%2C%20%22detectRetina%22%3A%20false%2C%20%22maxNativeZoom%22%3A%2018%2C%20%22maxZoom%22%3A%2018%2C%20%22minZoom%22%3A%200%2C%20%22noWrap%22%3A%20false%2C%20%22opacity%22%3A%201%2C%20%22subdomains%22%3A%20%22abc%22%2C%20%22tms%22%3A%20false%7D%0A%20%20%20%20%20%20%20%20%20%20%20%20%29.addTo%28map_573e09fe658a4a02afe002c692c26e7a%29%3B%0A%20%20%20%20%20%20%20%20%0A%20%20%20%20%0A%20%20%20%20%20%20%20%20%20%20%20%20var%20marker_2a4c4bdb63044965a4f101069af526b5%20%3D%20L.marker%28%0A%20%20%20%20%20%20%20%20%20%20%20%20%20%20%20%20%5B47.60139%2C%20-122.338623%5D%2C%0A%20%20%20%20%20%20%20%20%20%20%20%20%20%20%20%20%7B%7D%0A%20%20%20%20%20%20%20%20%20%20%20%20%29.addTo%28map_573e09fe658a4a02afe002c692c26e7a%29%3B%0A%20%20%20%20%20%20%20%20%0A%20%20%20%20%0A%20%20%20%20%20%20%20%20var%20popup_e229f5faf8bc480188b463fa6b30bb26%20%3D%20L.popup%28%7B%22maxWidth%22%3A%20%22100%25%22%7D%29%3B%0A%0A%20%20%20%20%20%20%20%20%0A%20%20%20%20%20%20%20%20%20%20%20%20var%20html_1c7640a8209849069a5aec2d65de5c71%20%3D%20%24%28%60%3Cdiv%20id%3D%22html_1c7640a8209849069a5aec2d65de5c71%22%20style%3D%22width%3A%20100.0%25%3B%20height%3A%20100.0%25%3B%22%3E2013-12-31%3A23-V%3A194%20-%20SOG%3A%200.4%20-%20Count%3A%201%20%2847.601%2C%20-122.339%29%3C/div%3E%60%29%5B0%5D%3B%0A%20%20%20%20%20%20%20%20%20%20%20%20popup_e229f5faf8bc480188b463fa6b30bb26.setContent%28html_1c7640a8209849069a5aec2d65de5c71%29%3B%0A%20%20%20%20%20%20%20%20%0A%0A%20%20%20%20%20%20%20%20marker_2a4c4bdb63044965a4f101069af526b5.bindPopup%28popup_e229f5faf8bc480188b463fa6b30bb26%29%0A%20%20%20%20%20%20%20%20%3B%0A%0A%20%20%20%20%20%20%20%20%0A%20%20%20%20%0A%20%20%20%20%0A%20%20%20%20%20%20%20%20%20%20%20%20var%20marker_fd6034f29ed340b08d380ddf84bb509f%20%3D%20L.marker%28%0A%20%20%20%20%20%20%20%20%20%20%20%20%20%20%20%20%5B47.580015661016944%2C%20-122.37921850847455%5D%2C%0A%20%20%20%20%20%20%20%20%20%20%20%20%20%20%20%20%7B%7D%0A%20%20%20%20%20%20%20%20%20%20%20%20%29.addTo%28map_573e09fe658a4a02afe002c692c26e7a%29%3B%0A%20%20%20%20%20%20%20%20%0A%20%20%20%20%0A%20%20%20%20%20%20%20%20var%20popup_d27ea0aa573c4ee09407c8e911b5ad83%20%3D%20L.popup%28%7B%22maxWidth%22%3A%20%22100%25%22%7D%29%3B%0A%0A%20%20%20%20%20%20%20%20%0A%20%20%20%20%20%20%20%20%20%20%20%20var%20html_4ea4140ce1994610aa6e0384c685e90c%20%3D%20%24%28%60%3Cdiv%20id%3D%22html_4ea4140ce1994610aa6e0384c685e90c%22%20style%3D%22width%3A%20100.0%25%3B%20height%3A%20100.0%25%3B%22%3E2014-01-01%3A0-V%3A194%20-%20SOG%3A%208.5%20-%20Count%3A%2059%20%2847.58%2C%20-122.379%29%3C/div%3E%60%29%5B0%5D%3B%0A%20%20%20%20%20%20%20%20%20%20%20%20popup_d27ea0aa573c4ee09407c8e911b5ad83.setContent%28html_4ea4140ce1994610aa6e0384c685e90c%29%3B%0A%20%20%20%20%20%20%20%20%0A%0A%20%20%20%20%20%20%20%20marker_fd6034f29ed340b08d380ddf84bb509f.bindPopup%28popup_d27ea0aa573c4ee09407c8e911b5ad83%29%0A%20%20%20%20%20%20%20%20%3B%0A%0A%20%20%20%20%20%20%20%20%0A%20%20%20%20%0A%20%20%20%20%0A%20%20%20%20%20%20%20%20%20%20%20%20var%20marker_f4e70e568f744c239479f4f353c1ad70%20%3D%20L.marker%28%0A%20%20%20%20%20%20%20%20%20%20%20%20%20%20%20%20%5B47.562069949152544%2C%20-122.41628318644068%5D%2C%0A%20%20%20%20%20%20%20%20%20%20%20%20%20%20%20%20%7B%7D%0A%20%20%20%20%20%20%20%20%20%20%20%20%29.addTo%28map_573e09fe658a4a02afe002c692c26e7a%29%3B%0A%20%20%20%20%20%20%20%20%0A%20%20%20%20%0A%20%20%20%20%20%20%20%20var%20popup_e70f70ed9a794438803fe08c19b040d1%20%3D%20L.popup%28%7B%22maxWidth%22%3A%20%22100%25%22%7D%29%3B%0A%0A%20%20%20%20%20%20%20%20%0A%20%20%20%20%20%20%20%20%20%20%20%20var%20html_8afb1e8c6d6b49d6b119b27731e8b13c%20%3D%20%24%28%60%3Cdiv%20id%3D%22html_8afb1e8c6d6b49d6b119b27731e8b13c%22%20style%3D%22width%3A%20100.0%25%3B%20height%3A%20100.0%25%3B%22%3E2014-01-01%3A1-V%3A194%20-%20SOG%3A%2017.5%20-%20Count%3A%2059%20%2847.562%2C%20-122.416%29%3C/div%3E%60%29%5B0%5D%3B%0A%20%20%20%20%20%20%20%20%20%20%20%20popup_e70f70ed9a794438803fe08c19b040d1.setContent%28html_8afb1e8c6d6b49d6b119b27731e8b13c%29%3B%0A%20%20%20%20%20%20%20%20%0A%0A%20%20%20%20%20%20%20%20marker_f4e70e568f744c239479f4f353c1ad70.bindPopup%28popup_e70f70ed9a794438803fe08c19b040d1%29%0A%20%20%20%20%20%20%20%20%3B%0A%0A%20%20%20%20%20%20%20%20%0A%20%20%20%20%0A%20%20%20%20%0A%20%20%20%20%20%20%20%20%20%20%20%20var%20marker_416a0054b28540368701db8d9701b1fa%20%3D%20L.marker%28%0A%20%20%20%20%20%20%20%20%20%20%20%20%20%20%20%20%5B47.56606594915255%2C%20-122.4081120169492%5D%2C%0A%20%20%20%20%20%20%20%20%20%20%20%20%20%20%20%20%7B%7D%0A%20%20%20%20%20%20%20%20%20%20%20%20%29.addTo%28map_573e09fe658a4a02afe002c692c26e7a%29%3B%0A%20%20%20%20%20%20%20%20%0A%20%20%20%20%0A%20%20%20%20%20%20%20%20var%20popup_a265d77fee5248f1b4fb327e0d451d73%20%3D%20L.popup%28%7B%22maxWidth%22%3A%20%22100%25%22%7D%29%3B%0A%0A%20%20%20%20%20%20%20%20%0A%20%20%20%20%20%20%20%20%20%20%20%20var%20html_f4b98a59056040619440a1d8bef71ed2%20%3D%20%24%28%60%3Cdiv%20id%3D%22html_f4b98a59056040619440a1d8bef71ed2%22%20style%3D%22width%3A%20100.0%25%3B%20height%3A%20100.0%25%3B%22%3E2014-01-01%3A2-V%3A194%20-%20SOG%3A%2017.0%20-%20Count%3A%2059%20%2847.566%2C%20-122.408%29%3C/div%3E%60%29%5B0%5D%3B%0A%20%20%20%20%20%20%20%20%20%20%20%20popup_a265d77fee5248f1b4fb327e0d451d73.setContent%28html_f4b98a59056040619440a1d8bef71ed2%29%3B%0A%20%20%20%20%20%20%20%20%0A%0A%20%20%20%20%20%20%20%20marker_416a0054b28540368701db8d9701b1fa.bindPopup%28popup_a265d77fee5248f1b4fb327e0d451d73%29%0A%20%20%20%20%20%20%20%20%3B%0A%0A%20%20%20%20%20%20%20%20%0A%20%20%20%20%0A%20%20%20%20%0A%20%20%20%20%20%20%20%20%20%20%20%20var%20marker_7338bed5f1a94d7da9f7a020a0db0390%20%3D%20L.marker%28%0A%20%20%20%20%20%20%20%20%20%20%20%20%20%20%20%20%5B47.58429610169493%2C%20-122.37999191525421%5D%2C%0A%20%20%20%20%20%20%20%20%20%20%20%20%20%20%20%20%7B%7D%0A%20%20%20%20%20%20%20%20%20%20%20%20%29.addTo%28map_573e09fe658a4a02afe002c692c26e7a%29%3B%0A%20%20%20%20%20%20%20%20%0A%20%20%20%20%0A%20%20%20%20%20%20%20%20var%20popup_aaf729ca927f45f5ab720dd4b50a7ebd%20%3D%20L.popup%28%7B%22maxWidth%22%3A%20%22100%25%22%7D%29%3B%0A%0A%20%20%20%20%20%20%20%20%0A%20%20%20%20%20%20%20%20%20%20%20%20var%20html_aaaf221f894341e8b64c94c7c1dee821%20%3D%20%24%28%60%3Cdiv%20id%3D%22html_aaaf221f894341e8b64c94c7c1dee821%22%20style%3D%22width%3A%20100.0%25%3B%20height%3A%20100.0%25%3B%22%3E2014-01-01%3A3-V%3A194%20-%20SOG%3A%2010.1%20-%20Count%3A%2059%20%2847.584%2C%20-122.38%29%3C/div%3E%60%29%5B0%5D%3B%0A%20%20%20%20%20%20%20%20%20%20%20%20popup_aaf729ca927f45f5ab720dd4b50a7ebd.setContent%28html_aaaf221f894341e8b64c94c7c1dee821%29%3B%0A%20%20%20%20%20%20%20%20%0A%0A%20%20%20%20%20%20%20%20marker_7338bed5f1a94d7da9f7a020a0db0390.bindPopup%28popup_aaf729ca927f45f5ab720dd4b50a7ebd%29%0A%20%20%20%20%20%20%20%20%3B%0A%0A%20%20%20%20%20%20%20%20%0A%20%20%20%20%0A%20%20%20%20%0A%20%20%20%20%20%20%20%20%20%20%20%20var%20marker_3eb7223bdeea44f39ccb98d14628dc8f%20%3D%20L.marker%28%0A%20%20%20%20%20%20%20%20%20%20%20%20%20%20%20%20%5B47.61326971428571%2C%20-122.35339471428573%5D%2C%0A%20%20%20%20%20%20%20%20%20%20%20%20%20%20%20%20%7B%7D%0A%20%20%20%20%20%20%20%20%20%20%20%20%29.addTo%28map_573e09fe658a4a02afe002c692c26e7a%29%3B%0A%20%20%20%20%20%20%20%20%0A%20%20%20%20%0A%20%20%20%20%20%20%20%20var%20popup_79c4f0c0c980408aba5b44458f6e3c1a%20%3D%20L.popup%28%7B%22maxWidth%22%3A%20%22100%25%22%7D%29%3B%0A%0A%20%20%20%20%20%20%20%20%0A%20%20%20%20%20%20%20%20%20%20%20%20var%20html_b48d02df7a324e3aa583e16ca026b645%20%3D%20%24%28%60%3Cdiv%20id%3D%22html_b48d02df7a324e3aa583e16ca026b645%22%20style%3D%22width%3A%20100.0%25%3B%20height%3A%20100.0%25%3B%22%3E2014-01-22%3A13-V%3A194%20-%20SOG%3A%200.0%20-%20Count%3A%2014%20%2847.613%2C%20-122.353%29%3C/div%3E%60%29%5B0%5D%3B%0A%20%20%20%20%20%20%20%20%20%20%20%20popup_79c4f0c0c980408aba5b44458f6e3c1a.setContent%28html_b48d02df7a324e3aa583e16ca026b645%29%3B%0A%20%20%20%20%20%20%20%20%0A%0A%20%20%20%20%20%20%20%20marker_3eb7223bdeea44f39ccb98d14628dc8f.bindPopup%28popup_79c4f0c0c980408aba5b44458f6e3c1a%29%0A%20%20%20%20%20%20%20%20%3B%0A%0A%20%20%20%20%20%20%20%20%0A%20%20%20%20%0A%20%20%20%20%0A%20%20%20%20%20%20%20%20%20%20%20%20var%20marker_3deb420d428749ef9c47c71589f72c13%20%3D%20L.marker%28%0A%20%20%20%20%20%20%20%20%20%20%20%20%20%20%20%20%5B47.60375927586208%2C%20-122.35349001724134%5D%2C%0A%20%20%20%20%20%20%20%20%20%20%20%20%20%20%20%20%7B%7D%0A%20%20%20%20%20%20%20%20%20%20%20%20%29.addTo%28map_573e09fe658a4a02afe002c692c26e7a%29%3B%0A%20%20%20%20%20%20%20%20%0A%20%20%20%20%0A%20%20%20%20%20%20%20%20var%20popup_d9d5e1bfd1eb473fbe663022e2bbd16e%20%3D%20L.popup%28%7B%22maxWidth%22%3A%20%22100%25%22%7D%29%3B%0A%0A%20%20%20%20%20%20%20%20%0A%20%20%20%20%20%20%20%20%20%20%20%20var%20html_a20d2e8e17784e649c48134fa385078d%20%3D%20%24%28%60%3Cdiv%20id%3D%22html_a20d2e8e17784e649c48134fa385078d%22%20style%3D%22width%3A%20100.0%25%3B%20height%3A%20100.0%25%3B%22%3E2014-01-22%3A14-V%3A16401%20-%20SOG%3A%201.8%20-%20Count%3A%2058%20%2847.604%2C%20-122.353%29%3C/div%3E%60%29%5B0%5D%3B%0A%20%20%20%20%20%20%20%20%20%20%20%20popup_d9d5e1bfd1eb473fbe663022e2bbd16e.setContent%28html_a20d2e8e17784e649c48134fa385078d%29%3B%0A%20%20%20%20%20%20%20%20%0A%0A%20%20%20%20%20%20%20%20marker_3deb420d428749ef9c47c71589f72c13.bindPopup%28popup_d9d5e1bfd1eb473fbe663022e2bbd16e%29%0A%20%20%20%20%20%20%20%20%3B%0A%0A%20%20%20%20%20%20%20%20%0A%20%20%20%20%0A%20%20%20%20%0A%20%20%20%20%20%20%20%20%20%20%20%20var%20marker_ed916eb9c5484afeb2ac4b9d7e04f8cd%20%3D%20L.marker%28%0A%20%20%20%20%20%20%20%20%20%20%20%20%20%20%20%20%5B47.61118649122807%2C%20-122.35360059649126%5D%2C%0A%20%20%20%20%20%20%20%20%20%20%20%20%20%20%20%20%7B%7D%0A%20%20%20%20%20%20%20%20%20%20%20%20%29.addTo%28map_573e09fe658a4a02afe002c692c26e7a%29%3B%0A%20%20%20%20%20%20%20%20%0A%20%20%20%20%0A%20%20%20%20%20%20%20%20var%20popup_affa4662019f4ec7b49fa048fc03586a%20%3D%20L.popup%28%7B%22maxWidth%22%3A%20%22100%25%22%7D%29%3B%0A%0A%20%20%20%20%20%20%20%20%0A%20%20%20%20%20%20%20%20%20%20%20%20var%20html_bb15360b40e7486e89acc6cc84068832%20%3D%20%24%28%60%3Cdiv%20id%3D%22html_bb15360b40e7486e89acc6cc84068832%22%20style%3D%22width%3A%20100.0%25%3B%20height%3A%20100.0%25%3B%22%3E2014-01-22%3A15-V%3A16401%20-%20SOG%3A%201.6%20-%20Count%3A%2057%20%2847.611%2C%20-122.354%29%3C/div%3E%60%29%5B0%5D%3B%0A%20%20%20%20%20%20%20%20%20%20%20%20popup_affa4662019f4ec7b49fa048fc03586a.setContent%28html_bb15360b40e7486e89acc6cc84068832%29%3B%0A%20%20%20%20%20%20%20%20%0A%0A%20%20%20%20%20%20%20%20marker_ed916eb9c5484afeb2ac4b9d7e04f8cd.bindPopup%28popup_affa4662019f4ec7b49fa048fc03586a%29%0A%20%20%20%20%20%20%20%20%3B%0A%0A%20%20%20%20%20%20%20%20%0A%20%20%20%20%0A%20%20%20%20%0A%20%20%20%20%20%20%20%20%20%20%20%20var%20marker_cecd231cff2b43a78e139fafc3552c9f%20%3D%20L.marker%28%0A%20%20%20%20%20%20%20%20%20%20%20%20%20%20%20%20%5B47.78165078333334%2C%20-122.45380070000002%5D%2C%0A%20%20%20%20%20%20%20%20%20%20%20%20%20%20%20%20%7B%7D%0A%20%20%20%20%20%20%20%20%20%20%20%20%29.addTo%28map_573e09fe658a4a02afe002c692c26e7a%29%3B%0A%20%20%20%20%20%20%20%20%0A%20%20%20%20%0A%20%20%20%20%20%20%20%20var%20popup_f5133a85fc504e8282c37eae3a52f09c%20%3D%20L.popup%28%7B%22maxWidth%22%3A%20%22100%25%22%7D%29%3B%0A%0A%20%20%20%20%20%20%20%20%0A%20%20%20%20%20%20%20%20%20%20%20%20var%20html_e9298f281cc9469eb641c5a7ba3b876f%20%3D%20%24%28%60%3Cdiv%20id%3D%22html_e9298f281cc9469eb641c5a7ba3b876f%22%20style%3D%22width%3A%20100.0%25%3B%20height%3A%20100.0%25%3B%22%3E2014-01-22%3A16-V%3A16401%20-%20SOG%3A%2026.2%20-%20Count%3A%2060%20%2847.782%2C%20-122.454%29%3C/div%3E%60%29%5B0%5D%3B%0A%20%20%20%20%20%20%20%20%20%20%20%20popup_f5133a85fc504e8282c37eae3a52f09c.setContent%28html_e9298f281cc9469eb641c5a7ba3b876f%29%3B%0A%20%20%20%20%20%20%20%20%0A%0A%20%20%20%20%20%20%20%20marker_cecd231cff2b43a78e139fafc3552c9f.bindPopup%28popup_f5133a85fc504e8282c37eae3a52f09c%29%0A%20%20%20%20%20%20%20%20%3B%0A%0A%20%20%20%20%20%20%20%20%0A%20%20%20%20%0A%20%20%20%20%0A%20%20%20%20%20%20%20%20%20%20%20%20var%20marker_3454aa6591f84e1db09421cbb2e25530%20%3D%20L.marker%28%0A%20%20%20%20%20%20%20%20%20%20%20%20%20%20%20%20%5B48.163171440677964%2C%20-122.77720550847457%5D%2C%0A%20%20%20%20%20%20%20%20%20%20%20%20%20%20%20%20%7B%7D%0A%20%20%20%20%20%20%20%20%20%20%20%20%29.addTo%28map_573e09fe658a4a02afe002c692c26e7a%29%3B%0A%20%20%20%20%20%20%20%20%0A%20%20%20%20%0A%20%20%20%20%20%20%20%20var%20popup_4ff7d79cb14c4e3ca9e9f3352d0a9385%20%3D%20L.popup%28%7B%22maxWidth%22%3A%20%22100%25%22%7D%29%3B%0A%0A%20%20%20%20%20%20%20%20%0A%20%20%20%20%20%20%20%20%20%20%20%20var%20html_22bf889b83374183a09f82dbbb38ce0d%20%3D%20%24%28%60%3Cdiv%20id%3D%22html_22bf889b83374183a09f82dbbb38ce0d%22%20style%3D%22width%3A%20100.0%25%3B%20height%3A%20100.0%25%3B%22%3E2014-01-22%3A17-V%3A16541%20-%20SOG%3A%2028.2%20-%20Count%3A%2059%20%2848.163%2C%20-122.777%29%3C/div%3E%60%29%5B0%5D%3B%0A%20%20%20%20%20%20%20%20%20%20%20%20popup_4ff7d79cb14c4e3ca9e9f3352d0a9385.setContent%28html_22bf889b83374183a09f82dbbb38ce0d%29%3B%0A%20%20%20%20%20%20%20%20%0A%0A%20%20%20%20%20%20%20%20marker_3454aa6591f84e1db09421cbb2e25530.bindPopup%28popup_4ff7d79cb14c4e3ca9e9f3352d0a9385%29%0A%20%20%20%20%20%20%20%20%3B%0A%0A%20%20%20%20%20%20%20%20%0A%20%20%20%20%0A%20%20%20%20%0A%20%20%20%20%20%20%20%20%20%20%20%20var%20marker_0ccbb218fd7a4f459e5a4bde30f06e29%20%3D%20L.marker%28%0A%20%20%20%20%20%20%20%20%20%20%20%20%20%20%20%20%5B48.37898806779661%2C%20-123.28733881355933%5D%2C%0A%20%20%20%20%20%20%20%20%20%20%20%20%20%20%20%20%7B%7D%0A%20%20%20%20%20%20%20%20%20%20%20%20%29.addTo%28map_573e09fe658a4a02afe002c692c26e7a%29%3B%0A%20%20%20%20%20%20%20%20%0A%20%20%20%20%0A%20%20%20%20%20%20%20%20var%20popup_cd288c831b73464ba8f0be116a656c7e%20%3D%20L.popup%28%7B%22maxWidth%22%3A%20%22100%25%22%7D%29%3B%0A%0A%20%20%20%20%20%20%20%20%0A%20%20%20%20%20%20%20%20%20%20%20%20var%20html_21c7c135b7204d5bb6705ff164b71fb9%20%3D%20%24%28%60%3Cdiv%20id%3D%22html_21c7c135b7204d5bb6705ff164b71fb9%22%20style%3D%22width%3A%20100.0%25%3B%20height%3A%20100.0%25%3B%22%3E2014-01-22%3A18-V%3A16541%20-%20SOG%3A%2017.4%20-%20Count%3A%2059%20%2848.379%2C%20-123.287%29%3C/div%3E%60%29%5B0%5D%3B%0A%20%20%20%20%20%20%20%20%20%20%20%20popup_cd288c831b73464ba8f0be116a656c7e.setContent%28html_21c7c135b7204d5bb6705ff164b71fb9%29%3B%0A%20%20%20%20%20%20%20%20%0A%0A%20%20%20%20%20%20%20%20marker_0ccbb218fd7a4f459e5a4bde30f06e29.bindPopup%28popup_cd288c831b73464ba8f0be116a656c7e%29%0A%20%20%20%20%20%20%20%20%3B%0A%0A%20%20%20%20%20%20%20%20%0A%20%20%20%20%0A%20%20%20%20%0A%20%20%20%20%20%20%20%20%20%20%20%20var%20marker_870fe59e8bab4dd8bb086b25ca9ff92f%20%3D%20L.marker%28%0A%20%20%20%20%20%20%20%20%20%20%20%20%20%20%20%20%5B48.42248211538461%2C%20-123.37354838461536%5D%2C%0A%20%20%20%20%20%20%20%20%20%20%20%20%20%20%20%20%7B%7D%0A%20%20%20%20%20%20%20%20%20%20%20%20%29.addTo%28map_573e09fe658a4a02afe002c692c26e7a%29%3B%0A%20%20%20%20%20%20%20%20%0A%20%20%20%20%0A%20%20%20%20%20%20%20%20var%20popup_f77b576dca3946a7b8b27643ecf0e58a%20%3D%20L.popup%28%7B%22maxWidth%22%3A%20%22100%25%22%7D%29%3B%0A%0A%20%20%20%20%20%20%20%20%0A%20%20%20%20%20%20%20%20%20%20%20%20var%20html_f09ad3a5ab114197b81b710bdd95ecb7%20%3D%20%24%28%60%3Cdiv%20id%3D%22html_f09ad3a5ab114197b81b710bdd95ecb7%22%20style%3D%22width%3A%20100.0%25%3B%20height%3A%20100.0%25%3B%22%3E2014-01-22%3A19-V%3A16541%20-%20SOG%3A%200.0%20-%20Count%3A%2026%20%2848.422%2C%20-123.374%29%3C/div%3E%60%29%5B0%5D%3B%0A%20%20%20%20%20%20%20%20%20%20%20%20popup_f77b576dca3946a7b8b27643ecf0e58a.setContent%28html_f09ad3a5ab114197b81b710bdd95ecb7%29%3B%0A%20%20%20%20%20%20%20%20%0A%0A%20%20%20%20%20%20%20%20marker_870fe59e8bab4dd8bb086b25ca9ff92f.bindPopup%28popup_f77b576dca3946a7b8b27643ecf0e58a%29%0A%20%20%20%20%20%20%20%20%3B%0A%0A%20%20%20%20%20%20%20%20%0A%20%20%20%20%0A%20%20%20%20%0A%20%20%20%20%20%20%20%20%20%20%20%20var%20marker_2b96057df54740289ac78214dc4d40dc%20%3D%20L.marker%28%0A%20%20%20%20%20%20%20%20%20%20%20%20%20%20%20%20%5B48.42248558823531%2C%20-123.37354829411764%5D%2C%0A%20%20%20%20%20%20%20%20%20%20%20%20%20%20%20%20%7B%7D%0A%20%20%20%20%20%20%20%20%20%20%20%20%29.addTo%28map_573e09fe658a4a02afe002c692c26e7a%29%3B%0A%20%20%20%20%20%20%20%20%0A%20%20%20%20%0A%20%20%20%20%20%20%20%20var%20popup_03600a3a8d554f169e60d34aaa048b43%20%3D%20L.popup%28%7B%22maxWidth%22%3A%20%22100%25%22%7D%29%3B%0A%0A%20%20%20%20%20%20%20%20%0A%20%20%20%20%20%20%20%20%20%20%20%20var%20html_8ad724eddb364cffa875fdc4630448b6%20%3D%20%24%28%60%3Cdiv%20id%3D%22html_8ad724eddb364cffa875fdc4630448b6%22%20style%3D%22width%3A%20100.0%25%3B%20height%3A%20100.0%25%3B%22%3E2014-01-22%3A20-V%3A16684%20-%20SOG%3A%200.0%20-%20Count%3A%2017%20%2848.422%2C%20-123.374%29%3C/div%3E%60%29%5B0%5D%3B%0A%20%20%20%20%20%20%20%20%20%20%20%20popup_03600a3a8d554f169e60d34aaa048b43.setContent%28html_8ad724eddb364cffa875fdc4630448b6%29%3B%0A%20%20%20%20%20%20%20%20%0A%0A%20%20%20%20%20%20%20%20marker_2b96057df54740289ac78214dc4d40dc.bindPopup%28popup_03600a3a8d554f169e60d34aaa048b43%29%0A%20%20%20%20%20%20%20%20%3B%0A%0A%20%20%20%20%20%20%20%20%0A%20%20%20%20%0A%20%20%20%20%0A%20%20%20%20%20%20%20%20%20%20%20%20var%20marker_fe4d8dfa67a240fba2512db40db26a34%20%3D%20L.marker%28%0A%20%20%20%20%20%20%20%20%20%20%20%20%20%20%20%20%5B48.422482149999986%2C%20-123.37353890000001%5D%2C%0A%20%20%20%20%20%20%20%20%20%20%20%20%20%20%20%20%7B%7D%0A%20%20%20%20%20%20%20%20%20%20%20%20%29.addTo%28map_573e09fe658a4a02afe002c692c26e7a%29%3B%0A%20%20%20%20%20%20%20%20%0A%20%20%20%20%0A%20%20%20%20%20%20%20%20var%20popup_9ad27d01bbd64742a7cef31fccd74c9d%20%3D%20L.popup%28%7B%22maxWidth%22%3A%20%22100%25%22%7D%29%3B%0A%0A%20%20%20%20%20%20%20%20%0A%20%20%20%20%20%20%20%20%20%20%20%20var%20html_718584a35345446a9e377b129ae808b6%20%3D%20%24%28%60%3Cdiv%20id%3D%22html_718584a35345446a9e377b129ae808b6%22%20style%3D%22width%3A%20100.0%25%3B%20height%3A%20100.0%25%3B%22%3E2014-01-22%3A21-V%3A16684%20-%20SOG%3A%200.0%20-%20Count%3A%2020%20%2848.422%2C%20-123.374%29%3C/div%3E%60%29%5B0%5D%3B%0A%20%20%20%20%20%20%20%20%20%20%20%20popup_9ad27d01bbd64742a7cef31fccd74c9d.setContent%28html_718584a35345446a9e377b129ae808b6%29%3B%0A%20%20%20%20%20%20%20%20%0A%0A%20%20%20%20%20%20%20%20marker_fe4d8dfa67a240fba2512db40db26a34.bindPopup%28popup_9ad27d01bbd64742a7cef31fccd74c9d%29%0A%20%20%20%20%20%20%20%20%3B%0A%0A%20%20%20%20%20%20%20%20%0A%20%20%20%20%0A%20%20%20%20%0A%20%20%20%20%20%20%20%20%20%20%20%20var%20marker_65bf98f251f448b0b4fe88b40bdc9f10%20%3D%20L.marker%28%0A%20%20%20%20%20%20%20%20%20%20%20%20%20%20%20%20%5B48.4224797368421%2C%20-123.37355005263156%5D%2C%0A%20%20%20%20%20%20%20%20%20%20%20%20%20%20%20%20%7B%7D%0A%20%20%20%20%20%20%20%20%20%20%20%20%29.addTo%28map_573e09fe658a4a02afe002c692c26e7a%29%3B%0A%20%20%20%20%20%20%20%20%0A%20%20%20%20%0A%20%20%20%20%20%20%20%20var%20popup_5ae4d9dca4cf4fbdaa3caf95cf9dbf31%20%3D%20L.popup%28%7B%22maxWidth%22%3A%20%22100%25%22%7D%29%3B%0A%0A%20%20%20%20%20%20%20%20%0A%20%20%20%20%20%20%20%20%20%20%20%20var%20html_3e177fad420e4fc683d52e46c18b0385%20%3D%20%24%28%60%3Cdiv%20id%3D%22html_3e177fad420e4fc683d52e46c18b0385%22%20style%3D%22width%3A%20100.0%25%3B%20height%3A%20100.0%25%3B%22%3E2014-01-22%3A22-V%3A16684%20-%20SOG%3A%200.0%20-%20Count%3A%2019%20%2848.422%2C%20-123.374%29%3C/div%3E%60%29%5B0%5D%3B%0A%20%20%20%20%20%20%20%20%20%20%20%20popup_5ae4d9dca4cf4fbdaa3caf95cf9dbf31.setContent%28html_3e177fad420e4fc683d52e46c18b0385%29%3B%0A%20%20%20%20%20%20%20%20%0A%0A%20%20%20%20%20%20%20%20marker_65bf98f251f448b0b4fe88b40bdc9f10.bindPopup%28popup_5ae4d9dca4cf4fbdaa3caf95cf9dbf31%29%0A%20%20%20%20%20%20%20%20%3B%0A%0A%20%20%20%20%20%20%20%20%0A%20%20%20%20%0A%20%20%20%20%0A%20%20%20%20%20%20%20%20%20%20%20%20var%20marker_bc65d5d717ee456cb398a0a3fca48308%20%3D%20L.marker%28%0A%20%20%20%20%20%20%20%20%20%20%20%20%20%20%20%20%5B48.42248114999999%2C%20-123.37354459999999%5D%2C%0A%20%20%20%20%20%20%20%20%20%20%20%20%20%20%20%20%7B%7D%0A%20%20%20%20%20%20%20%20%20%20%20%20%29.addTo%28map_573e09fe658a4a02afe002c692c26e7a%29%3B%0A%20%20%20%20%20%20%20%20%0A%20%20%20%20%0A%20%20%20%20%20%20%20%20var%20popup_4361770a1e824f2ca4f23d44de89107b%20%3D%20L.popup%28%7B%22maxWidth%22%3A%20%22100%25%22%7D%29%3B%0A%0A%20%20%20%20%20%20%20%20%0A%20%20%20%20%20%20%20%20%20%20%20%20var%20html_070e98845ff1406d8d31b0c4bf0579ba%20%3D%20%24%28%60%3Cdiv%20id%3D%22html_070e98845ff1406d8d31b0c4bf0579ba%22%20style%3D%22width%3A%20100.0%25%3B%20height%3A%20100.0%25%3B%22%3E2014-01-22%3A23-V%3A16684%20-%20SOG%3A%200.0%20-%20Count%3A%2020%20%2848.422%2C%20-123.374%29%3C/div%3E%60%29%5B0%5D%3B%0A%20%20%20%20%20%20%20%20%20%20%20%20popup_4361770a1e824f2ca4f23d44de89107b.setContent%28html_070e98845ff1406d8d31b0c4bf0579ba%29%3B%0A%20%20%20%20%20%20%20%20%0A%0A%20%20%20%20%20%20%20%20marker_bc65d5d717ee456cb398a0a3fca48308.bindPopup%28popup_4361770a1e824f2ca4f23d44de89107b%29%0A%20%20%20%20%20%20%20%20%3B%0A%0A%20%20%20%20%20%20%20%20%0A%20%20%20%20%0A%20%20%20%20%0A%20%20%20%20%20%20%20%20%20%20%20%20var%20marker_f681c665452f40f68d12e4d283fdaa93%20%3D%20L.marker%28%0A%20%20%20%20%20%20%20%20%20%20%20%20%20%20%20%20%5B48.422555058823534%2C%20-123.37359529411764%5D%2C%0A%20%20%20%20%20%20%20%20%20%20%20%20%20%20%20%20%7B%7D%0A%20%20%20%20%20%20%20%20%20%20%20%20%29.addTo%28map_573e09fe658a4a02afe002c692c26e7a%29%3B%0A%20%20%20%20%20%20%20%20%0A%20%20%20%20%0A%20%20%20%20%20%20%20%20var%20popup_acd2194a7b6c462ba6cfd85cc9b6fdfd%20%3D%20L.popup%28%7B%22maxWidth%22%3A%20%22100%25%22%7D%29%3B%0A%0A%20%20%20%20%20%20%20%20%0A%20%20%20%20%20%20%20%20%20%20%20%20var%20html_e13d6295854e47658bb3c7c8ea1d725b%20%3D%20%24%28%60%3Cdiv%20id%3D%22html_e13d6295854e47658bb3c7c8ea1d725b%22%20style%3D%22width%3A%20100.0%25%3B%20height%3A%20100.0%25%3B%22%3E2014-01-23%3A0-V%3A16684%20-%20SOG%3A%200.3%20-%20Count%3A%2017%20%2848.423%2C%20-123.374%29%3C/div%3E%60%29%5B0%5D%3B%0A%20%20%20%20%20%20%20%20%20%20%20%20popup_acd2194a7b6c462ba6cfd85cc9b6fdfd.setContent%28html_e13d6295854e47658bb3c7c8ea1d725b%29%3B%0A%20%20%20%20%20%20%20%20%0A%0A%20%20%20%20%20%20%20%20marker_f681c665452f40f68d12e4d283fdaa93.bindPopup%28popup_acd2194a7b6c462ba6cfd85cc9b6fdfd%29%0A%20%20%20%20%20%20%20%20%3B%0A%0A%20%20%20%20%20%20%20%20%0A%20%20%20%20%0A%20%20%20%20%0A%20%20%20%20%20%20%20%20%20%20%20%20var%20marker_8d9faa61dcd84df19e9616ea8a6f53c7%20%3D%20L.marker%28%0A%20%20%20%20%20%20%20%20%20%20%20%20%20%20%20%20%5B48.32074676271188%2C%20-123.18439596610166%5D%2C%0A%20%20%20%20%20%20%20%20%20%20%20%20%20%20%20%20%7B%7D%0A%20%20%20%20%20%20%20%20%20%20%20%20%29.addTo%28map_573e09fe658a4a02afe002c692c26e7a%29%3B%0A%20%20%20%20%20%20%20%20%0A%20%20%20%20%0A%20%20%20%20%20%20%20%20var%20popup_fe7971c49641479c9d26ba6145eb1d57%20%3D%20L.popup%28%7B%22maxWidth%22%3A%20%22100%25%22%7D%29%3B%0A%0A%20%20%20%20%20%20%20%20%0A%20%20%20%20%20%20%20%20%20%20%20%20var%20html_a006b2a9945f460996c118cc6cf070d9%20%3D%20%24%28%60%3Cdiv%20id%3D%22html_a006b2a9945f460996c118cc6cf070d9%22%20style%3D%22width%3A%20100.0%25%3B%20height%3A%20100.0%25%3B%22%3E2014-01-23%3A1-V%3A16684%20-%20SOG%3A%2025.2%20-%20Count%3A%2059%20%2848.321%2C%20-123.184%29%3C/div%3E%60%29%5B0%5D%3B%0A%20%20%20%20%20%20%20%20%20%20%20%20popup_fe7971c49641479c9d26ba6145eb1d57.setContent%28html_a006b2a9945f460996c118cc6cf070d9%29%3B%0A%20%20%20%20%20%20%20%20%0A%0A%20%20%20%20%20%20%20%20marker_8d9faa61dcd84df19e9616ea8a6f53c7.bindPopup%28popup_fe7971c49641479c9d26ba6145eb1d57%29%0A%20%20%20%20%20%20%20%20%3B%0A%0A%20%20%20%20%20%20%20%20%0A%20%20%20%20%0A%20%20%20%20%0A%20%20%20%20%20%20%20%20%20%20%20%20var%20marker_21a45ddcb8b944af86284302413a9062%20%3D%20L.marker%28%0A%20%20%20%20%20%20%20%20%20%20%20%20%20%20%20%20%5B48.04656461666665%2C%20-122.65683851666667%5D%2C%0A%20%20%20%20%20%20%20%20%20%20%20%20%20%20%20%20%7B%7D%0A%20%20%20%20%20%20%20%20%20%20%20%20%29.addTo%28map_573e09fe658a4a02afe002c692c26e7a%29%3B%0A%20%20%20%20%20%20%20%20%0A%20%20%20%20%0A%20%20%20%20%20%20%20%20var%20popup_eff4032cb62845d9a890c0a8b05f2f3c%20%3D%20L.popup%28%7B%22maxWidth%22%3A%20%22100%25%22%7D%29%3B%0A%0A%20%20%20%20%20%20%20%20%0A%20%20%20%20%20%20%20%20%20%20%20%20var%20html_faa3aad165e44ff69cba9dffa09655c6%20%3D%20%24%28%60%3Cdiv%20id%3D%22html_faa3aad165e44ff69cba9dffa09655c6%22%20style%3D%22width%3A%20100.0%25%3B%20height%3A%20100.0%25%3B%22%3E2014-01-23%3A2-V%3A16684%20-%20SOG%3A%2028.6%20-%20Count%3A%2060%20%2848.047%2C%20-122.657%29%3C/div%3E%60%29%5B0%5D%3B%0A%20%20%20%20%20%20%20%20%20%20%20%20popup_eff4032cb62845d9a890c0a8b05f2f3c.setContent%28html_faa3aad165e44ff69cba9dffa09655c6%29%3B%0A%20%20%20%20%20%20%20%20%0A%0A%20%20%20%20%20%20%20%20marker_21a45ddcb8b944af86284302413a9062.bindPopup%28popup_eff4032cb62845d9a890c0a8b05f2f3c%29%0A%20%20%20%20%20%20%20%20%3B%0A%0A%20%20%20%20%20%20%20%20%0A%20%20%20%20%0A%20%20%20%20%0A%20%20%20%20%20%20%20%20%20%20%20%20var%20marker_8097d46631c04a5ca3a5c00dbd86a643%20%3D%20L.marker%28%0A%20%20%20%20%20%20%20%20%20%20%20%20%20%20%20%20%5B47.68183318644069%2C%20-122.39465918644072%5D%2C%0A%20%20%20%20%20%20%20%20%20%20%20%20%20%20%20%20%7B%7D%0A%20%20%20%20%20%20%20%20%20%20%20%20%29.addTo%28map_573e09fe658a4a02afe002c692c26e7a%29%3B%0A%20%20%20%20%20%20%20%20%0A%20%20%20%20%0A%20%20%20%20%20%20%20%20var%20popup_ed154e0cfe93431a940d6948fb1ff831%20%3D%20L.popup%28%7B%22maxWidth%22%3A%20%22100%25%22%7D%29%3B%0A%0A%20%20%20%20%20%20%20%20%0A%20%20%20%20%20%20%20%20%20%20%20%20var%20html_d2fa51b9076e4c038a85f8f62d288186%20%3D%20%24%28%60%3Cdiv%20id%3D%22html_d2fa51b9076e4c038a85f8f62d288186%22%20style%3D%22width%3A%20100.0%25%3B%20height%3A%20100.0%25%3B%22%3E2014-01-23%3A3-V%3A16684%20-%20SOG%3A%2017.5%20-%20Count%3A%2059%20%2847.682%2C%20-122.395%29%3C/div%3E%60%29%5B0%5D%3B%0A%20%20%20%20%20%20%20%20%20%20%20%20popup_ed154e0cfe93431a940d6948fb1ff831.setContent%28html_d2fa51b9076e4c038a85f8f62d288186%29%3B%0A%20%20%20%20%20%20%20%20%0A%0A%20%20%20%20%20%20%20%20marker_8097d46631c04a5ca3a5c00dbd86a643.bindPopup%28popup_ed154e0cfe93431a940d6948fb1ff831%29%0A%20%20%20%20%20%20%20%20%3B%0A%0A%20%20%20%20%20%20%20%20%0A%20%20%20%20%0A%20%20%20%20%0A%20%20%20%20%20%20%20%20%20%20%20%20var%20marker_27693e56a0044175ac5de1f1a32dcfb4%20%3D%20L.marker%28%0A%20%20%20%20%20%20%20%20%20%20%20%20%20%20%20%20%5B47.613341764705865%2C%20-122.35348541176475%5D%2C%0A%20%20%20%20%20%20%20%20%20%20%20%20%20%20%20%20%7B%7D%0A%20%20%20%20%20%20%20%20%20%20%20%20%29.addTo%28map_573e09fe658a4a02afe002c692c26e7a%29%3B%0A%20%20%20%20%20%20%20%20%0A%20%20%20%20%0A%20%20%20%20%20%20%20%20var%20popup_96c62a02a624493cb21f3a5d1feb96e0%20%3D%20L.popup%28%7B%22maxWidth%22%3A%20%22100%25%22%7D%29%3B%0A%0A%20%20%20%20%20%20%20%20%0A%20%20%20%20%20%20%20%20%20%20%20%20var%20html_68f123bd88684c00ab4bbc7440d012a2%20%3D%20%24%28%60%3Cdiv%20id%3D%22html_68f123bd88684c00ab4bbc7440d012a2%22%20style%3D%22width%3A%20100.0%25%3B%20height%3A%20100.0%25%3B%22%3E2014-01-23%3A4-V%3A16684%20-%20SOG%3A%200.2%20-%20Count%3A%2017%20%2847.613%2C%20-122.353%29%3C/div%3E%60%29%5B0%5D%3B%0A%20%20%20%20%20%20%20%20%20%20%20%20popup_96c62a02a624493cb21f3a5d1feb96e0.setContent%28html_68f123bd88684c00ab4bbc7440d012a2%29%3B%0A%20%20%20%20%20%20%20%20%0A%0A%20%20%20%20%20%20%20%20marker_27693e56a0044175ac5de1f1a32dcfb4.bindPopup%28popup_96c62a02a624493cb21f3a5d1feb96e0%29%0A%20%20%20%20%20%20%20%20%3B%0A%0A%20%20%20%20%20%20%20%20%0A%20%20%20%20%0A%20%20%20%20%0A%20%20%20%20%20%20%20%20%20%20%20%20var%20marker_a4a4082b8404469aabe699cd20f419da%20%3D%20L.marker%28%0A%20%20%20%20%20%20%20%20%20%20%20%20%20%20%20%20%5B47.60170831818182%2C%20-122.3535396363636%5D%2C%0A%20%20%20%20%20%20%20%20%20%20%20%20%20%20%20%20%7B%7D%0A%20%20%20%20%20%20%20%20%20%20%20%20%29.addTo%28map_573e09fe658a4a02afe002c692c26e7a%29%3B%0A%20%20%20%20%20%20%20%20%0A%20%20%20%20%0A%20%20%20%20%20%20%20%20var%20popup_ebaca0c1919e4ed49843e74f84c0cbad%20%3D%20L.popup%28%7B%22maxWidth%22%3A%20%22100%25%22%7D%29%3B%0A%0A%20%20%20%20%20%20%20%20%0A%20%20%20%20%20%20%20%20%20%20%20%20var%20html_c81c599a4a8c4133a4581472ac2d3f5b%20%3D%20%24%28%60%3Cdiv%20id%3D%22html_c81c599a4a8c4133a4581472ac2d3f5b%22%20style%3D%22width%3A%20100.0%25%3B%20height%3A%20100.0%25%3B%22%3E2014-01-23%3A14-V%3A16684%20-%20SOG%3A%202.7%20-%20Count%3A%2044%20%2847.602%2C%20-122.354%29%3C/div%3E%60%29%5B0%5D%3B%0A%20%20%20%20%20%20%20%20%20%20%20%20popup_ebaca0c1919e4ed49843e74f84c0cbad.setContent%28html_c81c599a4a8c4133a4581472ac2d3f5b%29%3B%0A%20%20%20%20%20%20%20%20%0A%0A%20%20%20%20%20%20%20%20marker_a4a4082b8404469aabe699cd20f419da.bindPopup%28popup_ebaca0c1919e4ed49843e74f84c0cbad%29%0A%20%20%20%20%20%20%20%20%3B%0A%0A%20%20%20%20%20%20%20%20%0A%20%20%20%20%0A%20%20%20%20%0A%20%20%20%20%20%20%20%20%20%20%20%20var%20marker_4ce0c32e6b9d4b6c9e145bc49121be2e%20%3D%20L.marker%28%0A%20%20%20%20%20%20%20%20%20%20%20%20%20%20%20%20%5B47.613134051724145%2C%20-122.35361955172414%5D%2C%0A%20%20%20%20%20%20%20%20%20%20%20%20%20%20%20%20%7B%7D%0A%20%20%20%20%20%20%20%20%20%20%20%20%29.addTo%28map_573e09fe658a4a02afe002c692c26e7a%29%3B%0A%20%20%20%20%20%20%20%20%0A%20%20%20%20%0A%20%20%20%20%20%20%20%20var%20popup_78653199465044bd83cc6d7fe21be116%20%3D%20L.popup%28%7B%22maxWidth%22%3A%20%22100%25%22%7D%29%3B%0A%0A%20%20%20%20%20%20%20%20%0A%20%20%20%20%20%20%20%20%20%20%20%20var%20html_abd2c1e8fd954bf28f45e24f040f0258%20%3D%20%24%28%60%3Cdiv%20id%3D%22html_abd2c1e8fd954bf28f45e24f040f0258%22%20style%3D%22width%3A%20100.0%25%3B%20height%3A%20100.0%25%3B%22%3E2014-01-23%3A15-V%3A17698%20-%20SOG%3A%201.1%20-%20Count%3A%2058%20%2847.613%2C%20-122.354%29%3C/div%3E%60%29%5B0%5D%3B%0A%20%20%20%20%20%20%20%20%20%20%20%20popup_78653199465044bd83cc6d7fe21be116.setContent%28html_abd2c1e8fd954bf28f45e24f040f0258%29%3B%0A%20%20%20%20%20%20%20%20%0A%0A%20%20%20%20%20%20%20%20marker_4ce0c32e6b9d4b6c9e145bc49121be2e.bindPopup%28popup_78653199465044bd83cc6d7fe21be116%29%0A%20%20%20%20%20%20%20%20%3B%0A%0A%20%20%20%20%20%20%20%20%0A%20%20%20%20%0A%20%20%20%20%0A%20%20%20%20%20%20%20%20%20%20%20%20var%20marker_4a948a76ed5149958cccf376266b99e5%20%3D%20L.marker%28%0A%20%20%20%20%20%20%20%20%20%20%20%20%20%20%20%20%5B47.78140562711862%2C%20-122.44860945762709%5D%2C%0A%20%20%20%20%20%20%20%20%20%20%20%20%20%20%20%20%7B%7D%0A%20%20%20%20%20%20%20%20%20%20%20%20%29.addTo%28map_573e09fe658a4a02afe002c692c26e7a%29%3B%0A%20%20%20%20%20%20%20%20%0A%20%20%20%20%0A%20%20%20%20%20%20%20%20var%20popup_20c3ae872a2742c786a41764454d51e5%20%3D%20L.popup%28%7B%22maxWidth%22%3A%20%22100%25%22%7D%29%3B%0A%0A%20%20%20%20%20%20%20%20%0A%20%20%20%20%20%20%20%20%20%20%20%20var%20html_02bce40b2b7e4419aced065de349092a%20%3D%20%24%28%60%3Cdiv%20id%3D%22html_02bce40b2b7e4419aced065de349092a%22%20style%3D%22width%3A%20100.0%25%3B%20height%3A%20100.0%25%3B%22%3E2014-01-23%3A16-V%3A17698%20-%20SOG%3A%2026.1%20-%20Count%3A%2059%20%2847.781%2C%20-122.449%29%3C/div%3E%60%29%5B0%5D%3B%0A%20%20%20%20%20%20%20%20%20%20%20%20popup_20c3ae872a2742c786a41764454d51e5.setContent%28html_02bce40b2b7e4419aced065de349092a%29%3B%0A%20%20%20%20%20%20%20%20%0A%0A%20%20%20%20%20%20%20%20marker_4a948a76ed5149958cccf376266b99e5.bindPopup%28popup_20c3ae872a2742c786a41764454d51e5%29%0A%20%20%20%20%20%20%20%20%3B%0A%0A%20%20%20%20%20%20%20%20%0A%20%20%20%20%0A%20%20%20%20%0A%20%20%20%20%20%20%20%20%20%20%20%20var%20marker_9da5b153b6e34d5180bf9876b23b53a8%20%3D%20L.marker%28%0A%20%20%20%20%20%20%20%20%20%20%20%20%20%20%20%20%5B48.14727258333333%2C%20-122.77337003333335%5D%2C%0A%20%20%20%20%20%20%20%20%20%20%20%20%20%20%20%20%7B%7D%0A%20%20%20%20%20%20%20%20%20%20%20%20%29.addTo%28map_573e09fe658a4a02afe002c692c26e7a%29%3B%0A%20%20%20%20%20%20%20%20%0A%20%20%20%20%0A%20%20%20%20%20%20%20%20var%20popup_b6f66c6251c240388d371c7f1b98cd03%20%3D%20L.popup%28%7B%22maxWidth%22%3A%20%22100%25%22%7D%29%3B%0A%0A%20%20%20%20%20%20%20%20%0A%20%20%20%20%20%20%20%20%20%20%20%20var%20html_474cbffdcb6e4c92908e6594b3cdfa27%20%3D%20%24%28%60%3Cdiv%20id%3D%22html_474cbffdcb6e4c92908e6594b3cdfa27%22%20style%3D%22width%3A%20100.0%25%3B%20height%3A%20100.0%25%3B%22%3E2014-01-23%3A17-V%3A17788%20-%20SOG%3A%2027.9%20-%20Count%3A%2060%20%2848.147%2C%20-122.773%29%3C/div%3E%60%29%5B0%5D%3B%0A%20%20%20%20%20%20%20%20%20%20%20%20popup_b6f66c6251c240388d371c7f1b98cd03.setContent%28html_474cbffdcb6e4c92908e6594b3cdfa27%29%3B%0A%20%20%20%20%20%20%20%20%0A%0A%20%20%20%20%20%20%20%20marker_9da5b153b6e34d5180bf9876b23b53a8.bindPopup%28popup_b6f66c6251c240388d371c7f1b98cd03%29%0A%20%20%20%20%20%20%20%20%3B%0A%0A%20%20%20%20%20%20%20%20%0A%20%20%20%20%0A%20%20%20%20%0A%20%20%20%20%20%20%20%20%20%20%20%20var%20marker_8b6e1eff322446fab7daf2430f9878c1%20%3D%20L.marker%28%0A%20%20%20%20%20%20%20%20%20%20%20%20%20%20%20%20%5B48.36904405660377%2C%20-123.28596524528305%5D%2C%0A%20%20%20%20%20%20%20%20%20%20%20%20%20%20%20%20%7B%7D%0A%20%20%20%20%20%20%20%20%20%20%20%20%29.addTo%28map_573e09fe658a4a02afe002c692c26e7a%29%3B%0A%20%20%20%20%20%20%20%20%0A%20%20%20%20%0A%20%20%20%20%20%20%20%20var%20popup_b5d79278d1e547f6b8778cfbf0c70937%20%3D%20L.popup%28%7B%22maxWidth%22%3A%20%22100%25%22%7D%29%3B%0A%0A%20%20%20%20%20%20%20%20%0A%20%20%20%20%20%20%20%20%20%20%20%20var%20html_2499039584544a61b274d6b54f2b21e0%20%3D%20%24%28%60%3Cdiv%20id%3D%22html_2499039584544a61b274d6b54f2b21e0%22%20style%3D%22width%3A%20100.0%25%3B%20height%3A%20100.0%25%3B%22%3E2014-01-23%3A18-V%3A17788%20-%20SOG%3A%2019.6%20-%20Count%3A%2053%20%2848.369%2C%20-123.286%29%3C/div%3E%60%29%5B0%5D%3B%0A%20%20%20%20%20%20%20%20%20%20%20%20popup_b5d79278d1e547f6b8778cfbf0c70937.setContent%28html_2499039584544a61b274d6b54f2b21e0%29%3B%0A%20%20%20%20%20%20%20%20%0A%0A%20%20%20%20%20%20%20%20marker_8b6e1eff322446fab7daf2430f9878c1.bindPopup%28popup_b5d79278d1e547f6b8778cfbf0c70937%29%0A%20%20%20%20%20%20%20%20%3B%0A%0A%20%20%20%20%20%20%20%20%0A%20%20%20%20%0A%20%20%20%20%0A%20%20%20%20%20%20%20%20%20%20%20%20var%20marker_fa0e71f959eb41218d9157e1b3fadc1c%20%3D%20L.marker%28%0A%20%20%20%20%20%20%20%20%20%20%20%20%20%20%20%20%5B48.42341160000002%2C%20-123.37969688888883%5D%2C%0A%20%20%20%20%20%20%20%20%20%20%20%20%20%20%20%20%7B%7D%0A%20%20%20%20%20%20%20%20%20%20%20%20%29.addTo%28map_573e09fe658a4a02afe002c692c26e7a%29%3B%0A%20%20%20%20%20%20%20%20%0A%20%20%20%20%0A%20%20%20%20%20%20%20%20var%20popup_7f4fffc72ecd4526890b1a48d02deadf%20%3D%20L.popup%28%7B%22maxWidth%22%3A%20%22100%25%22%7D%29%3B%0A%0A%20%20%20%20%20%20%20%20%0A%20%20%20%20%20%20%20%20%20%20%20%20var%20html_2d2b511a8f2943c889b14b44b1293b26%20%3D%20%24%28%60%3Cdiv%20id%3D%22html_2d2b511a8f2943c889b14b44b1293b26%22%20style%3D%22width%3A%20100.0%25%3B%20height%3A%20100.0%25%3B%22%3E2014-01-23%3A19-V%3A17788%20-%20SOG%3A%200.8%20-%20Count%3A%2045%20%2848.423%2C%20-123.38%29%3C/div%3E%60%29%5B0%5D%3B%0A%20%20%20%20%20%20%20%20%20%20%20%20popup_7f4fffc72ecd4526890b1a48d02deadf.setContent%28html_2d2b511a8f2943c889b14b44b1293b26%29%3B%0A%20%20%20%20%20%20%20%20%0A%0A%20%20%20%20%20%20%20%20marker_fa0e71f959eb41218d9157e1b3fadc1c.bindPopup%28popup_7f4fffc72ecd4526890b1a48d02deadf%29%0A%20%20%20%20%20%20%20%20%3B%0A%0A%20%20%20%20%20%20%20%20%0A%20%20%20%20%0A%20%20%20%20%0A%20%20%20%20%20%20%20%20%20%20%20%20var%20marker_36ef0bd02d0e4abfb8289d603656e578%20%3D%20L.marker%28%0A%20%20%20%20%20%20%20%20%20%20%20%20%20%20%20%20%5B48.42308883870965%2C%20-123.37635161290324%5D%2C%0A%20%20%20%20%20%20%20%20%20%20%20%20%20%20%20%20%7B%7D%0A%20%20%20%20%20%20%20%20%20%20%20%20%29.addTo%28map_573e09fe658a4a02afe002c692c26e7a%29%3B%0A%20%20%20%20%20%20%20%20%0A%20%20%20%20%0A%20%20%20%20%20%20%20%20var%20popup_603192c1fa28465b9a5f29f0d8664003%20%3D%20L.popup%28%7B%22maxWidth%22%3A%20%22100%25%22%7D%29%3B%0A%0A%20%20%20%20%20%20%20%20%0A%20%20%20%20%20%20%20%20%20%20%20%20var%20html_605df5756e73400fa36415e02db061d0%20%3D%20%24%28%60%3Cdiv%20id%3D%22html_605df5756e73400fa36415e02db061d0%22%20style%3D%22width%3A%20100.0%25%3B%20height%3A%20100.0%25%3B%22%3E2014-01-23%3A20-V%3A17788%20-%20SOG%3A%201.1%20-%20Count%3A%2031%20%2848.423%2C%20-123.376%29%3C/div%3E%60%29%5B0%5D%3B%0A%20%20%20%20%20%20%20%20%20%20%20%20popup_603192c1fa28465b9a5f29f0d8664003.setContent%28html_605df5756e73400fa36415e02db061d0%29%3B%0A%20%20%20%20%20%20%20%20%0A%0A%20%20%20%20%20%20%20%20marker_36ef0bd02d0e4abfb8289d603656e578.bindPopup%28popup_603192c1fa28465b9a5f29f0d8664003%29%0A%20%20%20%20%20%20%20%20%3B%0A%0A%20%20%20%20%20%20%20%20%0A%20%20%20%20%0A%20%20%20%20%0A%20%20%20%20%20%20%20%20%20%20%20%20var%20marker_36c5faff66524de7847583cdf98d2886%20%3D%20L.marker%28%0A%20%20%20%20%20%20%20%20%20%20%20%20%20%20%20%20%5B48.42248511764707%2C%20-123.37354176470586%5D%2C%0A%20%20%20%20%20%20%20%20%20%20%20%20%20%20%20%20%7B%7D%0A%20%20%20%20%20%20%20%20%20%20%20%20%29.addTo%28map_573e09fe658a4a02afe002c692c26e7a%29%3B%0A%20%20%20%20%20%20%20%20%0A%20%20%20%20%0A%20%20%20%20%20%20%20%20var%20popup_a7a5d186c8ef4d26af29276ca77d8a36%20%3D%20L.popup%28%7B%22maxWidth%22%3A%20%22100%25%22%7D%29%3B%0A%0A%20%20%20%20%20%20%20%20%0A%20%20%20%20%20%20%20%20%20%20%20%20var%20html_f3289795e950401dac9c93bfbd99e559%20%3D%20%24%28%60%3Cdiv%20id%3D%22html_f3289795e950401dac9c93bfbd99e559%22%20style%3D%22width%3A%20100.0%25%3B%20height%3A%20100.0%25%3B%22%3E2014-01-23%3A21-V%3A17936%20-%20SOG%3A%200.0%20-%20Count%3A%2017%20%2848.422%2C%20-123.374%29%3C/div%3E%60%29%5B0%5D%3B%0A%20%20%20%20%20%20%20%20%20%20%20%20popup_a7a5d186c8ef4d26af29276ca77d8a36.setContent%28html_f3289795e950401dac9c93bfbd99e559%29%3B%0A%20%20%20%20%20%20%20%20%0A%0A%20%20%20%20%20%20%20%20marker_36c5faff66524de7847583cdf98d2886.bindPopup%28popup_a7a5d186c8ef4d26af29276ca77d8a36%29%0A%20%20%20%20%20%20%20%20%3B%0A%0A%20%20%20%20%20%20%20%20%0A%20%20%20%20%0A%20%20%20%20%0A%20%20%20%20%20%20%20%20%20%20%20%20var%20marker_aec22fb778b7489e8b4ad9505ab49989%20%3D%20L.marker%28%0A%20%20%20%20%20%20%20%20%20%20%20%20%20%20%20%20%5B48.42248585000002%2C%20-123.37354945000001%5D%2C%0A%20%20%20%20%20%20%20%20%20%20%20%20%20%20%20%20%7B%7D%0A%20%20%20%20%20%20%20%20%20%20%20%20%29.addTo%28map_573e09fe658a4a02afe002c692c26e7a%29%3B%0A%20%20%20%20%20%20%20%20%0A%20%20%20%20%0A%20%20%20%20%20%20%20%20var%20popup_4d37e8b9962c4d6cb44b94d737a1803b%20%3D%20L.popup%28%7B%22maxWidth%22%3A%20%22100%25%22%7D%29%3B%0A%0A%20%20%20%20%20%20%20%20%0A%20%20%20%20%20%20%20%20%20%20%20%20var%20html_f541c34f1f004f7ba7574a22bcec9df8%20%3D%20%24%28%60%3Cdiv%20id%3D%22html_f541c34f1f004f7ba7574a22bcec9df8%22%20style%3D%22width%3A%20100.0%25%3B%20height%3A%20100.0%25%3B%22%3E2014-01-23%3A22-V%3A17936%20-%20SOG%3A%200.0%20-%20Count%3A%2020%20%2848.422%2C%20-123.374%29%3C/div%3E%60%29%5B0%5D%3B%0A%20%20%20%20%20%20%20%20%20%20%20%20popup_4d37e8b9962c4d6cb44b94d737a1803b.setContent%28html_f541c34f1f004f7ba7574a22bcec9df8%29%3B%0A%20%20%20%20%20%20%20%20%0A%0A%20%20%20%20%20%20%20%20marker_aec22fb778b7489e8b4ad9505ab49989.bindPopup%28popup_4d37e8b9962c4d6cb44b94d737a1803b%29%0A%20%20%20%20%20%20%20%20%3B%0A%0A%20%20%20%20%20%20%20%20%0A%20%20%20%20%0A%20%20%20%20%0A%20%20%20%20%20%20%20%20%20%20%20%20var%20marker_b290550ca8cc497b819ae742565405df%20%3D%20L.marker%28%0A%20%20%20%20%20%20%20%20%20%20%20%20%20%20%20%20%5B48.42248199999998%2C%20-123.37354557894737%5D%2C%0A%20%20%20%20%20%20%20%20%20%20%20%20%20%20%20%20%7B%7D%0A%20%20%20%20%20%20%20%20%20%20%20%20%29.addTo%28map_573e09fe658a4a02afe002c692c26e7a%29%3B%0A%20%20%20%20%20%20%20%20%0A%20%20%20%20%0A%20%20%20%20%20%20%20%20var%20popup_a95f37e93d8a4079b82fba02d1ab047a%20%3D%20L.popup%28%7B%22maxWidth%22%3A%20%22100%25%22%7D%29%3B%0A%0A%20%20%20%20%20%20%20%20%0A%20%20%20%20%20%20%20%20%20%20%20%20var%20html_6241f05c21144346b7c8be4208d09906%20%3D%20%24%28%60%3Cdiv%20id%3D%22html_6241f05c21144346b7c8be4208d09906%22%20style%3D%22width%3A%20100.0%25%3B%20height%3A%20100.0%25%3B%22%3E2014-01-23%3A23-V%3A17936%20-%20SOG%3A%200.0%20-%20Count%3A%2019%20%2848.422%2C%20-123.374%29%3C/div%3E%60%29%5B0%5D%3B%0A%20%20%20%20%20%20%20%20%20%20%20%20popup_a95f37e93d8a4079b82fba02d1ab047a.setContent%28html_6241f05c21144346b7c8be4208d09906%29%3B%0A%20%20%20%20%20%20%20%20%0A%0A%20%20%20%20%20%20%20%20marker_b290550ca8cc497b819ae742565405df.bindPopup%28popup_a95f37e93d8a4079b82fba02d1ab047a%29%0A%20%20%20%20%20%20%20%20%3B%0A%0A%20%20%20%20%20%20%20%20%0A%20%20%20%20%0A%20%20%20%20%0A%20%20%20%20%20%20%20%20%20%20%20%20var%20marker_f4fe6ece31334c9aaf5ecf34c4913b19%20%3D%20L.marker%28%0A%20%20%20%20%20%20%20%20%20%20%20%20%20%20%20%20%5B48.422490068965516%2C%20-123.37353693103452%5D%2C%0A%20%20%20%20%20%20%20%20%20%20%20%20%20%20%20%20%7B%7D%0A%20%20%20%20%20%20%20%20%20%20%20%20%29.addTo%28map_573e09fe658a4a02afe002c692c26e7a%29%3B%0A%20%20%20%20%20%20%20%20%0A%20%20%20%20%0A%20%20%20%20%20%20%20%20var%20popup_7a39ff41c2d34d1982fad5973ad4fef7%20%3D%20L.popup%28%7B%22maxWidth%22%3A%20%22100%25%22%7D%29%3B%0A%0A%20%20%20%20%20%20%20%20%0A%20%20%20%20%20%20%20%20%20%20%20%20var%20html_867b078dba474541ae9578f03482f88b%20%3D%20%24%28%60%3Cdiv%20id%3D%22html_867b078dba474541ae9578f03482f88b%22%20style%3D%22width%3A%20100.0%25%3B%20height%3A%20100.0%25%3B%22%3E2014-01-24%3A0-V%3A17936%20-%20SOG%3A%200.1%20-%20Count%3A%2029%20%2848.422%2C%20-123.374%29%3C/div%3E%60%29%5B0%5D%3B%0A%20%20%20%20%20%20%20%20%20%20%20%20popup_7a39ff41c2d34d1982fad5973ad4fef7.setContent%28html_867b078dba474541ae9578f03482f88b%29%3B%0A%20%20%20%20%20%20%20%20%0A%0A%20%20%20%20%20%20%20%20marker_f4fe6ece31334c9aaf5ecf34c4913b19.bindPopup%28popup_7a39ff41c2d34d1982fad5973ad4fef7%29%0A%20%20%20%20%20%20%20%20%3B%0A%0A%20%20%20%20%20%20%20%20%0A%20%20%20%20%0A%20%20%20%20%0A%20%20%20%20%20%20%20%20%20%20%20%20var%20marker_bc854d75e2a343af9dd3fc9ca12ee8ba%20%3D%20L.marker%28%0A%20%20%20%20%20%20%20%20%20%20%20%20%20%20%20%20%5B48.34044905084746%2C%20-123.21247347457629%5D%2C%0A%20%20%20%20%20%20%20%20%20%20%20%20%20%20%20%20%7B%7D%0A%20%20%20%20%20%20%20%20%20%20%20%20%29.addTo%28map_573e09fe658a4a02afe002c692c26e7a%29%3B%0A%20%20%20%20%20%20%20%20%0A%20%20%20%20%0A%20%20%20%20%20%20%20%20var%20popup_8b691f958cc5420cbedb04af7a4b7e93%20%3D%20L.popup%28%7B%22maxWidth%22%3A%20%22100%25%22%7D%29%3B%0A%0A%20%20%20%20%20%20%20%20%0A%20%20%20%20%20%20%20%20%20%20%20%20var%20html_b621dc08ba8a4f3b8cef2f5e9358ab84%20%3D%20%24%28%60%3Cdiv%20id%3D%22html_b621dc08ba8a4f3b8cef2f5e9358ab84%22%20style%3D%22width%3A%20100.0%25%3B%20height%3A%20100.0%25%3B%22%3E2014-01-24%3A1-V%3A17936%20-%20SOG%3A%2023.1%20-%20Count%3A%2059%20%2848.34%2C%20-123.212%29%3C/div%3E%60%29%5B0%5D%3B%0A%20%20%20%20%20%20%20%20%20%20%20%20popup_8b691f958cc5420cbedb04af7a4b7e93.setContent%28html_b621dc08ba8a4f3b8cef2f5e9358ab84%29%3B%0A%20%20%20%20%20%20%20%20%0A%0A%20%20%20%20%20%20%20%20marker_bc854d75e2a343af9dd3fc9ca12ee8ba.bindPopup%28popup_8b691f958cc5420cbedb04af7a4b7e93%29%0A%20%20%20%20%20%20%20%20%3B%0A%0A%20%20%20%20%20%20%20%20%0A%20%20%20%20%0A%20%20%20%20%0A%20%20%20%20%20%20%20%20%20%20%20%20var%20marker_3bd3083fb23f4d7a8dbd7d719604bf27%20%3D%20L.marker%28%0A%20%20%20%20%20%20%20%20%20%20%20%20%20%20%20%20%5B48.07980459999998%2C%20-122.69410885000003%5D%2C%0A%20%20%20%20%20%20%20%20%20%20%20%20%20%20%20%20%7B%7D%0A%20%20%20%20%20%20%20%20%20%20%20%20%29.addTo%28map_573e09fe658a4a02afe002c692c26e7a%29%3B%0A%20%20%20%20%20%20%20%20%0A%20%20%20%20%0A%20%20%20%20%20%20%20%20var%20popup_1f97abd3ab3749e1a7685f38c16e3fda%20%3D%20L.popup%28%7B%22maxWidth%22%3A%20%22100%25%22%7D%29%3B%0A%0A%20%20%20%20%20%20%20%20%0A%20%20%20%20%20%20%20%20%20%20%20%20var%20html_482877beb49740f1899f612069e74d9c%20%3D%20%24%28%60%3Cdiv%20id%3D%22html_482877beb49740f1899f612069e74d9c%22%20style%3D%22width%3A%20100.0%25%3B%20height%3A%20100.0%25%3B%22%3E2014-01-24%3A2-V%3A17936%20-%20SOG%3A%2027.8%20-%20Count%3A%2060%20%2848.08%2C%20-122.694%29%3C/div%3E%60%29%5B0%5D%3B%0A%20%20%20%20%20%20%20%20%20%20%20%20popup_1f97abd3ab3749e1a7685f38c16e3fda.setContent%28html_482877beb49740f1899f612069e74d9c%29%3B%0A%20%20%20%20%20%20%20%20%0A%0A%20%20%20%20%20%20%20%20marker_3bd3083fb23f4d7a8dbd7d719604bf27.bindPopup%28popup_1f97abd3ab3749e1a7685f38c16e3fda%29%0A%20%20%20%20%20%20%20%20%3B%0A%0A%20%20%20%20%20%20%20%20%0A%20%20%20%20%0A%20%20%20%20%0A%20%20%20%20%20%20%20%20%20%20%20%20var%20marker_5f4bdc2611f1461c849834fc66878bfc%20%3D%20L.marker%28%0A%20%20%20%20%20%20%20%20%20%20%20%20%20%20%20%20%5B47.70290338983053%2C%20-122.42581838983048%5D%2C%0A%20%20%20%20%20%20%20%20%20%20%20%20%20%20%20%20%7B%7D%0A%20%20%20%20%20%20%20%20%20%20%20%20%29.addTo%28map_573e09fe658a4a02afe002c692c26e7a%29%3B%0A%20%20%20%20%20%20%20%20%0A%20%20%20%20%0A%20%20%20%20%20%20%20%20var%20popup_aa773bde1bd842e4aeae75d136731a3f%20%3D%20L.popup%28%7B%22maxWidth%22%3A%20%22100%25%22%7D%29%3B%0A%0A%20%20%20%20%20%20%20%20%0A%20%20%20%20%20%20%20%20%20%20%20%20var%20html_1db6e7c2a2c74970b5ff1ce0ff7c9a31%20%3D%20%24%28%60%3Cdiv%20id%3D%22html_1db6e7c2a2c74970b5ff1ce0ff7c9a31%22%20style%3D%22width%3A%20100.0%25%3B%20height%3A%20100.0%25%3B%22%3E2014-01-24%3A3-V%3A17936%20-%20SOG%3A%2020.3%20-%20Count%3A%2059%20%2847.703%2C%20-122.426%29%3C/div%3E%60%29%5B0%5D%3B%0A%20%20%20%20%20%20%20%20%20%20%20%20popup_aa773bde1bd842e4aeae75d136731a3f.setContent%28html_1db6e7c2a2c74970b5ff1ce0ff7c9a31%29%3B%0A%20%20%20%20%20%20%20%20%0A%0A%20%20%20%20%20%20%20%20marker_5f4bdc2611f1461c849834fc66878bfc.bindPopup%28popup_aa773bde1bd842e4aeae75d136731a3f%29%0A%20%20%20%20%20%20%20%20%3B%0A%0A%20%20%20%20%20%20%20%20%0A%20%20%20%20%0A%20%20%20%20%0A%20%20%20%20%20%20%20%20%20%20%20%20var%20marker_cfbc981ae1034dcf9a12609f75a5f376%20%3D%20L.marker%28%0A%20%20%20%20%20%20%20%20%20%20%20%20%20%20%20%20%5B47.613270652173924%2C%20-122.35339508695652%5D%2C%0A%20%20%20%20%20%20%20%20%20%20%20%20%20%20%20%20%7B%7D%0A%20%20%20%20%20%20%20%20%20%20%20%20%29.addTo%28map_573e09fe658a4a02afe002c692c26e7a%29%3B%0A%20%20%20%20%20%20%20%20%0A%20%20%20%20%0A%20%20%20%20%20%20%20%20var%20popup_cde119cbdf2844988769f4f9a25a9cd7%20%3D%20L.popup%28%7B%22maxWidth%22%3A%20%22100%25%22%7D%29%3B%0A%0A%20%20%20%20%20%20%20%20%0A%20%20%20%20%20%20%20%20%20%20%20%20var%20html_e6a6d206218b481694ddce7b9f2d59d0%20%3D%20%24%28%60%3Cdiv%20id%3D%22html_e6a6d206218b481694ddce7b9f2d59d0%22%20style%3D%22width%3A%20100.0%25%3B%20height%3A%20100.0%25%3B%22%3E2014-01-24%3A4-V%3A17936%20-%20SOG%3A%200.0%20-%20Count%3A%2023%20%2847.613%2C%20-122.353%29%3C/div%3E%60%29%5B0%5D%3B%0A%20%20%20%20%20%20%20%20%20%20%20%20popup_cde119cbdf2844988769f4f9a25a9cd7.setContent%28html_e6a6d206218b481694ddce7b9f2d59d0%29%3B%0A%20%20%20%20%20%20%20%20%0A%0A%20%20%20%20%20%20%20%20marker_cfbc981ae1034dcf9a12609f75a5f376.bindPopup%28popup_cde119cbdf2844988769f4f9a25a9cd7%29%0A%20%20%20%20%20%20%20%20%3B%0A%0A%20%20%20%20%20%20%20%20%0A%20%20%20%20%0A%20%20%20%20%0A%20%20%20%20%20%20%20%20%20%20%20%20var%20marker_096981fda52c49be9e2575b9d11a7865%20%3D%20L.marker%28%0A%20%20%20%20%20%20%20%20%20%20%20%20%20%20%20%20%5B47.613217500000005%2C%20-122.353336%5D%2C%0A%20%20%20%20%20%20%20%20%20%20%20%20%20%20%20%20%7B%7D%0A%20%20%20%20%20%20%20%20%20%20%20%20%29.addTo%28map_573e09fe658a4a02afe002c692c26e7a%29%3B%0A%20%20%20%20%20%20%20%20%0A%20%20%20%20%0A%20%20%20%20%20%20%20%20var%20popup_c2b21e179390499a9302ef75bd006774%20%3D%20L.popup%28%7B%22maxWidth%22%3A%20%22100%25%22%7D%29%3B%0A%0A%20%20%20%20%20%20%20%20%0A%20%20%20%20%20%20%20%20%20%20%20%20var%20html_fb059beb1d4543efa46c6d8765bb9d17%20%3D%20%24%28%60%3Cdiv%20id%3D%22html_fb059beb1d4543efa46c6d8765bb9d17%22%20style%3D%22width%3A%20100.0%25%3B%20height%3A%20100.0%25%3B%22%3E2014-01-29%3A19-V%3A17936%20-%20SOG%3A%200.0%20-%20Count%3A%202%20%2847.613%2C%20-122.353%29%3C/div%3E%60%29%5B0%5D%3B%0A%20%20%20%20%20%20%20%20%20%20%20%20popup_c2b21e179390499a9302ef75bd006774.setContent%28html_fb059beb1d4543efa46c6d8765bb9d17%29%3B%0A%20%20%20%20%20%20%20%20%0A%0A%20%20%20%20%20%20%20%20marker_096981fda52c49be9e2575b9d11a7865.bindPopup%28popup_c2b21e179390499a9302ef75bd006774%29%0A%20%20%20%20%20%20%20%20%3B%0A%0A%20%20%20%20%20%20%20%20%0A%20%20%20%20%0A%20%20%20%20%0A%20%20%20%20%20%20%20%20%20%20%20%20var%20marker_615763d987a84ce2844214c3c63c7e5c%20%3D%20L.marker%28%0A%20%20%20%20%20%20%20%20%20%20%20%20%20%20%20%20%5B47.65618645454547%2C%20-122.40202947727272%5D%2C%0A%20%20%20%20%20%20%20%20%20%20%20%20%20%20%20%20%7B%7D%0A%20%20%20%20%20%20%20%20%20%20%20%20%29.addTo%28map_573e09fe658a4a02afe002c692c26e7a%29%3B%0A%20%20%20%20%20%20%20%20%0A%20%20%20%20%0A%20%20%20%20%20%20%20%20var%20popup_a85ee859a47a425e8118620a87dced3f%20%3D%20L.popup%28%7B%22maxWidth%22%3A%20%22100%25%22%7D%29%3B%0A%0A%20%20%20%20%20%20%20%20%0A%20%20%20%20%20%20%20%20%20%20%20%20var%20html_9398bba58540497b840e07ce2549b38a%20%3D%20%24%28%60%3Cdiv%20id%3D%22html_9398bba58540497b840e07ce2549b38a%22%20style%3D%22width%3A%20100.0%25%3B%20height%3A%20100.0%25%3B%22%3E2014-01-29%3A20-V%3A17936%20-%20SOG%3A%2010.6%20-%20Count%3A%2044%20%2847.656%2C%20-122.402%29%3C/div%3E%60%29%5B0%5D%3B%0A%20%20%20%20%20%20%20%20%20%20%20%20popup_a85ee859a47a425e8118620a87dced3f.setContent%28html_9398bba58540497b840e07ce2549b38a%29%3B%0A%20%20%20%20%20%20%20%20%0A%0A%20%20%20%20%20%20%20%20marker_615763d987a84ce2844214c3c63c7e5c.bindPopup%28popup_a85ee859a47a425e8118620a87dced3f%29%0A%20%20%20%20%20%20%20%20%3B%0A%0A%20%20%20%20%20%20%20%20%0A%20%20%20%20%0A%20%20%20%20%0A%20%20%20%20%20%20%20%20%20%20%20%20var%20marker_63163e6d6b9e403c8ef7922920a75293%20%3D%20L.marker%28%0A%20%20%20%20%20%20%20%20%20%20%20%20%20%20%20%20%5B47.66729122222222%2C%20-122.38927166666664%5D%2C%0A%20%20%20%20%20%20%20%20%20%20%20%20%20%20%20%20%7B%7D%0A%20%20%20%20%20%20%20%20%20%20%20%20%29.addTo%28map_573e09fe658a4a02afe002c692c26e7a%29%3B%0A%20%20%20%20%20%20%20%20%0A%20%20%20%20%0A%20%20%20%20%20%20%20%20var%20popup_ff73300364b5439fb4c0c86cd8e04bdd%20%3D%20L.popup%28%7B%22maxWidth%22%3A%20%22100%25%22%7D%29%3B%0A%0A%20%20%20%20%20%20%20%20%0A%20%20%20%20%20%20%20%20%20%20%20%20var%20html_e22da4466b7241f485eabe0d444cb425%20%3D%20%24%28%60%3Cdiv%20id%3D%22html_e22da4466b7241f485eabe0d444cb425%22%20style%3D%22width%3A%20100.0%25%3B%20height%3A%20100.0%25%3B%22%3E2014-01-30%3A17-V%3A17936%20-%20SOG%3A%200.0%20-%20Count%3A%209%20%2847.667%2C%20-122.389%29%3C/div%3E%60%29%5B0%5D%3B%0A%20%20%20%20%20%20%20%20%20%20%20%20popup_ff73300364b5439fb4c0c86cd8e04bdd.setContent%28html_e22da4466b7241f485eabe0d444cb425%29%3B%0A%20%20%20%20%20%20%20%20%0A%0A%20%20%20%20%20%20%20%20marker_63163e6d6b9e403c8ef7922920a75293.bindPopup%28popup_ff73300364b5439fb4c0c86cd8e04bdd%29%0A%20%20%20%20%20%20%20%20%3B%0A%0A%20%20%20%20%20%20%20%20%0A%20%20%20%20%0A%20%20%20%20%0A%20%20%20%20%20%20%20%20%20%20%20%20var%20marker_cac2e126c90647558eda9991e784b952%20%3D%20L.marker%28%0A%20%20%20%20%20%20%20%20%20%20%20%20%20%20%20%20%5B47.66729754999999%2C%20-122.38926565%5D%2C%0A%20%20%20%20%20%20%20%20%20%20%20%20%20%20%20%20%7B%7D%0A%20%20%20%20%20%20%20%20%20%20%20%20%29.addTo%28map_573e09fe658a4a02afe002c692c26e7a%29%3B%0A%20%20%20%20%20%20%20%20%0A%20%20%20%20%0A%20%20%20%20%20%20%20%20var%20popup_0317ff02ff8049ea8a774cdb71db4dc5%20%3D%20L.popup%28%7B%22maxWidth%22%3A%20%22100%25%22%7D%29%3B%0A%0A%20%20%20%20%20%20%20%20%0A%20%20%20%20%20%20%20%20%20%20%20%20var%20html_0221dc8eb4be44f4b822b904ad507943%20%3D%20%24%28%60%3Cdiv%20id%3D%22html_0221dc8eb4be44f4b822b904ad507943%22%20style%3D%22width%3A%20100.0%25%3B%20height%3A%20100.0%25%3B%22%3E2014-01-30%3A18-V%3A17936%20-%20SOG%3A%200.0%20-%20Count%3A%2020%20%2847.667%2C%20-122.389%29%3C/div%3E%60%29%5B0%5D%3B%0A%20%20%20%20%20%20%20%20%20%20%20%20popup_0317ff02ff8049ea8a774cdb71db4dc5.setContent%28html_0221dc8eb4be44f4b822b904ad507943%29%3B%0A%20%20%20%20%20%20%20%20%0A%0A%20%20%20%20%20%20%20%20marker_cac2e126c90647558eda9991e784b952.bindPopup%28popup_0317ff02ff8049ea8a774cdb71db4dc5%29%0A%20%20%20%20%20%20%20%20%3B%0A%0A%20%20%20%20%20%20%20%20%0A%20%20%20%20%0A%20%20%20%20%0A%20%20%20%20%20%20%20%20%20%20%20%20var%20marker_4f40c23b54ce47249797a42adb4507c0%20%3D%20L.marker%28%0A%20%20%20%20%20%20%20%20%20%20%20%20%20%20%20%20%5B47.66729489999999%2C%20-122.38926315%5D%2C%0A%20%20%20%20%20%20%20%20%20%20%20%20%20%20%20%20%7B%7D%0A%20%20%20%20%20%20%20%20%20%20%20%20%29.addTo%28map_573e09fe658a4a02afe002c692c26e7a%29%3B%0A%20%20%20%20%20%20%20%20%0A%20%20%20%20%0A%20%20%20%20%20%20%20%20var%20popup_9d14e14c55384d12923abeee756cd33f%20%3D%20L.popup%28%7B%22maxWidth%22%3A%20%22100%25%22%7D%29%3B%0A%0A%20%20%20%20%20%20%20%20%0A%20%20%20%20%20%20%20%20%20%20%20%20var%20html_eb6bfd3634574ffd90271fb86a8465ae%20%3D%20%24%28%60%3Cdiv%20id%3D%22html_eb6bfd3634574ffd90271fb86a8465ae%22%20style%3D%22width%3A%20100.0%25%3B%20height%3A%20100.0%25%3B%22%3E2014-01-30%3A19-V%3A17936%20-%20SOG%3A%200.0%20-%20Count%3A%2020%20%2847.667%2C%20-122.389%29%3C/div%3E%60%29%5B0%5D%3B%0A%20%20%20%20%20%20%20%20%20%20%20%20popup_9d14e14c55384d12923abeee756cd33f.setContent%28html_eb6bfd3634574ffd90271fb86a8465ae%29%3B%0A%20%20%20%20%20%20%20%20%0A%0A%20%20%20%20%20%20%20%20marker_4f40c23b54ce47249797a42adb4507c0.bindPopup%28popup_9d14e14c55384d12923abeee756cd33f%29%0A%20%20%20%20%20%20%20%20%3B%0A%0A%20%20%20%20%20%20%20%20%0A%20%20%20%20%0A%20%20%20%20%0A%20%20%20%20%20%20%20%20%20%20%20%20var%20marker_bedcf665191549adb62fa1976be3be1b%20%3D%20L.marker%28%0A%20%20%20%20%20%20%20%20%20%20%20%20%20%20%20%20%5B47.66729309999998%2C%20-122.3892645%5D%2C%0A%20%20%20%20%20%20%20%20%20%20%20%20%20%20%20%20%7B%7D%0A%20%20%20%20%20%20%20%20%20%20%20%20%29.addTo%28map_573e09fe658a4a02afe002c692c26e7a%29%3B%0A%20%20%20%20%20%20%20%20%0A%20%20%20%20%0A%20%20%20%20%20%20%20%20var%20popup_ad5e2625232e4c74ae55723f88e9da86%20%3D%20L.popup%28%7B%22maxWidth%22%3A%20%22100%25%22%7D%29%3B%0A%0A%20%20%20%20%20%20%20%20%0A%20%20%20%20%20%20%20%20%20%20%20%20var%20html_8834329d68fe4877bef8986899b1a4cf%20%3D%20%24%28%60%3Cdiv%20id%3D%22html_8834329d68fe4877bef8986899b1a4cf%22%20style%3D%22width%3A%20100.0%25%3B%20height%3A%20100.0%25%3B%22%3E2014-01-30%3A20-V%3A17936%20-%20SOG%3A%200.0%20-%20Count%3A%2020%20%2847.667%2C%20-122.389%29%3C/div%3E%60%29%5B0%5D%3B%0A%20%20%20%20%20%20%20%20%20%20%20%20popup_ad5e2625232e4c74ae55723f88e9da86.setContent%28html_8834329d68fe4877bef8986899b1a4cf%29%3B%0A%20%20%20%20%20%20%20%20%0A%0A%20%20%20%20%20%20%20%20marker_bedcf665191549adb62fa1976be3be1b.bindPopup%28popup_ad5e2625232e4c74ae55723f88e9da86%29%0A%20%20%20%20%20%20%20%20%3B%0A%0A%20%20%20%20%20%20%20%20%0A%20%20%20%20%0A%20%20%20%20%0A%20%20%20%20%20%20%20%20%20%20%20%20var%20marker_a2163b0b388d4542a095683683ba1629%20%3D%20L.marker%28%0A%20%20%20%20%20%20%20%20%20%20%20%20%20%20%20%20%5B47.66729653333332%2C%20-122.38926559999997%5D%2C%0A%20%20%20%20%20%20%20%20%20%20%20%20%20%20%20%20%7B%7D%0A%20%20%20%20%20%20%20%20%20%20%20%20%29.addTo%28map_573e09fe658a4a02afe002c692c26e7a%29%3B%0A%20%20%20%20%20%20%20%20%0A%20%20%20%20%0A%20%20%20%20%20%20%20%20var%20popup_cddec21b7a4d46b18b21a3b6d68f7276%20%3D%20L.popup%28%7B%22maxWidth%22%3A%20%22100%25%22%7D%29%3B%0A%0A%20%20%20%20%20%20%20%20%0A%20%20%20%20%20%20%20%20%20%20%20%20var%20html_e7ed51adf61e4e4e966f68fedf9a13f4%20%3D%20%24%28%60%3Cdiv%20id%3D%22html_e7ed51adf61e4e4e966f68fedf9a13f4%22%20style%3D%22width%3A%20100.0%25%3B%20height%3A%20100.0%25%3B%22%3E2014-01-30%3A21-V%3A17936%20-%20SOG%3A%200.0%20-%20Count%3A%2015%20%2847.667%2C%20-122.389%29%3C/div%3E%60%29%5B0%5D%3B%0A%20%20%20%20%20%20%20%20%20%20%20%20popup_cddec21b7a4d46b18b21a3b6d68f7276.setContent%28html_e7ed51adf61e4e4e966f68fedf9a13f4%29%3B%0A%20%20%20%20%20%20%20%20%0A%0A%20%20%20%20%20%20%20%20marker_a2163b0b388d4542a095683683ba1629.bindPopup%28popup_cddec21b7a4d46b18b21a3b6d68f7276%29%0A%20%20%20%20%20%20%20%20%3B%0A%0A%20%20%20%20%20%20%20%20%0A%20%20%20%20%0A%20%20%20%20%0A%20%20%20%20%20%20%20%20%20%20%20%20var%20marker_f34296d5b77144ca8079e2cff10fd4ae%20%3D%20L.marker%28%0A%20%20%20%20%20%20%20%20%20%20%20%20%20%20%20%20%5B47.66729364999998%2C%20-122.38926729999999%5D%2C%0A%20%20%20%20%20%20%20%20%20%20%20%20%20%20%20%20%7B%7D%0A%20%20%20%20%20%20%20%20%20%20%20%20%29.addTo%28map_573e09fe658a4a02afe002c692c26e7a%29%3B%0A%20%20%20%20%20%20%20%20%0A%20%20%20%20%0A%20%20%20%20%20%20%20%20var%20popup_9c02cf6faf45478ba1dd51c813bc976b%20%3D%20L.popup%28%7B%22maxWidth%22%3A%20%22100%25%22%7D%29%3B%0A%0A%20%20%20%20%20%20%20%20%0A%20%20%20%20%20%20%20%20%20%20%20%20var%20html_387d084c0ff74ec6a1599a7c469b9d7a%20%3D%20%24%28%60%3Cdiv%20id%3D%22html_387d084c0ff74ec6a1599a7c469b9d7a%22%20style%3D%22width%3A%20100.0%25%3B%20height%3A%20100.0%25%3B%22%3E2014-01-30%3A22-V%3A17936%20-%20SOG%3A%200.0%20-%20Count%3A%2020%20%2847.667%2C%20-122.389%29%3C/div%3E%60%29%5B0%5D%3B%0A%20%20%20%20%20%20%20%20%20%20%20%20popup_9c02cf6faf45478ba1dd51c813bc976b.setContent%28html_387d084c0ff74ec6a1599a7c469b9d7a%29%3B%0A%20%20%20%20%20%20%20%20%0A%0A%20%20%20%20%20%20%20%20marker_f34296d5b77144ca8079e2cff10fd4ae.bindPopup%28popup_9c02cf6faf45478ba1dd51c813bc976b%29%0A%20%20%20%20%20%20%20%20%3B%0A%0A%20%20%20%20%20%20%20%20%0A%20%20%20%20%0A%20%20%20%20%0A%20%20%20%20%20%20%20%20%20%20%20%20var%20marker_483151ce59014c5c930c8171fd894548%20%3D%20L.marker%28%0A%20%20%20%20%20%20%20%20%20%20%20%20%20%20%20%20%5B47.66729910526315%2C%20-122.38926247368418%5D%2C%0A%20%20%20%20%20%20%20%20%20%20%20%20%20%20%20%20%7B%7D%0A%20%20%20%20%20%20%20%20%20%20%20%20%29.addTo%28map_573e09fe658a4a02afe002c692c26e7a%29%3B%0A%20%20%20%20%20%20%20%20%0A%20%20%20%20%0A%20%20%20%20%20%20%20%20var%20popup_8fde5f35f83d45cb982d13cc14ab1623%20%3D%20L.popup%28%7B%22maxWidth%22%3A%20%22100%25%22%7D%29%3B%0A%0A%20%20%20%20%20%20%20%20%0A%20%20%20%20%20%20%20%20%20%20%20%20var%20html_555be261fe8e483ca56d04e77e2eb7be%20%3D%20%24%28%60%3Cdiv%20id%3D%22html_555be261fe8e483ca56d04e77e2eb7be%22%20style%3D%22width%3A%20100.0%25%3B%20height%3A%20100.0%25%3B%22%3E2014-01-30%3A23-V%3A17936%20-%20SOG%3A%200.0%20-%20Count%3A%2019%20%2847.667%2C%20-122.389%29%3C/div%3E%60%29%5B0%5D%3B%0A%20%20%20%20%20%20%20%20%20%20%20%20popup_8fde5f35f83d45cb982d13cc14ab1623.setContent%28html_555be261fe8e483ca56d04e77e2eb7be%29%3B%0A%20%20%20%20%20%20%20%20%0A%0A%20%20%20%20%20%20%20%20marker_483151ce59014c5c930c8171fd894548.bindPopup%28popup_8fde5f35f83d45cb982d13cc14ab1623%29%0A%20%20%20%20%20%20%20%20%3B%0A%0A%20%20%20%20%20%20%20%20%0A%20%20%20%20%0A%20%20%20%20%0A%20%20%20%20%20%20%20%20%20%20%20%20var%20marker_ab009f7d63a84dcc967e31b41e6d2397%20%3D%20L.marker%28%0A%20%20%20%20%20%20%20%20%20%20%20%20%20%20%20%20%5B47.66729533333333%2C%20-122.3892623333333%5D%2C%0A%20%20%20%20%20%20%20%20%20%20%20%20%20%20%20%20%7B%7D%0A%20%20%20%20%20%20%20%20%20%20%20%20%29.addTo%28map_573e09fe658a4a02afe002c692c26e7a%29%3B%0A%20%20%20%20%20%20%20%20%0A%20%20%20%20%0A%20%20%20%20%20%20%20%20var%20popup_39e7eb6addf146c7b5ec523072c27331%20%3D%20L.popup%28%7B%22maxWidth%22%3A%20%22100%25%22%7D%29%3B%0A%0A%20%20%20%20%20%20%20%20%0A%20%20%20%20%20%20%20%20%20%20%20%20var%20html_01f1a5cd6bfc4de7865b788e2f10b669%20%3D%20%24%28%60%3Cdiv%20id%3D%22html_01f1a5cd6bfc4de7865b788e2f10b669%22%20style%3D%22width%3A%20100.0%25%3B%20height%3A%20100.0%25%3B%22%3E2014-01-31%3A0-V%3A17936%20-%20SOG%3A%200.0%20-%20Count%3A%2018%20%2847.667%2C%20-122.389%29%3C/div%3E%60%29%5B0%5D%3B%0A%20%20%20%20%20%20%20%20%20%20%20%20popup_39e7eb6addf146c7b5ec523072c27331.setContent%28html_01f1a5cd6bfc4de7865b788e2f10b669%29%3B%0A%20%20%20%20%20%20%20%20%0A%0A%20%20%20%20%20%20%20%20marker_ab009f7d63a84dcc967e31b41e6d2397.bindPopup%28popup_39e7eb6addf146c7b5ec523072c27331%29%0A%20%20%20%20%20%20%20%20%3B%0A%0A%20%20%20%20%20%20%20%20%0A%20%20%20%20%0A%20%20%20%20%0A%20%20%20%20%20%20%20%20%20%20%20%20var%20marker_cd07153ddf334aa7af42709cb9b7b6a7%20%3D%20L.marker%28%0A%20%20%20%20%20%20%20%20%20%20%20%20%20%20%20%20%5B47.66729979999998%2C%20-122.38926895000004%5D%2C%0A%20%20%20%20%20%20%20%20%20%20%20%20%20%20%20%20%7B%7D%0A%20%20%20%20%20%20%20%20%20%20%20%20%29.addTo%28map_573e09fe658a4a02afe002c692c26e7a%29%3B%0A%20%20%20%20%20%20%20%20%0A%20%20%20%20%0A%20%20%20%20%20%20%20%20var%20popup_c7d69574209041939e33f7091b127351%20%3D%20L.popup%28%7B%22maxWidth%22%3A%20%22100%25%22%7D%29%3B%0A%0A%20%20%20%20%20%20%20%20%0A%20%20%20%20%20%20%20%20%20%20%20%20var%20html_6c6688844a1e454da650d6131c7c5bee%20%3D%20%24%28%60%3Cdiv%20id%3D%22html_6c6688844a1e454da650d6131c7c5bee%22%20style%3D%22width%3A%20100.0%25%3B%20height%3A%20100.0%25%3B%22%3E2014-01-31%3A1-V%3A17936%20-%20SOG%3A%200.0%20-%20Count%3A%2020%20%2847.667%2C%20-122.389%29%3C/div%3E%60%29%5B0%5D%3B%0A%20%20%20%20%20%20%20%20%20%20%20%20popup_c7d69574209041939e33f7091b127351.setContent%28html_6c6688844a1e454da650d6131c7c5bee%29%3B%0A%20%20%20%20%20%20%20%20%0A%0A%20%20%20%20%20%20%20%20marker_cd07153ddf334aa7af42709cb9b7b6a7.bindPopup%28popup_c7d69574209041939e33f7091b127351%29%0A%20%20%20%20%20%20%20%20%3B%0A%0A%20%20%20%20%20%20%20%20%0A%20%20%20%20%0A%20%20%20%20%0A%20%20%20%20%20%20%20%20%20%20%20%20var%20marker_0c1b9e06bc934ee3b532813d11a55217%20%3D%20L.marker%28%0A%20%20%20%20%20%20%20%20%20%20%20%20%20%20%20%20%5B47.66730060000001%2C%20-122.38926690000001%5D%2C%0A%20%20%20%20%20%20%20%20%20%20%20%20%20%20%20%20%7B%7D%0A%20%20%20%20%20%20%20%20%20%20%20%20%29.addTo%28map_573e09fe658a4a02afe002c692c26e7a%29%3B%0A%20%20%20%20%20%20%20%20%0A%20%20%20%20%0A%20%20%20%20%20%20%20%20var%20popup_c1aad9d9898144ada20ad9f8eb7e13dd%20%3D%20L.popup%28%7B%22maxWidth%22%3A%20%22100%25%22%7D%29%3B%0A%0A%20%20%20%20%20%20%20%20%0A%20%20%20%20%20%20%20%20%20%20%20%20var%20html_33ee1c72391c4a0caeb2da4a8993cdfa%20%3D%20%24%28%60%3Cdiv%20id%3D%22html_33ee1c72391c4a0caeb2da4a8993cdfa%22%20style%3D%22width%3A%20100.0%25%3B%20height%3A%20100.0%25%3B%22%3E2014-01-31%3A2-V%3A17936%20-%20SOG%3A%200.0%20-%20Count%3A%2020%20%2847.667%2C%20-122.389%29%3C/div%3E%60%29%5B0%5D%3B%0A%20%20%20%20%20%20%20%20%20%20%20%20popup_c1aad9d9898144ada20ad9f8eb7e13dd.setContent%28html_33ee1c72391c4a0caeb2da4a8993cdfa%29%3B%0A%20%20%20%20%20%20%20%20%0A%0A%20%20%20%20%20%20%20%20marker_0c1b9e06bc934ee3b532813d11a55217.bindPopup%28popup_c1aad9d9898144ada20ad9f8eb7e13dd%29%0A%20%20%20%20%20%20%20%20%3B%0A%0A%20%20%20%20%20%20%20%20%0A%20%20%20%20%0A%20%20%20%20%0A%20%20%20%20%20%20%20%20%20%20%20%20var%20marker_1108131413c54f0993bdc0617dcb010d%20%3D%20L.marker%28%0A%20%20%20%20%20%20%20%20%20%20%20%20%20%20%20%20%5B47.66729684999999%2C%20-122.3892674%5D%2C%0A%20%20%20%20%20%20%20%20%20%20%20%20%20%20%20%20%7B%7D%0A%20%20%20%20%20%20%20%20%20%20%20%20%29.addTo%28map_573e09fe658a4a02afe002c692c26e7a%29%3B%0A%20%20%20%20%20%20%20%20%0A%20%20%20%20%0A%20%20%20%20%20%20%20%20var%20popup_9a625014d7a0420bbf120927bbd20f82%20%3D%20L.popup%28%7B%22maxWidth%22%3A%20%22100%25%22%7D%29%3B%0A%0A%20%20%20%20%20%20%20%20%0A%20%20%20%20%20%20%20%20%20%20%20%20var%20html_eb3c129002584c978d36b848e2569c5f%20%3D%20%24%28%60%3Cdiv%20id%3D%22html_eb3c129002584c978d36b848e2569c5f%22%20style%3D%22width%3A%20100.0%25%3B%20height%3A%20100.0%25%3B%22%3E2014-01-31%3A3-V%3A17936%20-%20SOG%3A%200.0%20-%20Count%3A%2020%20%2847.667%2C%20-122.389%29%3C/div%3E%60%29%5B0%5D%3B%0A%20%20%20%20%20%20%20%20%20%20%20%20popup_9a625014d7a0420bbf120927bbd20f82.setContent%28html_eb3c129002584c978d36b848e2569c5f%29%3B%0A%20%20%20%20%20%20%20%20%0A%0A%20%20%20%20%20%20%20%20marker_1108131413c54f0993bdc0617dcb010d.bindPopup%28popup_9a625014d7a0420bbf120927bbd20f82%29%0A%20%20%20%20%20%20%20%20%3B%0A%0A%20%20%20%20%20%20%20%20%0A%20%20%20%20%0A%20%20%20%20%0A%20%20%20%20%20%20%20%20%20%20%20%20var%20marker_e2b7d7537bd444fc9d40df160d392cfc%20%3D%20L.marker%28%0A%20%20%20%20%20%20%20%20%20%20%20%20%20%20%20%20%5B47.6672942222222%2C%20-122.38926949999998%5D%2C%0A%20%20%20%20%20%20%20%20%20%20%20%20%20%20%20%20%7B%7D%0A%20%20%20%20%20%20%20%20%20%20%20%20%29.addTo%28map_573e09fe658a4a02afe002c692c26e7a%29%3B%0A%20%20%20%20%20%20%20%20%0A%20%20%20%20%0A%20%20%20%20%20%20%20%20var%20popup_2d0f737b0e8a4dc3bbdabc17cb64bb84%20%3D%20L.popup%28%7B%22maxWidth%22%3A%20%22100%25%22%7D%29%3B%0A%0A%20%20%20%20%20%20%20%20%0A%20%20%20%20%20%20%20%20%20%20%20%20var%20html_c9f4ac452917484b9dd022521a6897c6%20%3D%20%24%28%60%3Cdiv%20id%3D%22html_c9f4ac452917484b9dd022521a6897c6%22%20style%3D%22width%3A%20100.0%25%3B%20height%3A%20100.0%25%3B%22%3E2014-01-31%3A4-V%3A17936%20-%20SOG%3A%200.0%20-%20Count%3A%2018%20%2847.667%2C%20-122.389%29%3C/div%3E%60%29%5B0%5D%3B%0A%20%20%20%20%20%20%20%20%20%20%20%20popup_2d0f737b0e8a4dc3bbdabc17cb64bb84.setContent%28html_c9f4ac452917484b9dd022521a6897c6%29%3B%0A%20%20%20%20%20%20%20%20%0A%0A%20%20%20%20%20%20%20%20marker_e2b7d7537bd444fc9d40df160d392cfc.bindPopup%28popup_2d0f737b0e8a4dc3bbdabc17cb64bb84%29%0A%20%20%20%20%20%20%20%20%3B%0A%0A%20%20%20%20%20%20%20%20%0A%20%20%20%20%0A%20%20%20%20%0A%20%20%20%20%20%20%20%20%20%20%20%20var%20marker_da7c1f108c2d411e9f97c8e0feef20e2%20%3D%20L.marker%28%0A%20%20%20%20%20%20%20%20%20%20%20%20%20%20%20%20%5B47.667300105263145%2C%20-122.38926684210526%5D%2C%0A%20%20%20%20%20%20%20%20%20%20%20%20%20%20%20%20%7B%7D%0A%20%20%20%20%20%20%20%20%20%20%20%20%29.addTo%28map_573e09fe658a4a02afe002c692c26e7a%29%3B%0A%20%20%20%20%20%20%20%20%0A%20%20%20%20%0A%20%20%20%20%20%20%20%20var%20popup_e2ec1e47bc5b4eaeba52ac5b6f1554f5%20%3D%20L.popup%28%7B%22maxWidth%22%3A%20%22100%25%22%7D%29%3B%0A%0A%20%20%20%20%20%20%20%20%0A%20%20%20%20%20%20%20%20%20%20%20%20var%20html_7700270fdad64231902fe5f106efe56a%20%3D%20%24%28%60%3Cdiv%20id%3D%22html_7700270fdad64231902fe5f106efe56a%22%20style%3D%22width%3A%20100.0%25%3B%20height%3A%20100.0%25%3B%22%3E2014-01-31%3A5-V%3A17936%20-%20SOG%3A%200.0%20-%20Count%3A%2019%20%2847.667%2C%20-122.389%29%3C/div%3E%60%29%5B0%5D%3B%0A%20%20%20%20%20%20%20%20%20%20%20%20popup_e2ec1e47bc5b4eaeba52ac5b6f1554f5.setContent%28html_7700270fdad64231902fe5f106efe56a%29%3B%0A%20%20%20%20%20%20%20%20%0A%0A%20%20%20%20%20%20%20%20marker_da7c1f108c2d411e9f97c8e0feef20e2.bindPopup%28popup_e2ec1e47bc5b4eaeba52ac5b6f1554f5%29%0A%20%20%20%20%20%20%20%20%3B%0A%0A%20%20%20%20%20%20%20%20%0A%20%20%20%20%0A%20%20%20%20%0A%20%20%20%20%20%20%20%20%20%20%20%20var%20marker_9108c36705574abd8b9c39b393d26096%20%3D%20L.marker%28%0A%20%20%20%20%20%20%20%20%20%20%20%20%20%20%20%20%5B47.66729511764704%2C%20-122.38926505882351%5D%2C%0A%20%20%20%20%20%20%20%20%20%20%20%20%20%20%20%20%7B%7D%0A%20%20%20%20%20%20%20%20%20%20%20%20%29.addTo%28map_573e09fe658a4a02afe002c692c26e7a%29%3B%0A%20%20%20%20%20%20%20%20%0A%20%20%20%20%0A%20%20%20%20%20%20%20%20var%20popup_9f70e001636d458aadd7ecbe79fabc8d%20%3D%20L.popup%28%7B%22maxWidth%22%3A%20%22100%25%22%7D%29%3B%0A%0A%20%20%20%20%20%20%20%20%0A%20%20%20%20%20%20%20%20%20%20%20%20var%20html_1cee0d09a8a64660be59452f7c5c42ff%20%3D%20%24%28%60%3Cdiv%20id%3D%22html_1cee0d09a8a64660be59452f7c5c42ff%22%20style%3D%22width%3A%20100.0%25%3B%20height%3A%20100.0%25%3B%22%3E2014-01-31%3A6-V%3A17936%20-%20SOG%3A%200.0%20-%20Count%3A%2017%20%2847.667%2C%20-122.389%29%3C/div%3E%60%29%5B0%5D%3B%0A%20%20%20%20%20%20%20%20%20%20%20%20popup_9f70e001636d458aadd7ecbe79fabc8d.setContent%28html_1cee0d09a8a64660be59452f7c5c42ff%29%3B%0A%20%20%20%20%20%20%20%20%0A%0A%20%20%20%20%20%20%20%20marker_9108c36705574abd8b9c39b393d26096.bindPopup%28popup_9f70e001636d458aadd7ecbe79fabc8d%29%0A%20%20%20%20%20%20%20%20%3B%0A%0A%20%20%20%20%20%20%20%20%0A%20%20%20%20%0A%20%20%20%20%0A%20%20%20%20%20%20%20%20%20%20%20%20var%20marker_d5c4fc0ea512496184aed06d866cd2bb%20%3D%20L.marker%28%0A%20%20%20%20%20%20%20%20%20%20%20%20%20%20%20%20%5B47.667293049999984%2C%20-122.38926490000001%5D%2C%0A%20%20%20%20%20%20%20%20%20%20%20%20%20%20%20%20%7B%7D%0A%20%20%20%20%20%20%20%20%20%20%20%20%29.addTo%28map_573e09fe658a4a02afe002c692c26e7a%29%3B%0A%20%20%20%20%20%20%20%20%0A%20%20%20%20%0A%20%20%20%20%20%20%20%20var%20popup_f19d42934a8147c5b056f78aacc52350%20%3D%20L.popup%28%7B%22maxWidth%22%3A%20%22100%25%22%7D%29%3B%0A%0A%20%20%20%20%20%20%20%20%0A%20%20%20%20%20%20%20%20%20%20%20%20var%20html_a91396e1d2104f8a8837856506155247%20%3D%20%24%28%60%3Cdiv%20id%3D%22html_a91396e1d2104f8a8837856506155247%22%20style%3D%22width%3A%20100.0%25%3B%20height%3A%20100.0%25%3B%22%3E2014-01-31%3A7-V%3A17936%20-%20SOG%3A%200.0%20-%20Count%3A%2020%20%2847.667%2C%20-122.389%29%3C/div%3E%60%29%5B0%5D%3B%0A%20%20%20%20%20%20%20%20%20%20%20%20popup_f19d42934a8147c5b056f78aacc52350.setContent%28html_a91396e1d2104f8a8837856506155247%29%3B%0A%20%20%20%20%20%20%20%20%0A%0A%20%20%20%20%20%20%20%20marker_d5c4fc0ea512496184aed06d866cd2bb.bindPopup%28popup_f19d42934a8147c5b056f78aacc52350%29%0A%20%20%20%20%20%20%20%20%3B%0A%0A%20%20%20%20%20%20%20%20%0A%20%20%20%20%0A%20%20%20%20%0A%20%20%20%20%20%20%20%20%20%20%20%20var%20marker_d2f8b12bc2124ae6a4ec8e1f54926ef7%20%3D%20L.marker%28%0A%20%20%20%20%20%20%20%20%20%20%20%20%20%20%20%20%5B47.66729694999999%2C%20-122.38926074999998%5D%2C%0A%20%20%20%20%20%20%20%20%20%20%20%20%20%20%20%20%7B%7D%0A%20%20%20%20%20%20%20%20%20%20%20%20%29.addTo%28map_573e09fe658a4a02afe002c692c26e7a%29%3B%0A%20%20%20%20%20%20%20%20%0A%20%20%20%20%0A%20%20%20%20%20%20%20%20var%20popup_5cf122156e664e18863ebffd945441c7%20%3D%20L.popup%28%7B%22maxWidth%22%3A%20%22100%25%22%7D%29%3B%0A%0A%20%20%20%20%20%20%20%20%0A%20%20%20%20%20%20%20%20%20%20%20%20var%20html_033980b57cbf44be8379db2bdc48f3f9%20%3D%20%24%28%60%3Cdiv%20id%3D%22html_033980b57cbf44be8379db2bdc48f3f9%22%20style%3D%22width%3A%20100.0%25%3B%20height%3A%20100.0%25%3B%22%3E2014-01-31%3A8-V%3A17936%20-%20SOG%3A%200.0%20-%20Count%3A%2020%20%2847.667%2C%20-122.389%29%3C/div%3E%60%29%5B0%5D%3B%0A%20%20%20%20%20%20%20%20%20%20%20%20popup_5cf122156e664e18863ebffd945441c7.setContent%28html_033980b57cbf44be8379db2bdc48f3f9%29%3B%0A%20%20%20%20%20%20%20%20%0A%0A%20%20%20%20%20%20%20%20marker_d2f8b12bc2124ae6a4ec8e1f54926ef7.bindPopup%28popup_5cf122156e664e18863ebffd945441c7%29%0A%20%20%20%20%20%20%20%20%3B%0A%0A%20%20%20%20%20%20%20%20%0A%20%20%20%20%0A%20%20%20%20%0A%20%20%20%20%20%20%20%20%20%20%20%20var%20marker_23932a1144534b6bb2233c577dc80ebf%20%3D%20L.marker%28%0A%20%20%20%20%20%20%20%20%20%20%20%20%20%20%20%20%5B47.66729505263157%2C%20-122.38926536842105%5D%2C%0A%20%20%20%20%20%20%20%20%20%20%20%20%20%20%20%20%7B%7D%0A%20%20%20%20%20%20%20%20%20%20%20%20%29.addTo%28map_573e09fe658a4a02afe002c692c26e7a%29%3B%0A%20%20%20%20%20%20%20%20%0A%20%20%20%20%0A%20%20%20%20%20%20%20%20var%20popup_573f8802942748758b060394d7bad919%20%3D%20L.popup%28%7B%22maxWidth%22%3A%20%22100%25%22%7D%29%3B%0A%0A%20%20%20%20%20%20%20%20%0A%20%20%20%20%20%20%20%20%20%20%20%20var%20html_95d3e8fd827a45909b5291121717ae97%20%3D%20%24%28%60%3Cdiv%20id%3D%22html_95d3e8fd827a45909b5291121717ae97%22%20style%3D%22width%3A%20100.0%25%3B%20height%3A%20100.0%25%3B%22%3E2014-01-31%3A9-V%3A17936%20-%20SOG%3A%200.0%20-%20Count%3A%2019%20%2847.667%2C%20-122.389%29%3C/div%3E%60%29%5B0%5D%3B%0A%20%20%20%20%20%20%20%20%20%20%20%20popup_573f8802942748758b060394d7bad919.setContent%28html_95d3e8fd827a45909b5291121717ae97%29%3B%0A%20%20%20%20%20%20%20%20%0A%0A%20%20%20%20%20%20%20%20marker_23932a1144534b6bb2233c577dc80ebf.bindPopup%28popup_573f8802942748758b060394d7bad919%29%0A%20%20%20%20%20%20%20%20%3B%0A%0A%20%20%20%20%20%20%20%20%0A%20%20%20%20%0A%20%20%20%20%0A%20%20%20%20%20%20%20%20%20%20%20%20var%20marker_c2abbfed06eb4bd58cee6b4c771f622c%20%3D%20L.marker%28%0A%20%20%20%20%20%20%20%20%20%20%20%20%20%20%20%20%5B47.66729563157893%2C%20-122.38926363157896%5D%2C%0A%20%20%20%20%20%20%20%20%20%20%20%20%20%20%20%20%7B%7D%0A%20%20%20%20%20%20%20%20%20%20%20%20%29.addTo%28map_573e09fe658a4a02afe002c692c26e7a%29%3B%0A%20%20%20%20%20%20%20%20%0A%20%20%20%20%0A%20%20%20%20%20%20%20%20var%20popup_ed27b253619b4f0c98f29ed7c64cabec%20%3D%20L.popup%28%7B%22maxWidth%22%3A%20%22100%25%22%7D%29%3B%0A%0A%20%20%20%20%20%20%20%20%0A%20%20%20%20%20%20%20%20%20%20%20%20var%20html_7a5bd9323ad5433ab476d9c37b7df6a1%20%3D%20%24%28%60%3Cdiv%20id%3D%22html_7a5bd9323ad5433ab476d9c37b7df6a1%22%20style%3D%22width%3A%20100.0%25%3B%20height%3A%20100.0%25%3B%22%3E2014-01-31%3A10-V%3A17936%20-%20SOG%3A%200.0%20-%20Count%3A%2019%20%2847.667%2C%20-122.389%29%3C/div%3E%60%29%5B0%5D%3B%0A%20%20%20%20%20%20%20%20%20%20%20%20popup_ed27b253619b4f0c98f29ed7c64cabec.setContent%28html_7a5bd9323ad5433ab476d9c37b7df6a1%29%3B%0A%20%20%20%20%20%20%20%20%0A%0A%20%20%20%20%20%20%20%20marker_c2abbfed06eb4bd58cee6b4c771f622c.bindPopup%28popup_ed27b253619b4f0c98f29ed7c64cabec%29%0A%20%20%20%20%20%20%20%20%3B%0A%0A%20%20%20%20%20%20%20%20%0A%20%20%20%20%0A%20%20%20%20%0A%20%20%20%20%20%20%20%20%20%20%20%20var%20marker_2c378b9893fb40a48fe1c57ba349ba66%20%3D%20L.marker%28%0A%20%20%20%20%20%20%20%20%20%20%20%20%20%20%20%20%5B47.66729444999999%2C%20-122.38926934999998%5D%2C%0A%20%20%20%20%20%20%20%20%20%20%20%20%20%20%20%20%7B%7D%0A%20%20%20%20%20%20%20%20%20%20%20%20%29.addTo%28map_573e09fe658a4a02afe002c692c26e7a%29%3B%0A%20%20%20%20%20%20%20%20%0A%20%20%20%20%0A%20%20%20%20%20%20%20%20var%20popup_d8f52b509e414d3381b21115fcfba816%20%3D%20L.popup%28%7B%22maxWidth%22%3A%20%22100%25%22%7D%29%3B%0A%0A%20%20%20%20%20%20%20%20%0A%20%20%20%20%20%20%20%20%20%20%20%20var%20html_807726f01b354588aa9a8bf4369797e7%20%3D%20%24%28%60%3Cdiv%20id%3D%22html_807726f01b354588aa9a8bf4369797e7%22%20style%3D%22width%3A%20100.0%25%3B%20height%3A%20100.0%25%3B%22%3E2014-01-31%3A11-V%3A17936%20-%20SOG%3A%200.0%20-%20Count%3A%2020%20%2847.667%2C%20-122.389%29%3C/div%3E%60%29%5B0%5D%3B%0A%20%20%20%20%20%20%20%20%20%20%20%20popup_d8f52b509e414d3381b21115fcfba816.setContent%28html_807726f01b354588aa9a8bf4369797e7%29%3B%0A%20%20%20%20%20%20%20%20%0A%0A%20%20%20%20%20%20%20%20marker_2c378b9893fb40a48fe1c57ba349ba66.bindPopup%28popup_d8f52b509e414d3381b21115fcfba816%29%0A%20%20%20%20%20%20%20%20%3B%0A%0A%20%20%20%20%20%20%20%20%0A%20%20%20%20%0A%20%20%20%20%0A%20%20%20%20%20%20%20%20%20%20%20%20var%20marker_27d61e23b5ce40058452bb56211dffee%20%3D%20L.marker%28%0A%20%20%20%20%20%20%20%20%20%20%20%20%20%20%20%20%5B47.66729639999999%2C%20-122.38925944999998%5D%2C%0A%20%20%20%20%20%20%20%20%20%20%20%20%20%20%20%20%7B%7D%0A%20%20%20%20%20%20%20%20%20%20%20%20%29.addTo%28map_573e09fe658a4a02afe002c692c26e7a%29%3B%0A%20%20%20%20%20%20%20%20%0A%20%20%20%20%0A%20%20%20%20%20%20%20%20var%20popup_b3b316d8fed84f559f0e52ac37623cfd%20%3D%20L.popup%28%7B%22maxWidth%22%3A%20%22100%25%22%7D%29%3B%0A%0A%20%20%20%20%20%20%20%20%0A%20%20%20%20%20%20%20%20%20%20%20%20var%20html_1dd1f32a39424883abe76d75f65d579e%20%3D%20%24%28%60%3Cdiv%20id%3D%22html_1dd1f32a39424883abe76d75f65d579e%22%20style%3D%22width%3A%20100.0%25%3B%20height%3A%20100.0%25%3B%22%3E2014-01-31%3A12-V%3A17936%20-%20SOG%3A%200.0%20-%20Count%3A%2020%20%2847.667%2C%20-122.389%29%3C/div%3E%60%29%5B0%5D%3B%0A%20%20%20%20%20%20%20%20%20%20%20%20popup_b3b316d8fed84f559f0e52ac37623cfd.setContent%28html_1dd1f32a39424883abe76d75f65d579e%29%3B%0A%20%20%20%20%20%20%20%20%0A%0A%20%20%20%20%20%20%20%20marker_27d61e23b5ce40058452bb56211dffee.bindPopup%28popup_b3b316d8fed84f559f0e52ac37623cfd%29%0A%20%20%20%20%20%20%20%20%3B%0A%0A%20%20%20%20%20%20%20%20%0A%20%20%20%20%0A%20%20%20%20%0A%20%20%20%20%20%20%20%20%20%20%20%20var%20marker_6c0f8941cb0e4967a89c8eb43913d471%20%3D%20L.marker%28%0A%20%20%20%20%20%20%20%20%20%20%20%20%20%20%20%20%5B47.66729269999999%2C%20-122.38926034999997%5D%2C%0A%20%20%20%20%20%20%20%20%20%20%20%20%20%20%20%20%7B%7D%0A%20%20%20%20%20%20%20%20%20%20%20%20%29.addTo%28map_573e09fe658a4a02afe002c692c26e7a%29%3B%0A%20%20%20%20%20%20%20%20%0A%20%20%20%20%0A%20%20%20%20%20%20%20%20var%20popup_a7c07723843043bdb8d4fa6db1c3ae5b%20%3D%20L.popup%28%7B%22maxWidth%22%3A%20%22100%25%22%7D%29%3B%0A%0A%20%20%20%20%20%20%20%20%0A%20%20%20%20%20%20%20%20%20%20%20%20var%20html_e6c1b226c91246899ef56cd85e334d71%20%3D%20%24%28%60%3Cdiv%20id%3D%22html_e6c1b226c91246899ef56cd85e334d71%22%20style%3D%22width%3A%20100.0%25%3B%20height%3A%20100.0%25%3B%22%3E2014-01-31%3A13-V%3A17936%20-%20SOG%3A%200.0%20-%20Count%3A%2020%20%2847.667%2C%20-122.389%29%3C/div%3E%60%29%5B0%5D%3B%0A%20%20%20%20%20%20%20%20%20%20%20%20popup_a7c07723843043bdb8d4fa6db1c3ae5b.setContent%28html_e6c1b226c91246899ef56cd85e334d71%29%3B%0A%20%20%20%20%20%20%20%20%0A%0A%20%20%20%20%20%20%20%20marker_6c0f8941cb0e4967a89c8eb43913d471.bindPopup%28popup_a7c07723843043bdb8d4fa6db1c3ae5b%29%0A%20%20%20%20%20%20%20%20%3B%0A%0A%20%20%20%20%20%20%20%20%0A%20%20%20%20%0A%20%20%20%20%0A%20%20%20%20%20%20%20%20%20%20%20%20var%20marker_2186382f54f64e398423539cd2233a02%20%3D%20L.marker%28%0A%20%20%20%20%20%20%20%20%20%20%20%20%20%20%20%20%5B47.667294%2C%20-122.38926627777778%5D%2C%0A%20%20%20%20%20%20%20%20%20%20%20%20%20%20%20%20%7B%7D%0A%20%20%20%20%20%20%20%20%20%20%20%20%29.addTo%28map_573e09fe658a4a02afe002c692c26e7a%29%3B%0A%20%20%20%20%20%20%20%20%0A%20%20%20%20%0A%20%20%20%20%20%20%20%20var%20popup_1f1dec4c9a3e4489a38a60f3ab7c024b%20%3D%20L.popup%28%7B%22maxWidth%22%3A%20%22100%25%22%7D%29%3B%0A%0A%20%20%20%20%20%20%20%20%0A%20%20%20%20%20%20%20%20%20%20%20%20var%20html_2821fa4a421842e0a406852c66dbfa21%20%3D%20%24%28%60%3Cdiv%20id%3D%22html_2821fa4a421842e0a406852c66dbfa21%22%20style%3D%22width%3A%20100.0%25%3B%20height%3A%20100.0%25%3B%22%3E2014-01-31%3A14-V%3A17936%20-%20SOG%3A%200.0%20-%20Count%3A%2018%20%2847.667%2C%20-122.389%29%3C/div%3E%60%29%5B0%5D%3B%0A%20%20%20%20%20%20%20%20%20%20%20%20popup_1f1dec4c9a3e4489a38a60f3ab7c024b.setContent%28html_2821fa4a421842e0a406852c66dbfa21%29%3B%0A%20%20%20%20%20%20%20%20%0A%0A%20%20%20%20%20%20%20%20marker_2186382f54f64e398423539cd2233a02.bindPopup%28popup_1f1dec4c9a3e4489a38a60f3ab7c024b%29%0A%20%20%20%20%20%20%20%20%3B%0A%0A%20%20%20%20%20%20%20%20%0A%20%20%20%20%0A%20%20%20%20%0A%20%20%20%20%20%20%20%20%20%20%20%20var%20marker_6b991a7cbd834d6a9422d86f510214f2%20%3D%20L.marker%28%0A%20%20%20%20%20%20%20%20%20%20%20%20%20%20%20%20%5B47.667299649999975%2C%20-122.38926839999995%5D%2C%0A%20%20%20%20%20%20%20%20%20%20%20%20%20%20%20%20%7B%7D%0A%20%20%20%20%20%20%20%20%20%20%20%20%29.addTo%28map_573e09fe658a4a02afe002c692c26e7a%29%3B%0A%20%20%20%20%20%20%20%20%0A%20%20%20%20%0A%20%20%20%20%20%20%20%20var%20popup_af61f8355b1d4d18ba7912f9ef4b42cb%20%3D%20L.popup%28%7B%22maxWidth%22%3A%20%22100%25%22%7D%29%3B%0A%0A%20%20%20%20%20%20%20%20%0A%20%20%20%20%20%20%20%20%20%20%20%20var%20html_aa255752c4bd4c4fb761f973d3cc2e2c%20%3D%20%24%28%60%3Cdiv%20id%3D%22html_aa255752c4bd4c4fb761f973d3cc2e2c%22%20style%3D%22width%3A%20100.0%25%3B%20height%3A%20100.0%25%3B%22%3E2014-01-31%3A15-V%3A17936%20-%20SOG%3A%200.0%20-%20Count%3A%2020%20%2847.667%2C%20-122.389%29%3C/div%3E%60%29%5B0%5D%3B%0A%20%20%20%20%20%20%20%20%20%20%20%20popup_af61f8355b1d4d18ba7912f9ef4b42cb.setContent%28html_aa255752c4bd4c4fb761f973d3cc2e2c%29%3B%0A%20%20%20%20%20%20%20%20%0A%0A%20%20%20%20%20%20%20%20marker_6b991a7cbd834d6a9422d86f510214f2.bindPopup%28popup_af61f8355b1d4d18ba7912f9ef4b42cb%29%0A%20%20%20%20%20%20%20%20%3B%0A%0A%20%20%20%20%20%20%20%20%0A%20%20%20%20%0A%20%20%20%20%0A%20%20%20%20%20%20%20%20%20%20%20%20var%20marker_837e4d22813d43d2b0ed1ceaf449ec4f%20%3D%20L.marker%28%0A%20%20%20%20%20%20%20%20%20%20%20%20%20%20%20%20%5B47.667297368421046%2C%20-122.38926699999999%5D%2C%0A%20%20%20%20%20%20%20%20%20%20%20%20%20%20%20%20%7B%7D%0A%20%20%20%20%20%20%20%20%20%20%20%20%29.addTo%28map_573e09fe658a4a02afe002c692c26e7a%29%3B%0A%20%20%20%20%20%20%20%20%0A%20%20%20%20%0A%20%20%20%20%20%20%20%20var%20popup_f63a9f5a77c942559a870c3b1d8b252d%20%3D%20L.popup%28%7B%22maxWidth%22%3A%20%22100%25%22%7D%29%3B%0A%0A%20%20%20%20%20%20%20%20%0A%20%20%20%20%20%20%20%20%20%20%20%20var%20html_e3dd635a5c6d42e0b6a0dec14ce8dc2c%20%3D%20%24%28%60%3Cdiv%20id%3D%22html_e3dd635a5c6d42e0b6a0dec14ce8dc2c%22%20style%3D%22width%3A%20100.0%25%3B%20height%3A%20100.0%25%3B%22%3E2014-01-31%3A16-V%3A17936%20-%20SOG%3A%200.0%20-%20Count%3A%2019%20%2847.667%2C%20-122.389%29%3C/div%3E%60%29%5B0%5D%3B%0A%20%20%20%20%20%20%20%20%20%20%20%20popup_f63a9f5a77c942559a870c3b1d8b252d.setContent%28html_e3dd635a5c6d42e0b6a0dec14ce8dc2c%29%3B%0A%20%20%20%20%20%20%20%20%0A%0A%20%20%20%20%20%20%20%20marker_837e4d22813d43d2b0ed1ceaf449ec4f.bindPopup%28popup_f63a9f5a77c942559a870c3b1d8b252d%29%0A%20%20%20%20%20%20%20%20%3B%0A%0A%20%20%20%20%20%20%20%20%0A%20%20%20%20%0A%20%20%20%20%0A%20%20%20%20%20%20%20%20%20%20%20%20var%20marker_f7b00afe4acb40c7928e4e40107a4c43%20%3D%20L.marker%28%0A%20%20%20%20%20%20%20%20%20%20%20%20%20%20%20%20%5B47.66729214999999%2C%20-122.38926565%5D%2C%0A%20%20%20%20%20%20%20%20%20%20%20%20%20%20%20%20%7B%7D%0A%20%20%20%20%20%20%20%20%20%20%20%20%29.addTo%28map_573e09fe658a4a02afe002c692c26e7a%29%3B%0A%20%20%20%20%20%20%20%20%0A%20%20%20%20%0A%20%20%20%20%20%20%20%20var%20popup_bfa4c2501d1e4b5eaaa6785ab2db610e%20%3D%20L.popup%28%7B%22maxWidth%22%3A%20%22100%25%22%7D%29%3B%0A%0A%20%20%20%20%20%20%20%20%0A%20%20%20%20%20%20%20%20%20%20%20%20var%20html_f8f58c1d6a5c4941881db4623234270c%20%3D%20%24%28%60%3Cdiv%20id%3D%22html_f8f58c1d6a5c4941881db4623234270c%22%20style%3D%22width%3A%20100.0%25%3B%20height%3A%20100.0%25%3B%22%3E2014-01-31%3A17-V%3A17936%20-%20SOG%3A%200.0%20-%20Count%3A%2020%20%2847.667%2C%20-122.389%29%3C/div%3E%60%29%5B0%5D%3B%0A%20%20%20%20%20%20%20%20%20%20%20%20popup_bfa4c2501d1e4b5eaaa6785ab2db610e.setContent%28html_f8f58c1d6a5c4941881db4623234270c%29%3B%0A%20%20%20%20%20%20%20%20%0A%0A%20%20%20%20%20%20%20%20marker_f7b00afe4acb40c7928e4e40107a4c43.bindPopup%28popup_bfa4c2501d1e4b5eaaa6785ab2db610e%29%0A%20%20%20%20%20%20%20%20%3B%0A%0A%20%20%20%20%20%20%20%20%0A%20%20%20%20%0A%20%20%20%20%0A%20%20%20%20%20%20%20%20%20%20%20%20var%20marker_b61387463f8c4936a952b0c33724ab31%20%3D%20L.marker%28%0A%20%20%20%20%20%20%20%20%20%20%20%20%20%20%20%20%5B47.66729652631577%2C%20-122.38926431578948%5D%2C%0A%20%20%20%20%20%20%20%20%20%20%20%20%20%20%20%20%7B%7D%0A%20%20%20%20%20%20%20%20%20%20%20%20%29.addTo%28map_573e09fe658a4a02afe002c692c26e7a%29%3B%0A%20%20%20%20%20%20%20%20%0A%20%20%20%20%0A%20%20%20%20%20%20%20%20var%20popup_bd62ce6ec374428fa0e8e2899b94885d%20%3D%20L.popup%28%7B%22maxWidth%22%3A%20%22100%25%22%7D%29%3B%0A%0A%20%20%20%20%20%20%20%20%0A%20%20%20%20%20%20%20%20%20%20%20%20var%20html_fa319b2d08004181bcca41ed8c6f2312%20%3D%20%24%28%60%3Cdiv%20id%3D%22html_fa319b2d08004181bcca41ed8c6f2312%22%20style%3D%22width%3A%20100.0%25%3B%20height%3A%20100.0%25%3B%22%3E2014-01-31%3A18-V%3A17936%20-%20SOG%3A%200.0%20-%20Count%3A%2019%20%2847.667%2C%20-122.389%29%3C/div%3E%60%29%5B0%5D%3B%0A%20%20%20%20%20%20%20%20%20%20%20%20popup_bd62ce6ec374428fa0e8e2899b94885d.setContent%28html_fa319b2d08004181bcca41ed8c6f2312%29%3B%0A%20%20%20%20%20%20%20%20%0A%0A%20%20%20%20%20%20%20%20marker_b61387463f8c4936a952b0c33724ab31.bindPopup%28popup_bd62ce6ec374428fa0e8e2899b94885d%29%0A%20%20%20%20%20%20%20%20%3B%0A%0A%20%20%20%20%20%20%20%20%0A%20%20%20%20%0A%20%20%20%20%0A%20%20%20%20%20%20%20%20%20%20%20%20var%20marker_dff8473f4ac84fe4a8f3b9221dc70a8c%20%3D%20L.marker%28%0A%20%20%20%20%20%20%20%20%20%20%20%20%20%20%20%20%5B47.66729414999998%2C%20-122.38926409999999%5D%2C%0A%20%20%20%20%20%20%20%20%20%20%20%20%20%20%20%20%7B%7D%0A%20%20%20%20%20%20%20%20%20%20%20%20%29.addTo%28map_573e09fe658a4a02afe002c692c26e7a%29%3B%0A%20%20%20%20%20%20%20%20%0A%20%20%20%20%0A%20%20%20%20%20%20%20%20var%20popup_b1034d905a83456aae378c3599dfd548%20%3D%20L.popup%28%7B%22maxWidth%22%3A%20%22100%25%22%7D%29%3B%0A%0A%20%20%20%20%20%20%20%20%0A%20%20%20%20%20%20%20%20%20%20%20%20var%20html_76a3b98a626641a48fafc1406b0601d7%20%3D%20%24%28%60%3Cdiv%20id%3D%22html_76a3b98a626641a48fafc1406b0601d7%22%20style%3D%22width%3A%20100.0%25%3B%20height%3A%20100.0%25%3B%22%3E2014-01-31%3A19-V%3A17936%20-%20SOG%3A%200.0%20-%20Count%3A%2020%20%2847.667%2C%20-122.389%29%3C/div%3E%60%29%5B0%5D%3B%0A%20%20%20%20%20%20%20%20%20%20%20%20popup_b1034d905a83456aae378c3599dfd548.setContent%28html_76a3b98a626641a48fafc1406b0601d7%29%3B%0A%20%20%20%20%20%20%20%20%0A%0A%20%20%20%20%20%20%20%20marker_dff8473f4ac84fe4a8f3b9221dc70a8c.bindPopup%28popup_b1034d905a83456aae378c3599dfd548%29%0A%20%20%20%20%20%20%20%20%3B%0A%0A%20%20%20%20%20%20%20%20%0A%20%20%20%20%0A%20%20%20%20%0A%20%20%20%20%20%20%20%20%20%20%20%20var%20marker_02a47d8903a14a46be567e86aaad1254%20%3D%20L.marker%28%0A%20%20%20%20%20%20%20%20%20%20%20%20%20%20%20%20%5B47.66729442105261%2C%20-122.38926899999997%5D%2C%0A%20%20%20%20%20%20%20%20%20%20%20%20%20%20%20%20%7B%7D%0A%20%20%20%20%20%20%20%20%20%20%20%20%29.addTo%28map_573e09fe658a4a02afe002c692c26e7a%29%3B%0A%20%20%20%20%20%20%20%20%0A%20%20%20%20%0A%20%20%20%20%20%20%20%20var%20popup_d71e6f6319a547e68f708f421bd93b27%20%3D%20L.popup%28%7B%22maxWidth%22%3A%20%22100%25%22%7D%29%3B%0A%0A%20%20%20%20%20%20%20%20%0A%20%20%20%20%20%20%20%20%20%20%20%20var%20html_250cf82068c045f4981ba19dc062aa34%20%3D%20%24%28%60%3Cdiv%20id%3D%22html_250cf82068c045f4981ba19dc062aa34%22%20style%3D%22width%3A%20100.0%25%3B%20height%3A%20100.0%25%3B%22%3E2014-01-31%3A20-V%3A17936%20-%20SOG%3A%200.0%20-%20Count%3A%2019%20%2847.667%2C%20-122.389%29%3C/div%3E%60%29%5B0%5D%3B%0A%20%20%20%20%20%20%20%20%20%20%20%20popup_d71e6f6319a547e68f708f421bd93b27.setContent%28html_250cf82068c045f4981ba19dc062aa34%29%3B%0A%20%20%20%20%20%20%20%20%0A%0A%20%20%20%20%20%20%20%20marker_02a47d8903a14a46be567e86aaad1254.bindPopup%28popup_d71e6f6319a547e68f708f421bd93b27%29%0A%20%20%20%20%20%20%20%20%3B%0A%0A%20%20%20%20%20%20%20%20%0A%20%20%20%20%0A%20%20%20%20%0A%20%20%20%20%20%20%20%20%20%20%20%20var%20marker_6b2d41876f6644cfa9bb8229c630f0f9%20%3D%20L.marker%28%0A%20%20%20%20%20%20%20%20%20%20%20%20%20%20%20%20%5B47.66729533333331%2C%20-122.38926955555553%5D%2C%0A%20%20%20%20%20%20%20%20%20%20%20%20%20%20%20%20%7B%7D%0A%20%20%20%20%20%20%20%20%20%20%20%20%29.addTo%28map_573e09fe658a4a02afe002c692c26e7a%29%3B%0A%20%20%20%20%20%20%20%20%0A%20%20%20%20%0A%20%20%20%20%20%20%20%20var%20popup_61a30a4b97d94309af1917097b072505%20%3D%20L.popup%28%7B%22maxWidth%22%3A%20%22100%25%22%7D%29%3B%0A%0A%20%20%20%20%20%20%20%20%0A%20%20%20%20%20%20%20%20%20%20%20%20var%20html_8e19ede307bf445cb1a5cf9747d63934%20%3D%20%24%28%60%3Cdiv%20id%3D%22html_8e19ede307bf445cb1a5cf9747d63934%22%20style%3D%22width%3A%20100.0%25%3B%20height%3A%20100.0%25%3B%22%3E2014-01-31%3A21-V%3A17936%20-%20SOG%3A%200.0%20-%20Count%3A%2018%20%2847.667%2C%20-122.389%29%3C/div%3E%60%29%5B0%5D%3B%0A%20%20%20%20%20%20%20%20%20%20%20%20popup_61a30a4b97d94309af1917097b072505.setContent%28html_8e19ede307bf445cb1a5cf9747d63934%29%3B%0A%20%20%20%20%20%20%20%20%0A%0A%20%20%20%20%20%20%20%20marker_6b2d41876f6644cfa9bb8229c630f0f9.bindPopup%28popup_61a30a4b97d94309af1917097b072505%29%0A%20%20%20%20%20%20%20%20%3B%0A%0A%20%20%20%20%20%20%20%20%0A%20%20%20%20%0A%20%20%20%20%0A%20%20%20%20%20%20%20%20%20%20%20%20var%20marker_d60bb57e493f4e70b8e7f5fa555b5de0%20%3D%20L.marker%28%0A%20%20%20%20%20%20%20%20%20%20%20%20%20%20%20%20%5B47.66729494117645%2C%20-122.38926623529409%5D%2C%0A%20%20%20%20%20%20%20%20%20%20%20%20%20%20%20%20%7B%7D%0A%20%20%20%20%20%20%20%20%20%20%20%20%29.addTo%28map_573e09fe658a4a02afe002c692c26e7a%29%3B%0A%20%20%20%20%20%20%20%20%0A%20%20%20%20%0A%20%20%20%20%20%20%20%20var%20popup_104a5c92256348f882e7df6766b66c33%20%3D%20L.popup%28%7B%22maxWidth%22%3A%20%22100%25%22%7D%29%3B%0A%0A%20%20%20%20%20%20%20%20%0A%20%20%20%20%20%20%20%20%20%20%20%20var%20html_5868510d5dd649e39bc20deacf25df8a%20%3D%20%24%28%60%3Cdiv%20id%3D%22html_5868510d5dd649e39bc20deacf25df8a%22%20style%3D%22width%3A%20100.0%25%3B%20height%3A%20100.0%25%3B%22%3E2014-01-31%3A22-V%3A17936%20-%20SOG%3A%200.0%20-%20Count%3A%2017%20%2847.667%2C%20-122.389%29%3C/div%3E%60%29%5B0%5D%3B%0A%20%20%20%20%20%20%20%20%20%20%20%20popup_104a5c92256348f882e7df6766b66c33.setContent%28html_5868510d5dd649e39bc20deacf25df8a%29%3B%0A%20%20%20%20%20%20%20%20%0A%0A%20%20%20%20%20%20%20%20marker_d60bb57e493f4e70b8e7f5fa555b5de0.bindPopup%28popup_104a5c92256348f882e7df6766b66c33%29%0A%20%20%20%20%20%20%20%20%3B%0A%0A%20%20%20%20%20%20%20%20%0A%20%20%20%20%0A%20%20%20%20%0A%20%20%20%20%20%20%20%20%20%20%20%20var%20marker_6505a18d14d646229b357112207e98c2%20%3D%20L.marker%28%0A%20%20%20%20%20%20%20%20%20%20%20%20%20%20%20%20%5B47.66729729999999%2C%20-122.38926054999997%5D%2C%0A%20%20%20%20%20%20%20%20%20%20%20%20%20%20%20%20%7B%7D%0A%20%20%20%20%20%20%20%20%20%20%20%20%29.addTo%28map_573e09fe658a4a02afe002c692c26e7a%29%3B%0A%20%20%20%20%20%20%20%20%0A%20%20%20%20%0A%20%20%20%20%20%20%20%20var%20popup_fc2a16216918420bbcec5a50aef7aca7%20%3D%20L.popup%28%7B%22maxWidth%22%3A%20%22100%25%22%7D%29%3B%0A%0A%20%20%20%20%20%20%20%20%0A%20%20%20%20%20%20%20%20%20%20%20%20var%20html_7fe8c0cc1db6408e9d84d20d2d2c6c32%20%3D%20%24%28%60%3Cdiv%20id%3D%22html_7fe8c0cc1db6408e9d84d20d2d2c6c32%22%20style%3D%22width%3A%20100.0%25%3B%20height%3A%20100.0%25%3B%22%3E2014-01-31%3A23-V%3A17936%20-%20SOG%3A%200.0%20-%20Count%3A%2020%20%2847.667%2C%20-122.389%29%3C/div%3E%60%29%5B0%5D%3B%0A%20%20%20%20%20%20%20%20%20%20%20%20popup_fc2a16216918420bbcec5a50aef7aca7.setContent%28html_7fe8c0cc1db6408e9d84d20d2d2c6c32%29%3B%0A%20%20%20%20%20%20%20%20%0A%0A%20%20%20%20%20%20%20%20marker_6505a18d14d646229b357112207e98c2.bindPopup%28popup_fc2a16216918420bbcec5a50aef7aca7%29%0A%20%20%20%20%20%20%20%20%3B%0A%0A%20%20%20%20%20%20%20%20%0A%20%20%20%20%0A%3C/script%3E onload=\"this.contentDocument.open();this.contentDocument.write(    decodeURIComponent(this.getAttribute('data-html')));this.contentDocument.close();\" allowfullscreen webkitallowfullscreen mozallowfullscreen></iframe></div></div>"
      ],
      "text/plain": [
       "<folium.folium.Map at 0x7fbca9931278>"
      ]
     },
     "execution_count": 510,
     "metadata": {},
     "output_type": "execute_result"
    }
   ],
   "source": [
    "X = sampling  #.head()\n",
    "MapCoordinates = X[['latitude', 'longitude']].values\n",
    "PopupText = X.Text.values\n",
    "\n",
    "mapit = folium.Map(location=MapCoordinates[0], zoom_start=8)\n",
    "\n",
    "for index in range(0, len(MapCoordinates)):\n",
    "    folium.Marker(MapCoordinates[index], popup=PopupText[index]).add_to(mapit)\n",
    "    \n",
    "# for coord in df[['latitude', 'longitude']].head().values:\n",
    "#     folium.Marker(coord).add_to(mapit)\n",
    "\n",
    "mapit"
   ]
  },
  {
   "cell_type": "code",
   "execution_count": null,
   "metadata": {},
   "outputs": [],
   "source": []
  },
  {
   "cell_type": "code",
   "execution_count": null,
   "metadata": {},
   "outputs": [],
   "source": []
  },
  {
   "cell_type": "code",
   "execution_count": null,
   "metadata": {},
   "outputs": [],
   "source": []
  },
  {
   "cell_type": "markdown",
   "metadata": {},
   "source": [
    "### Sample Folium\n",
    "* https://github.com/python-visualization/folium\n",
    "* https://github.com/collinreinking/longitude_latitude_dot_plots_in_python_with_folium/blob/master/MapsTutorials.ipynb\n",
    "* https://georgetsilva.github.io/posts/mapping-points-with-folium/"
   ]
  },
  {
   "cell_type": "code",
   "execution_count": 191,
   "metadata": {},
   "outputs": [],
   "source": [
    "# import folium\n",
    "\n",
    "# latlon = [(51.249443914705175, -0.13878830247011467), (51.249443914705175, -0.19), (51.249768239976866, -2.8610415615063034)]\n",
    "# text = ['point1','point2','point3']\n",
    "\n",
    "# mapit = folium.Map(location=[51.25, -1.2], zoom_start=9)\n",
    "\n",
    "# for point in range(0, len(latlon)):\n",
    "#     folium.Marker(latlon[point], popup=text[point]).add_to(mapit)\n",
    "\n",
    "# # mapit.save( 'map.html')\n",
    "# mapit"
   ]
  },
  {
   "cell_type": "code",
   "execution_count": null,
   "metadata": {},
   "outputs": [],
   "source": []
  },
  {
   "cell_type": "code",
   "execution_count": null,
   "metadata": {},
   "outputs": [],
   "source": []
  },
  {
   "cell_type": "markdown",
   "metadata": {},
   "source": [
    "### Sample HDBSCAN\n",
    "* https://hdbscan.readthedocs.io/en/latest/advanced_hdbscan.html"
   ]
  },
  {
   "cell_type": "code",
   "execution_count": 26,
   "metadata": {},
   "outputs": [],
   "source": [
    "from sklearn.datasets import make_blobs\n",
    "import hdbscan\n",
    "import numpy as np\n",
    "import matplotlib.pyplot as plt\n",
    "import seaborn as sns\n",
    "%matplotlib inline"
   ]
  },
  {
   "cell_type": "code",
   "execution_count": 7,
   "metadata": {},
   "outputs": [],
   "source": [
    "blobs, labels = make_blobs(n_samples=2000, n_features=10)"
   ]
  },
  {
   "cell_type": "code",
   "execution_count": 8,
   "metadata": {},
   "outputs": [
    {
     "data": {
      "text/html": [
       "<div>\n",
       "<style scoped>\n",
       "    .dataframe tbody tr th:only-of-type {\n",
       "        vertical-align: middle;\n",
       "    }\n",
       "\n",
       "    .dataframe tbody tr th {\n",
       "        vertical-align: top;\n",
       "    }\n",
       "\n",
       "    .dataframe thead th {\n",
       "        text-align: right;\n",
       "    }\n",
       "</style>\n",
       "<table border=\"1\" class=\"dataframe\">\n",
       "  <thead>\n",
       "    <tr style=\"text-align: right;\">\n",
       "      <th></th>\n",
       "      <th>0</th>\n",
       "      <th>1</th>\n",
       "      <th>2</th>\n",
       "      <th>3</th>\n",
       "      <th>4</th>\n",
       "      <th>5</th>\n",
       "      <th>6</th>\n",
       "      <th>7</th>\n",
       "      <th>8</th>\n",
       "      <th>9</th>\n",
       "    </tr>\n",
       "  </thead>\n",
       "  <tbody>\n",
       "    <tr>\n",
       "      <td>0</td>\n",
       "      <td>-1.264875</td>\n",
       "      <td>-8.260352</td>\n",
       "      <td>-7.672387</td>\n",
       "      <td>-4.457326</td>\n",
       "      <td>-2.654197</td>\n",
       "      <td>4.046740</td>\n",
       "      <td>4.732487</td>\n",
       "      <td>-8.031294</td>\n",
       "      <td>-3.358178</td>\n",
       "      <td>0.746357</td>\n",
       "    </tr>\n",
       "    <tr>\n",
       "      <td>1</td>\n",
       "      <td>-4.789295</td>\n",
       "      <td>5.347213</td>\n",
       "      <td>-9.076223</td>\n",
       "      <td>-2.658427</td>\n",
       "      <td>7.980381</td>\n",
       "      <td>6.582558</td>\n",
       "      <td>-2.511977</td>\n",
       "      <td>9.363582</td>\n",
       "      <td>9.516691</td>\n",
       "      <td>-6.797194</td>\n",
       "    </tr>\n",
       "    <tr>\n",
       "      <td>2</td>\n",
       "      <td>-8.840059</td>\n",
       "      <td>4.799937</td>\n",
       "      <td>-8.509396</td>\n",
       "      <td>1.783674</td>\n",
       "      <td>5.945335</td>\n",
       "      <td>-6.128442</td>\n",
       "      <td>-8.588533</td>\n",
       "      <td>-1.142080</td>\n",
       "      <td>8.091949</td>\n",
       "      <td>9.063377</td>\n",
       "    </tr>\n",
       "    <tr>\n",
       "      <td>3</td>\n",
       "      <td>-6.527711</td>\n",
       "      <td>5.229888</td>\n",
       "      <td>-8.250775</td>\n",
       "      <td>-0.308170</td>\n",
       "      <td>6.792324</td>\n",
       "      <td>5.278408</td>\n",
       "      <td>-1.254370</td>\n",
       "      <td>5.681781</td>\n",
       "      <td>9.835620</td>\n",
       "      <td>-6.410695</td>\n",
       "    </tr>\n",
       "    <tr>\n",
       "      <td>4</td>\n",
       "      <td>-8.316694</td>\n",
       "      <td>6.439864</td>\n",
       "      <td>-9.477828</td>\n",
       "      <td>-0.442857</td>\n",
       "      <td>4.329686</td>\n",
       "      <td>-4.317371</td>\n",
       "      <td>-8.836133</td>\n",
       "      <td>-2.024001</td>\n",
       "      <td>9.477133</td>\n",
       "      <td>8.406125</td>\n",
       "    </tr>\n",
       "  </tbody>\n",
       "</table>\n",
       "</div>"
      ],
      "text/plain": [
       "          0         1         2         3         4         5         6  \\\n",
       "0 -1.264875 -8.260352 -7.672387 -4.457326 -2.654197  4.046740  4.732487   \n",
       "1 -4.789295  5.347213 -9.076223 -2.658427  7.980381  6.582558 -2.511977   \n",
       "2 -8.840059  4.799937 -8.509396  1.783674  5.945335 -6.128442 -8.588533   \n",
       "3 -6.527711  5.229888 -8.250775 -0.308170  6.792324  5.278408 -1.254370   \n",
       "4 -8.316694  6.439864 -9.477828 -0.442857  4.329686 -4.317371 -8.836133   \n",
       "\n",
       "          7         8         9  \n",
       "0 -8.031294 -3.358178  0.746357  \n",
       "1  9.363582  9.516691 -6.797194  \n",
       "2 -1.142080  8.091949  9.063377  \n",
       "3  5.681781  9.835620 -6.410695  \n",
       "4 -2.024001  9.477133  8.406125  "
      ]
     },
     "execution_count": 8,
     "metadata": {},
     "output_type": "execute_result"
    }
   ],
   "source": [
    "pd.DataFrame(blobs).head()"
   ]
  },
  {
   "cell_type": "code",
   "execution_count": 22,
   "metadata": {},
   "outputs": [
    {
     "data": {
      "text/plain": [
       "(2000, 10)"
      ]
     },
     "execution_count": 22,
     "metadata": {},
     "output_type": "execute_result"
    }
   ],
   "source": [
    "blobs.shape"
   ]
  },
  {
   "cell_type": "code",
   "execution_count": 23,
   "metadata": {},
   "outputs": [
    {
     "data": {
      "text/plain": [
       "array([[ -1.26487527,  -8.2603524 ,  -7.67238674, ...,  -8.03129446,\n",
       "         -3.35817837,   0.74635706],\n",
       "       [ -4.78929506,   5.34721314,  -9.0762227 , ...,   9.36358247,\n",
       "          9.51669117,  -6.79719369],\n",
       "       [ -8.84005935,   4.79993719,  -8.50939632, ...,  -1.14208   ,\n",
       "          8.09194909,   9.06337698],\n",
       "       ...,\n",
       "       [ -1.48204497,  -7.86863968,  -8.58340059, ...,  -9.08749093,\n",
       "         -2.90563069,  -1.05112635],\n",
       "       [ -1.86398912,  -9.04289069,  -8.43069477, ..., -10.74356022,\n",
       "         -2.72570248,   0.7149232 ],\n",
       "       [ -3.82640572,   5.8166833 ,  -8.18621666, ...,   6.85105027,\n",
       "          9.21200197,  -7.92391158]])"
      ]
     },
     "execution_count": 23,
     "metadata": {},
     "output_type": "execute_result"
    }
   ],
   "source": [
    "blobs"
   ]
  },
  {
   "cell_type": "code",
   "execution_count": 34,
   "metadata": {},
   "outputs": [],
   "source": [
    "data = blobs.T[:,0:2]"
   ]
  },
  {
   "cell_type": "code",
   "execution_count": 35,
   "metadata": {},
   "outputs": [
    {
     "data": {
      "text/plain": [
       "<matplotlib.collections.PathCollection at 0x7fd9a83d0eb8>"
      ]
     },
     "execution_count": 35,
     "metadata": {},
     "output_type": "execute_result"
    },
    {
     "data": {
      "image/png": "[encoded data removed]",
      "text/plain": [
       "<Figure size 432x288 with 1 Axes>"
      ]
     },
     "metadata": {
      "needs_background": "light"
     },
     "output_type": "display_data"
    }
   ],
   "source": [
    "plt.scatter(*data.T, s=50, linewidth=0, c='b', alpha=0.25)"
   ]
  },
  {
   "cell_type": "code",
   "execution_count": 36,
   "metadata": {},
   "outputs": [
    {
     "data": {
      "text/plain": [
       "<matplotlib.collections.PathCollection at 0x7fd9e93f4780>"
      ]
     },
     "execution_count": 36,
     "metadata": {},
     "output_type": "execute_result"
    },
    {
     "data": {
      "image/png": "[encoded data removed]",
      "text/plain": [
       "<Figure size 432x288 with 1 Axes>"
      ]
     },
     "metadata": {
      "needs_background": "light"
     },
     "output_type": "display_data"
    }
   ],
   "source": [
    "clusterer = hdbscan.HDBSCAN(min_cluster_size=15).fit(data)\n",
    "color_palette = sns.color_palette('deep', 8)\n",
    "cluster_colors = [color_palette[x] if x >= 0\n",
    "                  else (0.5, 0.5, 0.5)\n",
    "                  for x in clusterer.labels_]\n",
    "cluster_member_colors = [sns.desaturate(x, p) for x, p in\n",
    "                         zip(cluster_colors, clusterer.probabilities_)]\n",
    "plt.scatter(*data.T, s=50, linewidth=0, c=cluster_member_colors, alpha=0.25)"
   ]
  },
  {
   "cell_type": "code",
   "execution_count": 37,
   "metadata": {},
   "outputs": [
    {
     "data": {
      "text/plain": [
       "<hdbscan.plots.CondensedTree at 0x7fda198bdfd0>"
      ]
     },
     "execution_count": 37,
     "metadata": {},
     "output_type": "execute_result"
    }
   ],
   "source": [
    "clusterer.condensed_tree_"
   ]
  },
  {
   "cell_type": "code",
   "execution_count": 38,
   "metadata": {},
   "outputs": [
    {
     "data": {
      "text/plain": [
       "<matplotlib.axes._subplots.AxesSubplot at 0x7fda198bdac8>"
      ]
     },
     "execution_count": 38,
     "metadata": {},
     "output_type": "execute_result"
    },
    {
     "data": {
      "image/png": "[encoded data removed]",
      "text/plain": [
       "<Figure size 432x288 with 2 Axes>"
      ]
     },
     "metadata": {
      "needs_background": "light"
     },
     "output_type": "display_data"
    }
   ],
   "source": [
    "clusterer.condensed_tree_.plot()"
   ]
  },
  {
   "cell_type": "code",
   "execution_count": 39,
   "metadata": {},
   "outputs": [
    {
     "data": {
      "text/plain": [
       "<matplotlib.collections.PathCollection at 0x7fd9d237c198>"
      ]
     },
     "execution_count": 39,
     "metadata": {},
     "output_type": "execute_result"
    },
    {
     "data": {
      "image/png": "[encoded data removed]",
      "text/plain": [
       "<Figure size 432x288 with 1 Axes>"
      ]
     },
     "metadata": {
      "needs_background": "light"
     },
     "output_type": "display_data"
    }
   ],
   "source": [
    "threshold = pd.Series(clusterer.outlier_scores_).quantile(0.9)\n",
    "outliers = np.where(clusterer.outlier_scores_ > threshold)[0]\n",
    "plt.scatter(*data.T, s=50, linewidth=0, c='gray', alpha=0.25)\n",
    "plt.scatter(*data[outliers].T, s=50, linewidth=0, c='red', alpha=0.5)"
   ]
  },
  {
   "cell_type": "code",
   "execution_count": null,
   "metadata": {},
   "outputs": [],
   "source": []
  },
  {
   "cell_type": "code",
   "execution_count": null,
   "metadata": {},
   "outputs": [],
   "source": []
  },
  {
   "cell_type": "code",
   "execution_count": 32,
   "metadata": {},
   "outputs": [
    {
     "data": {
      "text/plain": [
       "(10, 2)"
      ]
     },
     "execution_count": 32,
     "metadata": {},
     "output_type": "execute_result"
    }
   ],
   "source": [
    "blobs.T[:,0:2].shape"
   ]
  },
  {
   "cell_type": "code",
   "execution_count": null,
   "metadata": {},
   "outputs": [],
   "source": []
  },
  {
   "cell_type": "code",
   "execution_count": 10,
   "metadata": {},
   "outputs": [],
   "source": [
    "clusterer = hdbscan.HDBSCAN()"
   ]
  },
  {
   "cell_type": "code",
   "execution_count": 11,
   "metadata": {},
   "outputs": [
    {
     "data": {
      "text/plain": [
       "HDBSCAN(algorithm='best', allow_single_cluster=False, alpha=1.0,\n",
       "        approx_min_span_tree=True, cluster_selection_epsilon=0.0,\n",
       "        cluster_selection_method='eom', core_dist_n_jobs=4,\n",
       "        gen_min_span_tree=False, leaf_size=40,\n",
       "        match_reference_implementation=False, memory=Memory(location=None),\n",
       "        metric='euclidean', min_cluster_size=5, min_samples=None, p=None,\n",
       "        prediction_data=False)"
      ]
     },
     "execution_count": 11,
     "metadata": {},
     "output_type": "execute_result"
    }
   ],
   "source": [
    "clusterer.fit(blobs)"
   ]
  },
  {
   "cell_type": "code",
   "execution_count": 24,
   "metadata": {},
   "outputs": [
    {
     "data": {
      "text/plain": [
       "2000"
      ]
     },
     "execution_count": 24,
     "metadata": {},
     "output_type": "execute_result"
    }
   ],
   "source": [
    "len(clusterer.labels_)"
   ]
  },
  {
   "cell_type": "code",
   "execution_count": 12,
   "metadata": {},
   "outputs": [
    {
     "data": {
      "text/plain": [
       "array([0, 1, 2, ..., 0, 0, 1])"
      ]
     },
     "execution_count": 12,
     "metadata": {},
     "output_type": "execute_result"
    }
   ],
   "source": [
    "clusterer.labels_"
   ]
  },
  {
   "cell_type": "code",
   "execution_count": 13,
   "metadata": {},
   "outputs": [
    {
     "data": {
      "text/plain": [
       "2"
      ]
     },
     "execution_count": 13,
     "metadata": {},
     "output_type": "execute_result"
    }
   ],
   "source": [
    "clusterer.labels_.max()"
   ]
  },
  {
   "cell_type": "code",
   "execution_count": 14,
   "metadata": {},
   "outputs": [
    {
     "data": {
      "text/plain": [
       "array([0.65203928, 0.80439755, 0.82601858, ..., 1.        , 0.62995029,\n",
       "       0.62921136])"
      ]
     },
     "execution_count": 14,
     "metadata": {},
     "output_type": "execute_result"
    }
   ],
   "source": [
    "clusterer.probabilities_"
   ]
  },
  {
   "cell_type": "code",
   "execution_count": null,
   "metadata": {},
   "outputs": [],
   "source": []
  },
  {
   "cell_type": "code",
   "execution_count": 15,
   "metadata": {},
   "outputs": [
    {
     "data": {
      "text/plain": [
       "array([0, 1, 2, ..., 0, 0, 1])"
      ]
     },
     "execution_count": 15,
     "metadata": {},
     "output_type": "execute_result"
    }
   ],
   "source": [
    "clusterer = hdbscan.HDBSCAN(metric='manhattan')\n",
    "clusterer.fit(blobs)\n",
    "clusterer.labels_"
   ]
  },
  {
   "cell_type": "code",
   "execution_count": 16,
   "metadata": {},
   "outputs": [
    {
     "data": {
      "text/plain": [
       "{'euclidean': hdbscan.dist_metrics.EuclideanDistance,\n",
       " 'l2': hdbscan.dist_metrics.EuclideanDistance,\n",
       " 'minkowski': hdbscan.dist_metrics.MinkowskiDistance,\n",
       " 'p': hdbscan.dist_metrics.MinkowskiDistance,\n",
       " 'manhattan': hdbscan.dist_metrics.ManhattanDistance,\n",
       " 'cityblock': hdbscan.dist_metrics.ManhattanDistance,\n",
       " 'l1': hdbscan.dist_metrics.ManhattanDistance,\n",
       " 'chebyshev': hdbscan.dist_metrics.ChebyshevDistance,\n",
       " 'infinity': hdbscan.dist_metrics.ChebyshevDistance,\n",
       " 'seuclidean': hdbscan.dist_metrics.SEuclideanDistance,\n",
       " 'mahalanobis': hdbscan.dist_metrics.MahalanobisDistance,\n",
       " 'wminkowski': hdbscan.dist_metrics.WMinkowskiDistance,\n",
       " 'hamming': hdbscan.dist_metrics.HammingDistance,\n",
       " 'canberra': hdbscan.dist_metrics.CanberraDistance,\n",
       " 'braycurtis': hdbscan.dist_metrics.BrayCurtisDistance,\n",
       " 'matching': hdbscan.dist_metrics.MatchingDistance,\n",
       " 'jaccard': hdbscan.dist_metrics.JaccardDistance,\n",
       " 'dice': hdbscan.dist_metrics.DiceDistance,\n",
       " 'kulsinski': hdbscan.dist_metrics.KulsinskiDistance,\n",
       " 'rogerstanimoto': hdbscan.dist_metrics.RogersTanimotoDistance,\n",
       " 'russellrao': hdbscan.dist_metrics.RussellRaoDistance,\n",
       " 'sokalmichener': hdbscan.dist_metrics.SokalMichenerDistance,\n",
       " 'sokalsneath': hdbscan.dist_metrics.SokalSneathDistance,\n",
       " 'haversine': hdbscan.dist_metrics.HaversineDistance,\n",
       " 'cosine': hdbscan.dist_metrics.ArccosDistance,\n",
       " 'arccos': hdbscan.dist_metrics.ArccosDistance,\n",
       " 'pyfunc': hdbscan.dist_metrics.PyFuncDistance}"
      ]
     },
     "execution_count": 16,
     "metadata": {},
     "output_type": "execute_result"
    }
   ],
   "source": [
    "hdbscan.dist_metrics.METRIC_MAPPING"
   ]
  },
  {
   "cell_type": "code",
   "execution_count": null,
   "metadata": {},
   "outputs": [],
   "source": []
  },
  {
   "cell_type": "code",
   "execution_count": 17,
   "metadata": {},
   "outputs": [],
   "source": [
    "from sklearn.metrics.pairwise import pairwise_distances"
   ]
  },
  {
   "cell_type": "code",
   "execution_count": 18,
   "metadata": {},
   "outputs": [],
   "source": [
    "distance_matrix = pairwise_distances(blobs)"
   ]
  },
  {
   "cell_type": "code",
   "execution_count": 19,
   "metadata": {},
   "outputs": [
    {
     "data": {
      "text/plain": [
       "array([[ 0.        , 30.00083681, 29.50051889, ...,  3.55500992,\n",
       "         4.3568916 , 29.92376286],\n",
       "       [30.00083681,  0.        , 24.56326019, ..., 29.60063764,\n",
       "        32.27173609,  5.39005198],\n",
       "       [29.50051889, 24.56326019,  0.        , ..., 30.14754856,\n",
       "        30.84141333, 23.7567574 ],\n",
       "       ...,\n",
       "       [ 3.55500992, 29.60063764, 30.14754856, ...,  0.        ,\n",
       "         4.06465649, 29.23320791],\n",
       "       [ 4.3568916 , 32.27173609, 30.84141333, ...,  4.06465649,\n",
       "         0.        , 31.76605252],\n",
       "       [29.92376286,  5.39005198, 23.7567574 , ..., 29.23320791,\n",
       "        31.76605252,  0.        ]])"
      ]
     },
     "execution_count": 19,
     "metadata": {},
     "output_type": "execute_result"
    }
   ],
   "source": [
    "distance_matrix"
   ]
  },
  {
   "cell_type": "code",
   "execution_count": 20,
   "metadata": {},
   "outputs": [
    {
     "data": {
      "text/plain": [
       "array([0, 2, 1, ..., 0, 0, 2])"
      ]
     },
     "execution_count": 20,
     "metadata": {},
     "output_type": "execute_result"
    }
   ],
   "source": [
    "clusterer = hdbscan.HDBSCAN(metric='precomputed')\n",
    "clusterer.fit(distance_matrix)\n",
    "clusterer.labels_"
   ]
  },
  {
   "cell_type": "code",
   "execution_count": null,
   "metadata": {},
   "outputs": [],
   "source": []
  },
  {
   "cell_type": "code",
   "execution_count": null,
   "metadata": {},
   "outputs": [],
   "source": []
  },
  {
   "cell_type": "code",
   "execution_count": null,
   "metadata": {},
   "outputs": [],
   "source": []
  }
 ],
 "metadata": {
  "kernelspec": {
   "display_name": "Python 3",
   "language": "python",
   "name": "python3"
  },
  "language_info": {
   "codemirror_mode": {
    "name": "ipython",
    "version": 3
   },
   "file_extension": ".py",
   "mimetype": "text/x-python",
   "name": "python",
   "nbconvert_exporter": "python",
   "pygments_lexer": "ipython3",
   "version": "3.7.2"
  }
 },
 "nbformat": 4,
 "nbformat_minor": 4
}
