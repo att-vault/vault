{
 "cells": [
  {
   "cell_type": "markdown",
   "metadata": {},
   "source": [
    "# Viewing categorical AIS tracks \n",
    "\n",
    "To help understand the AIS data, it can be useful to color-code each location by a category, because the behavior of vessels in a given category might differ from vessels in other categories. Here we'll show how to color code by vessel type using Datashader."
   ]
  },
  {
   "cell_type": "code",
   "execution_count": null,
   "metadata": {},
   "outputs": [],
   "source": [
    "import pandas as pd\n",
    "import numpy as np\n",
    "import panel as pn\n",
    "import colorcet as cc\n",
    "import datashader as ds\n",
    "import holoviews as hv\n",
    "from holoviews.operation.datashader import rasterize, datashade, dynspread\n",
    "hv.extension('bokeh')"
   ]
  },
  {
   "cell_type": "markdown",
   "metadata": {},
   "source": [
    "Defining categories by collapsing the 100 [AIS Vessel Types](https://api.vtexplorer.com/docs/ref-aistypes.html) down to 22 broader groups of vessel types:"
   ]
  },
  {
   "cell_type": "code",
   "execution_count": null,
   "metadata": {},
   "outputs": [],
   "source": [
    "vessel_types=pd.read_csv(\"AIS_categories.csv\")\n",
    "vessel_types.head(40).tail()"
   ]
  },
  {
   "cell_type": "code",
   "execution_count": null,
   "metadata": {},
   "outputs": [],
   "source": [
    "def vessel_category(val):\n",
    "    i = int(val)\n",
    "    cat = int(vessel_types.iloc[i].category) if i in vessel_types.index else 0\n",
    "    return cat if cat in [0, 2,3,20,12,19] else 22 # limit to most common types\n",
    "\n",
    "def category_desc(val):\n",
    "    return vessel_types[vessel_types.category==val].iloc[0].category_desc"
   ]
  },
  {
   "cell_type": "code",
   "execution_count": null,
   "metadata": {},
   "outputs": [],
   "source": [
    "groups = {vessel_category(i):category_desc(vessel_category(i)) for i in vessel_types.num.unique()}\n",
    "groups"
   ]
  },
  {
   "cell_type": "markdown",
   "metadata": {},
   "source": [
    "## Loading AIS pings and Vessel information"
   ]
  },
  {
   "cell_type": "code",
   "execution_count": null,
   "metadata": {},
   "outputs": [],
   "source": [
    "%%time\n",
    "broadcast = pd.read_csv('../Broadcast.csv', parse_dates=[1]) # Zone 10\n",
    "vessel_info =  pd.read_csv('../Vessel.csv')\n",
    "vessel_info['vessel_type']= vessel_info['vessel_type'].fillna(0).astype(int) # Mapping NaN to 'Not Available' i.e 0\n",
    "broadcast.head()"
   ]
  },
  {
   "cell_type": "markdown",
   "metadata": {},
   "source": [
    "## Assigning broader categories"
   ]
  },
  {
   "cell_type": "code",
   "execution_count": null,
   "metadata": {},
   "outputs": [],
   "source": [
    "# Dict for mmsi:vessel type\n",
    "vessel_mapping = {k:v for k,v in zip(vessel_info['mmsi_id'], \n",
    "                                     vessel_info['vessel_type'].apply(vessel_category))} \n",
    "# Join between broadcast AIS pings and vessel info\n",
    "categories = broadcast['mmsi_id'].apply(lambda x: vessel_mapping.get(x, 0))\n",
    "broadcast['category'] = categories"
   ]
  },
  {
   "cell_type": "markdown",
   "metadata": {},
   "source": [
    "### Defining color key and legend"
   ]
  },
  {
   "cell_type": "code",
   "execution_count": null,
   "metadata": {},
   "outputs": [],
   "source": [
    "def rgb_to_hex(rgb):\n",
    "    return '#%02x%02x%02x' % rgb\n",
    "\n",
    "color_key = {list(groups.keys())[ind]:tuple(int(el*255.) for el in val) for ind,val in \n",
    "             enumerate(cc.glasbey_bw_minc_20_hue_330_100[:(len(groups))])} # 23 Glasby colors"
   ]
  },
  {
   "cell_type": "code",
   "execution_count": null,
   "metadata": {},
   "outputs": [],
   "source": [
    "color_names = {groups[k]:rgb_to_hex(v) for k,v in color_key.items()}\n",
    "color_points = hv.NdOverlay({k: hv.Points([0,0], label=str(k)).opts(color=v, size=0) for k, v in color_names.items()})"
   ]
  },
  {
   "cell_type": "code",
   "execution_count": null,
   "metadata": {},
   "outputs": [],
   "source": [
    "%%time\n",
    "broadcast.loc[:, 'x'], broadcast.loc[:, 'y'] = \\\n",
    "    hv.util.transform.lon_lat_to_easting_northing(broadcast.lon,broadcast.lat)"
   ]
  },
  {
   "cell_type": "markdown",
   "metadata": {},
   "source": [
    "# Datashaded, categorical AIS plot (Zone 10)"
   ]
  },
  {
   "cell_type": "code",
   "execution_count": null,
   "metadata": {},
   "outputs": [],
   "source": [
    "tiles  = hv.element.tiles.ESRI().redim(x='easting', y='northing')\n",
    "points = dynspread(datashade(hv.Points(broadcast, ['x', 'y'], ['category']), \n",
    "                             color_key=color_key, aggregator=ds.count_cat('category')))\n",
    "tiles.opts( width=900, height=500) * color_points * points"
   ]
  }
 ],
 "metadata": {
  "kernelspec": {
   "display_name": "Python 3",
   "language": "python",
   "name": "python3"
  },
  "language_info": {
   "codemirror_mode": {
    "name": "ipython",
    "version": 3
   },
   "file_extension": ".py",
   "mimetype": "text/x-python",
   "name": "python",
   "nbconvert_exporter": "python",
   "pygments_lexer": "ipython3",
   "version": "3.6.10"
  }
 },
 "nbformat": 4,
 "nbformat_minor": 4
}
