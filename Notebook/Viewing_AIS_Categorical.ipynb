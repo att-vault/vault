{
 "cells": [
  {
   "cell_type": "markdown",
   "metadata": {},
   "source": [
    "# Viewing categorical AIS tracks \n",
    "\n",
    "\n",
    "This notebook prototypes the use categorical datashading of AIS data."
   ]
  },
  {
   "cell_type": "code",
   "execution_count": null,
   "metadata": {},
   "outputs": [],
   "source": [
    "import pandas as pd\n",
    "import numpy as np\n",
    "import panel as pn\n",
    "import colorcet\n",
    "import datashader as ds\n",
    "import holoviews as hv\n",
    "from holoviews.operation.datashader import rasterize, datashade, dynspread\n",
    "hv.extension('bokeh')"
   ]
  },
  {
   "cell_type": "markdown",
   "metadata": {},
   "source": [
    "Defining categories by collapsing the 100 [AIS Vessel Types](https://api.vtexplorer.com/docs/ref-aistypes.html) down to 22 broader vessel types:"
   ]
  },
  {
   "cell_type": "code",
   "execution_count": null,
   "metadata": {},
   "outputs": [],
   "source": [
    "groups = {0:'Unknown', 1:'WIG', 2:'Fishing', 3:'Towing', 4:'Dredging', 5:'Diving', 6:'Military', \n",
    "          7:'Sailing', 8:'Pleasure', 9:'High Speed', 10:'Pilot Vessel', 11:'Search and Rescue vessel',\n",
    "          12:'Tug', 13:'Port Tender', 14:'Anti-pollution equipment', 15:'Law Enforcement', 16:'Spare',\n",
    "          17:'Medical Transport', 18:'Noncombatant', 19:'Passenger', 20:'Cargo', 21:'Tanker', 22:'Other'}\n",
    "                 \n",
    "def group_categories(vtype):\n",
    "    if vtype == 0 or vtype==38 or vtype==39: # 'Unavailable' or 'Reserved'\n",
    "        return 0\n",
    "    if 19 < vtype < 30:\n",
    "        return 1\n",
    "    if vtype == 30:\n",
    "        return 2\n",
    "    if vtype == 31 or vtype == 32:\n",
    "        return 3\n",
    "    if vtype==33:\n",
    "        return 4\n",
    "    if vtype==34:\n",
    "        return 5\n",
    "    if vtype==35:\n",
    "        return 6\n",
    "    if vtype==36:\n",
    "        return 7\n",
    "    if vtype==37:\n",
    "        return 8\n",
    "    if 39 < vtype < 50:\n",
    "        return 9\n",
    "    mapping = {50:10, 51:11,52:12, 53:13, 54:14, 55:15, 56:16,  57:16, 58:17, 59:18}\n",
    "    match = mapping.get(vtype, None)\n",
    "    if match is not None:\n",
    "        return match\n",
    "    if 59 < vtype < 70:\n",
    "        return 19\n",
    "    if 69 < vtype < 80:\n",
    "        return 20\n",
    "    if 79 < vtype < 90:\n",
    "        return 21\n",
    "    if 89 < vtype < 100:\n",
    "        return 22"
   ]
  },
  {
   "cell_type": "markdown",
   "metadata": {},
   "source": [
    "## Loading AIS pings and Vessel information"
   ]
  },
  {
   "cell_type": "code",
   "execution_count": null,
   "metadata": {},
   "outputs": [],
   "source": [
    "broadcast = pd.read_csv('../Broadcast.csv', parse_dates=[1]) # Zone 10\n",
    "vessel_info =  pd.read_csv('../Vessel.csv')\n",
    "vessel_info['vessel_type']= vessel_info['vessel_type'].fillna(0).astype(int) # Mapping NaN to 'Not Available' i.e 0\n",
    "broadcast.head()"
   ]
  },
  {
   "cell_type": "markdown",
   "metadata": {},
   "source": [
    "## Assigning broader categories"
   ]
  },
  {
   "cell_type": "code",
   "execution_count": null,
   "metadata": {},
   "outputs": [],
   "source": [
    "vessel_mapping = {k:v for k,v in zip(vessel_info['mmsi_id'], \n",
    "                                     vessel_info['vessel_type'].apply(group_categories))} # Dict for mmsi:vessel type\n",
    "# Join between broadcast AIS pings and vessel info\n",
    "categories = broadcast['mmsi_id'].apply(lambda x: vessel_mapping.get(x, 0))\n",
    "broadcast['category'] = categories"
   ]
  },
  {
   "cell_type": "markdown",
   "metadata": {},
   "source": [
    "### Defining color key and legend"
   ]
  },
  {
   "cell_type": "code",
   "execution_count": null,
   "metadata": {},
   "outputs": [],
   "source": [
    "def rgb_to_hex(rgb):\n",
    "    return '#%02x%02x%02x' % rgb\n",
    "\n",
    "color_key = {ind:tuple(int(el*255.) for el in val) for ind,val in \n",
    "             enumerate(colorcet.glasbey_bw_minc_20_hue_330_100[:23])} # 23 Glasby colors\n",
    "color_names = {groups[k]:rgb_to_hex(v) for k,v in color_key.items()}\n",
    "color_points = hv.NdOverlay({k: hv.Points([0,0], label=str(k)).opts(color=v, size=0) for k, v in color_names.items()})"
   ]
  },
  {
   "cell_type": "code",
   "execution_count": null,
   "metadata": {},
   "outputs": [],
   "source": [
    "eastings, northings = zip(*[hv.util.transform.lon_lat_to_easting_northing(lon, lat) for lon, lat \n",
    "                          in zip(broadcast['lon'], broadcast['lat'])])"
   ]
  },
  {
   "cell_type": "markdown",
   "metadata": {},
   "source": [
    "# Datashaded, categorical AIS plot (Zone 10)"
   ]
  },
  {
   "cell_type": "code",
   "execution_count": null,
   "metadata": {},
   "outputs": [],
   "source": [
    "tiles = hv.element.tiles.ESRI().redim(x='easting', y='northing')\n",
    "tiles.opts( width=900, height=620) * color_points * dynspread(datashade(hv.Points(pd.DataFrame({'northing':northings, \n",
    "                                  'easting':eastings, 'category':categories}),\n",
    "                    ['easting', 'northing'], ['category']), color_key=color_key, \n",
    "                                                            aggregator=ds.count_cat('category')))"
   ]
  },
  {
   "cell_type": "markdown",
   "metadata": {},
   "source": [
    "## Full AIS vessel type mapping\n",
    "\n",
    "The following is not used in this notebook but allows Pythonic access to the full set of AIS vessel types:"
   ]
  },
  {
   "cell_type": "code",
   "execution_count": null,
   "metadata": {},
   "outputs": [],
   "source": [
    "mapping = {\n",
    "    0:'Not available',\n",
    "    20:'Wing in ground (WIG), all ships of this type',\n",
    "    21:'Wing in ground (WIG), Hazardous category A',\n",
    "    22:'Wing in ground (WIG), Hazardous category B',\n",
    "    23:'Wing in ground (WIG), Hazardous category C',\n",
    "    24:'Wing in ground (WIG), Hazardous category D',\n",
    "    25:'Wing in ground (WIG), Reserved for future use',\n",
    "    26:'Wing in ground (WIG), Reserved for future use',\n",
    "    27:'Wing in ground (WIG), Reserved for future use',\n",
    "    28:'Wing in ground (WIG), Reserved for future use',\n",
    "    29:'Wing in ground (WIG), Reserved for future use',\n",
    "    30:'Fishing',\n",
    "    31:'Towing',\n",
    "    32:'Towing: length exceeds 200m or breadth exceeds 25m',\n",
    "    33:'Dredging or underwater ops',\n",
    "    34:'Diving ops',\n",
    "    35:'Military ops',\n",
    "    36:'Sailing',\n",
    "    37:'Pleasure Craft',\n",
    "    38:'Reserved',\n",
    "    39:'Reserved',\n",
    "    40:'High speed craft (HSC), all ships of this type',\n",
    "    41:'High speed craft (HSC), Hazardous category A',\n",
    "    42:'High speed craft (HSC), Hazardous category B',\n",
    "    43:'High speed craft (HSC), Hazardous category C',\n",
    "    44:'High speed craft (HSC), Hazardous category D',\n",
    "    45:'High speed craft (HSC), Reserved for future use',\n",
    "    46:'High speed craft (HSC), Reserved for future use',\n",
    "    47:'High speed craft (HSC), Reserved for future use',\n",
    "    48:'High speed craft (HSC), Reserved for future use',\n",
    "    49:'High speed craft (HSC), No additional information',\n",
    "    50:'Pilot Vessel',\n",
    "    51:'Search and Rescue vessel',\n",
    "    52:'Tug',\n",
    "    53:'Port Tender',\n",
    "    54:'Anti-pollution equipment',\n",
    "    55:'Law Enforcement',\n",
    "    56:'Spare - Local Vessel',\n",
    "    57:'Spare - Local Vessel',\n",
    "    58:'Medical Transport',\n",
    "    59:'Noncombatant ship according to RR Resolution No. 18',\n",
    "    60:'Passenger, all ships of this type',\n",
    "    61:'Passenger, Hazardous category A',\n",
    "    62:'Passenger, Hazardous category B',\n",
    "    63:'Passenger, Hazardous category C',\n",
    "    64:'Passenger, Hazardous category D',\n",
    "    65:'Passenger, Reserved for future use',\n",
    "    66:'Passenger, Reserved for future use',\n",
    "    67:'Passenger, Reserved for future use',\n",
    "    68:'Passenger, Reserved for future use',\n",
    "    69:'Passenger, No additional information',\n",
    "    70:'Cargo, all ships of this type',\n",
    "    71:'Cargo, Hazardous category A',\n",
    "    72:'Cargo, Hazardous category B',\n",
    "    73:'Cargo, Hazardous category C',\n",
    "    74:'Cargo, Hazardous category D',\n",
    "    75:'Cargo, Reserved for future use',\n",
    "    76:'Cargo, Reserved for future use',\n",
    "    77:'Cargo, Reserved for future use',\n",
    "    78:'Cargo, Reserved for future use',\n",
    "    79:'Cargo, No additional information',\n",
    "    80:'Tanker, all ships of this type',\n",
    "    81:'Tanker, Hazardous category A',\n",
    "    82:'Tanker, Hazardous category B',\n",
    "    83:'Tanker, Hazardous category C',\n",
    "    84:'Tanker, Hazardous category D',\n",
    "    85:'Tanker, Reserved for future use',\n",
    "    86:'Tanker, Reserved for future use',\n",
    "    87:'Tanker, Reserved for future use',\n",
    "    88:'Tanker, Reserved for future use',\n",
    "    89:'Tanker, No additional information',\n",
    "    90:'Other Type, all ships of this type',\n",
    "    91:'Other Type, Hazardous category A',\n",
    "    92:'Other Type, Hazardous category B',\n",
    "    93:'Other Type, Hazardous category C',\n",
    "    94:'Other Type, Hazardous category D',\n",
    "    95:'Other Type, Reserved for future use',\n",
    "    96:'Other Type, Reserved for future use',\n",
    "    97:'Other Type, Reserved for future use',\n",
    "    98:'Other Type, Reserved for future use',\n",
    "    99:'Other Type, no additional information'}\n",
    "\n",
    "def vessel_type_from_int(val):\n",
    "    val = int(val)\n",
    "    name = mapping.get(val, None)\n",
    "    if name is not None:\n",
    "        return name\n",
    "    if val < 20:\n",
    "        return 'Reserved for future use'\n",
    "    else:\n",
    "        return 'Unknown vessel type'"
   ]
  }
 ],
 "metadata": {
  "kernelspec": {
   "display_name": "Python 3",
   "language": "python",
   "name": "python3"
  },
  "language_info": {
   "codemirror_mode": {
    "name": "ipython",
    "version": 3
   },
   "file_extension": ".py",
   "mimetype": "text/x-python",
   "name": "python",
   "nbconvert_exporter": "python",
   "pygments_lexer": "ipython3",
   "version": "3.7.9"
  }
 },
 "nbformat": 4,
 "nbformat_minor": 4
}
