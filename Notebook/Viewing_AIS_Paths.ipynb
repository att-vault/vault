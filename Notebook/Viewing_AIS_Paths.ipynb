{
 "cells": [
  {
   "cell_type": "markdown",
   "metadata": {},
   "source": [
    "# Viewing AIS tracks\n",
    "\n",
    "This notebook prototypes the use of spatialpandas to select AIS voyage tracks by tapping on the full set of datashaded AIS data."
   ]
  },
  {
   "cell_type": "code",
   "execution_count": null,
   "metadata": {},
   "outputs": [],
   "source": [
    "import pandas as pd\n",
    "import numpy as np\n",
    "import panel as pn\n",
    "import datetime as dt\n",
    "import holoviews as hv\n",
    "from holoviews.operation.datashader import rasterize\n",
    "from spatialpandas.geometry import PointArray\n",
    "from spatialpandas import GeoDataFrame\n",
    "from colorcet import fire\n",
    "\n",
    "hv.extension('bokeh')"
   ]
  },
  {
   "cell_type": "code",
   "execution_count": null,
   "metadata": {},
   "outputs": [],
   "source": [
    "broadcast = pd.read_csv('../Broadcast.csv', parse_dates=[1])\n",
    "broadcast.head()"
   ]
  },
  {
   "cell_type": "code",
   "execution_count": null,
   "metadata": {},
   "outputs": [],
   "source": [
    "%%time\n",
    "broadcast.loc[:, 'x'], broadcast.loc[:, 'y'] = \\\n",
    "    hv.util.transform.lon_lat_to_easting_northing(broadcast.lon,broadcast.lat)"
   ]
  },
  {
   "cell_type": "markdown",
   "metadata": {},
   "source": [
    "Create a spatially indexed dataframe to allow selection (may take some time for large datasets)."
   ]
  },
  {
   "cell_type": "code",
   "execution_count": null,
   "metadata": {},
   "outputs": [],
   "source": [
    "%%time\n",
    "sdf = GeoDataFrame({'geometry':PointArray((broadcast.lon, broadcast.lat)),\n",
    "                    'x':broadcast.x, 'y':broadcast.y,\n",
    "                    'date_time': broadcast.date_time,\n",
    "                    'mmsi_id':broadcast.mmsi_id})"
   ]
  },
  {
   "cell_type": "code",
   "execution_count": null,
   "metadata": {},
   "outputs": [],
   "source": [
    "def highlight_tracks(x,y, delta = 0.02):\n",
    "    path_data = []\n",
    "    if None not in [x,y]:\n",
    "        lon, lat = hv.util.transform.easting_northing_to_lon_lat(x,y)\n",
    "        selection = sdf.cx[lon-delta:lon+delta, lat-delta:lat+delta]\n",
    "        \n",
    "        if len(selection) > 0 and len(selection) < 60:\n",
    "            mmsids = list(selection['mmsi_id'].unique())\n",
    "            for mmsid in mmsids:\n",
    "                pathdf = sdf[sdf['mmsi_id']==mmsid]\n",
    "                pathdf.sort_values(by='date_time')\n",
    "                coords = list(zip(pathdf['x'], pathdf['y']))\n",
    "                path_data.append(coords)  \n",
    "    return hv.Path(path_data).opts(color='red')"
   ]
  },
  {
   "cell_type": "markdown",
   "metadata": {},
   "source": [
    "Zoom in and tap on a track to view the entire vessel track"
   ]
  },
  {
   "cell_type": "code",
   "execution_count": null,
   "metadata": {},
   "outputs": [],
   "source": [
    "points = rasterize(hv.Points(broadcast, ['x', 'y']))\n",
    "tiles = hv.element.tiles.ESRI()\n",
    "\n",
    "overlay = (tiles * points.opts(cmap=fire[180:], width=900, height=500, cnorm='eq_hist', alpha=0.5))\n",
    "overlay * hv.DynamicMap(highlight_tracks, streams=[hv.streams.Tap()])"
   ]
  }
 ],
 "metadata": {
  "language_info": {
   "name": "python",
   "pygments_lexer": "ipython3"
  }
 },
 "nbformat": 4,
 "nbformat_minor": 4
}
