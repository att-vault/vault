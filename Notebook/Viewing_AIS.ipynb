{
 "cells": [
  {
   "cell_type": "markdown",
   "metadata": {},
   "source": [
    "# Viewing AIS data\n",
    "\n",
    "This [Jupyter](https://jupyter.org) notebook explores and analyzes the [Automatic Identification System (AIS)](https://en.wikipedia.org/wiki/Automatic_identification_system) vessel-location data provided for the 12/2020 VAULT technical scenario, showing what data is available and how it can be accessed and visualized from Python. The notebook also acts as a runnable application that can be put on a server to allow users to explore the data interactively."
   ]
  },
  {
   "cell_type": "code",
   "execution_count": null,
   "metadata": {},
   "outputs": [],
   "source": [
    "import pandas as pd\n",
    "import numpy as np\n",
    "import panel as pn\n",
    "import datetime as dt\n",
    "import holoviews as hv\n",
    "import colorcet as cc\n",
    "import param\n",
    "from holoviews.operation.datashader import rasterize, dynspread\n",
    "hv.extension('bokeh')"
   ]
  },
  {
   "cell_type": "markdown",
   "metadata": {},
   "source": [
    "Data has been provided for four [UTM zones](https://en.wikipedia.org/wiki/Universal_Transverse_Mercator_coordinate_system#UTM_zone) (1, 2, 3, and 10), with vessels identified by their [Maritime Mobile Service Identity](https://en.wikipedia.org/wiki/Maritime_Mobile_Service_Identity) numbers. Here we will load 2017 data from three of the zones using [pandas](https://pandas.pydata.org):"
   ]
  },
  {
   "cell_type": "code",
   "execution_count": null,
   "metadata": {},
   "outputs": [],
   "source": [
    "zone1 = pd.read_csv('./data/AIS_2017_01_Zone01.csv', parse_dates=[1])\n",
    "zone2 = pd.read_csv('./data/AIS_2017_01_Zone02.csv', parse_dates=[1])\n",
    "zone3 = pd.read_csv('./data/AIS_2017_01_Zone03.csv', parse_dates=[1])\n",
    "zones = pd.concat([zone1,zone2, zone3])"
   ]
  },
  {
   "cell_type": "markdown",
   "metadata": {},
   "source": [
    "The AIS files include a variety of data and metadata values about each reported AIS broadcast. As we can see by looking at the first few rows of data, some of these values indicate the current state (e.g. LAT, LON, SOG, COG, Heading at the given time), while the others indicate metadata about the vessel (VesselName, CallSign, etc.):"
   ]
  },
  {
   "cell_type": "code",
   "execution_count": null,
   "metadata": {},
   "outputs": [],
   "source": [
    "zones.head()"
   ]
  },
  {
   "cell_type": "markdown",
   "metadata": {},
   "source": [
    "Not all columns are present for every record, but some could be filled in using publicly available data (or replaced with a placeholder, such as using MMSI for a missing (NaN) VesselName.\n",
    "\n",
    "Because the eventual task involves matching vessel locations to satellite fields of view, let's visualize the set of locations available using [HoloViews](https://holoviews.org):"
   ]
  },
  {
   "cell_type": "code",
   "execution_count": null,
   "metadata": {},
   "outputs": [],
   "source": [
    "print(f\"Ranges found: latitude {min(zones.LAT):.4} to {max(zones.LAT):.4}, \"\n",
    "      f\"longitude {min(zones.LON):.4} to {max(zones.LON):.4}\")"
   ]
  },
  {
   "cell_type": "code",
   "execution_count": null,
   "metadata": {},
   "outputs": [],
   "source": [
    "points = rasterize(hv.Points(zones, ['LON','LAT'])).opts(cnorm='eq_hist', aspect='equal')\n",
    "points"
   ]
  },
  {
   "cell_type": "markdown",
   "metadata": {},
   "source": [
    "Here HoloViews generates an interactive [Bokeh](https://bokeh.org) plot that uses [Datashader](https://datashader.org) to compute a heatmap for location data, with darker blue colors indicating pixels with more AIS data \"pings\". With an interactive Python session running, you can zoom into the above heatmap plot to see how the location data is distributed. E.g. if we zoom into the densest region of AIS points, we can see a lot of interesting structure:"
   ]
  },
  {
   "cell_type": "code",
   "execution_count": null,
   "metadata": {},
   "outputs": [],
   "source": [
    "rasterize(hv.Points(zones, ['LON','LAT']), width=800, height=300, x_range=(-169,-162), y_range=(53.5,56))\\\n",
    "  .opts(width=800, height=300, cnorm='eq_hist', tools=['hover'])"
   ]
  },
  {
   "cell_type": "markdown",
   "metadata": {},
   "source": [
    "To put this data in context, let's plot it on a map. We'll use a public map tile source in Web Mercator coordinates, so we'll first project the LON,LAT coorinates to easting,northing values:"
   ]
  },
  {
   "cell_type": "code",
   "execution_count": null,
   "metadata": {},
   "outputs": [],
   "source": [
    "%%time\n",
    "zones.loc[:, 'x'], zones.loc[:, 'y'] = hv.util.transform.lon_lat_to_easting_northing(zones.LON,zones.LAT)"
   ]
  },
  {
   "cell_type": "markdown",
   "metadata": {},
   "source": [
    "Let's also create some annotations that show the UTM zone boundaries, to validate that the data provided is indeed in the zones listed in the filenames:"
   ]
  },
  {
   "cell_type": "code",
   "execution_count": null,
   "metadata": {},
   "outputs": [],
   "source": [
    "def zone(i):\n",
    "    \"\"\"\n",
    "    Return plottable bounds object for a given UTM zone\n",
    "    (see https://en.wikipedia.org/wiki/Universal_Transverse_Mercator_coordinate_system#UTM_zone)\n",
    "    \"\"\"\n",
    "    lrbt = ((-180+6*(i-1),-180+6*i),(-80,84))\n",
    "    m    = hv.util.transform.lon_lat_to_easting_northing(*lrbt)\n",
    "    bnds = hv.Bounds((m[0][0],m[1][0],m[0][1],m[1][1])).opts(color=\"white\") \n",
    "    text = hv.Text(m[0][0]+(m[0][1]-m[0][0])/2, 0, f\"{i}\").opts(color=\"white\", text_font_size=\"5pt\")\n",
    "    return bnds * text"
   ]
  },
  {
   "cell_type": "markdown",
   "metadata": {},
   "source": [
    "And let's set up some defaults, including a suitable lon,lat range and a colormap going from red to yellow to white so that it shows up against the dark ocean:"
   ]
  },
  {
   "cell_type": "code",
   "execution_count": null,
   "metadata": {},
   "outputs": [],
   "source": [
    "x_range, y_range = hv.util.transform.lon_lat_to_easting_northing([-180-45,-60], [-5,60])\n",
    "bounds = dict(x=tuple(x_range), y=tuple(y_range))\n",
    "opts = hv.opts.Image(cmap=cc.fire[64:], width=900, height=500, cnorm='eq_hist', alpha=1)"
   ]
  },
  {
   "cell_type": "markdown",
   "metadata": {},
   "source": [
    "We can now plot the data on top of a map, with bounding boxes for the UTM zones, using `*` to overlay each item:"
   ]
  },
  {
   "cell_type": "code",
   "execution_count": null,
   "metadata": {},
   "outputs": [],
   "source": [
    "points = rasterize(hv.Points(zones, ['x','y']).redim.range(**bounds)).opts(opts)\n",
    "tiles  = hv.element.tiles.EsriImagery().opts( alpha=0.5, bgcolor='black')\n",
    "labels = hv.element.tiles.StamenLabels().opts(alpha=0.7, level='annotation')\n",
    "\n",
    "tiles * dynspread(points) * zone(1) * zone(2) * zone(3) * zone(10) * labels"
   ]
  },
  {
   "cell_type": "markdown",
   "metadata": {},
   "source": [
    "Zooming and panning (selecting appropriate tools from the plot toolbar if needed) should reveal that these vessels provide many AIS pings around ports and in shipping lanes, as well as revealing other interesting trajectories and movement patterns."
   ]
  },
  {
   "cell_type": "markdown",
   "metadata": {},
   "source": [
    "# Selecting a vessel at a given time\n",
    "\n",
    "The above plots show the cumulative AIS location data over all times available in the files. If we are given a _particular_ time, we can can overlay markers for each vessel on top of the cumulative location data, showing the location of that vessel at the given time. "
   ]
  },
  {
   "cell_type": "code",
   "execution_count": null,
   "metadata": {},
   "outputs": [],
   "source": [
    "vessels = {name:df.drop_duplicates().sort_values(by='BaseDateTime').set_index('BaseDateTime') \n",
    "           for name,df in zones.groupby('VesselName')}\n",
    "columns = list([el for el in zones.columns if el!= 'BaseDateTime'])"
   ]
  },
  {
   "cell_type": "code",
   "execution_count": null,
   "metadata": {},
   "outputs": [],
   "source": [
    "def vessel_at_time(vessel_name, time, vessels):\n",
    "    df = vessels[vessel_name].drop_duplicates()\n",
    "    if time < df.index[0]:\n",
    "        return None # Query before first value\n",
    "    if time > df.index[-1]:\n",
    "        return None # Query after last value\n",
    "    try:\n",
    "        idx = df.index.get_loc(time, method='nearest')\n",
    "        return df.iloc[idx]\n",
    "    except:\n",
    "        return None\n",
    "\n",
    "marked_points = None # TODO: Declare a class and make this an attribute\n",
    "\n",
    "def mark_vessels(value):\n",
    "    global marked_points\n",
    "    records = []\n",
    "    empty = dict({'x':0., 'y':0., 'time':''}, **{col:'' for col in columns})\n",
    "    for vessel in vessels.keys():\n",
    "        match = vessel_at_time(vessel, value, vessels)\n",
    "        if match is not None:\n",
    "            x, y = hv.util.transform.lon_lat_to_easting_northing(match['LON'], match['LAT'])\n",
    "            records.append(dict({'x':x, 'y':y, 'time':match.name}, **{col:match[col] for col in columns}))\n",
    "    markers = pd.DataFrame(records if len(records) != 0 else [empty]) \n",
    "    alpha = 1 if len(records) else 0\n",
    "    marked_points = hv.Points(markers, ['x', 'y'], columns).opts(color='white', size=4, \n",
    "                                                                                 marker='triangle', alpha=alpha)\n",
    "    return marked_points"
   ]
  },
  {
   "cell_type": "markdown",
   "metadata": {},
   "source": [
    "Let's take the midpoint of the times available in the file, as an example time:"
   ]
  },
  {
   "cell_type": "code",
   "execution_count": null,
   "metadata": {},
   "outputs": [],
   "source": [
    "times = zones['BaseDateTime']\n",
    "midpoint = times.min() + (times.max() - times.min())/2"
   ]
  },
  {
   "cell_type": "markdown",
   "metadata": {},
   "source": [
    "Now we can compute the locations of each vessel near that time, and overlay that on the points and map tiles:"
   ]
  },
  {
   "cell_type": "code",
   "execution_count": null,
   "metadata": {},
   "outputs": [],
   "source": [
    "points = rasterize(hv.Points(zones, ['x','y']).redim.range(**bounds)).opts(opts)\n",
    "\n",
    "tiles * points * mark_vessels(midpoint).opts(tools=['hover'])"
   ]
  },
  {
   "cell_type": "markdown",
   "metadata": {},
   "source": [
    "Now when you hover over the white markers indicating the position of a vessel, you should see lots of information about it.\n",
    "\n",
    "# User interface for selecting a given time and vessel\n",
    "\n",
    "Instead of editing Python code to specify a time, let's add a [Panel](https://panel.holoviz.org) widget to let the user select a specific time interactively:"
   ]
  },
  {
   "cell_type": "code",
   "execution_count": null,
   "metadata": {},
   "outputs": [],
   "source": [
    "dt_input = pn.widgets.DatetimeInput(name='Datetime', value=midpoint)\n",
    "dt_input"
   ]
  },
  {
   "cell_type": "markdown",
   "metadata": {},
   "source": [
    "Also, as the data can be unwieldy in hover form, we can also provide it in a separate table, accessed by clicking on one of the ship markers:"
   ]
  },
  {
   "cell_type": "code",
   "execution_count": null,
   "metadata": {},
   "outputs": [],
   "source": [
    "table_cols = ['MMSI', 'VesselName', 'VesselType', 'Heading', 'CallSign', 'Length', 'Width', 'Cargo']\n",
    "empty_df = pd.DataFrame({el:[] for el in table_cols})\n",
    "\n",
    "class Drilldown(param.Parameterized):\n",
    "    selection = param.DataFrame(empty_df)\n",
    "    \n",
    "    @param.depends('selection')\n",
    "    def update_table(self, *args, **kwargs):\n",
    "        return pn.widgets.DataFrame(self.selection, show_index=False)\n",
    "    \n",
    "drilldown = Drilldown()"
   ]
  },
  {
   "cell_type": "code",
   "execution_count": null,
   "metadata": {},
   "outputs": [],
   "source": [
    "vessel_types=pd.read_csv(\"AIS_categories.csv\")\n",
    "\n",
    "# Needs work\n",
    "def vessel_type_from_str(val):\n",
    "    i = int(str(val)[0:2])\n",
    "    return vessel_types.iloc[i].desc if i in vessel_types.index else f'{i}'"
   ]
  },
  {
   "cell_type": "code",
   "execution_count": null,
   "metadata": {},
   "outputs": [],
   "source": [
    "def markerfn(index, table_cols=table_cols):\n",
    "    if len(index) > 0:\n",
    "        rows = [marked_points.data.iloc[ind] for ind in index]\n",
    "        df = pd.DataFrame(rows)[table_cols]\n",
    "        df.columns = table_cols\n",
    "        #df['VesselType'] = df['VesselType'].apply(vessel_type_from_str)\n",
    "        drilldown.selection = df\n",
    "\n",
    "    return hv.HLine(0).opts(visible=False)"
   ]
  },
  {
   "cell_type": "code",
   "execution_count": null,
   "metadata": {},
   "outputs": [],
   "source": [
    "points = rasterize(hv.Points(zones, ['x','y']).redim.range(**bounds)).opts(opts)\n",
    "\n",
    "title = \"# AIS vessel locations\"\n",
    "\n",
    "message = (\"Select a time covered by this dataset and press return to see ship locations at that time \"\n",
    "           \"(after a few seconds, due to unoptimized time-filtering code). Then click on a ship \"\n",
    "           \"to see more information about it.\")\n",
    "\n",
    "dmap = hv.DynamicMap(mark_vessels, streams=[dt_input.param.value])\n",
    "overlay2 = (tiles * points * dmap)\n",
    "marker = hv.DynamicMap(markerfn, streams=[hv.streams.Selection1D(source=dmap)]).opts(tools=['tap'])\n",
    "\n",
    "pn.Column(title, message, dt_input, overlay2 * marker, drilldown.update_table).servable()"
   ]
  },
  {
   "cell_type": "markdown",
   "metadata": {},
   "source": [
    "This app can now be launched as a separate server using a command like `panel serve <notebookname>.ipynb`, then visiting the URL that is printed as output."
   ]
  }
 ],
 "metadata": {
  "kernelspec": {
   "display_name": "Python 3",
   "language": "python",
   "name": "python3"
  },
  "language_info": {
   "codemirror_mode": {
    "name": "ipython",
    "version": 3
   },
   "file_extension": ".py",
   "mimetype": "text/x-python",
   "name": "python",
   "nbconvert_exporter": "python",
   "pygments_lexer": "ipython3",
   "version": "3.6.10"
  }
 },
 "nbformat": 4,
 "nbformat_minor": 4
}
