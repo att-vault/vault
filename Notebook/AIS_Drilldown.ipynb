{
 "cells": [
  {
   "cell_type": "markdown",
   "metadata": {},
   "source": [
    "# AIS Drilldown\n",
    "\n",
    "This notebook is work in progress that declares a Panel dashboard to visualize AIS data. All available AIS data is visualized with datashader and a `DatetimeInput` panel widget allows display of vessel locations at a chosen time. Tapping on a vessel shows more information in a drilldown table.\n",
    "\n",
    "Not yet optimized and filtering vessels can take a few moments."
   ]
  },
  {
   "cell_type": "code",
   "execution_count": null,
   "metadata": {},
   "outputs": [],
   "source": [
    "import pandas as pd\n",
    "import numpy as np\n",
    "import panel as pn\n",
    "import datetime as dt\n",
    "import param\n",
    "from colorcet import fire\n",
    "import holoviews as hv\n",
    "from holoviews.operation.datashader import rasterize\n",
    "hv.extension('bokeh')"
   ]
  },
  {
   "cell_type": "code",
   "execution_count": null,
   "metadata": {},
   "outputs": [],
   "source": [
    "mapping = {\n",
    "    0:'Not available',\n",
    "    20:'Wing in ground (WIG), all ships of this type',\n",
    "    21:'Wing in ground (WIG), Hazardous category A',\n",
    "    22:'Wing in ground (WIG), Hazardous category B',\n",
    "    23:'Wing in ground (WIG), Hazardous category C',\n",
    "    24:'Wing in ground (WIG), Hazardous category D',\n",
    "    25:'Wing in ground (WIG), Reserved for future use',\n",
    "    26:'Wing in ground (WIG), Reserved for future use',\n",
    "    27:'Wing in ground (WIG), Reserved for future use',\n",
    "    28:'Wing in ground (WIG), Reserved for future use',\n",
    "    29:'Wing in ground (WIG), Reserved for future use',\n",
    "    30:'Fishing',\n",
    "    31:'Towing',\n",
    "    32:'Towing: length exceeds 200m or breadth exceeds 25m',\n",
    "    33:'Dredging or underwater ops',\n",
    "    34:'Diving ops',\n",
    "    35:'Military ops',\n",
    "    36:'Sailing',\n",
    "    37:'Pleasure Craft',\n",
    "    38:'Reserved',\n",
    "    39:'Reserved',\n",
    "    40:'High speed craft (HSC), all ships of this type',\n",
    "    41:'High speed craft (HSC), Hazardous category A',\n",
    "    42:'High speed craft (HSC), Hazardous category B',\n",
    "    43:'High speed craft (HSC), Hazardous category C',\n",
    "    44:'High speed craft (HSC), Hazardous category D',\n",
    "    45:'High speed craft (HSC), Reserved for future use',\n",
    "    46:'High speed craft (HSC), Reserved for future use',\n",
    "    47:'High speed craft (HSC), Reserved for future use',\n",
    "    48:'High speed craft (HSC), Reserved for future use',\n",
    "    49:'High speed craft (HSC), No additional information',\n",
    "    50:'Pilot Vessel',\n",
    "    51:'Search and Rescue vessel',\n",
    "    52:'Tug',\n",
    "    53:'Port Tender',\n",
    "    54:'Anti-pollution equipment',\n",
    "    55:'Law Enforcement',\n",
    "    56:'Spare - Local Vessel',\n",
    "    57:'Spare - Local Vessel',\n",
    "    58:'Medical Transport',\n",
    "    59:'Noncombatant ship according to RR Resolution No. 18',\n",
    "    60:'Passenger, all ships of this type',\n",
    "    61:'Passenger, Hazardous category A',\n",
    "    62:'Passenger, Hazardous category B',\n",
    "    63:'Passenger, Hazardous category C',\n",
    "    64:'Passenger, Hazardous category D',\n",
    "    65:'Passenger, Reserved for future use',\n",
    "    66:'Passenger, Reserved for future use',\n",
    "    67:'Passenger, Reserved for future use',\n",
    "    68:'Passenger, Reserved for future use',\n",
    "    69:'Passenger, No additional information',\n",
    "    70:'Cargo, all ships of this type',\n",
    "    71:'Cargo, Hazardous category A',\n",
    "    72:'Cargo, Hazardous category B',\n",
    "    73:'Cargo, Hazardous category C',\n",
    "    74:'Cargo, Hazardous category D',\n",
    "    75:'Cargo, Reserved for future use',\n",
    "    76:'Cargo, Reserved for future use',\n",
    "    77:'Cargo, Reserved for future use',\n",
    "    78:'Cargo, Reserved for future use',\n",
    "    79:'Cargo, No additional information',\n",
    "    80:'Tanker, all ships of this type',\n",
    "    81:'Tanker, Hazardous category A',\n",
    "    82:'Tanker, Hazardous category B',\n",
    "    83:'Tanker, Hazardous category C',\n",
    "    84:'Tanker, Hazardous category D',\n",
    "    85:'Tanker, Reserved for future use',\n",
    "    86:'Tanker, Reserved for future use',\n",
    "    87:'Tanker, Reserved for future use',\n",
    "    88:'Tanker, Reserved for future use',\n",
    "    89:'Tanker, No additional information',\n",
    "    90:'Other Type, all ships of this type',\n",
    "    91:'Other Type, Hazardous category A',\n",
    "    92:'Other Type, Hazardous category B',\n",
    "    93:'Other Type, Hazardous category C',\n",
    "    94:'Other Type, Hazardous category D',\n",
    "    95:'Other Type, Reserved for future use',\n",
    "    96:'Other Type, Reserved for future use',\n",
    "    97:'Other Type, Reserved for future use',\n",
    "    98:'Other Type, Reserved for future use',\n",
    "    99:'Other Type, no additional information'}\n",
    "\n",
    "def vessel_type_from_int(val):\n",
    "    if np.isnan(val):\n",
    "        return 'Unknown vessel type'\n",
    "    name = mapping.get(val, None)\n",
    "    if name is not None:\n",
    "        return name\n",
    "    if val < 20:\n",
    "        return 'Reserved for future use'\n",
    "    else:\n",
    "        return 'Unknown vessel type'"
   ]
  },
  {
   "cell_type": "code",
   "execution_count": null,
   "metadata": {},
   "outputs": [],
   "source": [
    "zone1 = pd.read_csv('./data/AIS_2017_01_Zone01.csv', parse_dates=[1])\n",
    "zone2 = pd.read_csv('./data/AIS_2017_01_Zone02.csv', parse_dates=[1])\n",
    "zone3 = pd.read_csv('./data/AIS_2017_01_Zone03.csv', parse_dates=[1])\n",
    "zones = pd.concat([zone1,zone2, zone3])"
   ]
  },
  {
   "cell_type": "code",
   "execution_count": null,
   "metadata": {},
   "outputs": [],
   "source": [
    "zones.head() # Dataframe structure"
   ]
  },
  {
   "cell_type": "code",
   "execution_count": null,
   "metadata": {},
   "outputs": [],
   "source": [
    "vessels = {name:df.drop_duplicates().sort_values(by='BaseDateTime').set_index('BaseDateTime') for name,df in zones.groupby('VesselName')}"
   ]
  },
  {
   "cell_type": "code",
   "execution_count": null,
   "metadata": {},
   "outputs": [],
   "source": [
    "# NOTE! Some of the data is missing (presumably an unknown vessel)\n",
    "# Consider substituting MMSI for VesselName if missing\n",
    "zone1.iloc[8859]"
   ]
  },
  {
   "cell_type": "code",
   "execution_count": null,
   "metadata": {},
   "outputs": [],
   "source": [
    "print(\"Expected Latitude range %.3f to %.3f\"% (min(zones['LAT']), max(zones['LAT'])))\n",
    "print(\"Expected Longitude range %.3f to %.3f \" % (min(zones['LON']), max(zones['LON'])))"
   ]
  },
  {
   "cell_type": "code",
   "execution_count": null,
   "metadata": {},
   "outputs": [],
   "source": [
    "columns = list([el for el in zones.columns if el!= 'BaseDateTime'])"
   ]
  },
  {
   "cell_type": "code",
   "execution_count": null,
   "metadata": {},
   "outputs": [],
   "source": [
    "eastings, northings = zip(*[hv.util.transform.lon_lat_to_easting_northing(lon, lat) for lon, lat \n",
    "                          in zip(zones['LON'], zones['LAT'])])"
   ]
  },
  {
   "cell_type": "code",
   "execution_count": null,
   "metadata": {},
   "outputs": [],
   "source": [
    "dt_input = pn.widgets.DatetimeInput(name='Datetime', value=pd.Timestamp('2017-01-18'))\n",
    "dt_input"
   ]
  },
  {
   "cell_type": "code",
   "execution_count": null,
   "metadata": {},
   "outputs": [],
   "source": [
    "table_cols = ['MMSI', 'VesselName', 'VesselType', 'Heading', 'CallSign', 'Length', 'Width', 'Cargo']\n",
    "empty_df = pd.DataFrame({el:[] for el in table_cols})\n",
    "\n",
    "class Drilldown(param.Parameterized):\n",
    "    selection = param.DataFrame(empty_df)\n",
    "    \n",
    "    @param.depends('selection')\n",
    "    def update_table(self, *args, **kwargs):\n",
    "        return pn.widgets.DataFrame(self.selection, show_index=False)\n",
    "        \n",
    "    \n",
    "drilldown = Drilldown()"
   ]
  },
  {
   "cell_type": "code",
   "execution_count": null,
   "metadata": {},
   "outputs": [],
   "source": [
    "def vessel_at_time(vessel_name, time, vessels):\n",
    "    df = vessels[vessel_name].drop_duplicates()\n",
    "    if time < df.index[0]:\n",
    "        return None # Query before first value\n",
    "    if time > df.index[-1]:\n",
    "        return None # Query after last value\n",
    "    try:\n",
    "        idx = df.index.get_loc(time, method='nearest')\n",
    "        return df.iloc[idx]\n",
    "    except:\n",
    "        return None\n",
    "\n",
    "marked_points = None # TODO: Declare a class and make this an attribute\n",
    "\n",
    "def mark_vessels(value):\n",
    "    global marked_points\n",
    "    records = []\n",
    "    empty = dict({'easting':0., 'northing':-7.081154551613623e-10}, **{col:'' for col in columns})\n",
    "    for vessel in vessels.keys():\n",
    "        match = vessel_at_time(vessel, value, vessels)\n",
    "        if match is not None:\n",
    "            easting, northing = hv.util.transform.lon_lat_to_easting_northing(match['LON'], match['LAT'])\n",
    "            records.append(dict({'easting':easting, 'northing':northing}, **{col:match[col] for col in columns}))\n",
    "    markers = pd.DataFrame(records if len(records) != 0 else [empty]) \n",
    "    alpha = 1 if len(records) else 0\n",
    "    marked_points = hv.Points(markers, ['easting', 'northing'], columns).opts(color='white', size=4, \n",
    "                                                                                 marker='triangle', alpha=alpha)\n",
    "    return marked_points"
   ]
  },
  {
   "cell_type": "code",
   "execution_count": null,
   "metadata": {},
   "outputs": [],
   "source": [
    "def markerfn(index, table_cols=table_cols):\n",
    "    if len(index) > 0:\n",
    "        rows = [marked_points.data.iloc[ind] for ind in index]\n",
    "        \n",
    "        print(rows)\n",
    "        df = pd.DataFrame(rows)[table_cols]\n",
    "        print(df.columns)\n",
    "        df.columns = table_cols\n",
    "        df['VesselType'] = df['VesselType'].apply(vessel_type_from_int)\n",
    "        drilldown.selection = df\n",
    "\n",
    "    return hv.HLine(0).opts(visible=False)"
   ]
  },
  {
   "cell_type": "code",
   "execution_count": null,
   "metadata": {},
   "outputs": [],
   "source": [
    "points = rasterize(hv.Points(pd.DataFrame({'northing':northings, \n",
    "                                           'easting':eastings}), ['easting', 'northing']))\n",
    "tiles = hv.element.tiles.ESRI().redim(x='easting', y='northing')\n",
    "dmap = hv.DynamicMap(mark_vessels, streams=[dt_input.param.value])\n",
    "overlay = (tiles * points.opts(cmap=fire[180:], width=900, height=500, cnorm='eq_hist', alpha=0.5) * dmap)\n",
    "\n",
    "marker = hv.DynamicMap(markerfn, streams=[hv.streams.Selection1D(source=dmap)]).opts(tools=['tap'])\n",
    "\n",
    "message = (\"Example times to compare: 2017-01-18 00:00:00 with 2017-01-17 00:00:00 (first sample) \"\n",
    "           \"white triangles marking vessel locations. Unoptimized first cut: filtering updates can take a few moments.\")\n",
    "pn.Column('# AIS Data (Work in progress)', message, dt_input, overlay * marker, drilldown.update_table).servable()"
   ]
  }
 ],
 "metadata": {
  "kernelspec": {
   "display_name": "Python 3",
   "language": "python",
   "name": "python3"
  },
  "language_info": {
   "codemirror_mode": {
    "name": "ipython",
    "version": 3
   },
   "file_extension": ".py",
   "mimetype": "text/x-python",
   "name": "python",
   "nbconvert_exporter": "python",
   "pygments_lexer": "ipython3",
   "version": "3.7.9"
  }
 },
 "nbformat": 4,
 "nbformat_minor": 4
}
