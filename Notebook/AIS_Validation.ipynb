{
 "cells": [
  {
   "cell_type": "markdown",
   "metadata": {},
   "source": [
    "## AIS Validation"
   ]
  },
  {
   "cell_type": "code",
   "execution_count": 155,
   "metadata": {},
   "outputs": [],
   "source": [
    "# from IPython.display import Image, HTML\n",
    "import os\n",
    "import numpy as np\n",
    "import pandas as pd\n",
    "import datetime\n",
    "import warnings\n",
    "from glob import glob\n",
    "\n",
    "warnings.filterwarnings(\"ignore\")           # Suppress Warning"
   ]
  },
  {
   "cell_type": "code",
   "execution_count": 156,
   "metadata": {},
   "outputs": [],
   "source": [
    "WorkingFolder = \"/Users/cv0361/Desktop/TechChallenge/Data/csv/AIS_Processed/\""
   ]
  },
  {
   "cell_type": "code",
   "execution_count": 157,
   "metadata": {},
   "outputs": [],
   "source": [
    "OutputDir = WorkingFolder"
   ]
  },
  {
   "cell_type": "markdown",
   "metadata": {},
   "source": [
    "### Combining Vessels Data"
   ]
  },
  {
   "cell_type": "code",
   "execution_count": 158,
   "metadata": {},
   "outputs": [
    {
     "name": "stdout",
     "output_type": "stream",
     "text": [
      "/Users/cv0361/Desktop/TechChallenge/Data/csv/AIS_Processed/Zone03_2017_01/\n",
      "Rows: 823\n",
      "Total Rows: (823, 7)\n",
      "Non-Dup Total Rows: (823, 7)\n"
     ]
    }
   ],
   "source": [
    "# Combining all Vessels Data\n",
    "df_list = list()\n",
    "\n",
    "for folder in glob(WorkingFolder + \"*/\"):\n",
    "    \n",
    "    #******** Temp hack\n",
    "    folder = \"/Users/cv0361/Desktop/TechChallenge/Data/csv/AIS_Processed/Zone03_2017_01/\"\n",
    "    #************\n",
    "    \n",
    "    print(folder)\n",
    "    df = pd.read_csv(folder + \"Vessel.csv\", sep=\",\")\n",
    "    \n",
    "    print(\"Rows:\", len(df))\n",
    "    \n",
    "    df_list.append(df)\n",
    "    \n",
    "    break\n",
    "    \n",
    "Vessel = pd.concat(df_list, ignore_index=True)\n",
    "print(\"Total Rows:\", Vessel.shape)\n",
    "\n",
    "# Remove duplicate vessel records after combining all the zones/years\n",
    "Vessel.drop_duplicates(inplace=True)\n",
    "\n",
    "print(\"Non-Dup Total Rows:\", Vessel.shape)\n",
    "# Vessel.reset_index(inplace=True)"
   ]
  },
  {
   "cell_type": "code",
   "execution_count": 159,
   "metadata": {},
   "outputs": [
    {
     "data": {
      "text/plain": [
       "(823, 7)"
      ]
     },
     "execution_count": 159,
     "metadata": {},
     "output_type": "execute_result"
    }
   ],
   "source": [
    "Vessel.shape"
   ]
  },
  {
   "cell_type": "code",
   "execution_count": 160,
   "metadata": {},
   "outputs": [
    {
     "data": {
      "text/html": [
       "<div>\n",
       "<style scoped>\n",
       "    .dataframe tbody tr th:only-of-type {\n",
       "        vertical-align: middle;\n",
       "    }\n",
       "\n",
       "    .dataframe tbody tr th {\n",
       "        vertical-align: top;\n",
       "    }\n",
       "\n",
       "    .dataframe thead th {\n",
       "        text-align: right;\n",
       "    }\n",
       "</style>\n",
       "<table border=\"1\" class=\"dataframe\">\n",
       "  <thead>\n",
       "    <tr style=\"text-align: right;\">\n",
       "      <th></th>\n",
       "      <th>mmsi_id</th>\n",
       "      <th>imo</th>\n",
       "      <th>call_sign</th>\n",
       "      <th>vessel_name</th>\n",
       "      <th>vessel_type</th>\n",
       "      <th>length</th>\n",
       "      <th>width</th>\n",
       "    </tr>\n",
       "  </thead>\n",
       "  <tbody>\n",
       "    <tr>\n",
       "      <td>0</td>\n",
       "      <td>564294000</td>\n",
       "      <td>IMO9736963</td>\n",
       "      <td>9V2597</td>\n",
       "      <td>PEGASUS OCEAN</td>\n",
       "      <td>1004.0</td>\n",
       "      <td>174.53</td>\n",
       "      <td>NaN</td>\n",
       "    </tr>\n",
       "    <tr>\n",
       "      <td>1</td>\n",
       "      <td>367373760</td>\n",
       "      <td>IMO7915905</td>\n",
       "      <td>WDE5954</td>\n",
       "      <td>NORTH SEA</td>\n",
       "      <td>1001.0</td>\n",
       "      <td>37.32</td>\n",
       "      <td>9.56</td>\n",
       "    </tr>\n",
       "    <tr>\n",
       "      <td>2</td>\n",
       "      <td>367094420</td>\n",
       "      <td>IMO7926605</td>\n",
       "      <td>WDC8874</td>\n",
       "      <td>ARCTIC MARINER</td>\n",
       "      <td>1001.0</td>\n",
       "      <td>31.00</td>\n",
       "      <td>9.28</td>\n",
       "    </tr>\n",
       "    <tr>\n",
       "      <td>3</td>\n",
       "      <td>373073000</td>\n",
       "      <td>IMO9605097</td>\n",
       "      <td>3FGE2</td>\n",
       "      <td>PACIFIC CYPRESS</td>\n",
       "      <td>1004.0</td>\n",
       "      <td>179.98</td>\n",
       "      <td>29.80</td>\n",
       "    </tr>\n",
       "    <tr>\n",
       "      <td>4</td>\n",
       "      <td>367124050</td>\n",
       "      <td>IMO7609295</td>\n",
       "      <td>WDA6405</td>\n",
       "      <td>CASCADE MARINER</td>\n",
       "      <td>1001.0</td>\n",
       "      <td>25.06</td>\n",
       "      <td>7.32</td>\n",
       "    </tr>\n",
       "  </tbody>\n",
       "</table>\n",
       "</div>"
      ],
      "text/plain": [
       "     mmsi_id         imo call_sign      vessel_name  vessel_type  length  \\\n",
       "0  564294000  IMO9736963    9V2597    PEGASUS OCEAN       1004.0  174.53   \n",
       "1  367373760  IMO7915905   WDE5954        NORTH SEA       1001.0   37.32   \n",
       "2  367094420  IMO7926605   WDC8874   ARCTIC MARINER       1001.0   31.00   \n",
       "3  373073000  IMO9605097     3FGE2  PACIFIC CYPRESS       1004.0  179.98   \n",
       "4  367124050  IMO7609295   WDA6405  CASCADE MARINER       1001.0   25.06   \n",
       "\n",
       "   width  \n",
       "0    NaN  \n",
       "1   9.56  \n",
       "2   9.28  \n",
       "3  29.80  \n",
       "4   7.32  "
      ]
     },
     "execution_count": 160,
     "metadata": {},
     "output_type": "execute_result"
    }
   ],
   "source": [
    "Vessel.head()"
   ]
  },
  {
   "cell_type": "code",
   "execution_count": 161,
   "metadata": {},
   "outputs": [
    {
     "data": {
      "text/html": [
       "<div>\n",
       "<style scoped>\n",
       "    .dataframe tbody tr th:only-of-type {\n",
       "        vertical-align: middle;\n",
       "    }\n",
       "\n",
       "    .dataframe tbody tr th {\n",
       "        vertical-align: top;\n",
       "    }\n",
       "\n",
       "    .dataframe thead th {\n",
       "        text-align: right;\n",
       "    }\n",
       "</style>\n",
       "<table border=\"1\" class=\"dataframe\">\n",
       "  <thead>\n",
       "    <tr style=\"text-align: right;\">\n",
       "      <th></th>\n",
       "      <th>mmsi_id</th>\n",
       "      <th>imo</th>\n",
       "      <th>call_sign</th>\n",
       "      <th>vessel_name</th>\n",
       "      <th>vessel_type</th>\n",
       "      <th>length</th>\n",
       "      <th>width</th>\n",
       "    </tr>\n",
       "  </thead>\n",
       "  <tbody>\n",
       "    <tr>\n",
       "      <td>818</td>\n",
       "      <td>356839000</td>\n",
       "      <td>IMO9514389</td>\n",
       "      <td>3EVW8</td>\n",
       "      <td>MEDI OKINAWA</td>\n",
       "      <td>1004.0</td>\n",
       "      <td>189.98</td>\n",
       "      <td>32.25</td>\n",
       "    </tr>\n",
       "    <tr>\n",
       "      <td>819</td>\n",
       "      <td>371449000</td>\n",
       "      <td>IMO9416977</td>\n",
       "      <td>3FNL8</td>\n",
       "      <td>NYK RIGEL</td>\n",
       "      <td>1004.0</td>\n",
       "      <td>294.10</td>\n",
       "      <td>32.20</td>\n",
       "    </tr>\n",
       "    <tr>\n",
       "      <td>820</td>\n",
       "      <td>566662000</td>\n",
       "      <td>IMO9603439</td>\n",
       "      <td>9V9450</td>\n",
       "      <td>CAPE AZALEA</td>\n",
       "      <td>1004.0</td>\n",
       "      <td>300.00</td>\n",
       "      <td>50.00</td>\n",
       "    </tr>\n",
       "    <tr>\n",
       "      <td>821</td>\n",
       "      <td>311000317</td>\n",
       "      <td>IMO9700299</td>\n",
       "      <td>C6BO3</td>\n",
       "      <td>AFRICAN ROOK</td>\n",
       "      <td>1004.0</td>\n",
       "      <td>183.00</td>\n",
       "      <td>30.60</td>\n",
       "    </tr>\n",
       "    <tr>\n",
       "      <td>822</td>\n",
       "      <td>477464500</td>\n",
       "      <td>IMO9484352</td>\n",
       "      <td>VRKX9</td>\n",
       "      <td>COSCO JEDDAH</td>\n",
       "      <td>1004.0</td>\n",
       "      <td>261.10</td>\n",
       "      <td>32.25</td>\n",
       "    </tr>\n",
       "  </tbody>\n",
       "</table>\n",
       "</div>"
      ],
      "text/plain": [
       "       mmsi_id         imo call_sign   vessel_name  vessel_type  length  width\n",
       "818  356839000  IMO9514389     3EVW8  MEDI OKINAWA       1004.0  189.98  32.25\n",
       "819  371449000  IMO9416977     3FNL8     NYK RIGEL       1004.0  294.10  32.20\n",
       "820  566662000  IMO9603439    9V9450   CAPE AZALEA       1004.0  300.00  50.00\n",
       "821  311000317  IMO9700299     C6BO3  AFRICAN ROOK       1004.0  183.00  30.60\n",
       "822  477464500  IMO9484352     VRKX9  COSCO JEDDAH       1004.0  261.10  32.25"
      ]
     },
     "execution_count": 161,
     "metadata": {},
     "output_type": "execute_result"
    }
   ],
   "source": [
    "Vessel.tail()"
   ]
  },
  {
   "cell_type": "markdown",
   "metadata": {},
   "source": [
    "### Validate MMSI Id"
   ]
  },
  {
   "cell_type": "code",
   "execution_count": 162,
   "metadata": {},
   "outputs": [
    {
     "data": {
      "text/html": [
       "<div>\n",
       "<style scoped>\n",
       "    .dataframe tbody tr th:only-of-type {\n",
       "        vertical-align: middle;\n",
       "    }\n",
       "\n",
       "    .dataframe tbody tr th {\n",
       "        vertical-align: top;\n",
       "    }\n",
       "\n",
       "    .dataframe thead th {\n",
       "        text-align: right;\n",
       "    }\n",
       "</style>\n",
       "<table border=\"1\" class=\"dataframe\">\n",
       "  <thead>\n",
       "    <tr style=\"text-align: right;\">\n",
       "      <th></th>\n",
       "      <th>mmsi_id</th>\n",
       "      <th>imo</th>\n",
       "      <th>call_sign</th>\n",
       "      <th>vessel_name</th>\n",
       "      <th>vessel_type</th>\n",
       "      <th>length</th>\n",
       "      <th>width</th>\n",
       "    </tr>\n",
       "  </thead>\n",
       "  <tbody>\n",
       "    <tr>\n",
       "      <td>0</td>\n",
       "      <td>564294000</td>\n",
       "      <td>IMO9736963</td>\n",
       "      <td>9V2597</td>\n",
       "      <td>PEGASUS OCEAN</td>\n",
       "      <td>1004.0</td>\n",
       "      <td>174.53</td>\n",
       "      <td>NaN</td>\n",
       "    </tr>\n",
       "    <tr>\n",
       "      <td>1</td>\n",
       "      <td>367373760</td>\n",
       "      <td>IMO7915905</td>\n",
       "      <td>WDE5954</td>\n",
       "      <td>NORTH SEA</td>\n",
       "      <td>1001.0</td>\n",
       "      <td>37.32</td>\n",
       "      <td>9.56</td>\n",
       "    </tr>\n",
       "    <tr>\n",
       "      <td>2</td>\n",
       "      <td>367094420</td>\n",
       "      <td>IMO7926605</td>\n",
       "      <td>WDC8874</td>\n",
       "      <td>ARCTIC MARINER</td>\n",
       "      <td>1001.0</td>\n",
       "      <td>31.00</td>\n",
       "      <td>9.28</td>\n",
       "    </tr>\n",
       "    <tr>\n",
       "      <td>3</td>\n",
       "      <td>373073000</td>\n",
       "      <td>IMO9605097</td>\n",
       "      <td>3FGE2</td>\n",
       "      <td>PACIFIC CYPRESS</td>\n",
       "      <td>1004.0</td>\n",
       "      <td>179.98</td>\n",
       "      <td>29.80</td>\n",
       "    </tr>\n",
       "    <tr>\n",
       "      <td>4</td>\n",
       "      <td>367124050</td>\n",
       "      <td>IMO7609295</td>\n",
       "      <td>WDA6405</td>\n",
       "      <td>CASCADE MARINER</td>\n",
       "      <td>1001.0</td>\n",
       "      <td>25.06</td>\n",
       "      <td>7.32</td>\n",
       "    </tr>\n",
       "  </tbody>\n",
       "</table>\n",
       "</div>"
      ],
      "text/plain": [
       "     mmsi_id         imo call_sign      vessel_name  vessel_type  length  \\\n",
       "0  564294000  IMO9736963    9V2597    PEGASUS OCEAN       1004.0  174.53   \n",
       "1  367373760  IMO7915905   WDE5954        NORTH SEA       1001.0   37.32   \n",
       "2  367094420  IMO7926605   WDC8874   ARCTIC MARINER       1001.0   31.00   \n",
       "3  373073000  IMO9605097     3FGE2  PACIFIC CYPRESS       1004.0  179.98   \n",
       "4  367124050  IMO7609295   WDA6405  CASCADE MARINER       1001.0   25.06   \n",
       "\n",
       "   width  \n",
       "0    NaN  \n",
       "1   9.56  \n",
       "2   9.28  \n",
       "3  29.80  \n",
       "4   7.32  "
      ]
     },
     "execution_count": 162,
     "metadata": {},
     "output_type": "execute_result"
    }
   ],
   "source": [
    "# Cast MMSI Id field to string\n",
    "Vessel['TempId'] = Vessel['mmsi_id'].map(lambda x: str(x))\n",
    "# Fetch the field lengh (number of digits)\n",
    "Vessel['Id_len'] = Vessel['TempId'].map(lambda x: len(x))\n",
    "# Fetch starting digit \n",
    "Vessel['StartDigit'] = Vessel['TempId'].map(lambda x: int(x[0]))\n",
    "\n",
    "df.head()"
   ]
  },
  {
   "cell_type": "code",
   "execution_count": null,
   "metadata": {},
   "outputs": [],
   "source": []
  },
  {
   "cell_type": "code",
   "execution_count": 163,
   "metadata": {},
   "outputs": [
    {
     "data": {
      "text/html": [
       "<div>\n",
       "<style scoped>\n",
       "    .dataframe tbody tr th:only-of-type {\n",
       "        vertical-align: middle;\n",
       "    }\n",
       "\n",
       "    .dataframe tbody tr th {\n",
       "        vertical-align: top;\n",
       "    }\n",
       "\n",
       "    .dataframe thead th {\n",
       "        text-align: right;\n",
       "    }\n",
       "</style>\n",
       "<table border=\"1\" class=\"dataframe\">\n",
       "  <thead>\n",
       "    <tr style=\"text-align: right;\">\n",
       "      <th></th>\n",
       "      <th>mmsi_id</th>\n",
       "      <th>imo</th>\n",
       "      <th>call_sign</th>\n",
       "      <th>vessel_name</th>\n",
       "      <th>vessel_type</th>\n",
       "      <th>length</th>\n",
       "      <th>width</th>\n",
       "      <th>TempId</th>\n",
       "      <th>Id_len</th>\n",
       "      <th>StartDigit</th>\n",
       "    </tr>\n",
       "  </thead>\n",
       "  <tbody>\n",
       "    <tr>\n",
       "      <td>266</td>\n",
       "      <td>43676060</td>\n",
       "      <td>IMO0964016</td>\n",
       "      <td>WCD8162</td>\n",
       "      <td>SILVER SPRAY</td>\n",
       "      <td>30.0</td>\n",
       "      <td>32.0</td>\n",
       "      <td>9.0</td>\n",
       "      <td>43676060</td>\n",
       "      <td>8</td>\n",
       "      <td>4</td>\n",
       "    </tr>\n",
       "  </tbody>\n",
       "</table>\n",
       "</div>"
      ],
      "text/plain": [
       "      mmsi_id         imo call_sign   vessel_name  vessel_type  length  width  \\\n",
       "266  43676060  IMO0964016   WCD8162  SILVER SPRAY         30.0    32.0    9.0   \n",
       "\n",
       "       TempId  Id_len  StartDigit  \n",
       "266  43676060       8           4  "
      ]
     },
     "execution_count": 163,
     "metadata": {},
     "output_type": "execute_result"
    }
   ],
   "source": [
    "# MMSI Id NOT 9 digits\n",
    "Vessel.loc[Vessel['Id_len'] != 9].head()"
   ]
  },
  {
   "cell_type": "code",
   "execution_count": 164,
   "metadata": {},
   "outputs": [
    {
     "name": "stdout",
     "output_type": "stream",
     "text": [
      "Remaining Rows: (822, 10)\n"
     ]
    }
   ],
   "source": [
    "# Purge - MMSI Id NOT 9 digits\n",
    "Vessel = Vessel.loc[Vessel['Id_len'] == 9]\n",
    "print(\"Remaining Rows:\", Vessel.shape)"
   ]
  },
  {
   "cell_type": "code",
   "execution_count": 165,
   "metadata": {},
   "outputs": [
    {
     "data": {
      "text/html": [
       "<div>\n",
       "<style scoped>\n",
       "    .dataframe tbody tr th:only-of-type {\n",
       "        vertical-align: middle;\n",
       "    }\n",
       "\n",
       "    .dataframe tbody tr th {\n",
       "        vertical-align: top;\n",
       "    }\n",
       "\n",
       "    .dataframe thead th {\n",
       "        text-align: right;\n",
       "    }\n",
       "</style>\n",
       "<table border=\"1\" class=\"dataframe\">\n",
       "  <thead>\n",
       "    <tr style=\"text-align: right;\">\n",
       "      <th></th>\n",
       "      <th>mmsi_id</th>\n",
       "      <th>imo</th>\n",
       "      <th>call_sign</th>\n",
       "      <th>vessel_name</th>\n",
       "      <th>vessel_type</th>\n",
       "      <th>length</th>\n",
       "      <th>width</th>\n",
       "      <th>TempId</th>\n",
       "      <th>Id_len</th>\n",
       "      <th>StartDigit</th>\n",
       "    </tr>\n",
       "  </thead>\n",
       "  <tbody>\n",
       "    <tr>\n",
       "      <td>294</td>\n",
       "      <td>970112626</td>\n",
       "      <td>NaN</td>\n",
       "      <td>NaN</td>\n",
       "      <td>NaN</td>\n",
       "      <td>NaN</td>\n",
       "      <td>NaN</td>\n",
       "      <td>NaN</td>\n",
       "      <td>970112626</td>\n",
       "      <td>9</td>\n",
       "      <td>9</td>\n",
       "    </tr>\n",
       "    <tr>\n",
       "      <td>344</td>\n",
       "      <td>969929628</td>\n",
       "      <td>NaN</td>\n",
       "      <td>NaN</td>\n",
       "      <td>NaN</td>\n",
       "      <td>NaN</td>\n",
       "      <td>NaN</td>\n",
       "      <td>NaN</td>\n",
       "      <td>969929628</td>\n",
       "      <td>9</td>\n",
       "      <td>9</td>\n",
       "    </tr>\n",
       "    <tr>\n",
       "      <td>360</td>\n",
       "      <td>940138442</td>\n",
       "      <td>NaN</td>\n",
       "      <td>NaN</td>\n",
       "      <td>NaN</td>\n",
       "      <td>NaN</td>\n",
       "      <td>NaN</td>\n",
       "      <td>NaN</td>\n",
       "      <td>940138442</td>\n",
       "      <td>9</td>\n",
       "      <td>9</td>\n",
       "    </tr>\n",
       "  </tbody>\n",
       "</table>\n",
       "</div>"
      ],
      "text/plain": [
       "       mmsi_id  imo call_sign vessel_name  vessel_type  length  width  \\\n",
       "294  970112626  NaN       NaN         NaN          NaN     NaN    NaN   \n",
       "344  969929628  NaN       NaN         NaN          NaN     NaN    NaN   \n",
       "360  940138442  NaN       NaN         NaN          NaN     NaN    NaN   \n",
       "\n",
       "        TempId  Id_len  StartDigit  \n",
       "294  970112626       9           9  \n",
       "344  969929628       9           9  \n",
       "360  940138442       9           9  "
      ]
     },
     "execution_count": 165,
     "metadata": {},
     "output_type": "execute_result"
    }
   ],
   "source": [
    "# MMSI Id starting digit NOT from 2 to 7\n",
    "Vessel.loc[(Vessel['StartDigit'] < 2) | (Vessel['StartDigit'] > 7)].head()"
   ]
  },
  {
   "cell_type": "code",
   "execution_count": 166,
   "metadata": {},
   "outputs": [
    {
     "name": "stdout",
     "output_type": "stream",
     "text": [
      "Remaining Rows: (819, 10)\n"
     ]
    }
   ],
   "source": [
    "# Purge - MMSI Id starting digit NOT from 2 to 7\n",
    "Vessel = Vessel.loc[(Vessel['StartDigit'] > 1) & (Vessel['StartDigit'] < 8)]\n",
    "print(\"Remaining Rows:\", Vessel.shape)"
   ]
  },
  {
   "cell_type": "code",
   "execution_count": 167,
   "metadata": {},
   "outputs": [
    {
     "data": {
      "text/html": [
       "<div>\n",
       "<style scoped>\n",
       "    .dataframe tbody tr th:only-of-type {\n",
       "        vertical-align: middle;\n",
       "    }\n",
       "\n",
       "    .dataframe tbody tr th {\n",
       "        vertical-align: top;\n",
       "    }\n",
       "\n",
       "    .dataframe thead th {\n",
       "        text-align: right;\n",
       "    }\n",
       "</style>\n",
       "<table border=\"1\" class=\"dataframe\">\n",
       "  <thead>\n",
       "    <tr style=\"text-align: right;\">\n",
       "      <th></th>\n",
       "      <th>mmsi_id</th>\n",
       "      <th>counts</th>\n",
       "    </tr>\n",
       "  </thead>\n",
       "  <tbody>\n",
       "    <tr>\n",
       "      <td>0</td>\n",
       "      <td>205700000</td>\n",
       "      <td>1</td>\n",
       "    </tr>\n",
       "    <tr>\n",
       "      <td>550</td>\n",
       "      <td>372399000</td>\n",
       "      <td>1</td>\n",
       "    </tr>\n",
       "    <tr>\n",
       "      <td>540</td>\n",
       "      <td>372008000</td>\n",
       "      <td>1</td>\n",
       "    </tr>\n",
       "    <tr>\n",
       "      <td>541</td>\n",
       "      <td>372031000</td>\n",
       "      <td>1</td>\n",
       "    </tr>\n",
       "    <tr>\n",
       "      <td>542</td>\n",
       "      <td>372191000</td>\n",
       "      <td>1</td>\n",
       "    </tr>\n",
       "  </tbody>\n",
       "</table>\n",
       "</div>"
      ],
      "text/plain": [
       "       mmsi_id  counts\n",
       "0    205700000       1\n",
       "550  372399000       1\n",
       "540  372008000       1\n",
       "541  372031000       1\n",
       "542  372191000       1"
      ]
     },
     "execution_count": 167,
     "metadata": {},
     "output_type": "execute_result"
    }
   ],
   "source": [
    "# Duplicate MMSI Id\n",
    "df = Vessel.groupby(['mmsi_id']).size().reset_index(name='counts')\n",
    "df.sort_values(by=['counts'], ascending=False).head()"
   ]
  },
  {
   "cell_type": "code",
   "execution_count": 168,
   "metadata": {},
   "outputs": [
    {
     "name": "stdout",
     "output_type": "stream",
     "text": [
      "Remaining Rows: (819, 2)\n"
     ]
    }
   ],
   "source": [
    "Vessel.drop_duplicates(\"mmsi_id\", inplace=True)\n",
    "print(\"Remaining Rows:\", df.shape)"
   ]
  },
  {
   "cell_type": "code",
   "execution_count": null,
   "metadata": {},
   "outputs": [],
   "source": []
  },
  {
   "cell_type": "code",
   "execution_count": null,
   "metadata": {},
   "outputs": [],
   "source": []
  },
  {
   "cell_type": "code",
   "execution_count": null,
   "metadata": {},
   "outputs": [],
   "source": []
  },
  {
   "cell_type": "code",
   "execution_count": null,
   "metadata": {},
   "outputs": [],
   "source": []
  },
  {
   "cell_type": "code",
   "execution_count": null,
   "metadata": {},
   "outputs": [],
   "source": []
  },
  {
   "cell_type": "code",
   "execution_count": 169,
   "metadata": {},
   "outputs": [
    {
     "data": {
      "text/html": [
       "<div>\n",
       "<style scoped>\n",
       "    .dataframe tbody tr th:only-of-type {\n",
       "        vertical-align: middle;\n",
       "    }\n",
       "\n",
       "    .dataframe tbody tr th {\n",
       "        vertical-align: top;\n",
       "    }\n",
       "\n",
       "    .dataframe thead th {\n",
       "        text-align: right;\n",
       "    }\n",
       "</style>\n",
       "<table border=\"1\" class=\"dataframe\">\n",
       "  <thead>\n",
       "    <tr style=\"text-align: right;\">\n",
       "      <th></th>\n",
       "      <th>mmsi_id</th>\n",
       "      <th>imo</th>\n",
       "      <th>call_sign</th>\n",
       "      <th>vessel_name</th>\n",
       "      <th>vessel_type</th>\n",
       "      <th>length</th>\n",
       "      <th>width</th>\n",
       "      <th>TempId</th>\n",
       "      <th>Id_len</th>\n",
       "      <th>StartDigit</th>\n",
       "    </tr>\n",
       "  </thead>\n",
       "  <tbody>\n",
       "    <tr>\n",
       "      <td>0</td>\n",
       "      <td>564294000</td>\n",
       "      <td>IMO9736963</td>\n",
       "      <td>9V2597</td>\n",
       "      <td>PEGASUS OCEAN</td>\n",
       "      <td>1004.0</td>\n",
       "      <td>174.53</td>\n",
       "      <td>NaN</td>\n",
       "      <td>564294000</td>\n",
       "      <td>9</td>\n",
       "      <td>5</td>\n",
       "    </tr>\n",
       "    <tr>\n",
       "      <td>1</td>\n",
       "      <td>367373760</td>\n",
       "      <td>IMO7915905</td>\n",
       "      <td>WDE5954</td>\n",
       "      <td>NORTH SEA</td>\n",
       "      <td>1001.0</td>\n",
       "      <td>37.32</td>\n",
       "      <td>9.56</td>\n",
       "      <td>367373760</td>\n",
       "      <td>9</td>\n",
       "      <td>3</td>\n",
       "    </tr>\n",
       "    <tr>\n",
       "      <td>2</td>\n",
       "      <td>367094420</td>\n",
       "      <td>IMO7926605</td>\n",
       "      <td>WDC8874</td>\n",
       "      <td>ARCTIC MARINER</td>\n",
       "      <td>1001.0</td>\n",
       "      <td>31.00</td>\n",
       "      <td>9.28</td>\n",
       "      <td>367094420</td>\n",
       "      <td>9</td>\n",
       "      <td>3</td>\n",
       "    </tr>\n",
       "    <tr>\n",
       "      <td>3</td>\n",
       "      <td>373073000</td>\n",
       "      <td>IMO9605097</td>\n",
       "      <td>3FGE2</td>\n",
       "      <td>PACIFIC CYPRESS</td>\n",
       "      <td>1004.0</td>\n",
       "      <td>179.98</td>\n",
       "      <td>29.80</td>\n",
       "      <td>373073000</td>\n",
       "      <td>9</td>\n",
       "      <td>3</td>\n",
       "    </tr>\n",
       "    <tr>\n",
       "      <td>4</td>\n",
       "      <td>367124050</td>\n",
       "      <td>IMO7609295</td>\n",
       "      <td>WDA6405</td>\n",
       "      <td>CASCADE MARINER</td>\n",
       "      <td>1001.0</td>\n",
       "      <td>25.06</td>\n",
       "      <td>7.32</td>\n",
       "      <td>367124050</td>\n",
       "      <td>9</td>\n",
       "      <td>3</td>\n",
       "    </tr>\n",
       "  </tbody>\n",
       "</table>\n",
       "</div>"
      ],
      "text/plain": [
       "     mmsi_id         imo call_sign      vessel_name  vessel_type  length  \\\n",
       "0  564294000  IMO9736963    9V2597    PEGASUS OCEAN       1004.0  174.53   \n",
       "1  367373760  IMO7915905   WDE5954        NORTH SEA       1001.0   37.32   \n",
       "2  367094420  IMO7926605   WDC8874   ARCTIC MARINER       1001.0   31.00   \n",
       "3  373073000  IMO9605097     3FGE2  PACIFIC CYPRESS       1004.0  179.98   \n",
       "4  367124050  IMO7609295   WDA6405  CASCADE MARINER       1001.0   25.06   \n",
       "\n",
       "   width     TempId  Id_len  StartDigit  \n",
       "0    NaN  564294000       9           5  \n",
       "1   9.56  367373760       9           3  \n",
       "2   9.28  367094420       9           3  \n",
       "3  29.80  373073000       9           3  \n",
       "4   7.32  367124050       9           3  "
      ]
     },
     "execution_count": 169,
     "metadata": {},
     "output_type": "execute_result"
    }
   ],
   "source": [
    "Vessel.head()"
   ]
  },
  {
   "cell_type": "code",
   "execution_count": null,
   "metadata": {},
   "outputs": [],
   "source": []
  },
  {
   "cell_type": "code",
   "execution_count": 116,
   "metadata": {},
   "outputs": [],
   "source": [
    "# Save to file\n",
    "Vessel.to_csv(OutputDir + \"All_Vessels.csv\", index=False)"
   ]
  },
  {
   "cell_type": "code",
   "execution_count": null,
   "metadata": {},
   "outputs": [],
   "source": []
  },
  {
   "cell_type": "markdown",
   "metadata": {},
   "source": [
    "### Validate Broadcast Data\n",
    "* pip install shapely\n",
    "* pip install geopandas\n",
    "* pip install descartes"
   ]
  },
  {
   "cell_type": "code",
   "execution_count": 183,
   "metadata": {},
   "outputs": [],
   "source": [
    "from shapely.geometry import Point\n",
    "import geopandas as gpd\n",
    "from geopandas import GeoDataFrame"
   ]
  },
  {
   "cell_type": "code",
   "execution_count": 184,
   "metadata": {},
   "outputs": [
    {
     "name": "stdout",
     "output_type": "stream",
     "text": [
      "/Users/cv0361/Desktop/TechChallenge/Data/csv/AIS_Processed/Zone03_2017_01/\n",
      "Rows: 2914245\n",
      "Total Rows: (2914245, 9)\n",
      "Non-Dup Total Rows: (2914185, 9)\n"
     ]
    }
   ],
   "source": [
    "# Combining all Vessels Data\n",
    "df_list = list()\n",
    "\n",
    "for folder in glob(WorkingFolder + \"*/\"):\n",
    "    \n",
    "    #******** Temp hack\n",
    "    folder = \"/Users/cv0361/Desktop/TechChallenge/Data/csv/AIS_Processed/Zone03_2017_01/\"\n",
    "    #************\n",
    "    \n",
    "    print(folder)\n",
    "    df = pd.read_csv(folder + \"Broadcast.csv\", sep=\",\")\n",
    "    \n",
    "    print(\"Rows:\", len(df))\n",
    "    \n",
    "    df_list.append(df)\n",
    "    \n",
    "    break\n",
    "    \n",
    "Broadcast = pd.concat(df_list, ignore_index=True)\n",
    "print(\"Total Rows:\", Broadcast.shape)\n",
    "\n",
    "# Remove duplicate vessel records after combining all the zones/years\n",
    "Broadcast.drop_duplicates(inplace=True)\n",
    "\n",
    "print(\"Non-Dup Total Rows:\", Broadcast.shape)\n",
    "# Vessel.reset_index(inplace=True)"
   ]
  },
  {
   "cell_type": "code",
   "execution_count": 185,
   "metadata": {},
   "outputs": [
    {
     "data": {
      "text/html": [
       "<div>\n",
       "<style scoped>\n",
       "    .dataframe tbody tr th:only-of-type {\n",
       "        vertical-align: middle;\n",
       "    }\n",
       "\n",
       "    .dataframe tbody tr th {\n",
       "        vertical-align: top;\n",
       "    }\n",
       "\n",
       "    .dataframe thead th {\n",
       "        text-align: right;\n",
       "    }\n",
       "</style>\n",
       "<table border=\"1\" class=\"dataframe\">\n",
       "  <thead>\n",
       "    <tr style=\"text-align: right;\">\n",
       "      <th></th>\n",
       "      <th>mmsi_id</th>\n",
       "      <th>date_time</th>\n",
       "      <th>lat</th>\n",
       "      <th>lon</th>\n",
       "      <th>speed_over_ground</th>\n",
       "      <th>course_over_ground</th>\n",
       "      <th>voyage_id</th>\n",
       "      <th>heading</th>\n",
       "      <th>status</th>\n",
       "    </tr>\n",
       "  </thead>\n",
       "  <tbody>\n",
       "    <tr>\n",
       "      <td>0</td>\n",
       "      <td>564294000</td>\n",
       "      <td>2017-01-01T00:00:00</td>\n",
       "      <td>54.47611</td>\n",
       "      <td>-167.27802</td>\n",
       "      <td>10.1</td>\n",
       "      <td>-130.7</td>\n",
       "      <td>NaN</td>\n",
       "      <td>274.0</td>\n",
       "      <td>under way using engine</td>\n",
       "    </tr>\n",
       "    <tr>\n",
       "      <td>1</td>\n",
       "      <td>564294000</td>\n",
       "      <td>2017-01-01T00:02:10</td>\n",
       "      <td>54.47709</td>\n",
       "      <td>-167.28815</td>\n",
       "      <td>10.0</td>\n",
       "      <td>-132.3</td>\n",
       "      <td>NaN</td>\n",
       "      <td>273.0</td>\n",
       "      <td>under way using engine</td>\n",
       "    </tr>\n",
       "    <tr>\n",
       "      <td>2</td>\n",
       "      <td>367373760</td>\n",
       "      <td>2017-01-01T00:03:41</td>\n",
       "      <td>53.87792</td>\n",
       "      <td>-166.54954</td>\n",
       "      <td>0.0</td>\n",
       "      <td>-104.7</td>\n",
       "      <td>NaN</td>\n",
       "      <td>324.0</td>\n",
       "      <td>undefined</td>\n",
       "    </tr>\n",
       "    <tr>\n",
       "      <td>3</td>\n",
       "      <td>367094420</td>\n",
       "      <td>2017-01-01T00:04:44</td>\n",
       "      <td>53.87947</td>\n",
       "      <td>-166.54099</td>\n",
       "      <td>0.0</td>\n",
       "      <td>-126.7</td>\n",
       "      <td>NaN</td>\n",
       "      <td>511.0</td>\n",
       "      <td>under way using engine</td>\n",
       "    </tr>\n",
       "    <tr>\n",
       "      <td>4</td>\n",
       "      <td>564294000</td>\n",
       "      <td>2017-01-01T00:06:50</td>\n",
       "      <td>54.47952</td>\n",
       "      <td>-167.30954</td>\n",
       "      <td>9.4</td>\n",
       "      <td>-124.5</td>\n",
       "      <td>NaN</td>\n",
       "      <td>276.0</td>\n",
       "      <td>under way using engine</td>\n",
       "    </tr>\n",
       "  </tbody>\n",
       "</table>\n",
       "</div>"
      ],
      "text/plain": [
       "     mmsi_id            date_time       lat        lon  speed_over_ground  \\\n",
       "0  564294000  2017-01-01T00:00:00  54.47611 -167.27802               10.1   \n",
       "1  564294000  2017-01-01T00:02:10  54.47709 -167.28815               10.0   \n",
       "2  367373760  2017-01-01T00:03:41  53.87792 -166.54954                0.0   \n",
       "3  367094420  2017-01-01T00:04:44  53.87947 -166.54099                0.0   \n",
       "4  564294000  2017-01-01T00:06:50  54.47952 -167.30954                9.4   \n",
       "\n",
       "   course_over_ground  voyage_id  heading                  status  \n",
       "0              -130.7        NaN    274.0  under way using engine  \n",
       "1              -132.3        NaN    273.0  under way using engine  \n",
       "2              -104.7        NaN    324.0               undefined  \n",
       "3              -126.7        NaN    511.0  under way using engine  \n",
       "4              -124.5        NaN    276.0  under way using engine  "
      ]
     },
     "execution_count": 185,
     "metadata": {},
     "output_type": "execute_result"
    }
   ],
   "source": [
    "Broadcast.head()"
   ]
  },
  {
   "cell_type": "code",
   "execution_count": 177,
   "metadata": {},
   "outputs": [],
   "source": [
    "data_array = list()\n",
    "data_array.append([0.08333, -166.51243])\n",
    "data_array.append([76.36149, -164.98121])\n",
    "data_array.append([54.44805, -167.99986])\n",
    "data_array.append([53.85742, -162.00005])"
   ]
  },
  {
   "cell_type": "code",
   "execution_count": null,
   "metadata": {},
   "outputs": [],
   "source": []
  },
  {
   "cell_type": "code",
   "execution_count": null,
   "metadata": {},
   "outputs": [],
   "source": []
  },
  {
   "cell_type": "code",
   "execution_count": 178,
   "metadata": {},
   "outputs": [
    {
     "data": {
      "text/html": [
       "<div>\n",
       "<style scoped>\n",
       "    .dataframe tbody tr th:only-of-type {\n",
       "        vertical-align: middle;\n",
       "    }\n",
       "\n",
       "    .dataframe tbody tr th {\n",
       "        vertical-align: top;\n",
       "    }\n",
       "\n",
       "    .dataframe thead th {\n",
       "        text-align: right;\n",
       "    }\n",
       "</style>\n",
       "<table border=\"1\" class=\"dataframe\">\n",
       "  <thead>\n",
       "    <tr style=\"text-align: right;\">\n",
       "      <th></th>\n",
       "      <th>Latitude</th>\n",
       "      <th>Longitude</th>\n",
       "    </tr>\n",
       "  </thead>\n",
       "  <tbody>\n",
       "    <tr>\n",
       "      <td>0</td>\n",
       "      <td>0.08333</td>\n",
       "      <td>-166.51243</td>\n",
       "    </tr>\n",
       "    <tr>\n",
       "      <td>1</td>\n",
       "      <td>76.36149</td>\n",
       "      <td>-164.98121</td>\n",
       "    </tr>\n",
       "    <tr>\n",
       "      <td>2</td>\n",
       "      <td>54.44805</td>\n",
       "      <td>-167.99986</td>\n",
       "    </tr>\n",
       "    <tr>\n",
       "      <td>3</td>\n",
       "      <td>53.85742</td>\n",
       "      <td>-162.00005</td>\n",
       "    </tr>\n",
       "  </tbody>\n",
       "</table>\n",
       "</div>"
      ],
      "text/plain": [
       "   Latitude  Longitude\n",
       "0   0.08333 -166.51243\n",
       "1  76.36149 -164.98121\n",
       "2  54.44805 -167.99986\n",
       "3  53.85742 -162.00005"
      ]
     },
     "execution_count": 178,
     "metadata": {},
     "output_type": "execute_result"
    }
   ],
   "source": [
    "df = pd.DataFrame(data_array, columns=['Latitude', 'Longitude'])\n",
    "df.head()"
   ]
  },
  {
   "cell_type": "code",
   "execution_count": 182,
   "metadata": {},
   "outputs": [
    {
     "data": {
      "image/png": "[encoded data removed]",
      "text/plain": [
       "<Figure size 720x432 with 1 Axes>"
      ]
     },
     "metadata": {
      "needs_background": "light"
     },
     "output_type": "display_data"
    }
   ],
   "source": [
    "# df = pd.read_csv(\"Long_Lats.csv\", delimiter=',', skiprows=0, low_memory=False)\n",
    "\n",
    "geometry = [Point(xy) for xy in zip(df['Longitude'], df['Latitude'])]\n",
    "gdf = GeoDataFrame(df, geometry=geometry)   \n",
    "\n",
    "#this is a simple map that goes with geopandas\n",
    "world = gpd.read_file(gpd.datasets.get_path('naturalearth_lowres'))\n",
    "gdf.plot(ax=world.plot(figsize=(10, 6)), marker='o', color='red', markersize=15);"
   ]
  },
  {
   "cell_type": "code",
   "execution_count": null,
   "metadata": {},
   "outputs": [],
   "source": []
  },
  {
   "cell_type": "code",
   "execution_count": null,
   "metadata": {},
   "outputs": [],
   "source": []
  },
  {
   "cell_type": "code",
   "execution_count": null,
   "metadata": {},
   "outputs": [],
   "source": []
  },
  {
   "cell_type": "markdown",
   "metadata": {},
   "source": [
    "### Validate Voyage Data?"
   ]
  },
  {
   "cell_type": "code",
   "execution_count": null,
   "metadata": {},
   "outputs": [],
   "source": []
  },
  {
   "cell_type": "code",
   "execution_count": null,
   "metadata": {},
   "outputs": [],
   "source": []
  },
  {
   "cell_type": "code",
   "execution_count": null,
   "metadata": {},
   "outputs": [],
   "source": []
  }
 ],
 "metadata": {
  "kernelspec": {
   "display_name": "Python 3",
   "language": "python",
   "name": "python3"
  },
  "language_info": {
   "codemirror_mode": {
    "name": "ipython",
    "version": 3
   },
   "file_extension": ".py",
   "mimetype": "text/x-python",
   "name": "python",
   "nbconvert_exporter": "python",
   "pygments_lexer": "ipython3",
   "version": "3.7.2"
  }
 },
 "nbformat": 4,
 "nbformat_minor": 4
}
