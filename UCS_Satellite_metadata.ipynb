{
 "cells": [
  {
   "cell_type": "markdown",
   "metadata": {},
   "source": [
    "Using data from [UCSUSA's satellite database](https://www.ucsusa.org/resources/satellite-database), specifically [UCS-Satellite-Database-8-1-2020.txt](https://www.ucsusa.org/sites/default/files/2020-10/UCS-Satellite-Database-8-1-2020.txt), to allow filtering of satellites for a subsequent hit detection stage."
   ]
  },
  {
   "cell_type": "code",
   "execution_count": null,
   "metadata": {},
   "outputs": [],
   "source": [
    "import pandas as pd\n",
    "df = pd.read_csv(\"metadata/UCS-Satellite-Database-8-1-2020.txt\", sep='\\t', encoding='L1', low_memory=False) \n",
    "df = df.dropna(axis='columns',how='all')\n",
    "df"
   ]
  },
  {
   "cell_type": "code",
   "execution_count": null,
   "metadata": {},
   "outputs": [],
   "source": [
    "df.info()"
   ]
  },
  {
   "cell_type": "markdown",
   "metadata": {},
   "source": [
    "The full list of satellites is unwieldy for selecting a single satellite, so first we'll group them into a few hundred shared prefixes, which for a constellation of objects like \"Amos 3, Amos 4, Amos 17\" would be the shared name \"Amos\"."
   ]
  },
  {
   "cell_type": "code",
   "execution_count": null,
   "metadata": {},
   "outputs": [],
   "source": [
    "satellites = list(df.iloc[:, 1].unique())\n",
    "satellites\n",
    "\n",
    "import re\n",
    "constellations = sorted(list(set([re.sub(r'[ -].*', '', str(s)) for s in satellites])))\n",
    "print(len(constellations), \", \".join(constellations))"
   ]
  },
  {
   "cell_type": "code",
   "execution_count": null,
   "metadata": {},
   "outputs": [],
   "source": [
    "import panel as pn, panel.widgets as pnw\n",
    "pn.extension()\n",
    "\n",
    "constellation = pnw.Select(options=constellations, name=\"Constellation\")\n",
    "constellation"
   ]
  },
  {
   "cell_type": "code",
   "execution_count": null,
   "metadata": {},
   "outputs": [],
   "source": [
    "satellite = pnw.Select(options=[s for s in satellites if re.match(constellation.value, str(s))], name=\"Satellite\")\n",
    "satellite"
   ]
  },
  {
   "cell_type": "markdown",
   "metadata": {},
   "source": [
    "# Sample of plotting some data from this file"
   ]
  },
  {
   "cell_type": "code",
   "execution_count": null,
   "metadata": {},
   "outputs": [],
   "source": [
    "float_fields = [\"Launch Mass (kg.)\", \"Dry Mass (kg.)\"] # etc.\n",
    "for f in float_fields:\n",
    "    df[f] = df[f].str.replace('[^0-9]','').astype(\"float\") # Needs more cleanup, e.g. for ranges 1000-2000"
   ]
  },
  {
   "cell_type": "code",
   "execution_count": null,
   "metadata": {},
   "outputs": [],
   "source": [
    "import holoviews as hv, holoviews.operation.datashader as hd\n",
    "hv.extension(\"bokeh\")\n",
    "mass_cols=[\"Launch Mass (kg.)\", \"Dry Mass (kg.)\"]\n",
    "pts = hv.Points(df[mass_cols], [hv.Dimension(\"Launch Mass (kg.)\", range=(0,5000)), \n",
    "                                hv.Dimension(\"Dry Mass (kg.)\",    range=(0,4000))]).opts(width=600)\n",
    "pts"
   ]
  },
  {
   "cell_type": "code",
   "execution_count": null,
   "metadata": {},
   "outputs": [],
   "source": [
    "pn.Row(constellation, hd.dynspread(hd.rasterize(pts)).opts(width=600)).servable()"
   ]
  }
 ],
 "metadata": {
  "language_info": {
   "name": "python",
   "pygments_lexer": "ipython3"
  }
 },
 "nbformat": 4,
 "nbformat_minor": 4
}
