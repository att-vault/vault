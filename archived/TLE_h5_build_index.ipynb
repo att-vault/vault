{
 "cells": [
  {
   "cell_type": "code",
   "execution_count": 1,
   "metadata": {},
   "outputs": [],
   "source": [
    "from tables import *\n",
    "from datetime import datetime, timedelta\n",
    "\n",
    "class TLE(IsDescription):\n",
    "    epoch     = Float64Col(pos=0)\n",
    "    norad_id  = Int64Col(pos=1)\n",
    "    line_one  = StringCol(80, pos=2)\n",
    "    line_two  = StringCol(80, pos=3)"
   ]
  },
  {
   "cell_type": "code",
   "execution_count": 3,
   "metadata": {},
   "outputs": [],
   "source": [
    "h5file = open_file('./data/Indexed_TLE/reduced.h5', mode=\"r\")"
   ]
  },
  {
   "cell_type": "code",
   "execution_count": 7,
   "metadata": {},
   "outputs": [
    {
     "data": {
      "text/plain": [
       "datetime.datetime(2017, 2, 14, 23, 59, 51, 786804)"
      ]
     },
     "execution_count": 7,
     "metadata": {},
     "output_type": "execute_result"
    }
   ],
   "source": [
    "datetime.utcfromtimestamp(h5file.root.tle_sorted.cols.epoch[-1])"
   ]
  },
  {
   "cell_type": "code",
   "execution_count": null,
   "metadata": {},
   "outputs": [],
   "source": [
    "h5file.root.readout.cols.norad_id.create_index()"
   ]
  },
  {
   "cell_type": "code",
   "execution_count": 15,
   "metadata": {},
   "outputs": [],
   "source": [
    "# Prune and sort to match the AIS data that we care about\n",
    "stripped = h5file.create_table(h5file.root, 'tle_boxed', TLE, \"TLE's stripped down to useful date ranges\")"
   ]
  },
  {
   "cell_type": "code",
   "execution_count": 21,
   "metadata": {},
   "outputs": [
    {
     "name": "stdout",
     "output_type": "stream",
     "text": [
      "Year 2009: records: 790839\n",
      "Year 2010: records: 860096\n",
      "Year 2011: records: 866673\n",
      "Year 2012: records: 896767\n",
      "Year 2013: records: 498829\n",
      "Year 2014: records: 517964\n",
      "Year 2015: records: 535551\n",
      "Year 2016: records: 1079155\n",
      "Year 2017: records: 1049756\n"
     ]
    }
   ],
   "source": [
    "# AIS Valid date ranges are:\n",
    "#2009 2008-12-31 23:58:59 2009-02-01 00:00:00\n",
    "#2010 2009-12-29 17:05:00 2010-02-01 01:11:00\n",
    "#2011 2010-12-31 23:58:59 2011-01-31 23:58:59\n",
    "#2012 2012-01-04 15:59:48 2012-02-01 00:00:03\n",
    "#2013 2012-12-31 23:59:58 2013-02-01 00:00:04\n",
    "#2014 2013-12-31 23:57:43 2014-02-01 00:00:05\n",
    "#2015 2015-01-01 00:00:02 2015-01-31 23:59:59\n",
    "#2016 2016-01-01 00:00:01 2016-01-31 23:59:59\n",
    "#2017 2017-01-01 00:00:00 2017-01-31 23:59:58\n",
    "\n",
    "tle_extra = timedelta(weeks=2)\n",
    "# We are going to assume we only need TLE's from Dec15 to Feb15\n",
    "for year in range(2009, 2018):\n",
    "    start_dt = datetime(year, 1, 1) - tle_extra\n",
    "    end_dt = datetime(year, 2, 1) + tle_extra\n",
    "    condition = \"(epoch>={}) & (epoch<={})\".format(start_dt.timestamp(), end_dt.timestamp())\n",
    "    appended = h5file.root.tle.append_where(stripped, condition=condition)\n",
    "    print(\"Year %i: records: %i\" % (year, appended))\n"
   ]
  },
  {
   "cell_type": "code",
   "execution_count": 22,
   "metadata": {},
   "outputs": [],
   "source": [
    "stripped.flush()"
   ]
  },
  {
   "cell_type": "code",
   "execution_count": null,
   "metadata": {},
   "outputs": [],
   "source": [
    "# Create a full index to make it possible to completely sort with copy operation"
   ]
  },
  {
   "cell_type": "code",
   "execution_count": 34,
   "metadata": {},
   "outputs": [
    {
     "data": {
      "text/plain": [
       "7095630"
      ]
     },
     "execution_count": 34,
     "metadata": {},
     "output_type": "execute_result"
    }
   ],
   "source": [
    "stripped.cols.epoch.create_index(kind=\"full\")"
   ]
  },
  {
   "cell_type": "code",
   "execution_count": 35,
   "metadata": {},
   "outputs": [
    {
     "data": {
      "text/plain": [
       "/tle_sorted (Table(7095630,)) \"TLE's stripped down to useful date ranges\"\n",
       "  description := {\n",
       "  \"epoch\": Float64Col(shape=(), dflt=0.0, pos=0),\n",
       "  \"norad_id\": Int64Col(shape=(), dflt=0, pos=1),\n",
       "  \"line_one\": StringCol(itemsize=80, shape=(), dflt=b'', pos=2),\n",
       "  \"line_two\": StringCol(itemsize=80, shape=(), dflt=b'', pos=3)}\n",
       "  byteorder := 'little'\n",
       "  chunkshape := (372,)"
      ]
     },
     "execution_count": 35,
     "metadata": {},
     "output_type": "execute_result"
    }
   ],
   "source": [
    "# Create a copy that is CSI on epoch, and also indexed on id\n",
    "stripped.copy(h5file.root, \"tle_sorted\", sortby=\"epoch\")"
   ]
  },
  {
   "cell_type": "code",
   "execution_count": null,
   "metadata": {},
   "outputs": [],
   "source": [
    "h5file.root.tle_sorted.cols.epoch.create_index()"
   ]
  },
  {
   "cell_type": "code",
   "execution_count": 40,
   "metadata": {},
   "outputs": [
    {
     "data": {
      "text/plain": [
       "7095630"
      ]
     },
     "execution_count": 40,
     "metadata": {},
     "output_type": "execute_result"
    }
   ],
   "source": [
    "h5file.root.tle_sorted.cols.norad_id.create_index()"
   ]
  },
  {
   "cell_type": "code",
   "execution_count": 41,
   "metadata": {},
   "outputs": [],
   "source": [
    "h5file.close()"
   ]
  },
  {
   "cell_type": "code",
   "execution_count": 46,
   "metadata": {},
   "outputs": [],
   "source": [
    "h5file = open_file(\"/mnt/disk100/persist_home/meawoppl/reexport.h5\", mode=\"r+\")"
   ]
  },
  {
   "cell_type": "code",
   "execution_count": null,
   "metadata": {},
   "outputs": [],
   "source": [
    "del h5file.root.tle"
   ]
  },
  {
   "cell_type": "code",
   "execution_count": 44,
   "metadata": {},
   "outputs": [],
   "source": [
    "h5file.root.tle_boxed._f_remove()"
   ]
  },
  {
   "cell_type": "code",
   "execution_count": 48,
   "metadata": {},
   "outputs": [],
   "source": [
    "h5file.close()"
   ]
  }
 ],
 "metadata": {
  "kernelspec": {
   "display_name": "Python 3",
   "language": "python",
   "name": "python3"
  },
  "language_info": {
   "codemirror_mode": {
    "name": "ipython",
    "version": 3
   },
   "file_extension": ".py",
   "mimetype": "text/x-python",
   "name": "python",
   "nbconvert_exporter": "python",
   "pygments_lexer": "ipython3",
   "version": "3.7.9"
  }
 },
 "nbformat": 4,
 "nbformat_minor": 4
}
