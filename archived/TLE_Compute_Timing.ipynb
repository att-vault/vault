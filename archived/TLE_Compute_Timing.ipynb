{
 "cells": [
  {
   "cell_type": "code",
   "execution_count": 23,
   "metadata": {},
   "outputs": [],
   "source": [
    "from tables import *\n",
    "h5file = open_file(\"data/satellite data/export_test.h5\", mode=\"r\", title=\"TLE Indexable Data\")\n"
   ]
  },
  {
   "cell_type": "code",
   "execution_count": 24,
   "metadata": {},
   "outputs": [
    {
     "data": {
      "text/plain": [
       "/readout (Table(124317972,)) 'Main Listing'\n",
       "  description := {\n",
       "  \"epoch\": Float64Col(shape=(), dflt=0.0, pos=0),\n",
       "  \"norad_id\": Int64Col(shape=(), dflt=0, pos=1),\n",
       "  \"line_one\": StringCol(itemsize=80, shape=(), dflt=b'', pos=2),\n",
       "  \"line_two\": StringCol(itemsize=80, shape=(), dflt=b'', pos=3)}\n",
       "  byteorder := 'little'\n",
       "  chunkshape := (372,)"
      ]
     },
     "execution_count": 24,
     "metadata": {},
     "output_type": "execute_result"
    }
   ],
   "source": [
    "h5file.root.readout"
   ]
  },
  {
   "cell_type": "code",
   "execution_count": 25,
   "metadata": {},
   "outputs": [],
   "source": [
    "import random\n",
    "import time\n",
    "\n",
    "def load_row():\n",
    "    nrows = h5file.root.readout.shape[0]\n",
    "    for i in range(100):\n",
    "        idx = random.randint(0, nrows)\n",
    "        h5file.root.readout[idx]"
   ]
  },
  {
   "cell_type": "code",
   "execution_count": 26,
   "metadata": {},
   "outputs": [
    {
     "name": "stdout",
     "output_type": "stream",
     "text": [
      "74.3 ms ± 1.7 ms per loop (mean ± std. dev. of 7 runs, 10 loops each)\n"
     ]
    }
   ],
   "source": [
    "timeit load_row()"
   ]
  },
  {
   "cell_type": "code",
   "execution_count": 27,
   "metadata": {},
   "outputs": [],
   "source": [
    "# Load time is _very_ fast. (~1ms per record)"
   ]
  },
  {
   "cell_type": "code",
   "execution_count": 28,
   "metadata": {},
   "outputs": [],
   "source": [
    "from skyfield.sgp4lib import EarthSatellite\n",
    "nrows = h5file.root.readout.shape[0]\n",
    "def get_random_tle():\n",
    "    idx = random.randint(0, nrows)\n",
    "    date, sat, tle1, tle2 = h5file.root.readout[idx]\n",
    "    return EarthSatellite(tle1.decode(), tle2.decode())"
   ]
  },
  {
   "cell_type": "code",
   "execution_count": 29,
   "metadata": {},
   "outputs": [
    {
     "name": "stdout",
     "output_type": "stream",
     "text": [
      "821 µs ± 19.8 µs per loop (mean ± std. dev. of 7 runs, 1000 loops each)\n"
     ]
    }
   ],
   "source": [
    "timeit get_random_tle()"
   ]
  },
  {
   "cell_type": "code",
   "execution_count": 30,
   "metadata": {},
   "outputs": [],
   "source": [
    "idx = random.randint(0, nrows)\n",
    "date, sat, tle1, tle2 = h5file.root.readout[-1]"
   ]
  },
  {
   "cell_type": "code",
   "execution_count": 31,
   "metadata": {},
   "outputs": [],
   "source": [
    "import numpy as np\n",
    "import datetime\n",
    "from skyfield import api\n",
    "ts = api.load.timescale()\n",
    "\n",
    "def one_day_of_tle_projection():\n",
    "    sat = get_random_tle()\n",
    "    jds = ts.tt_jd(np.linspace(sat.epoch.tt - 0.5, sat.epoch.tt +0.5, 24*60))\n",
    "    sat.at(jds)"
   ]
  },
  {
   "cell_type": "code",
   "execution_count": 32,
   "metadata": {},
   "outputs": [
    {
     "name": "stdout",
     "output_type": "stream",
     "text": [
      "226 ms ± 1.68 ms per loop (mean ± std. dev. of 7 runs, 1 loop each)\n"
     ]
    }
   ],
   "source": [
    "timeit one_day_of_tle_projection()"
   ]
  },
  {
   "cell_type": "code",
   "execution_count": 33,
   "metadata": {},
   "outputs": [],
   "source": [
    "# Thats a bit better. As Peter suggested, pulling out the DT math and seeing how that goes..."
   ]
  },
  {
   "cell_type": "code",
   "execution_count": 34,
   "metadata": {},
   "outputs": [],
   "source": [
    "from skyfield.framelib import ecliptic_J2000_frame\n",
    "sat = get_random_tle()\n",
    "jds = ts.tt_jd(np.linspace(sat.epoch.tt - 0.5, sat.epoch.tt +0.5, 24*60))\n",
    "\n",
    "def do_the_math():\n",
    "    return sat.at(jds).frame_latlon(ecliptic_J2000_frame)"
   ]
  },
  {
   "cell_type": "code",
   "execution_count": 35,
   "metadata": {},
   "outputs": [
    {
     "name": "stdout",
     "output_type": "stream",
     "text": [
      "3.69 ms ± 46.1 µs per loop (mean ± std. dev. of 7 runs, 1 loop each)\n"
     ]
    }
   ],
   "source": [
    "timeit do_the_math()"
   ]
  },
  {
   "cell_type": "code",
   "execution_count": 36,
   "metadata": {},
   "outputs": [],
   "source": [
    "# _much_ faster!"
   ]
  }
 ],
 "metadata": {
  "kernelspec": {
   "display_name": "Python 3",
   "language": "python",
   "name": "python3"
  },
  "language_info": {
   "codemirror_mode": {
    "name": "ipython",
    "version": 3
   },
   "file_extension": ".py",
   "mimetype": "text/x-python",
   "name": "python",
   "nbconvert_exporter": "python",
   "pygments_lexer": "ipython3",
   "version": "3.7.9"
  }
 },
 "nbformat": 4,
 "nbformat_minor": 4
}
