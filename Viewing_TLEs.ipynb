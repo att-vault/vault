{
 "cells": [
  {
   "cell_type": "markdown",
   "metadata": {},
   "source": [
    "# Viewing TLE data\n",
    "\n",
    "This [Jupyter](https://jupyter.org) notebook explores and analyzes the raw [Two-line Element Set (TLE)](https://en.wikipedia.org/wiki/Two-line_element_set) satellite tracking data provided for the 12/2020 VAULT technical scenario, showing what data is available and how it can be accessed and visualized from Python. The notebook also acts as a runnable application that can be put on a server to allow users to explore the raw data interactively."
   ]
  },
  {
   "cell_type": "code",
   "execution_count": null,
   "metadata": {},
   "outputs": [],
   "source": [
    "import os\n",
    "import time, datetime, calendar\n",
    "import pandas as pd\n",
    "import numpy as np\n",
    "import colorcet as cc\n",
    "import panel as pn\n",
    "import datetime as dt\n",
    "import holoviews as hv\n",
    "from holoviews.operation.datashader import rasterize, dynspread\n",
    "import skyfield\n",
    "from skyfield.api import EarthSatellite, load\n",
    "from skyfield.framelib import itrs\n",
    "from IPython.display import display\n",
    "hv.extension('bokeh')"
   ]
  },
  {
   "cell_type": "markdown",
   "metadata": {},
   "source": [
    "# Loading data\n",
    "\n",
    "Here let's work with the raw data from 2017:"
   ]
  },
  {
   "cell_type": "code",
   "execution_count": null,
   "metadata": {},
   "outputs": [],
   "source": [
    "basename = \"tle2017\""
   ]
  },
  {
   "cell_type": "markdown",
   "metadata": {},
   "source": [
    "The raw data consists of TLE records, where each record is a three-line string, with the 2nd and 3rd lines containing the data about the satellite position, heading, etc. We can use the [skyfield](https://rhodesmill.org/skyfield) library to calculate the longitude and latitude location of the satellite (projected down on the earth's surface) at the time of the TLE record entry."
   ]
  },
  {
   "cell_type": "code",
   "execution_count": null,
   "metadata": {},
   "outputs": [],
   "source": [
    "def modulo_lon(val):\n",
    "    return (val+180) % 360 - 180\n",
    "\n",
    "def compute_lat_lon(line1, line2):\n",
    "    \"\"\"Get the Lat/Lon at the TLE epoch\"\"\"\n",
    "    sat = EarthSatellite(line1, line2)\n",
    "    lat, lon, _ = sat.at(sat.epoch).frame_latlon(itrs)\n",
    "    return lat.degrees, lon.degrees\n",
    "\n",
    "def lat_lon_from_lines(lines):\n",
    "    lons, lats = [], []\n",
    "    for line1, line2 in lines:\n",
    "        lat, lon = compute_lat_lon(line1,line2)\n",
    "        if None not in [lon, lat]:\n",
    "            lons.append(modulo_lon(lon))\n",
    "            lats.append(lat)\n",
    "    return np.array(lats), np.array(lons)"
   ]
  },
  {
   "cell_type": "markdown",
   "metadata": {},
   "source": [
    "Parsing the strings and calculating locations can take up to an hour on a laptop for a large file like this, so we'll cache the results into a Parquet (efficient columnar file format) file for subsequent runs. "
   ]
  },
  {
   "cell_type": "code",
   "execution_count": null,
   "metadata": {},
   "outputs": [],
   "source": [
    "def load_data():\n",
    "    \n",
    "    # Read much-smaller cached Parquet file from disk if available\n",
    "    path = \"./data/satellite data/\"\n",
    "    cache_file = path+basename+\".parq\"\n",
    "    if os.path.exists(cache_file):\n",
    "        print(\"Reading Parquet file\")\n",
    "        df = pd.read_parquet(cache_file)\n",
    "        return df\n",
    "    \n",
    "    print(\"Reading CSV file\")\n",
    "    tle = pd.read_csv(path+'Cleaned TLE/'+basename+'.csv')\n",
    "    tle.head(2)\n",
    "    print(\"\\nSplitting lines\")\n",
    "    new_lines = [el.replace('None\\n', '').split('\\n')[:2] for el in tle['tle']]\n",
    "        \n",
    "    #display(tle.head(1))\n",
    "    print(\"\\nRaw TLE\",tle.iloc[0]['tle']) # Example TLE record\n",
    "    print(\"\\nLine pair\", new_lines[0])\n",
    "                \n",
    "    print(\"\\nExtracting lat/lon\")\n",
    "    lines=2000\n",
    "    lines=None # comment out for quick run\n",
    "    lats, lons = lat_lon_from_lines(new_lines[:lines])\n",
    "        \n",
    "    print(\"\\nProjecting lat/lon\")\n",
    "    eastings, northings = hv.util.transform.lon_lat_to_easting_northing(lons, lats)\n",
    "        \n",
    "    # Cache projected values\n",
    "    df = pd.DataFrame(dict(x=eastings, y=northings))\n",
    "    df.to_parquet(cache_file)\n",
    "        \n",
    "    return df"
   ]
  },
  {
   "cell_type": "code",
   "execution_count": null,
   "metadata": {},
   "outputs": [],
   "source": [
    "%%time\n",
    "df = pn.state.as_cached(\"projected\", load_data)\n",
    "df.tail()"
   ]
  },
  {
   "cell_type": "markdown",
   "metadata": {},
   "source": [
    "# Viewing data\n",
    "\n",
    "Using the projected coordinates, we can plot them with [Datashader](https://datashader.org) and [HoloViews](https://holoviews.org) on a web tile map.\n",
    "\n",
    "To zoom in & interact with the plot, click the “Wheel zoom” tool in the toolbar on the side of the plot.\n",
    "Click-and-drag the plot in order to look around.  As you zoom in, finer-grained detail will emerge and fill in.  Depending on the size of the dataset and your machine, this might take a second."
   ]
  },
  {
   "cell_type": "code",
   "execution_count": null,
   "metadata": {},
   "outputs": [],
   "source": [
    "tiles  = hv.element.tiles.ESRI().opts(alpha=0.5, bgcolor='black') \n",
    "points = rasterize(hv.Points(df)).opts(width=900, height=600, cmap=cc.kbc[64:], cnorm='eq_hist')\n",
    "tiles * dynspread(points)"
   ]
  },
  {
   "cell_type": "markdown",
   "metadata": {},
   "source": [
    "We can see lots of interesting structure in the locations of the satellites at the epoch time of each record. To help make sense of it, let's overlay data about the [locations of dedicated and collateral tracking radar stations](https://en.wikipedia.org/wiki/Solid_State_Phased_Array_Radar_System) in the [Space Surveillance Network](https://en.wikipedia.org/wiki/File:Space_Surveillance_Network.jpg):"
   ]
  },
  {
   "cell_type": "code",
   "execution_count": null,
   "metadata": {},
   "outputs": [],
   "source": [
    "stations = {\"Beale\":       (39.136111, -121.436389),\n",
    "            \"Cape Cod\":    (41.753333,  -70.538611),\n",
    "            \"Clear\":       (64.290556, -149.187222),\n",
    "            \"Thule\":       (76.567850,  -68.284214),\n",
    "            \"Fylingdales\": (54.358889,   -0.669722),\n",
    "            \"Eglin\":       (30.489444,  -86.542222),\n",
    "            \"Cavalier\":    (48.731944,  -97.904444),\n",
    "            \"Ascension\":   (-7.969444,  -14.393889),\n",
    "            \"Cobra Dane\":  (52.712222,  174.113611)}\n",
    "\n",
    "stations = {k:hv.util.transform.lon_lat_to_easting_northing(v[1],v[0]) for k,v in stations.items()}"
   ]
  },
  {
   "cell_type": "code",
   "execution_count": null,
   "metadata": {},
   "outputs": [],
   "source": [
    "radar = hv.Points(list(stations.values())).opts(color='white', size=5)\n",
    "names = hv.Labels({('x', 'y'): list(stations.values()), \n",
    "                    'text': list(stations.keys())}, ['x', 'y'], 'text')\n",
    "names = names.opts(text_font_size='10pt', yoffset=0.5e6, text_color=\"white\")"
   ]
  },
  {
   "cell_type": "code",
   "execution_count": null,
   "metadata": {},
   "outputs": [],
   "source": [
    "tiles  = hv.element.tiles.ESRI().opts(alpha=0.5, bgcolor='black') \n",
    "points = rasterize(hv.Points(df)).opts(width=900, height=600, cmap=cc.kbc[64:200], cnorm='eq_hist')\n",
    "tiles * dynspread(points) * radar * names"
   ]
  },
  {
   "cell_type": "markdown",
   "metadata": {},
   "source": [
    "Now we can see that most of the records (at the epoch) are from when the satellites were close to one of the radar-based monitoring stations indicated, apart from those along the equator (presumably in geostationary orbit) and a few other widely distributed observations.\n",
    "\n",
    "# App\n",
    "\n",
    "Finally, we'll package up the above plot into a servable app using [Panel](https://panel.holoviz.org) (try `panel serve <thisfile>.ipynb`):"
   ]
  },
  {
   "cell_type": "code",
   "execution_count": null,
   "metadata": {},
   "outputs": [],
   "source": [
    "pn.Column(\"# Raw TLE data\", \n",
    "          \"TLE records plotted at the epoch time in geo coordinates, \"\n",
    "          \"with Space Surveillance Network radar stations overlaid\",\n",
    "          tiles * points * radar * names).servable();"
   ]
  }
 ],
 "metadata": {
  "language_info": {
   "name": "python",
   "pygments_lexer": "ipython3"
  }
 },
 "nbformat": 4,
 "nbformat_minor": 4
}
