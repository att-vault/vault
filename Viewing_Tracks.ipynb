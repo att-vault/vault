{
 "cells": [
  {
   "cell_type": "markdown",
   "metadata": {},
   "source": [
    "# Viewing satellite tracks\n",
    "\n",
    "This notebook explores the satellite track data computed from the raw [TLE data](./Viewing_TLEs.ipynb) for the 12/2020 VAULT technical scenario, showing what data is available and how it can be accessed and visualized from Python. The notebook also acts as a runnable application that can be put on a server to allow users to explore the raw data interactively."
   ]
  },
  {
   "cell_type": "code",
   "execution_count": null,
   "metadata": {},
   "outputs": [],
   "source": [
    "import pandas as pd\n",
    "import numpy as np\n",
    "import time, datetime, calendar\n",
    "import colorcet as cc\n",
    "import panel as pn\n",
    "import datetime as dt\n",
    "import holoviews as hv\n",
    "from tables import open_file\n",
    "from holoviews.operation.datashader import rasterize, dynspread\n",
    "from holoviews.util.transform import easting_northing_to_lon_lat as en2ll\n",
    "from holoviews.util.transform import lon_lat_to_easting_northing as ll2en\n",
    "import skyfield\n",
    "from skyfield.framelib import itrs\n",
    "from skyfield.sgp4lib import EarthSatellite\n",
    "from spatialpandas.geometry import PointArray\n",
    "from spatialpandas import GeoDataFrame\n",
    "\n",
    "hv.extension('bokeh')"
   ]
  },
  {
   "cell_type": "markdown",
   "metadata": {},
   "source": [
    "## Data preparation\n",
    "\n",
    "First we'll load all the TLEs, then filter them by those for which tracks have been precomputed:"
   ]
  },
  {
   "cell_type": "code",
   "execution_count": null,
   "metadata": {},
   "outputs": [],
   "source": [
    "tle = pd.read_csv('data/satellite data/Cleaned TLE/tle2017.csv')"
   ]
  },
  {
   "cell_type": "code",
   "execution_count": null,
   "metadata": {},
   "outputs": [],
   "source": [
    "computed = open_file(\"data/satellite data/Indexed TLE/precomp2.h5\", mode='r')\n",
    "sat_group = computed.get_node(\"/sat\")\n",
    "num1, num2 = 205, 320\n",
    "svals = [int(el[1:]) for el in dir(sat_group) if el.startswith('s')]\n",
    "tle = tle[tle['norad_id'].isin(svals)]"
   ]
  },
  {
   "cell_type": "markdown",
   "metadata": {},
   "source": [
    "Next, we'll convert the TLE location data at the epoch time to latitude and longitude, filtering out values that cannot be visualized in a Web Mercator projection. This string-processing task can take a while for a large file."
   ]
  },
  {
   "cell_type": "code",
   "execution_count": null,
   "metadata": {},
   "outputs": [],
   "source": [
    "def modulo_lon(val):\n",
    "    return (val+180) % 360 - 180\n",
    "    \n",
    "def compute_lat_lon(line1, line2):\n",
    "        \"\"\"Get the Lat/Lon at the TLE epoch\"\"\"\n",
    "        sat = EarthSatellite(line1, line2)\n",
    "        lat, long, _ = sat.at(sat.epoch).frame_latlon(itrs)\n",
    "        return lat.degrees, long.degrees\n",
    "\n",
    "def lat_lon_from_lines(lines, abs_max_lat=84):\n",
    "    \"\"\"Computes latitude/longitude and a mask to \n",
    "    filter TLEs that don't work for Web Mercator\n",
    "    (abs > 84 degrees by default)\"\"\" \n",
    "    lons, lats, mask, inner_mask = [], [], [], []\n",
    "    for line1, line2 in lines:\n",
    "        lat, lon = compute_lat_lon(line1,line2)\n",
    "        if None not in [lon, lat]:\n",
    "            inner_mask.append(abs(lat) < abs_max_lat)\n",
    "            mask.append(abs(lat) < abs_max_lat)\n",
    "            lons.append(lon if lon < 180 else (lon - 360))\n",
    "            lats.append(lat)\n",
    "        else:\n",
    "            mask.append(False)\n",
    "    return np.array(lats)[inner_mask], np.array(lons)[inner_mask], mask"
   ]
  },
  {
   "cell_type": "code",
   "execution_count": null,
   "metadata": {},
   "outputs": [],
   "source": [
    "new_lines = [el.replace('None\\n', '').split('\\n')[:2] for el in tle['tle']] # Splitting the file"
   ]
  },
  {
   "cell_type": "code",
   "execution_count": null,
   "metadata": {},
   "outputs": [],
   "source": [
    "%%time\n",
    "lats, lons, mask = lat_lon_from_lines(new_lines)"
   ]
  },
  {
   "cell_type": "code",
   "execution_count": null,
   "metadata": {},
   "outputs": [],
   "source": [
    "%%time\n",
    "x, y = ll2en(lons, lats)"
   ]
  },
  {
   "cell_type": "markdown",
   "metadata": {},
   "source": [
    "## Spatial index\n",
    "\n",
    "To allow quick lookup of satellite by geographic location, we'll build a spatially indexed [spatialpandas](https://github.com/holoviz/spatialpandas) GeoDataFrame (which can take a while for a large dataset, because it needs to sort all the datapoints)."
   ]
  },
  {
   "cell_type": "code",
   "execution_count": null,
   "metadata": {},
   "outputs": [],
   "source": [
    "%%time\n",
    "sdf = GeoDataFrame({'geometry':PointArray((lons, lats)),'x':x,'y':y,\n",
    "                    'norad_id':tle['norad_id'][mask],\n",
    "                    'epoch_year': tle['epoch_year'][mask],\n",
    "                    'epoch_day': tle['epoch_day'][mask],\n",
    "                    })"
   ]
  },
  {
   "cell_type": "markdown",
   "metadata": {},
   "source": [
    "## Satellite trajectory data\n",
    "\n",
    "Before running this notebook, satellite trajectories will need to have been precomputed externally. Here, we will just look up the data corresponding to a given TLE."
   ]
  },
  {
   "cell_type": "code",
   "execution_count": null,
   "metadata": {},
   "outputs": [],
   "source": [
    "def get_track_around_TLE(sat_id, epoch_year, epoch_day, delta_seconds=4*60*60):\n",
    "    tle_datetime = (dt.datetime(year=epoch_year, month=1, day=1)\n",
    "                    + dt.timedelta(days=epoch_day-1))\n",
    "    return get_precomputed_tracks(sat_id, \n",
    "                                  tle_datetime-dt.timedelta(seconds=delta_seconds),\n",
    "                                  tle_datetime+dt.timedelta(seconds=delta_seconds))\n",
    "\n",
    "def get_precomputed_tracks(satellite, start, end):\n",
    "    name = \"s\" + str(satellite)    \n",
    "    dataz = getattr(sat_group, name)[:]\n",
    "    start_index = np.searchsorted(dataz[0, :], start.timestamp())\n",
    "    end_index   = np.searchsorted(dataz[0, :], end.timestamp())\n",
    "    return dataz[:, start_index: end_index]    \n",
    "\n",
    "def get_track(track, lat_clip=85.5):\n",
    "    lat, lon = track[1,:], track[2,:]\n",
    "    mask = np.abs(lat) > lat_clip\n",
    "    lat[mask] = np.float('nan')\n",
    "    lon[mask] = np.float('nan')\n",
    "    lon = np.array([modulo_lon(el) for el in lon])\n",
    "    \n",
    "    eastings, northings = ll2en(lon,lat)\n",
    "    # Heuristic to insert NaNs to break up Curve (prevent wrapping issues at date line)\n",
    "    inds = np.where(np.abs(np.diff(eastings)) > 2e7)[0] # Big delta to split on\n",
    "    inds += 1\n",
    "    eastings  = np.insert(eastings,  inds, [float('nan') for i in range(len(inds))])\n",
    "    northings = np.insert(northings, inds, [float('nan') for i in range(len(inds))])\n",
    "    return hv.Curve((eastings, northings))"
   ]
  },
  {
   "cell_type": "markdown",
   "metadata": {},
   "source": [
    "For example, here are the tracks for satellite IDs 205 and 320:"
   ]
  },
  {
   "cell_type": "code",
   "execution_count": null,
   "metadata": {},
   "outputs": [],
   "source": [
    "epoch_year, epoch_day = tle.iloc[0]['epoch_year'], tle.iloc[0]['epoch_day']\n",
    "(get_track(get_track_around_TLE(205, epoch_year, epoch_day, delta_seconds=4*60*60)) +\n",
    " get_track(get_track_around_TLE(320, epoch_year, epoch_day, delta_seconds=4*60*60)))"
   ]
  },
  {
   "cell_type": "markdown",
   "metadata": {},
   "source": [
    "## Satellite track visualizing app\n",
    "\n",
    "Using the above lookup functions, we can now make an app that lets you click on a TLE record and plot the track of that satellite."
   ]
  },
  {
   "cell_type": "code",
   "execution_count": null,
   "metadata": {},
   "outputs": [],
   "source": [
    "DELTA_SECONDS = 60*60 # Track length in time (seconds)\n",
    "\n",
    "def mark_track(x,y):\n",
    "    delta=0.1\n",
    "    empty = hv.Curve([(0,0)]).opts(alpha=0)\n",
    "    if None not in [x,y]:\n",
    "        x, y = en2ll(x, y)\n",
    "        row = sdf.cx[x-delta:x+delta, y-1:y+1]\n",
    "        if len(row) == 0:\n",
    "            return empty\n",
    "        satid = int(row.iloc[0]['norad_id'])\n",
    "        epoch_year = row.iloc[0]['epoch_year']\n",
    "        epoch_day = row.iloc[0]['epoch_day']\n",
    "        track = get_track_around_TLE(satid, epoch_year, epoch_day,\n",
    "                                              delta_seconds=DELTA_SECONDS)\n",
    "        return get_track(track).opts(color='red', alpha=1)\n",
    "    else:\n",
    "        return empty\n",
    "    \n",
    "    \n",
    "tracks = hv.DynamicMap(mark_track, streams=[hv.streams.Tap()])"
   ]
  },
  {
   "cell_type": "markdown",
   "metadata": {},
   "source": [
    "To zoom in & interact with the plot, click the “Wheel zoom” tool in the toolbar on the side of the plot.\n",
    "Click-and-drag the plot in order to look around.  As you zoom in, finer-grained detail will emerge and fill in.  Depending on the size of the dataset and your machine, this might take a second."
   ]
  },
  {
   "cell_type": "code",
   "execution_count": null,
   "metadata": {},
   "outputs": [],
   "source": [
    "overlay = (hv.element.tiles.ESRI().opts(alpha=0.8, bgcolor='black') \n",
    " * dynspread(rasterize(hv.Points(zip(x,y)))).opts(width=900, height=600, cmap=cc.kbc[64:], cnorm='eq_hist')\n",
    " * tracks)"
   ]
  },
  {
   "cell_type": "code",
   "execution_count": null,
   "metadata": {},
   "outputs": [],
   "source": [
    "pn.Column(\"# Computed satellite tracks\",\n",
    "          \"Click on one of the TLE records shown (blue dots) to select a satellite, \"\n",
    "          \"and (after a short delay) a portion of that satellite's track will be shown.\",\n",
    "          overlay).servable()"
   ]
  }
 ],
 "metadata": {
  "language_info": {
   "name": "python",
   "pygments_lexer": "ipython3"
  }
 },
 "nbformat": 4,
 "nbformat_minor": 4
}
