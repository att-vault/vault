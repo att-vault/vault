{
 "cells": [
  {
   "cell_type": "markdown",
   "metadata": {},
   "source": [
    "This notebook visualizes AIS voyages where there are unusually long delays between subsequent pings (ping deltas) as datashaded segments."
   ]
  },
  {
   "cell_type": "code",
   "execution_count": null,
   "metadata": {},
   "outputs": [],
   "source": [
    "import warnings\n",
    "import pandas as pd\n",
    "import numpy as np\n",
    "import panel as pn\n",
    "import datetime as dt\n",
    "import holoviews as hv\n",
    "from holoviews.operation.datashader import rasterize, dynspread\n",
    "from colorcet import fire\n",
    "\n",
    "hv.extension('bokeh')"
   ]
  },
  {
   "cell_type": "code",
   "execution_count": null,
   "metadata": {},
   "outputs": [],
   "source": [
    "warnings.filterwarnings('ignore', category=RuntimeWarning)"
   ]
  },
  {
   "cell_type": "code",
   "execution_count": null,
   "metadata": {},
   "outputs": [],
   "source": [
    "zone_num=10\n",
    "basedir = './data/Cleaned_AIS/Zone10_201_01/'\n",
    "broadcast = pd.read_csv(basedir+'Broadcast.csv', parse_dates=[1])\n",
    "broadcast.head()"
   ]
  },
  {
   "cell_type": "markdown",
   "metadata": {},
   "source": [
    "### Helper functions to generate segments between unusually delayed subsequent AIS pings"
   ]
  },
  {
   "cell_type": "code",
   "execution_count": null,
   "metadata": {},
   "outputs": [],
   "source": [
    "def close_to_border(slon, elon, zone, border):\n",
    "    l,r = (-180+6*(zone-1),-180+6*zone)\n",
    "    lborder, rborder = l+border, r-border\n",
    "    if (slon < lborder) or (elon < lborder):\n",
    "        return True\n",
    "    if (slon > rborder) or (elon > rborder):\n",
    "        return True\n",
    "    return False\n",
    "\n",
    "def voyage_outlier_coords(voyage_dataframe, deviations, zone, border):\n",
    "    \"\"\"\n",
    "    Output eastings and northing 4-tuples [e1, n1, e2, n2] corresponding to \n",
    "    pings 1 and 2 with a temporal delta greater than the requested\n",
    "    standard deviations than the mean delta.\n",
    "    \"\"\"\n",
    "    coords = []\n",
    "    voyage_df = voyage_dataframe.sort_index()\n",
    "    seconds = np.diff(voyage_df.index).astype(int) / (1.0e9)\n",
    "    delta = (seconds - seconds.mean()) # Deviation from the mean\n",
    "    outliers = np.abs(delta) > (seconds.std() * deviations)\n",
    "    outlier_diff_inds = np.nonzero(outliers)[0]\n",
    "    if len(outlier_diff_inds) == 0:\n",
    "        return []\n",
    "    for diff_ind in outlier_diff_inds:\n",
    "        start = voyage_df.iloc[diff_ind]\n",
    "        end = voyage_df.iloc[diff_ind+1]\n",
    "        slat, slon = start['lat'], start['lon']\n",
    "        elat, elon = end['lat'], end['lon']\n",
    "        if close_to_border(slon, elon, zone, border):\n",
    "            continue\n",
    "        seasting, snorthing = hv.util.transform.lon_lat_to_easting_northing(slon, slat)\n",
    "        eeasting, enorthing = hv.util.transform.lon_lat_to_easting_northing(elon,elat)\n",
    "        coords.append((seasting, snorthing, eeasting, enorthing))\n",
    "    return coords\n",
    "\n",
    "def voyage_dfs(vessel_df):\n",
    "    \"Given a vessel DataFrame with a single mssid split by voyage ids\"\n",
    "    voyages = list(vessel_df['voyage_id'].unique())\n",
    "    return {vid: vessel_df[vessel_df['voyage_id']==vid] for vid in voyages}\n",
    "\n",
    "def outlier_segments(vessels, zone, deviations=5, border=1):\n",
    "    \"For all vessel voyages compute segments for ping pairs exceeding deviation\"\n",
    "    coords = []\n",
    "    for vessel, vessel_df in vessels.items():\n",
    "        voyages = voyage_dfs(vessel_df)\n",
    "        for voyage, voyage_df in voyages.items():\n",
    "            coords += voyage_outlier_coords(voyage_df, deviations=deviations, zone=zone, border=border)\n",
    "    return hv.Segments(np.array(coords))"
   ]
  },
  {
   "cell_type": "markdown",
   "metadata": {},
   "source": [
    "### Split AIS data by mmsi_id into DataFrames with sorted time index"
   ]
  },
  {
   "cell_type": "code",
   "execution_count": null,
   "metadata": {},
   "outputs": [],
   "source": [
    "vessels = {name:df.drop_duplicates().sort_values(by='date_time').set_index('date_time') \n",
    "           for name,df in broadcast.groupby('mmsi_id')}"
   ]
  },
  {
   "cell_type": "markdown",
   "metadata": {},
   "source": [
    "   ### Projected AIS into WebMercator"
   ]
  },
  {
   "cell_type": "code",
   "execution_count": null,
   "metadata": {},
   "outputs": [],
   "source": [
    "%%time\n",
    "eastings, northings = hv.util.transform.lon_lat_to_easting_northing(broadcast['lon'], broadcast['lat'])"
   ]
  },
  {
   "cell_type": "markdown",
   "metadata": {},
   "source": [
    "### Datashade all AIS data as points and unusually delayed pings as segments\n",
    "\n",
    "Note that when zooming in around Portland, you can see segments crossing land. These mark vessels that generated an AIS ping while out to sea and did not generate another AIS ping until inland."
   ]
  },
  {
   "cell_type": "code",
   "execution_count": null,
   "metadata": {},
   "outputs": [],
   "source": [
    "deviations=20 # Segments show ping deltas more than 20 standard deviations from the mean\n",
    "border=0.5 # Border from UTM boundary in degrees of longitude to filter by"
   ]
  },
  {
   "cell_type": "code",
   "execution_count": null,
   "metadata": {},
   "outputs": [],
   "source": [
    "def zone(i):\n",
    "    \"\"\"\n",
    "    Return plottable bounds object for a given UTM zone\n",
    "    (see https://en.wikipedia.org/wiki/Universal_Transverse_Mercator_coordinate_system#UTM_zone)\n",
    "    \"\"\"\n",
    "    lrbt = ((-180+6*(i-1),-180+6*i),(-80,84))\n",
    "    m    = hv.util.transform.lon_lat_to_easting_northing(*lrbt)\n",
    "    bnds = hv.Bounds((m[0][0],m[1][0],m[0][1],m[1][1])).opts(color=\"white\") \n",
    "    text = hv.Text(m[0][0]+(m[0][1]-m[0][0])/2, 0, f\"{i}\").opts(color=\"white\", text_font_size=\"5pt\")\n",
    "    return bnds * text"
   ]
  },
  {
   "cell_type": "code",
   "execution_count": null,
   "metadata": {},
   "outputs": [],
   "source": [
    "tiles = hv.element.tiles.ESRI().redim(x='easting', y='northing')\n",
    "points = rasterize(hv.Points(pd.DataFrame({'northing':northings, \n",
    "                                           'easting':eastings}), ['easting', 'northing']))\n",
    "(tiles * points.opts(cmap=fire[180:], width=700, height=400, cnorm='eq_hist', alpha=0.5) * zone(zone_num)\n",
    " * dynspread(rasterize(outlier_segments(vessels, zone_num, deviations=deviations, border=border))).opts(cmap='Reds_r'))"
   ]
  }
 ],
 "metadata": {
  "kernelspec": {
   "display_name": "Python 3",
   "language": "python",
   "name": "python3"
  },
  "language_info": {
   "codemirror_mode": {
    "name": "ipython",
    "version": 3
   },
   "file_extension": ".py",
   "mimetype": "text/x-python",
   "name": "python",
   "nbconvert_exporter": "python",
   "pygments_lexer": "ipython3",
   "version": "3.7.9"
  }
 },
 "nbformat": 4,
 "nbformat_minor": 4
}
