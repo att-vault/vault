{
 "cells": [
  {
   "cell_type": "markdown",
   "metadata": {},
   "source": [
    "## AIS Anomaly Detection"
   ]
  },
  {
   "cell_type": "code",
   "execution_count": 33,
   "metadata": {},
   "outputs": [],
   "source": [
    "# from IPython.display import Image, HTML\n",
    "import os\n",
    "import numpy as np\n",
    "import math\n",
    "import pandas as pd\n",
    "import datetime\n",
    "from glob import glob\n",
    "import geopy.distance\n",
    "import folium\n",
    "import matplotlib.pyplot as plt\n",
    "from sklearn.cluster import KMeans\n",
    "import seaborn as sns; sns.set()\n",
    "\n",
    "import warnings\n",
    "warnings.filterwarnings(\"ignore\")           # Suppress Warning"
   ]
  },
  {
   "cell_type": "markdown",
   "metadata": {},
   "source": [
    "### Global Variables"
   ]
  },
  {
   "cell_type": "code",
   "execution_count": 10,
   "metadata": {},
   "outputs": [],
   "source": [
    "WorkingFolder = \"/Users/cv0361/Desktop/TechChallenge/Data/csv/ConsolidatedAIS/\"\n",
    "OutputDir = WorkingFolder\n",
    "MAX_CLUSTER = 5"
   ]
  },
  {
   "cell_type": "markdown",
   "metadata": {},
   "source": [
    "### Load Broadcast Data"
   ]
  },
  {
   "cell_type": "code",
   "execution_count": 13,
   "metadata": {},
   "outputs": [
    {
     "data": {
      "text/html": [
       "<div>\n",
       "<style scoped>\n",
       "    .dataframe tbody tr th:only-of-type {\n",
       "        vertical-align: middle;\n",
       "    }\n",
       "\n",
       "    .dataframe tbody tr th {\n",
       "        vertical-align: top;\n",
       "    }\n",
       "\n",
       "    .dataframe thead th {\n",
       "        text-align: right;\n",
       "    }\n",
       "</style>\n",
       "<table border=\"1\" class=\"dataframe\">\n",
       "  <thead>\n",
       "    <tr style=\"text-align: right;\">\n",
       "      <th></th>\n",
       "      <th>mmsi_id</th>\n",
       "      <th>date_time</th>\n",
       "      <th>lat</th>\n",
       "      <th>lon</th>\n",
       "      <th>speed_over_ground</th>\n",
       "      <th>course_over_ground</th>\n",
       "      <th>voyage_id</th>\n",
       "      <th>heading</th>\n",
       "      <th>status</th>\n",
       "    </tr>\n",
       "  </thead>\n",
       "  <tbody>\n",
       "    <tr>\n",
       "      <td>0</td>\n",
       "      <td>366025993</td>\n",
       "      <td>2013-12-31 23:57:44</td>\n",
       "      <td>47.581332</td>\n",
       "      <td>-122.361145</td>\n",
       "      <td>0.0</td>\n",
       "      <td>39.599998</td>\n",
       "      <td>1</td>\n",
       "      <td>511</td>\n",
       "      <td>0</td>\n",
       "    </tr>\n",
       "    <tr>\n",
       "      <td>1</td>\n",
       "      <td>367160890</td>\n",
       "      <td>2013-12-31 23:57:44</td>\n",
       "      <td>45.835737</td>\n",
       "      <td>-123.990592</td>\n",
       "      <td>6.7</td>\n",
       "      <td>355.399990</td>\n",
       "      <td>2</td>\n",
       "      <td>359</td>\n",
       "      <td>15</td>\n",
       "    </tr>\n",
       "    <tr>\n",
       "      <td>2</td>\n",
       "      <td>366490600</td>\n",
       "      <td>2013-12-31 23:57:44</td>\n",
       "      <td>47.631067</td>\n",
       "      <td>-122.382117</td>\n",
       "      <td>0.0</td>\n",
       "      <td>192.100010</td>\n",
       "      <td>3</td>\n",
       "      <td>180</td>\n",
       "      <td>7</td>\n",
       "    </tr>\n",
       "    <tr>\n",
       "      <td>3</td>\n",
       "      <td>338000406</td>\n",
       "      <td>2013-12-31 23:57:44</td>\n",
       "      <td>48.123443</td>\n",
       "      <td>-123.444115</td>\n",
       "      <td>0.0</td>\n",
       "      <td>14.200000</td>\n",
       "      <td>4</td>\n",
       "      <td>511</td>\n",
       "      <td>0</td>\n",
       "    </tr>\n",
       "    <tr>\n",
       "      <td>4</td>\n",
       "      <td>367840001</td>\n",
       "      <td>2013-12-31 23:57:44</td>\n",
       "      <td>48.121267</td>\n",
       "      <td>-122.726412</td>\n",
       "      <td>11.4</td>\n",
       "      <td>55.400002</td>\n",
       "      <td>5</td>\n",
       "      <td>57</td>\n",
       "      <td>0</td>\n",
       "    </tr>\n",
       "  </tbody>\n",
       "</table>\n",
       "</div>"
      ],
      "text/plain": [
       "     mmsi_id           date_time        lat         lon  speed_over_ground  \\\n",
       "0  366025993 2013-12-31 23:57:44  47.581332 -122.361145                0.0   \n",
       "1  367160890 2013-12-31 23:57:44  45.835737 -123.990592                6.7   \n",
       "2  366490600 2013-12-31 23:57:44  47.631067 -122.382117                0.0   \n",
       "3  338000406 2013-12-31 23:57:44  48.123443 -123.444115                0.0   \n",
       "4  367840001 2013-12-31 23:57:44  48.121267 -122.726412               11.4   \n",
       "\n",
       "   course_over_ground  voyage_id  heading  status  \n",
       "0           39.599998          1      511       0  \n",
       "1          355.399990          2      359      15  \n",
       "2          192.100010          3      180       7  \n",
       "3           14.200000          4      511       0  \n",
       "4           55.400002          5       57       0  "
      ]
     },
     "execution_count": 13,
     "metadata": {},
     "output_type": "execute_result"
    }
   ],
   "source": [
    "Broadcast = pd.read_csv(WorkingFolder + \"Broadcast_2014.csv\", sep=\",\", parse_dates=['date_time'])\n",
    "Broadcast.head()"
   ]
  },
  {
   "cell_type": "code",
   "execution_count": 14,
   "metadata": {},
   "outputs": [
    {
     "name": "stdout",
     "output_type": "stream",
     "text": [
      "Raw Count: 21517764\n"
     ]
    }
   ],
   "source": [
    "print(\"Raw Count:\", Broadcast.shape[0])"
   ]
  },
  {
   "cell_type": "code",
   "execution_count": 15,
   "metadata": {},
   "outputs": [],
   "source": [
    "# Make sure voyage id is not null\n",
    "Broadcast['voyage_id'] = Broadcast['voyage_id'].fillna(0)\n",
    "Broadcast = Broadcast.astype({\"voyage_id\": int})           # cast type to int"
   ]
  },
  {
   "cell_type": "code",
   "execution_count": null,
   "metadata": {},
   "outputs": [],
   "source": []
  },
  {
   "cell_type": "markdown",
   "metadata": {},
   "source": [
    "### Clustering via K-means\n",
    "* https://github.com/JosephMagiya/Clustering-GPS-Co-ordinates--Forming-Regions./blob/master/Clustering-GPS-Co-ordinates--Forming-Regions.ipynb"
   ]
  },
  {
   "cell_type": "code",
   "execution_count": 27,
   "metadata": {},
   "outputs": [
    {
     "name": "stdout",
     "output_type": "stream",
     "text": [
      "MMSI: 366985110 \tPings: 33766 \tThreshold: 3\n",
      "\tCluster:1 (46.199397999999995, -123.93110700000001) 2014-01-21 16:28:50\n",
      "\tCluster:1 (46.197055, -123.924967) 2014-01-21 16:29:50\n",
      "\tCluster:1 (46.19781500000001, -123.92719199999999) 2014-01-21 16:30:52\n",
      "\tCluster:3 (46.202828000000004, -123.939575) 2014-01-21 16:26:45\n",
      "\tCluster:3 (46.201563, -123.937022) 2014-01-21 16:27:46\n",
      "\tCluster:3 (46.20244, -123.934802) 2014-01-21 16:31:51\n",
      "\tCluster:4 (46.211372, -123.948995) 2014-01-21 16:33:59\n",
      "\tCluster:4 (46.211338, -123.95091799999999) 2014-01-21 16:34:59\n",
      "\tCluster:4 (46.20995300000001, -123.95029299999999) 2014-01-21 16:36:00\n"
     ]
    }
   ],
   "source": [
    "# Identify Anomaly\n",
    "for mmsi in Broadcast.mmsi_id.unique():\n",
    "    \n",
    "    mmsi = 366985110           #**************** Test data\n",
    "    \n",
    "    df = Broadcast.loc[Broadcast.mmsi_id==mmsi, ['date_time', 'lat', 'lon']] \n",
    "    Anomaly_THRESHOLD = math.ceil(df.shape[0]/15000)     # dynamically determine the anomaly threshold based on total pings\n",
    "    \n",
    "#     # **** for testing - Fudge some anomaly\n",
    "#     df.loc[df.date_time=='2017-01-01 00:06:50', 'lat'] = 70.25\n",
    "#     # *************************************\n",
    "\n",
    "    X = df[['lat', 'lon']]\n",
    "    \n",
    "    kmeans = KMeans(n_clusters=MAX_CLUSTER, init='k-means++')\n",
    "    kmeans.fit(X)                                   # Compute k-means clustering. \n",
    "    df['cluster_label'] = kmeans.predict(X)         # Labels of each point\n",
    "    centers = kmeans.cluster_centers_               # Coordinates of cluster centers.\n",
    "    \n",
    "    # Cluster, ping counts\n",
    "    PingCluster = df.groupby('cluster_label')['date_time'].count().reset_index()\n",
    "    \n",
    "    # Identify Anomaly in coordinate, if any\n",
    "    AnomalyCluster = PingCluster.loc[PingCluster.date_time <= Anomaly_THRESHOLD, 'cluster_label'].values\n",
    "    \n",
    "    # Locate anomaly data points\n",
    "    AnaCoordinate = df.loc[df.cluster_label.isin(AnomalyCluster)]\n",
    "    \n",
    "    if AnaCoordinate.shape[0] > 0:\n",
    "        print(\"MMSI: {} \\tPings: {} \\tThreshold: {}\".format(mmsi, df.shape[0], Anomaly_THRESHOLD))\n",
    "        \n",
    "        for index, row in AnaCoordinate.sort_values('cluster_label').iterrows():\n",
    "            print(\"\\tCluster:{} ({}, {}) {}\".format(row.cluster_label, row.lat, row.lon, row.date_time))\n",
    "    \n",
    "        break\n",
    "    \n",
    "    break"
   ]
  },
  {
   "cell_type": "code",
   "execution_count": null,
   "metadata": {},
   "outputs": [],
   "source": []
  },
  {
   "cell_type": "code",
   "execution_count": 28,
   "metadata": {},
   "outputs": [
    {
     "data": {
      "text/html": [
       "<div>\n",
       "<style scoped>\n",
       "    .dataframe tbody tr th:only-of-type {\n",
       "        vertical-align: middle;\n",
       "    }\n",
       "\n",
       "    .dataframe tbody tr th {\n",
       "        vertical-align: top;\n",
       "    }\n",
       "\n",
       "    .dataframe thead th {\n",
       "        text-align: right;\n",
       "    }\n",
       "</style>\n",
       "<table border=\"1\" class=\"dataframe\">\n",
       "  <thead>\n",
       "    <tr style=\"text-align: right;\">\n",
       "      <th></th>\n",
       "      <th>date_time</th>\n",
       "      <th>lat</th>\n",
       "      <th>lon</th>\n",
       "      <th>cluster_label</th>\n",
       "    </tr>\n",
       "  </thead>\n",
       "  <tbody>\n",
       "    <tr>\n",
       "      <td>64</td>\n",
       "      <td>2013-12-31 23:57:44</td>\n",
       "      <td>46.204338</td>\n",
       "      <td>-123.950212</td>\n",
       "      <td>0</td>\n",
       "    </tr>\n",
       "    <tr>\n",
       "      <td>823</td>\n",
       "      <td>2014-01-01 00:00:44</td>\n",
       "      <td>46.204383</td>\n",
       "      <td>-123.950225</td>\n",
       "      <td>0</td>\n",
       "    </tr>\n",
       "    <tr>\n",
       "      <td>1439</td>\n",
       "      <td>2014-01-01 00:01:54</td>\n",
       "      <td>46.204358</td>\n",
       "      <td>-123.950217</td>\n",
       "      <td>0</td>\n",
       "    </tr>\n",
       "    <tr>\n",
       "      <td>1946</td>\n",
       "      <td>2014-01-01 00:02:53</td>\n",
       "      <td>46.204418</td>\n",
       "      <td>-123.950237</td>\n",
       "      <td>0</td>\n",
       "    </tr>\n",
       "    <tr>\n",
       "      <td>2667</td>\n",
       "      <td>2014-01-01 00:04:24</td>\n",
       "      <td>46.204395</td>\n",
       "      <td>-123.950195</td>\n",
       "      <td>0</td>\n",
       "    </tr>\n",
       "  </tbody>\n",
       "</table>\n",
       "</div>"
      ],
      "text/plain": [
       "               date_time        lat         lon  cluster_label\n",
       "64   2013-12-31 23:57:44  46.204338 -123.950212              0\n",
       "823  2014-01-01 00:00:44  46.204383 -123.950225              0\n",
       "1439 2014-01-01 00:01:54  46.204358 -123.950217              0\n",
       "1946 2014-01-01 00:02:53  46.204418 -123.950237              0\n",
       "2667 2014-01-01 00:04:24  46.204395 -123.950195              0"
      ]
     },
     "execution_count": 28,
     "metadata": {},
     "output_type": "execute_result"
    }
   ],
   "source": [
    "df.head()"
   ]
  },
  {
   "cell_type": "code",
   "execution_count": null,
   "metadata": {},
   "outputs": [],
   "source": []
  },
  {
   "cell_type": "code",
   "execution_count": null,
   "metadata": {},
   "outputs": [],
   "source": []
  },
  {
   "cell_type": "code",
   "execution_count": null,
   "metadata": {},
   "outputs": [],
   "source": []
  }
 ],
 "metadata": {
  "kernelspec": {
   "display_name": "Python 3",
   "language": "python",
   "name": "python3"
  },
  "language_info": {
   "codemirror_mode": {
    "name": "ipython",
    "version": 3
   },
   "file_extension": ".py",
   "mimetype": "text/x-python",
   "name": "python",
   "nbconvert_exporter": "python",
   "pygments_lexer": "ipython3",
   "version": "3.7.2"
  }
 },
 "nbformat": 4,
 "nbformat_minor": 4
}
